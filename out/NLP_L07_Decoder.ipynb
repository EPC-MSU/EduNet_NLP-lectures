{
 "cells": [
  {
   "cell_type": "markdown",
   "metadata": {},
   "source": [
    "<font size=\"6\">Модели на основе декодера Трансформера</font>"
   ]
  },
  {
   "cell_type": "markdown",
   "metadata": {},
   "source": [
    "Классическая архитектура Трансформера состоит из энкодера и декодера.\n",
    "\n",
    "На основе энкодера была создана модель BERT и подобные ей (RoBERTa, ALBERT). Они используются для получения контекстных векторных представлений слов и предложений. Затем модели дообучаются для конкретной задачи, что требует наличия размеченного набора данных.\n",
    "\n",
    "На основе энкодера была создана модель GPT — Generative Pretrained Transformer. Модель GPT была обучена на задаче языкового моделирования, то есть для предсказания (определения вероятности) следующего слова в тексте."
   ]
  },
  {
   "cell_type": "markdown",
   "metadata": {},
   "source": [
    "## Четыре поколения GPT"
   ]
  },
  {
   "cell_type": "markdown",
   "metadata": {},
   "source": [
    "При генерации продолжения текста с помощью GPT происходит следующее:\n",
    "\n",
    "1. Входной текст токенизируется в последовательность чисел (токенов).\n",
    "2. Список токенов проходит через Embedding layer (линейный слой) и преобразуется в список эмбеддингов.\n",
    "3. К каждому эмбеддингу прибавляется **positional embedding**.\n",
    "4. Список эмбеддингов проходит через несколько одинаковых блоков (Transformer Decoder Block).\n",
    "5. После того, как список эмбеддингов пройдёт через последний блок, эмбеддинг, соответствующий последнему токену, матрично умножается на всё тот же входной, но уже транспонированный Embedding Layer, и после применения SoftMax получается распределение вероятностей следующего токена.\n",
    "6. Из этого распределения выбирается следующий токен (например, с помощью argmax).\n",
    "7. Полученный токен добавляется к входному списку токенов, шаги 1–6 повторяются."
   ]
  },
  {
   "cell_type": "markdown",
   "metadata": {},
   "source": [
    "<center><img src =\"https://edunet.kea.su/repo/EduNet_NLP-web_dependencies/L07/gpt3.gif\" width=\"800\"></center>\n",
    "\n",
    "<center><em>Источник: <a href=\"https://jalammar.github.io/how-gpt3-works-visualizations-animations/\">How GPT3 Works — Visualizations and Animations</a></em></center>"
   ]
  },
  {
   "cell_type": "markdown",
   "metadata": {},
   "source": [
    "### GPT-1"
   ]
  },
  {
   "cell_type": "markdown",
   "metadata": {},
   "source": [
    "[[paper] 🎓 Improving Language Understanding by Generative Pre-Training (2018)](https://cdn.openai.com/research-covers/language-unsupervised/language_understanding_paper.pdf)\n",
    "\n",
    "- Количество параметров: 117 миллионов.\n",
    "- Количество слоев: 12.\n",
    "- Размер обучающих данных: 5 ГБ.\n",
    "- Максимальный размер контекста: 512 токенов.\n",
    "\n",
    "Первая версия этой модели была обучена на 7000 книг.\n",
    "\n",
    "Как языковая модель она работала не очень хорошо, но при дообучении на отдельных задачах показывала высокое качество.\n",
    "\n",
    "Однако SOTA результаты GPT-1 держались недолго, так как появился BERT."
   ]
  },
  {
   "cell_type": "markdown",
   "metadata": {},
   "source": [
    "<center><img src =\"https://edunet.kea.su/repo/EduNet_NLP-web_dependencies/L07/gpt1.jpg\" width=\"800\"></center>\n",
    "\n",
    "<center><em>Источник: <a href=\"https://cdn.openai.com/research-covers/language-unsupervised/language_understanding_paper.pdf/\">Improving Language Understanding by Generative Pre-Training</a></em></center>"
   ]
  },
  {
   "cell_type": "markdown",
   "metadata": {},
   "source": [
    "### GPT-2"
   ]
  },
  {
   "cell_type": "markdown",
   "metadata": {},
   "source": [
    "[[paper] 🎓 Language Models are Unsupervised Multitask Learners (2019)](https://cdn.openai.com/better-language-models/language_models_are_unsupervised_multitask_learners.pdf)\n",
    "\n",
    "- Количество параметров: 1.5 миллиарда.\n",
    "- Количество слоев: 48.\n",
    "- Размер обучающих данных: 40 ГБ.\n",
    "- Максимальный размер контекста: 1024 токенов.\n",
    "\n",
    "\n",
    "Новая GPT-2 не содержала архитектурных нововведений, основные улучшения достигались за счет увеличения размера модели и количества данных (к книгам добавили 8 миллионов сайтов).\n",
    "\n",
    "GPT-2 научилась писать длинные связные тексты."
   ]
  },
  {
   "cell_type": "markdown",
   "metadata": {},
   "source": [
    "<center><img src=\"https://edunet.kea.su/repo/EduNet_NLP-web_dependencies/L07/gpt2.png\" width=\"800\"></center>\n",
    "\n",
    "<center><em>Источник: <a href=\"https://en.wikipedia.org/wiki/GPT-2\">GPT-2</a></em></center>"
   ]
  },
  {
   "cell_type": "markdown",
   "metadata": {},
   "source": [
    "Также GPT-2 уже могла без тонкой настройки выполнять некоторые задачи, для которых не было явного обучения. Например, для автоматической суммаризации текста достаточно дописать `TL;DR` после текста."
   ]
  },
  {
   "cell_type": "markdown",
   "metadata": {},
   "source": [
    "<center><img src=\"https://i.postimg.cc/nL19wfYL/tldr.jpg\" width=\"850\"></center>"
   ]
  },
  {
   "cell_type": "markdown",
   "metadata": {},
   "source": [
    "### GPT-3"
   ]
  },
  {
   "cell_type": "markdown",
   "metadata": {},
   "source": [
    "[[paper] 🎓 Language Models are Few-Shot Learners (2020)](https://arxiv.org/pdf/2005.14165.pdf)\n",
    "\n",
    "- Количество параметров: 175 миллиардов.\n",
    "- Количество слоев: 96.\n",
    "- Размер обучающих данных: 45 ТБ (т.е. 45 000 ГБ).\n",
    "- Максимальный размер контекста: 2048 токенов.\n",
    "\n",
    "GPT-3 обучена на ещё большем количестве данных — для примера, вся английская Википедия составляет только 0,6% из них.\n",
    "\n",
    "Модель научилась решать много NLP-задач без дообучения."
   ]
  },
  {
   "cell_type": "markdown",
   "metadata": {},
   "source": [
    "<div align=\"center\">\n",
    "    <table >\n",
    "     <tr>\n",
    "       <td>\n",
    "       \n",
    "<center><img src =\"https://edunet.kea.su/repo/EduNet_NLP-web_dependencies/L07/gpt3_gec.jpg\" width=\"440\"></center>\n",
    "\n",
    "<em>Исправление ошибок</em>\n",
    "\n",
    "</td>\n",
    "\n",
    "<td>\n",
    "\n",
    "<center><img src =\"https://edunet.kea.su/repo/EduNet_NLP-web_dependencies/L07/gpt3_sa.jpg\" width=\"450\"></center>\n",
    "\n",
    "<em>Анализ тональности</em>\n",
    "\n",
    "\n",
    "</td>\n",
    "\n",
    "<td>\n",
    "\n",
    "<center><img src =\"https://edunet.kea.su/repo/EduNet_NLP-web_dependencies/L07/gpt3_mt.jpg\" width=\"500\"></center>\n",
    "\n",
    "<em>Машинный перевод</em>\n",
    "\n",
    "\n",
    "</td>\n",
    "     </tr>\n",
    "    </table>\n",
    "    </div>\n",
    "\n",
    "<center><em>Источник: <a href=\"https://beta.openai.com/examples\">GPT-3 beta</a></em></center>"
   ]
  },
  {
   "cell_type": "markdown",
   "metadata": {},
   "source": [
    "GPT-3 также способна писать и понимать программный код."
   ]
  },
  {
   "cell_type": "markdown",
   "metadata": {},
   "source": [
    "<div align=\"center\">\n",
    "    <table >\n",
    "     <tr>\n",
    "       <td>\n",
    "       \n",
    "<center><img src =\"https://edunet.kea.su/repo/EduNet_NLP-web_dependencies/L07/gpt3_code_promt.jpg\" width=\"300\"></center>\n",
    "\n",
    "<em>Запрос</em>\n",
    "\n",
    "</td>\n",
    "\n",
    "<td>\n",
    "\n",
    "<center><img src =\"https://edunet.kea.su/repo/EduNet_NLP-web_dependencies/L07/gpt3_code_response.jpg\" width=\"400\"></center>\n",
    "\n",
    "<em>Пример ответа</em>\n",
    "\n",
    "\n",
    "</td>\n",
    "     </tr>\n",
    "    </table>\n",
    "    </div>\n",
    "\n",
    "<center><em>Источник: <a href=\"https://beta.openai.com/examples\">GPT-3 beta</a></em></center>"
   ]
  },
  {
   "cell_type": "markdown",
   "metadata": {},
   "source": [
    "### GPT-4"
   ]
  },
  {
   "cell_type": "markdown",
   "metadata": {},
   "source": [
    "Статья отсутствует.\n",
    "\n",
    "- Нет информации про обучение модели.\n",
    "- Работает с контекстом до 8192 токенов. Есть версия, поддерживающая 32 768 токенов (50 страниц).\n",
    "\n",
    "Помимо текстов, умеет работать с изображениями, является мультимодальной."
   ]
  },
  {
   "cell_type": "markdown",
   "metadata": {},
   "source": [
    "<center><img src=\"https://edunet.kea.su/repo/EduNet_NLP-web_dependencies/L07/gpt4.jpg\" width=\"550\"></center>\n",
    "\n",
    "<center><em>Источник: <a href=\"https://thecymes.com/article/the-game-changing-features-of-openais-chatgpt-4\">The game-changing features of OpenAI's GPT 4</a></em></center>"
   ]
  },
  {
   "cell_type": "markdown",
   "metadata": {},
   "source": [
    "## Токенизация и генерация текста"
   ]
  },
  {
   "cell_type": "markdown",
   "metadata": {},
   "source": [
    "Посмотрим на работу модели ruGPT-3 для русского языка. Она доступна в трех вариантах:\n",
    "- small: [ai-forever/rugpt3small_based_on_gpt2 🛠️[doc]](https://huggingface.co/ai-forever/rugpt3small_based_on_gpt2)\n",
    "- medium: [ai-forever/rugpt3medium_based_on_gpt2 🛠️[doc]](https://huggingface.co/ai-forever/rugpt3medium_based_on_gpt2)\n",
    "- large: [ai-forever/rugpt3large_based_on_gpt2 🛠️[doc]](https://huggingface.co/ai-forever/rugpt3large_based_on_gpt2)\n",
    "\n",
    "Для загрузки токенизатора потребуется класс `AutoTokenizer` [🛠️[doc]](https://huggingface.co/docs/transformers/v4.45.2/en/model_doc/auto#transformers.AutoTokenizer), для загрузки модели — класс `AutoModelForCausalLM` [🛠️[doc]](https://huggingface.co/docs/transformers/model_doc/auto#transformers.AutoModelForCausalLM).\n",
    "\n",
    "Выберем необходимую модель. API для различных моделей одинаковый, для подмены модели достаточно изменить название модели `model_name`."
   ]
  },
  {
   "cell_type": "code",
   "execution_count": null,
   "metadata": {},
   "outputs": [],
   "source": [
    "!pip install transformers -q"
   ]
  },
  {
   "cell_type": "code",
   "execution_count": null,
   "metadata": {},
   "outputs": [],
   "source": [
    "from transformers import AutoTokenizer, AutoModelForCausalLM\n",
    "import torch\n",
    "device = torch.device(\"cuda\" if torch.cuda.is_available() else \"cpu\")\n",
    "\n",
    "model_name = \"ai-forever/rugpt3large_based_on_gpt2\"\n",
    "tokenizer = AutoTokenizer.from_pretrained(model_name)\n",
    "model = AutoModelForCausalLM.from_pretrained(model_name).to(device)"
   ]
  },
  {
   "cell_type": "markdown",
   "metadata": {},
   "source": [
    "Например, если мы хотим при помощи языковой модели ответить на вопрос: **«Сколько будет 2+2?»**, то можем подать на вход модели следующий текст:\\\n",
    "`«Вопрос: Сколько будет 2+2? Ответ: … »`\\\n",
    "и естественным продолжением такого текста будет ответ на вопрос, поэтому модель допишет `«4»`"
   ]
  },
  {
   "cell_type": "code",
   "execution_count": null,
   "metadata": {},
   "outputs": [],
   "source": [
    "text = \"Вопрос: 'Сколько будет 2+2?'\\nОтвет:\"\n",
    "input_ids = tokenizer.encode(text, return_tensors=\"pt\").to(device)\n",
    "out = model.generate(input_ids, do_sample=False, max_length=20, pad_token_id=20)\n",
    "\n",
    "generated_text = list(map(tokenizer.decode, out))[0]\n",
    "\n",
    "print(generated_text)"
   ]
  },
  {
   "cell_type": "markdown",
   "metadata": {},
   "source": [
    "Рассмотрим пример токенизации. Как и BERT-like модели, GPT использует токенизацию на подслова."
   ]
  },
  {
   "cell_type": "code",
   "execution_count": null,
   "metadata": {},
   "outputs": [],
   "source": [
    "text = \"Токенизируй меня\" # raw text\n",
    "tokens = tokenizer.encode(text, add_special_tokens=False) # applying ruGPT-3 tokenizer\n",
    "decoded_tokens = [tokenizer.decode([token]) for token in tokens] # converting ids to tokens\n",
    "\n",
    "print(\"text:\", text)\n",
    "print(\"tokens: \", tokens)\n",
    "print(\"decoded tokens: \", decoded_tokens)"
   ]
  },
  {
   "cell_type": "markdown",
   "metadata": {},
   "source": [
    "Языковая модель выдаёт распределение вероятностей следующего токена, эту информацию можно по-разному использовать для генерации текста.\n",
    "\n",
    "Для наглядности применим все основные методы для продолжения следующего: 'Определение: \"Языковая модель\" - это'"
   ]
  },
  {
   "cell_type": "code",
   "execution_count": null,
   "metadata": {},
   "outputs": [],
   "source": [
    "# Tokenization\n",
    "text = 'Определение: \"Языковая модель\" — это'\n",
    "input_ids = tokenizer.encode(text, return_tensors=\"pt\").to(device)"
   ]
  },
  {
   "cell_type": "markdown",
   "metadata": {},
   "source": [
    "### Жадный поиск"
   ]
  },
  {
   "cell_type": "markdown",
   "metadata": {},
   "source": [
    "Самый простой способ — жадный поиск (greedy search): каждый раз выбирается токен, у которого максимальная вероятность.\n",
    "\n",
    "При таком способе мы не получим разнообразного текста на один и тот же запрос, и, что ещё хуже, генерация может застревать в локальных минимумах и выдавать повторяющиеся фрагменты, например `the the the the ...`."
   ]
  },
  {
   "cell_type": "markdown",
   "metadata": {},
   "source": [
    "<center><img src=\"https://edunet.kea.su/repo/EduNet_NLP-web_dependencies/L07/greedy_seacrh.png\" width=\"500\"></center>\n",
    "\n",
    "<center><em>Источник: <a href=\"https://habr.com/ru/articles/589663/\">Краткий экскурс в ruGPT-3</a></em></center>"
   ]
  },
  {
   "cell_type": "code",
   "execution_count": null,
   "metadata": {},
   "outputs": [],
   "source": [
    "# Example of greedy search\n",
    "out = model.generate(input_ids,\n",
    "                     do_sample=False,\n",
    "                     max_length=30)\n",
    "\n",
    "# Decoding\n",
    "generated_text = list(map(tokenizer.decode, out))[0]\n",
    "print(generated_text)"
   ]
  },
  {
   "cell_type": "markdown",
   "metadata": {},
   "source": [
    "### Лучевой поиск"
   ]
  },
  {
   "cell_type": "markdown",
   "metadata": {},
   "source": [
    "\n",
    "Чуть более сложный и качественный способ — это лучевой поиск (beam search). На каждом шаге выбирается не только один самый вероятный токен, а сразу несколько (за их количество отвечает параметр `num_beams`). Дальше продолжается поиск для каждого из выбранных токенов. Пути генерации разветвляются, что дает несколько вариантов сгенерированного текста.\n",
    "\n",
    "Обычно это приводит к высокой связности (когерентности), но при этом к сухости и скучности текста. Также это не решает полностью проблему с повторениями кусочков текста."
   ]
  },
  {
   "cell_type": "markdown",
   "metadata": {},
   "source": [
    "<center><img src=\"https://edunet.kea.su/repo/EduNet_NLP-web_dependencies/L07/beam_search.png\" width=\"500\"></center>\n",
    "\n",
    "<center><em>Источник: <a href=\"https://habr.com/ru/articles/589663/\">Краткий экскурс в ruGPT-3</a></em></center>"
   ]
  },
  {
   "cell_type": "markdown",
   "metadata": {},
   "source": [
    "Такая генерация обладает хорошей когерентностью (связностью), но обычно у них не хватает \"человечности\", они кажутся сухими и скучными. Также это не полностью решает проблему повторяющихся фрагментов генерации."
   ]
  },
  {
   "cell_type": "code",
   "execution_count": null,
   "metadata": {},
   "outputs": [],
   "source": [
    "# Example of beam search\n",
    "out = model.generate(input_ids,\n",
    "                     do_sample=False,\n",
    "                     num_beams=5,\n",
    "                     max_length=40)\n",
    "\n",
    "# Decoding\n",
    "generated_text = list(map(tokenizer.decode, out))[0]\n",
    "print(generated_text)"
   ]
  },
  {
   "cell_type": "markdown",
   "metadata": {},
   "source": [
    "Можно вывести не только наиболее вероятный результат, но и результаты по другим лучам."
   ]
  },
  {
   "cell_type": "code",
   "execution_count": null,
   "metadata": {},
   "outputs": [],
   "source": [
    "# Let's set return_num_sequences > 1\n",
    "out = model.generate(input_ids,\n",
    "                     do_sample=False,\n",
    "                     num_beams=5,\n",
    "                     max_length=40,\n",
    "                     num_return_sequences=5)\n",
    "\n",
    "print(\"Output:\\n\" + 100 * '-')\n",
    "for i, beam_output in enumerate(out):\n",
    "  print(\"{}: {}\\n\".format(i, tokenizer.decode(beam_output, skip_special_tokens=True)))"
   ]
  },
  {
   "cell_type": "markdown",
   "metadata": {},
   "source": [
    "Количество повторов можно уменьшить, если установить запрет на повтор *n*-грамм."
   ]
  },
  {
   "cell_type": "code",
   "execution_count": null,
   "metadata": {},
   "outputs": [],
   "source": [
    "# We can prohibit repeating bigrams\n",
    "out = model.generate(input_ids,\n",
    "                     do_sample=False,\n",
    "                     num_beams=5,\n",
    "                     max_length=40,\n",
    "                     num_return_sequences=5,\n",
    "                     no_repeat_ngram_size=2)\n",
    "\n",
    "print(\"Output:\\n\" + 100 * '-')\n",
    "for i, beam_output in enumerate(out):\n",
    "  print(\"{}: {}\\n\".format(i, tokenizer.decode(beam_output, skip_special_tokens=True)))"
   ]
  },
  {
   "cell_type": "markdown",
   "metadata": {},
   "source": [
    "### Сэмплирование с температурой"
   ]
  },
  {
   "cell_type": "markdown",
   "metadata": {},
   "source": [
    "Чтобы добавить тексту непредсказуемости и человечности, можно использовать вероятностное сэмплирование с температурой. Будет использоваться не самый вероятный токен, а случайный, с учётом распределения вероятностей.\n",
    "\n",
    "Параметр температуры позволяет контролировать степень случайности. При нулевой температуре метод совпадает с жадным сэмплированием, при  большой температуре токены будут выбираться полностью случайно. Обычно хорошо работает температура в диапазоне `0.8–2.0`."
   ]
  },
  {
   "cell_type": "markdown",
   "metadata": {},
   "source": [
    "Формула модификации распределения вероятностей очень похожа на формулу распределения Больцмана: чем выше температура системы, тем больше \"размазывается\" распределение вероятностей её возможных состояний, отсюда слово \"температура\".\n",
    "\n",
    "$$\\large p=\\text{softmax}(\\log(p)/t)$$\n",
    "\n",
    "Стоит отметить, что случайная природа генерации будет иногда приводить к полностью некорректным результатам."
   ]
  },
  {
   "cell_type": "code",
   "execution_count": null,
   "metadata": {},
   "outputs": [],
   "source": [
    "# Sampling eith temperature\n",
    "out = model.generate(input_ids, do_sample=True, temperature=1.3, max_length=30)\n",
    "\n",
    "# Decoding\n",
    "generated_text = list(map(tokenizer.decode, out))[0]\n",
    "print(generated_text)"
   ]
  },
  {
   "cell_type": "markdown",
   "metadata": {},
   "source": [
    "### Сэмплирование top-k и top-p"
   ]
  },
  {
   "cell_type": "markdown",
   "metadata": {},
   "source": [
    "Для запрета генерации маловероятных токенов вводят `top-k` или `top-p` ограничения. В этом случае генерация тоже происходит случайным образом, но заранее отсекаются все маловероятные токены."
   ]
  },
  {
   "cell_type": "markdown",
   "metadata": {},
   "source": [
    "В случае `top-k` зануляются все вероятности кроме `k` самых вероятных.\n",
    "\n",
    "Установив $k=6$, мы будем выбирать следующее слово только из 6 слов с наибольшей вероятностью:\n",
    "- *nice, dog, car, woman, guy, man* на 1-м шаге\n",
    "- *drives, is, turns, stops, down, a* на 2-м шаге"
   ]
  },
  {
   "cell_type": "markdown",
   "metadata": {},
   "source": [
    "<center><img src=\"https://edunet.kea.su/repo/EduNet_NLP-web_dependencies/L07/top-k.png\" width=\"800\"></center>"
   ]
  },
  {
   "cell_type": "markdown",
   "metadata": {},
   "source": [
    "В случае `top-p` остается минимальный набор токенов, чтобы сумма их вероятностей была не больше `p`. Следовательно, количество слов, из которых мы выбираем, может динамически меняться (увеличиваться и уменьшаться).\n",
    "\n",
    "Установим $p=0.92$ и будем выбирать из:\n",
    "- 9 слов на 1-м шаге\n",
    "- 3 слов на 2-м шаге\n",
    "\n",
    "Ограничение `top-p` называют ядерным сэмплированием (nucleus sampling)."
   ]
  },
  {
   "cell_type": "markdown",
   "metadata": {},
   "source": [
    "<center><img src=\"https://edunet.kea.su/repo/EduNet_NLP-web_dependencies/L07/top-p.png\" width=\"700\"></center>"
   ]
  },
  {
   "cell_type": "code",
   "execution_count": null,
   "metadata": {},
   "outputs": [],
   "source": [
    "# Set random state\n",
    "torch.random.manual_seed(42)\n",
    "\n",
    "# Sampling with top-k and top-p restrictions\n",
    "out = model.generate(input_ids,\n",
    "                     do_sample=True,\n",
    "                     temperature=1.0,\n",
    "                     top_k=20,\n",
    "                     top_p=0.9,\n",
    "                     max_length=30,\n",
    "                    )\n",
    "# Decoding\n",
    "generated_text = list(map(tokenizer.decode, out))[0]\n",
    "print(generated_text)"
   ]
  },
  {
   "cell_type": "markdown",
   "metadata": {},
   "source": [
    "## Затравочное программирование"
   ]
  },
  {
   "cell_type": "markdown",
   "metadata": {},
   "source": [
    "В отличие от BERT-like моделей, для GPT этап дообучения не обязателен. Для того чтобы дописывать текст, модель должна очень хорошо понимать его смысл и иметь знания о реальном мире. Внутренние знания модели можно попытаться использовать, модифицируя левый контекст текста. Поскольку GPT способна генерировать текст, мы можем сформулировать любую NLP-задачу как задачу генерации (продолжения) текста. Это позволяет решать множество задач с минимальным обучением или без него.\n",
    "\n",
    "Подбор модификаций текста называется \"затравочное программирование\" (prompt engineering). Суть затравочного программирования в том, чтобы подобрать такие заготовленные примеры и начала для генерации, чтобы дальше модель выдавала ровно то, что надо. Подбирая \"затравки\" и гиперпараметры генератора (температура, `top-k`, `top-p`), можно добиться хороших ответов только за счет предварительного обучения модели.\n",
    "\n",
    "Существует два подхода для затравочного программирования:\n",
    "- zero-shot: сформулировать задачу и передать текст на генерацию;\n",
    "- few-shot: сформулировать задачу, подать в модель несколько примеров и затем передать текст на генерацию."
   ]
  },
  {
   "cell_type": "code",
   "execution_count": null,
   "metadata": {},
   "outputs": [],
   "source": [
    "from transformers import AutoTokenizer, AutoModelForCausalLM\n",
    "import torch\n",
    "device = torch.device(\"cuda\" if torch.cuda.is_available() else \"cpu\")\n",
    "\n",
    "model_name = \"ai-forever/rugpt3large_based_on_gpt2\"\n",
    "tokenizer = AutoTokenizer.from_pretrained(model_name)\n",
    "model = AutoModelForCausalLM.from_pretrained(model_name).to(device)"
   ]
  },
  {
   "cell_type": "code",
   "execution_count": null,
   "metadata": {},
   "outputs": [],
   "source": [
    "# zero-shot learning\n",
    "text = \"С английского на русский 'cat' переводится как '\"\n",
    "input_ids = tokenizer.encode(text, return_tensors=\"pt\").to(device)\n",
    "out = model.generate(input_ids, do_sample=False,max_length=15)\n",
    "\n",
    "generated_text = list(map(tokenizer.decode, out))[0]\n",
    "print(generated_text)"
   ]
  },
  {
   "cell_type": "code",
   "execution_count": null,
   "metadata": {},
   "outputs": [],
   "source": [
    "# few-shot learning\n",
    "text = \"С английского на русский 'cat' переводится как 'кошка', 'dog' переводится как 'собака', а 'bird' переводится как '\"\n",
    "input_ids = tokenizer.encode(text, return_tensors=\"pt\").to(device)\n",
    "out = model.generate(input_ids, do_sample=False,max_length=35)\n",
    "\n",
    "generated_text = list(map(tokenizer.decode, out))[0]\n",
    "print(generated_text)"
   ]
  },
  {
   "cell_type": "markdown",
   "metadata": {},
   "source": [
    "### Рекомендательная система"
   ]
  },
  {
   "cell_type": "markdown",
   "metadata": {},
   "source": [
    "Сделаем рекомендательную систему без обучения: будем подавать информацию о предпочтениях пользователя в виде текста и смотреть, как модель продолжит его. Для генерации специально будем подавать текст с незакрытой кавычкой, чтобы вынудить модель генерировать имена собственные."
   ]
  },
  {
   "cell_type": "code",
   "execution_count": null,
   "metadata": {},
   "outputs": [],
   "source": [
    "torch.random.manual_seed(1)\n",
    "\n",
    "# Film recomendation\n",
    "text = \"Я люблю советские комедии: “Приключения Шурика”, “\"\n",
    "input_ids = tokenizer.encode(text, return_tensors=\"pt\").to(device)\n",
    "out = model.generate(input_ids,\n",
    "                     do_sample=True,\n",
    "                     temperature=1.4,\n",
    "                     top_k=20,\n",
    "                     top_p=0.8,\n",
    "                     max_length=46,\n",
    "                    )\n",
    "\n",
    "generated_text = list(map(tokenizer.decode, out))[0]\n",
    "print(generated_text)"
   ]
  },
  {
   "cell_type": "code",
   "execution_count": null,
   "metadata": {},
   "outputs": [],
   "source": [
    "torch.random.manual_seed(1)\n",
    "\n",
    "# Music recomendation\n",
    "text = \"Тем людям, кому нравится “Алиса”, также понравятся группы “\"\n",
    "input_ids = tokenizer.encode(text, return_tensors=\"pt\").to(device)\n",
    "out = model.generate(input_ids,\n",
    "                     do_sample=True,\n",
    "                     temperature=1.1,\n",
    "                     top_k=10,\n",
    "                     top_p=0.7,\n",
    "                     max_length=35,\n",
    "                    )\n",
    "\n",
    "generated_text = list(map(tokenizer.decode, out))[0]\n",
    "print(generated_text)"
   ]
  },
  {
   "cell_type": "markdown",
   "metadata": {},
   "source": [
    "### Анализ тональности"
   ]
  },
  {
   "cell_type": "markdown",
   "metadata": {},
   "source": [
    "Рассмотрим бинарную классификацию по тональности без дообучения.\n",
    "\n",
    "Для определения тональности будем использовать меру перплексии. В теории информации, перплексия – мера того, насколько хорошо распределение вероятностей предсказывает выборку. Говоря простым языком, перплексия – мера \"удивлённости\" модели.\n",
    "\n",
    "На вход модели мы подаём затравку в формате <метка тональности> + <отзыв>. Далее мы считаем перплексию каждого из них. Выбираем наименьшую перплексию из двух и присваиваем метку отзыву."
   ]
  },
  {
   "cell_type": "code",
   "execution_count": null,
   "metadata": {},
   "outputs": [],
   "source": [
    "import math\n",
    "\n",
    "def calculate_perplexity(sentence, model, tokenizer):\n",
    "    # Add tone lable to sentence\n",
    "    sentence_positive = 'доволен:'+sentence\n",
    "    sentence_negative = 'недоволен:'+sentence\n",
    "    list_sent = [sentence_positive, sentence_negative]\n",
    "    ppl_values = []\n",
    "\n",
    "    for sentence in list_sent:\n",
    "      # Tokenize sentence\n",
    "      encodings = tokenizer(sentence, return_tensors='pt')\n",
    "      input_ids = encodings.input_ids.to(device)\n",
    "      # Apply model\n",
    "      with torch.no_grad():\n",
    "          outputs = model(input_ids=input_ids, labels=input_ids)\n",
    "      loss = outputs.loss\n",
    "      # Count perplexity\n",
    "      ppl = math.exp(loss.item() * input_ids.size(1))\n",
    "      ppl_values.append(ppl)\n",
    "\n",
    "    # Choose sentence with lower perplexity\n",
    "    if ppl_values[0] > ppl_values[1]:\n",
    "      return 'отрицательный'\n",
    "    else:\n",
    "      return 'положительный'"
   ]
  },
  {
   "cell_type": "code",
   "execution_count": null,
   "metadata": {},
   "outputs": [],
   "source": [
    "negative = 'я чуть не заснул во время фильма'\n",
    "print(f'Отзыв \"{negative}\": {calculate_perplexity(negative, model, tokenizer)}')\n",
    "positive = 'сюжет невероятно захватывающий'\n",
    "print(f'Отзыв \"{positive}\": {calculate_perplexity(positive, model, tokenizer)}')"
   ]
  },
  {
   "cell_type": "markdown",
   "metadata": {},
   "source": [
    "## Файнтюнинг"
   ]
  },
  {
   "cell_type": "markdown",
   "metadata": {},
   "source": [
    "Воспользуемся моделью меньшего размера, чтобы она поместилась на GPU."
   ]
  },
  {
   "cell_type": "code",
   "execution_count": null,
   "metadata": {},
   "outputs": [],
   "source": [
    "from transformers import AutoTokenizer, AutoModelForCausalLM\n",
    "import torch\n",
    "device = torch.device(\"cuda\" if torch.cuda.is_available() else \"cpu\")\n",
    "\n",
    "model_name = \"ai-forever/rugpt3small_based_on_gpt2\"\n",
    "tokenizer = AutoTokenizer.from_pretrained(model_name)\n",
    "model = AutoModelForCausalLM.from_pretrained(model_name).to(device)"
   ]
  },
  {
   "cell_type": "markdown",
   "metadata": {},
   "source": [
    "### Процесс обучения"
   ]
  },
  {
   "cell_type": "markdown",
   "metadata": {},
   "source": [
    "Обучающий текст нарезается на случайные блоки, которые составляются в последовательности из 1024 (2048 у GPT-3) токенов, разделяясь специальным `<|endoftext|>` символом. Во время обучения модель учится предсказывать (классифицировать) каждый токен в последовательности один за другим при помощи Cross-Entropy Loss.\n",
    "\n",
    "Так как входная последовательность всегда заполнена до конца, padding не используется. Но во время инференса длина входного текста может быть произвольной, поэтому надо явно указывать, чем дополнять оставшиеся позиции. По дефолту используется тот же `<|endoftext|>`.\n",
    "\n",
    "В отдельных версиях GPT вышесказанное может модифицироваться. Например, в ruGPT3 гораздо больше специальных токенов: `<s\\>`, `<s>`, `<pad>`, `<unk>`"
   ]
  },
  {
   "cell_type": "markdown",
   "metadata": {},
   "source": [
    "**Обучающие данные**\n",
    "\n",
    "Будем учить GPT генерировать стихи Маяковского. В качестве обучающих данных возьмём всего лишь один стих."
   ]
  },
  {
   "cell_type": "code",
   "execution_count": null,
   "metadata": {},
   "outputs": [],
   "source": [
    "text = \"\"\"Дым табачный воздух выел.\n",
    "Комната —\n",
    "глава в крученыховском аде.\n",
    "Вспомни —\n",
    "за этим окном\n",
    "впервые\n",
    "руки твои, исступленный, гладил.\n",
    "Сегодня сидишь вот,\n",
    "сердце в железе.\n",
    "День еще —\n",
    "выгонишь,\n",
    "может быть, изругав.\n",
    "В мутной передней долго не влезет\n",
    "сломанная дрожью рука в рукав.\n",
    "Выбегу,\n",
    "тело в улицу брошу я.\n",
    "Дикий,\n",
    "обезумлюсь,\n",
    "отчаяньем иссеча́сь.\n",
    "Не надо этого,\n",
    "дорогая,\n",
    "хорошая,\n",
    "дай простимся сейчас.\n",
    "Все равно\n",
    "любовь моя —\n",
    "тяжкая гиря ведь —\n",
    "висит на тебе,\n",
    "куда ни бежала б.\n",
    "Дай в последнем крике выреветь\n",
    "горечь обиженных жалоб.\n",
    "Если быка трудом уморят —\n",
    "он уйдет,\n",
    "разляжется в холодных водах.\n",
    "Кроме любви твоей,\n",
    "мне\n",
    "нету моря,\n",
    "а у любви твоей и плачем не вымолишь отдых.\n",
    "Захочет покоя уставший слон —\n",
    "царственный ляжет в опожаренном песке.\n",
    "Кроме любви твоей,\n",
    "мне\n",
    "нету солнца,\n",
    "а я и не знаю, где ты и с кем.\n",
    "Если б так поэта измучила,\n",
    "он\n",
    "любимую на деньги б и славу выменял,\n",
    "а мне\n",
    "ни один не радостен звон,\n",
    "кроме звона твоего любимого имени.\n",
    "И в пролет не брошусь,\n",
    "и не выпью яда,\n",
    "и курок не смогу над виском нажать.\n",
    "Надо мною,\n",
    "кроме твоего взгляда,\n",
    "не властно лезвие ни одного ножа.\n",
    "Завтра забудешь,\n",
    "что тебя короновал,\n",
    "что душу цветущую любовью выжег,\n",
    "и су́етных дней взметенный карнавал\n",
    "растреплет страницы моих книжек…\n",
    "Слов моих сухие листья ли\n",
    "заставят остановиться,\n",
    "жадно дыша?\n",
    "Дай хоть\n",
    "последней нежностью выстелить\n",
    "твой уходящий шаг..\"\"\""
   ]
  },
  {
   "cell_type": "markdown",
   "metadata": {},
   "source": [
    "В библиотеке transformers есть готовые инструменты для подготовки датасета и загрузчика данных. На вход нужен всего лишь один `.txt` файл с обучающим текстом."
   ]
  },
  {
   "cell_type": "code",
   "execution_count": null,
   "metadata": {},
   "outputs": [],
   "source": [
    "# Save text train data as .txt file\n",
    "train_path = \"train_dataset.txt\"\n",
    "with open(train_path, mode=\"w\", encoding=\"utf-8\") as f:\n",
    "    f.write(text)"
   ]
  },
  {
   "cell_type": "code",
   "execution_count": null,
   "metadata": {},
   "outputs": [],
   "source": [
    "!pip install datasets -q"
   ]
  },
  {
   "cell_type": "code",
   "execution_count": null,
   "metadata": {},
   "outputs": [],
   "source": [
    "from datasets import load_dataset\n",
    "from transformers import DataCollatorForLanguageModeling\n",
    "\n",
    "\n",
    "def tokenize_function(examples):\n",
    "    return tokenizer(\n",
    "        examples[\"text\"], padding=\"max_length\", truncation=False, max_length=64\n",
    "    )\n",
    "\n",
    "\n",
    "dataset = load_dataset(\"text\", data_files={\"train\": train_path})\n",
    "tokenized_dataset = dataset.map(tokenize_function, batched=True)\n",
    "\n",
    "# Сrop the text into optimal length pieces\n",
    "data_collator = DataCollatorForLanguageModeling(tokenizer=tokenizer, mlm=False)"
   ]
  },
  {
   "cell_type": "markdown",
   "metadata": {},
   "source": [
    "**Обучение**\n",
    "\n",
    "Для файнтюнинга нам необходим объект класса Trainer, который сделает всю работу за нас. Далее нужно будет всего лишь запустить `trainer.train()`."
   ]
  },
  {
   "cell_type": "code",
   "execution_count": null,
   "metadata": {},
   "outputs": [],
   "source": [
    "from transformers import Trainer, TrainingArguments\n",
    "\n",
    "training_args = TrainingArguments(\n",
    "    output_dir=\"./finetuned\",  # The output directory\n",
    "    overwrite_output_dir=True,  # overwrite the content of the output directory\n",
    "    num_train_epochs=200,  # number of training epochs\n",
    "    per_device_train_batch_size=32,  # batch size for training\n",
    "    per_device_eval_batch_size=32,  # batch size for evaluation\n",
    "    warmup_steps=10,  # number of warmup steps for learning rate scheduler\n",
    "    gradient_accumulation_steps=16,  # to make \"virtual\" batch size larger\n",
    ")\n",
    "\n",
    "\n",
    "trainer = Trainer(\n",
    "    model=model,\n",
    "    args=training_args,\n",
    "    data_collator=data_collator,\n",
    "    train_dataset=tokenized_dataset[\"train\"],\n",
    "    optimizers=(\n",
    "        torch.optim.AdamW(model.parameters(), lr=1e-5),\n",
    "        None,\n",
    "    ),  # Optimizer and learnig rate scheduler\n",
    ")"
   ]
  },
  {
   "cell_type": "code",
   "execution_count": null,
   "metadata": {},
   "outputs": [],
   "source": [
    "trainer.train()"
   ]
  },
  {
   "cell_type": "markdown",
   "metadata": {},
   "source": [
    "**Результат файнтюнинга**\n",
    "\n",
    "Готово! Теперь давайте посмотрим, что же сочинит GPT в стиле Маяковского, если на вход подать такую строчку:\n",
    "\n",
    "\"Как же сложно учить матанализ!\""
   ]
  },
  {
   "cell_type": "code",
   "execution_count": null,
   "metadata": {},
   "outputs": [],
   "source": [
    "# Probability sampling with limit example\n",
    "text = \"Как же сложно учить матанализ!\\n\"\n",
    "input_ids = tokenizer.encode(text, return_tensors=\"pt\").to(device)\n",
    "model.eval()\n",
    "with torch.no_grad():\n",
    "    out = model.generate(\n",
    "        input_ids,\n",
    "        do_sample=True,\n",
    "        num_beams=3,\n",
    "        temperature=1.9,\n",
    "        top_p=0.9,\n",
    "        max_length=200,\n",
    "        pad_token_id=512,\n",
    "    )\n",
    "\n",
    "generated_text = list(map(tokenizer.decode, out))[0]\n",
    "\n",
    "print(generated_text)"
   ]
  },
  {
   "cell_type": "markdown",
   "metadata": {},
   "source": [
    "## Одна модель для всех задач"
   ]
  },
  {
   "cell_type": "markdown",
   "metadata": {},
   "source": [
    "Один из последних быстро развивающихся трендов в NLP — решать множество задач одной общей моделью.\n",
    "\n",
    "- Предобучение трансформерных моделей на большом объеме неразмеченных данных закладывает широкое понимание языка\n",
    "- Дообучение под конкретную задачу требует наличия размеченных корпусов гораздо меньшего размера\n",
    "- При правильных затравках (инструкциях) предобученные модели могут решать задачи, которые они никогда не видели\n",
    "- Все возможные NLP задачи можно свести к генерации текста: генерация перевода для машинного перевода, генерация метки класса для классификации, генерация исправленной последовательности для исправления опечаток, генерация именованых сущностей для извлечения именованных сущностей. Главное — правильно сформулировать затравку или инструкцию.\n"
   ]
  },
  {
   "cell_type": "markdown",
   "metadata": {},
   "source": [
    "### Дообучение на инструкциях"
   ]
  },
  {
   "cell_type": "markdown",
   "metadata": {},
   "source": [
    "Идея: сформулировать много задач как инструкции и дообучить на всех одновременно. Она была реализована для модели FLAN и описана в статье [[paper] 🎓 Finetuned Language Models Are Zero-Shot Learners (2021)](https://arxiv.org/abs/2109.01652). 62 набора данных для решения различных NLP задач были переделаны в один большой датасет разнообразных инструкций, чтобы обучить модель решать сразу всё.\n",
    "Примеры инструкций:\n",
    "- Please translate this sentence to French: 'The dog\n",
    "runs.'\n",
    "- What is the sentiment of this text? Options: Negative, Positive, Neutral.\n",
    "\n",
    "Было замечено, что модель обладает обобщающей способностью и выполняет инструкции, которых она никогда не видела. Так как модель предобучена на большом количестве текстов, она уже хорошо понимает язык и экстраполирует инструкции из обучающей выборки, используя свое понимание языка."
   ]
  },
  {
   "cell_type": "code",
   "execution_count": null,
   "metadata": {},
   "outputs": [],
   "source": [
    "model_name = 'google/flan-t5-small'\n",
    "\n",
    "from transformers import AutoModelForSeq2SeqLM\n",
    "\n",
    "tokenizer = AutoTokenizer.from_pretrained(model_name, model_max_length=512)\n",
    "model = AutoModelForSeq2SeqLM.from_pretrained(model_name)"
   ]
  },
  {
   "cell_type": "code",
   "execution_count": null,
   "metadata": {},
   "outputs": [],
   "source": [
    "def predict_for_instruction(instruction, text, model):\n",
    "\n",
    "    inputs = tokenizer([instruction.format(text)],\n",
    "                        return_tensors=\"pt\", padding=True)\n",
    "    output_sequences = model.generate(\n",
    "        num_beams=5,\n",
    "        max_length=100,\n",
    "        no_repeat_ngram_size=3,\n",
    "        early_stopping=True,\n",
    "        num_return_sequences= 1,\n",
    "        input_ids=inputs[\"input_ids\"],\n",
    "        attention_mask=inputs[\"attention_mask\"],\n",
    "        do_sample=False,\n",
    "    )\n",
    "    summaries = tokenizer.batch_decode(output_sequences, skip_special_tokens=True)\n",
    "    return summaries[0]"
   ]
  },
  {
   "cell_type": "code",
   "execution_count": null,
   "metadata": {},
   "outputs": [],
   "source": [
    "text=\"Lomonosov Moscow State University is a public research university in Moscow, Russia, and the most prestigious university in the country. \\\n",
    "The university includes 15 research institutes, 43 faculties, more than 300 departments, and six branches (including five foreign ones in the Commonwealth of Independent States countries). \\\n",
    "Alumni of the university include past leaders of the Soviet Union and other governments. As of 2019, 13 Nobel laureates, six Fields Medal winners, and one Turing Award winner had been affiliated with the university. \\\n",
    "Ivan Shuvalov and Mikhail Lomonosov promoted the idea of a university in Moscow, and Russian Empress Elizabeth decreed its establishment on 23 January 1755. \\\n",
    "Since 1953, most of the faculties have been situated on Sparrow Hills, in southwest Moscow.\""
   ]
  },
  {
   "cell_type": "code",
   "execution_count": null,
   "metadata": {},
   "outputs": [],
   "source": [
    "instruction = \"Suggest a headline for this text: {}\"\n",
    "print(f\"Instruction: {instruction}\")\n",
    "print(f\"Output: {predict_for_instruction(instruction, text, model)}\")"
   ]
  },
  {
   "cell_type": "code",
   "execution_count": null,
   "metadata": {},
   "outputs": [],
   "source": [
    "instruction = \"When was Lomonosov Moscow State University founded? {}\"\n",
    "print(f\"Instruction: {instruction}\")\n",
    "print(f\"Output: {predict_for_instruction(instruction, text, model)}\")"
   ]
  },
  {
   "cell_type": "code",
   "execution_count": null,
   "metadata": {},
   "outputs": [],
   "source": [
    "instruction = \"Give a summary of this text: {}\"\n",
    "print(f\"Instruction: {instruction}\")\n",
    "print(f\"Output: {predict_for_instruction(instruction, text, model)}\")"
   ]
  },
  {
   "cell_type": "markdown",
   "metadata": {},
   "source": [
    "### Обучение с подкреплением с обратной связью от человека"
   ]
  },
  {
   "cell_type": "markdown",
   "metadata": {},
   "source": [
    " Обучение с подкреплением с обратной связью от человека (Reinforcement Learning from Human Feedback) — подход, который позволил значительно улучшить обучение на инструкциях. Он был использован для обучения модели InstructGPT и описан в статье  [[paper] 🎓 Training language models to follow instructions with human feedback (2022)](https://arxiv.org/abs/2203.02155).\n",
    "\n",
    "\n",
    "\n",
    " Модель InstructGPT — \"младший брат\" ChatGPT. Она не привлекла столько внимания общественности, но более полезна нам как исследователям, поскольку процесс ее обучения описан в статье. Однако сама идея обучения применима и к ChatGPT.\n",
    "\n",
    " Итак, как превратить (уже достаточно умную) GPT-3 в (еще более умную) InstructGPT?\n",
    "\n",
    "- Шаг 1: собрать набор инструкций и дообучить на нем GPT-3.\n",
    "\n",
    "Инструкции должны включать не только классические NLP-задачи, но и более \"творческие\": придумать историю, написать список чего-нибудь, посоветовать что-то. Качество важнее количества: большая доля ручного труда, высокое требование к качеству инструкций.\n",
    "\n",
    "После дообучения модели GPT-3 получим SFT-модель (supervised fine-tuned).\n",
    "\n",
    "- Шаг 2: оценить результаты модели SFT и обучить reward-модель.\n",
    "\n",
    "Результаты SFT-модели оцениваются с помощью разметчиков. Берется тестовый набор данных, с помощью SFT-модели для каждого задания генерируется несколько кандидатов ответа. Далее разметчики ранжируют ответы модели по качеству: попарно сравнивают эти ответы и говорят, какой из них лучше.\n",
    "\n",
    "Ответы разметчиков используются для обучения reward-модели. Она должна быть способна имитировать ответ разметчика и ранжировать ответы SFT-модели.\n",
    "\n",
    "- Шаг 3: дообучить SFT-модель с использованием reward-модели\n",
    "\n",
    "SFT-модель генерирует ответы-кандидаты. Они оцениваются с помощью reward-модели, обученной на обратной связи от людей. Оценка reward-модели используется для оптимизации весов SFT-модели. Она дообучается так, чтобы генерированные тексты получали высокие оценки.\n",
    "\n",
    "Для обучения с подкреплением используется метод Proximal Policy Optimization (PPO). Модель не просто учится максимизировать оценку генерированных текстов, но еще старается минимизировать изменения."
   ]
  },
  {
   "cell_type": "markdown",
   "metadata": {},
   "source": [
    "<center><img src =\"https://edunet.kea.su/repo/EduNet_NLP-web_dependencies/L07/rlhf_steps.png\" width=\"800\"></center>\n",
    "\n",
    "<center><em>Источник: <a href=\"https://arxiv.org/abs/2203.02155\">Training language models to follow instructions with human feedback </a></em></center>"
   ]
  },
  {
   "cell_type": "markdown",
   "metadata": {},
   "source": [
    "RLHF позволяет исправить то, что было заложено как во время предобучения, так и во время обучения методом SFT. Это могут быть ошибки или нежетальное поведение модели с точки зрения разработчиков."
   ]
  },
  {
   "cell_type": "markdown",
   "metadata": {},
   "source": [
    "<center><img src =\"https://edunet.kea.su/repo/EduNet_NLP-web_dependencies/L07/prediction_vs_reward_model.png\" width=\"800\"></center>\n",
    "\n",
    "<center><em>Сравнение стуктуры модели для предсказания следующего токена и модели вознаграждения</em></center>\n",
    "\n",
    "<center><em>Источник: <a href=\"https://cameronrwolfe.substack.com/p/llama-2-from-the-ground-up#footnote-anchor-9-135824233\"> CAMERON R. WOLFE, \"LLaMA-2 from the Ground Up\"</a></em></center>"
   ]
  },
  {
   "cell_type": "markdown",
   "metadata": {},
   "source": [
    "Модель вознаграждения имеет ту же архитектуру и веса, что и основная модель. Разница в том, что слой классификации (предсказание токена) заменён на слой регрессии.\n",
    "\n",
    "Модель штрафует за разницу между предпочтительным человеческим ответом и имеющимся машинным. Кроме того, в это выражение добавляется смещение, которое характеризуется выбранной человеком оценкой качества ответа.\n",
    "\n",
    "$$\\large L_{\\text{ranking}} = - \\log (σ(r_{θ}(x, y_c))-σ(r_{θ}(x, y_r))-m(r))$$\n",
    "\n",
    "Стоит учесть, что одновременно обучается множество моделей вознаграждения, которые отвечают различным характеристикам ответов модели: от безопасности до полезности ответа."
   ]
  }
 ],
 "metadata": {},
 "nbformat": 4,
 "nbformat_minor": 0
}
