{
 "cells": [
  {
   "cell_type": "markdown",
   "metadata": {},
   "source": [
    "<font size=\"6\">Нейронные сети</font>"
   ]
  },
  {
   "cell_type": "markdown",
   "metadata": {},
   "source": [
    "# Ограничения линейных моделей"
   ]
  },
  {
   "cell_type": "markdown",
   "metadata": {},
   "source": [
    "Вспомним материал лекции №2, на которой мы разбирали линейные модели. Напомним, что выход линейной модели является линейной комбинацией входных признаков, к которой также добавляется смещение:"
   ]
  },
  {
   "cell_type": "markdown",
   "metadata": {},
   "source": [
    "$$ \\large\n",
    "\\begin{eqnarray*}\n",
    "y & = & w_1 x_1+ w_2 x_2 + ... + w_n x_n + b\\\\\n",
    "& = & \\sum_{i=1}^n x_i w_i + b \\\\\n",
    "& = & (\\vec{x}, \\vec{w}) + b\n",
    "\\end{eqnarray*}\n",
    "$$"
   ]
  },
  {
   "cell_type": "markdown",
   "metadata": {},
   "source": [
    "Данную формулу можно графически представить следующим образом:"
   ]
  },
  {
   "cell_type": "markdown",
   "metadata": {},
   "source": [
    "<center><img src =\"https://edunet.kea.su/repo/EduNet_NLP-content/L03/out/one_neuron_linear_model.png\" width=\"450\"></center>"
   ]
  },
  {
   "cell_type": "markdown",
   "metadata": {},
   "source": [
    "Если линейная модель имеет множество выходов, то каждый выход $\\large y_j$ имеет свой собственный вектор весов $\\large \\vec{w_j}$ и свое смещение $\\large b_j$ :"
   ]
  },
  {
   "cell_type": "markdown",
   "metadata": {},
   "source": [
    "$$ \\large y_j = (\\vec{x}, \\vec{w_j}) + b_j \\ \\ \\ \\ \\ \\ \\ j= 1 ... C,$$"
   ]
  },
  {
   "cell_type": "markdown",
   "metadata": {},
   "source": [
    "где $\\large \\vec{w_j}=[w_{1j}, w_{2j}, ... w_{nj}]^\\top$."
   ]
  },
  {
   "cell_type": "markdown",
   "metadata": {},
   "source": [
    "Тогда выход всей модели можно записать в векторно-матричном виде:"
   ]
  },
  {
   "cell_type": "markdown",
   "metadata": {},
   "source": [
    "$$\\large \\underset{[1 \\times C]}{\\vec{y}} = \\underset{[1 \\times n]}{x} \\underset{[n \\times C]}{W} + \\underset{[1 \\times C]}{\\vec{b}}$$"
   ]
  },
  {
   "cell_type": "markdown",
   "metadata": {},
   "source": [
    "Здесь матрица весовых коэффициентов $\\large W$ образуется путем объединения векторов весовых коэффициентов для каждого выхода, а вектор смещений $\\large \\vec{b}$ — соответственно путем объединения смещений всех выходов:\n",
    "\n",
    "$$ \\large\n",
    "\\begin{eqnarray*}\n",
    "W & = & [\\vec{w_1}, \\vec{w_2}, ... \\vec{w_C}]\\\\\n",
    "\\vec{b} & = & [b_1, b_2, ... b_c]\n",
    "\\end{eqnarray*}\n",
    "$$\n",
    "\n",
    "Графически это можно представить следующим образом:"
   ]
  },
  {
   "cell_type": "markdown",
   "metadata": {},
   "source": [
    "<center><img src =\"https://edunet.kea.su/repo/EduNet_NLP-content/L03/out/linear_classifier.png\" width=\"450\"></center>"
   ]
  },
  {
   "cell_type": "markdown",
   "metadata": {},
   "source": [
    "Вспомним рассмотренный в лекции №2 датасет из статьи [[paper] 🎓 Emotion classification in Russian: feature engineering and analysis](https://link.springer.com/chapter/10.1007/978-3-030-72610-2_10).\n",
    "\n",
    "Он размечен по **5 классам эмоций**:\n",
    "- радость (joy),\n",
    "- печаль (sadness),\n",
    "- злость (anger),\n",
    "- неуверенность (uncertainty),\n",
    "- нейтральность (neutrality).\n",
    "\n",
    "Рассмотрим линейный классификатор, обученный на этом датасете:\n",
    "\n",
    "- Метод векторизации: TF-IDF\n",
    "- Модель: логистическая регрессия\n",
    "- Усредненное значение accuracy: $0.84$.\n"
   ]
  },
  {
   "cell_type": "markdown",
   "metadata": {},
   "source": [
    "В линейном классификаторе каждый выход модели отвечает за свой класс. Мы можем надеяться, что в процессе обучения линейного классификатора весовые вектора разных выходов выучат некий обобщенный \"шаблон\" образцов данного класса. Тогда при подаче на вход нового образца один из шаблонов будет \"подходить\" больше других, и соответствующий выход будет получать **наибольшее значение взвешенной суммы**. Номер выхода, который имеет наибольшее значение взвешенной суммы, будет восприниматься как предсказанный класс.\n",
    "\n",
    "Визуализируем шаблоны (векторы весовых коэффициентов), получающиеся в результате обучения линейного классификатора на датасете, размеченном по классам эмоций."
   ]
  },
  {
   "cell_type": "markdown",
   "metadata": {},
   "source": [
    "*КАРТИНКА linear_classifier_emotions.png*\n",
    "\n",
    "*Исходник: EduNet-content/dev-2.1/L05/out/linear_classifier_mnist.png*\n",
    "\n",
    "*В нем нужно заменить цифры на смайлики из картинки EduNet_NLP-content/L01/out/sentiment_task.png*\n",
    "\n",
    "*Например, 0 заменить на зеленый смайлик, а 9 заменить на розовый смайлик*\n",
    "\n",
    "*Если это возможно и не займет много времени, можно цвет стрелочек сделать таким же, как цвет смайликов: синие стрелочки заменить на зеленые, оранжевые стрелочки заменить на розовые*"
   ]
  },
  {
   "cell_type": "markdown",
   "metadata": {},
   "source": [
    "<center><img src =\"https://edunet.kea.su/repo/EduNet-content/dev-2.1/L05/out/linear_classifier_mnist.png\" width=\"450\"></center>"
   ]
  },
  {
   "cell_type": "markdown",
   "metadata": {},
   "source": [
    "Для каждого класса были посчитаны свои коэффициенты регрессии. Они представляют матрицу $5 \\times 1739$, где $5$ — количество классов, $1739$ — количество признаков (слов).\n",
    "\n",
    "Ожидается, что наиболее характерным слова для каждой эмоции будут присвоены самые большие коэффициенты соответствующего класса.\n",
    "\n",
    "Выведем значения коэффициентов для слов, которые предположительно наиболее характеры для каждого класса эмоции. Также выведем топ-5 слов с самыми большими коэффициентами."
   ]
  },
  {
   "cell_type": "code",
   "execution_count": null,
   "metadata": {},
   "outputs": [],
   "source": [
    "!wget -q https://edunet.kea.su/repo/EduNet_NLP-web_dependencies/L03/coefficient_matrix.txt\n",
    "!wget -q https://edunet.kea.su/repo/EduNet_NLP-web_dependencies/L03/feature_names.txt"
   ]
  },
  {
   "cell_type": "code",
   "execution_count": null,
   "metadata": {},
   "outputs": [],
   "source": [
    "import numpy as np\n",
    "import matplotlib.pyplot as plt\n",
    "\n",
    "W = np.loadtxt(\"coefficient_matrix.txt\") # load coefficients, shape (5, 1739)\n",
    "X = np.loadtxt(\"feature_names.txt\", dtype=object) # load features dictionary\n",
    "\n",
    "labels = ['Злость', 'Радость', 'Нейтральность',\n",
    "          'Печаль', 'Неуверенность'] # class labels in dataset\n",
    "expected = ['злой', 'рад', 'нормальный',\n",
    "            'грустный', 'думать'] # expected typical words for each class\n",
    "f, axs = plt.subplots(1, 5)\n",
    "\n",
    "for i in range(W.shape[0]):\n",
    "\n",
    "    order = W[i].argsort() # ascending order for coefficients\n",
    "    top_Wi = W[i][order][::-1][:5] # sort and extract top-5 coefficients\n",
    "    top_Wi = np.insert(top_Wi,0,\n",
    "                       W[i][np.where(X == expected[i])]) # insert coefficient for expected word\n",
    "    top_X = X[order][::-1][:5] # words with the highest coefficients\n",
    "    top_X = np.insert(top_X, 0, expected[i]) # insert expected word\n",
    "    barlist = axs[i].bar(x=[x[0] for x in zip(top_X, top_Wi)],\n",
    "         height=[x[1] for x in zip(top_X, top_Wi)])\n",
    "    axs[i].tick_params(labelrotation=65)\n",
    "    axs[i].title.set_text(labels[i])\n",
    "    barlist[0].set_color('g')\n",
    "\n",
    "f.set_figheight(3)\n",
    "f.set_figwidth(20)\n",
    "plt.show()"
   ]
  },
  {
   "cell_type": "markdown",
   "metadata": {},
   "source": [
    "Можно заметить, что наши предположения не подтвердились: не все слова, характерные для какой-либо эмоции, получают высокий коэффициент. Следовательно, модель не учитывает вариативность данных внутри этого класса.\n",
    "\n",
    "Ограничение линейного классификатора состоит в том, что для каждого класса существует только один шаблон. Шаблон каждого класса будет пытаться вобрать в себя информацию обо всех объектах класса сразу. Сильная внутриклассовая вариативность будет мешать линейному классификатору запоминать разные варианты объектов одного класса, и это ограничивает точность модели."
   ]
  },
  {
   "cell_type": "markdown",
   "metadata": {},
   "source": [
    "##  ХОR — проблема"
   ]
  },
  {
   "cell_type": "markdown",
   "metadata": {},
   "source": [
    "На самом деле линейный классификатор плохо справляется даже с более простыми задачами, чем классификация изображений. Рассмотрим такую задачу: на вход модели подаётся упорядоченный набор из двух чисел согласно таблице истинности некоторой логической функции. Задача линейного классификатора — сопоставить этим числам их класс согласно таблице. Графически два входных числа можно изобразить как координаты точек на плоскости, а знаком $+/-$ обозначить их истинный класс. Тогда задача классификатора — построить линию, отделяющую \"плюсы\" (класс 1) от \"минусов\" (класс 0).\n",
    "\n",
    "В случае моделирования логических функций \"И\" и \"ИЛИ\" сложностей не возникает: в пространстве признаков без труда можно провести прямую линию, разделяющую точки разных классов. В случае моделирования логической функции \"исключающее ИЛИ\" (XOR) видно, что одной линией разделить точки разных классов геометрически невозможно — точки, размеченные по таблице истинности XOR, являются **линейно неразделимыми**.\n",
    "\n",
    "То есть линейный классификатор уже не может справиться с этой, казалось бы, простой задачей."
   ]
  },
  {
   "cell_type": "markdown",
   "metadata": {},
   "source": [
    "<center><img src =\"https://edunet.kea.su/repo/EduNet_NLP-content/L03/out/xor_problem.png\" width=\"1000\"></center>"
   ]
  },
  {
   "cell_type": "markdown",
   "metadata": {},
   "source": [
    "# Многослойные нейронные сети"
   ]
  },
  {
   "cell_type": "markdown",
   "metadata": {},
   "source": [
    "Одна из идей для решения проблемы внутриклассовой вариативности — модифицировать модель таким образом, чтобы у нее внутри было не по одному шаблону на каждый класс, а по несколько (скажем, 100 шаблонов вместо 10 при десяти классах). Тогда бы модель имела возможность запоминать разные объекты одного класса и далее использовать эти промежуточные шаблоны для разбиения объектов на классы."
   ]
  },
  {
   "cell_type": "markdown",
   "metadata": {},
   "source": [
    "*КАРТИНКА modeified_model_nlp.png*\n",
    "\n",
    "*Исходник: EduNet-content/dev-2.1/L05/out/modified_model.png*\n",
    "\n",
    "*Картинки животных нужно заменить на тексты:*\n",
    "\n",
    "- *Лошадь слева → Меня **разочаровал** его поступок.*\n",
    "- *Лошадь справа → Я **недоволен** оценкой за экзамен.*\n",
    "- *Кот → Сегодня **замечательный** день.*\n",
    "\n",
    "*Слова, выделенные жирным, выделены цветом: **разочаровал** и **недоволен** — розовым цветом, **замечательный** — зеленым цветом*\n",
    "\n",
    "*Тексты могут быть просто в прямоугольниках либо в \"пузырях\" для диалога ([пример 1](https://cdn.icon-icons.com/icons2/38/PNG/512/dialoguebubble_4874.png), [пример 2](https://w7.pngwing.com/pngs/389/478/png-transparent-callout-speech-balloon-callout-miscellaneous-angle-white-thumbnail.png))*"
   ]
  },
  {
   "cell_type": "markdown",
   "metadata": {},
   "source": [
    "<center><img src =\"https://edunet.kea.su/repo/EduNet-content/dev-2.1/L05/out/modified_model.png\"  width=\"600\"></center>"
   ]
  },
  {
   "cell_type": "markdown",
   "metadata": {},
   "source": [
    "Реализуем эту модель на основе линейного классификатора из лекции №2.\n",
    "\n",
    "Применяем к выходам классификатора еще один классификатор. Будет ли данная модель работать лучше?"
   ]
  },
  {
   "cell_type": "code",
   "execution_count": null,
   "metadata": {},
   "outputs": [],
   "source": [
    "import numpy as np\n",
    "\n",
    "\n",
    "x = np.random.rand(1739)  # random text\n",
    "W1 = np.random.randn(1739, 100) * 0.0001  # without bias\n",
    "W2 = np.random.randn(100, 10) * 0.0001  # without bias\n",
    "\n",
    "scores1 = np.matmul(x, W1)  # matrix multiplication, equivalent x @ W1\n",
    "scores2 = np.matmul(scores1, W2)  # matrix multiplication, of the next classifier\n",
    "\n",
    "print(f\"First classifier shape: {scores1.shape}\")\n",
    "print(f\"Second classifier shape: {scores2.shape}\")"
   ]
  },
  {
   "cell_type": "markdown",
   "metadata": {},
   "source": [
    "Нетрудно заметить, что последовательное применение двух классификаторов к входным данным эквивалентно применению одного классификатора с матрицей весов, равной произведению двух матриц весов классификаторов, примененных последовательно.\n",
    "\n",
    "$$\\large \\text{scores}_1 = x \\cdot W_1 $$\n",
    "\n",
    "$$\\large \\text{scores}_2 = \\text{scores}_1 \\cdot W_2 = x  \\cdot W_1 \\cdot W_2 $$\n",
    "\n",
    "$$\\large W = W_1 \\cdot W_2 $$\n",
    "\n",
    "$$\\large \\text{scores}_2 = x \\cdot W $$\n",
    "\n",
    "Для того, чтобы последовательно примененные классификаторы не вырождались в один, необходимо применить нелинейность к их выходам. Например, пропустить результат применения первой матрицы весов через сигмоиду:\n",
    "\n",
    "$$\\large \\sigma(s)=\\frac{1}{1+e^{-s}}$$"
   ]
  },
  {
   "cell_type": "markdown",
   "metadata": {},
   "source": [
    "<center><img src =\"https://edunet.kea.su/repo/EduNet_NLP-content/L03/out/sigmoid_function.png\" width=\"500\"></center>"
   ]
  },
  {
   "cell_type": "code",
   "execution_count": null,
   "metadata": {},
   "outputs": [],
   "source": [
    "def sigmoid(s):\n",
    "    return 1 / (1 + np.exp(-s))\n",
    "\n",
    "\n",
    "# define vectorized sigmoid to implement with ndarray element-wise\n",
    "sigmoid_np = np.vectorize(sigmoid)\n",
    "\n",
    "scores1 = np.matmul(x, W1)\n",
    "activations = sigmoid_np(scores1)  # values after non-linear function\n",
    "scores2 = np.matmul(activations, W2)\n",
    "\n",
    "print(f\"First classifier shape: {scores1.shape}\")\n",
    "print(f\"Activations shape: {scores1.shape}\")\n",
    "print(f\"Second classifier shape: {scores2.shape}\")"
   ]
  },
  {
   "cell_type": "markdown",
   "metadata": {},
   "source": [
    "Теперь вычисления выглядят так:\n",
    "\n",
    "$$\\large \\text{scores}_1 = x \\cdot W_1 $$\n",
    "\n",
    "$$\\large \\text{activations} = σ(\\text{scores}_1) $$\n",
    "\n",
    "$$\\large \\text{scores}_2 = \\text{activations} \\cdot W_2 =σ(x \\cdot W_1) \\cdot W_2$$"
   ]
  },
  {
   "cell_type": "markdown",
   "metadata": {},
   "source": [
    "Такая нелинейная функция, примененная к результату линейного преобразования, называется **функцией активации**. И мы уже пользовались подобной, когда разбирали Cross-Entropy Loss (Softmax).\n",
    "\n",
    "Приведем код в порядок:"
   ]
  },
  {
   "cell_type": "code",
   "execution_count": null,
   "metadata": {},
   "outputs": [],
   "source": [
    "class NeuralNet:\n",
    "    def __init__(self):\n",
    "        self.W1 = np.random.randn(3072, 100) * 0.0001\n",
    "        self.W2 = np.random.randn(100, 10) * 0.0001\n",
    "\n",
    "    def predict(self, x):\n",
    "        scores1 = np.matmul(x, self.W1)  # Linear\n",
    "        activations = sigmoid_np(scores1)  # activation Sigmoid\n",
    "        scores2 = np.matmul(activations, self.W2)  # Linear\n",
    "\n",
    "        return scores2\n",
    "\n",
    "\n",
    "x = np.random.rand(3072)  # image\n",
    "model = NeuralNet()\n",
    "scores = model.predict(x)\n",
    "print(f\"Model output shape: {scores.shape}\")"
   ]
  },
  {
   "cell_type": "markdown",
   "metadata": {},
   "source": [
    "Ядром вычислений по-прежнему является скалярное произведение входов с весовыми коэффициентами.\n",
    "\n",
    "Таким образом вводится модель искусственного нейрона — базового элемента искусственной нейронной сети. Выходом нейрона является результат применения функции активации к взвешенной сумме входных сигналов (в общем случае с учетом смещения — \"bias\").\n"
   ]
  },
  {
   "cell_type": "markdown",
   "metadata": {},
   "source": [
    "<center><img src =\"https://edunet.kea.su/repo/EduNet_NLP-content/L03/out/neurons_output.png\" width=\"900\"></center>"
   ]
  },
  {
   "cell_type": "markdown",
   "metadata": {},
   "source": [
    "Нейроны в нейронных сетях объединяют в слои и соединяют между слоями по принципу \"каждый с каждым\". Так получаются **многослойные полносвязные нейронные сети** (fully-connected networks). Синонимичным названием является **многослойный персептрон**.\n",
    "\n",
    "Пример многослойного персептрона с двумя скрытыми слоями:"
   ]
  },
  {
   "cell_type": "markdown",
   "metadata": {},
   "source": [
    "<center><img src =\"https://edunet.kea.su/repo/EduNet_NLP-content/L03/out/nn_fully_connected.png\"  width=\"500\"></center>"
   ]
  },
  {
   "cell_type": "markdown",
   "metadata": {},
   "source": [
    "Как добавление в модель скрытых слоев с нелинейностями позволяет решать линейно неразделимые задачи (вроде XOR или более сложные) можно пронаблюдать [в интерактивном тренажере от TensorFlow 🎮[demo]](http://playground.tensorflow.org/#activation=linear&batchSize=10&dataset=xor&regDataset=reg-plane&learningRate=0.1&regularizationRate=0&noise=0&networkShape=&seed=0.62952&showTestData=false&discretize=false&percTrainData=50&x=true&y=true&xTimesY=false&xSquared=false&ySquared=false&cosX=false&sinX=false&cosY=false&sinY=false&collectStats=false&problem=classification&initZero=false&hideText=false)."
   ]
  },
  {
   "cell_type": "markdown",
   "metadata": {},
   "source": [
    "##  Веса и смещения"
   ]
  },
  {
   "cell_type": "markdown",
   "metadata": {},
   "source": [
    "Веса и смещения являются настраиваемыми параметрами в нейронной сети. Они настраиваются в процессе обучения, поэтому их также называют **обучаемыми параметрами**. Рассмотрим, как различные значения обучаемых параметров влияют на работу одного нейрона. Это поможет нам получить интуицию, как добавление в модель скрытых слоев с нелинейностями наделяет её большей выразительной способностью."
   ]
  },
  {
   "cell_type": "markdown",
   "metadata": {},
   "source": [
    "<center><img src =\"https://edunet.kea.su/repo/EduNet_NLP-content/L03/out/why_add_bias_example.png\" width=\"500\"></center>"
   ]
  },
  {
   "cell_type": "markdown",
   "metadata": {},
   "source": [
    "Рассмотрим простой пример. На вход нейрона подаётся входное значение $x$, умноженное на вес $w$. После применения сигмоидальной функции активации, в зависимости от веса, при всевозможных значениях входа мы можем получить следующие графики при $w$, равном $0.5$, $1$ и $2$:"
   ]
  },
  {
   "cell_type": "markdown",
   "metadata": {},
   "source": [
    "<center><img src =\"https://edunet.kea.su/repo/EduNet_NLP-content/L03/out/sigmoid_with_different_weights.png\" width=\"700\"></center>"
   ]
  },
  {
   "cell_type": "markdown",
   "metadata": {},
   "source": [
    "Можно заметить, что значение веса меняет **крутизну** итоговой сигмоидальной функции.\n",
    "\n",
    "Но что, если требуется, чтобы при $x=5$ нейрон выдавал $0$? Изменением крутизны сигмоиды этого не добиться. Требуется дополнительный параметр — смещение.\n"
   ]
  },
  {
   "cell_type": "markdown",
   "metadata": {},
   "source": [
    "**Смещение** (англ. bias) — это дополнительный коэффициент, прибавляющийся к взвешенной сумме входов. Наличие смещения позволяет сдвинуть функцию активации влево или вправо.\n",
    "\n"
   ]
  },
  {
   "cell_type": "markdown",
   "metadata": {},
   "source": [
    "<center><img src =\"https://edunet.kea.su/repo/EduNet_NLP-content/L03/out/add_bias_example.png\" width=\"500\"></center>"
   ]
  },
  {
   "cell_type": "markdown",
   "metadata": {},
   "source": [
    "Тогда при смещениях, равных $5$, $0$ и $-5$, мы можем получить сдвинутые функции активации, что способствует лучшему обучению нейронной сети:"
   ]
  },
  {
   "cell_type": "markdown",
   "metadata": {},
   "source": [
    "<center><img src =\"https://edunet.kea.su/repo/EduNet_NLP-content/L03/out/sigmoid_with_different_biases.png\" width=\"700\"></center>"
   ]
  },
  {
   "cell_type": "markdown",
   "metadata": {},
   "source": [
    "## Библиотека PyTorch"
   ]
  },
  {
   "cell_type": "markdown",
   "metadata": {},
   "source": [
    "Практически вся наша работа c нейронными сетями будет осуществляться с помощью [PyTorch 🛠️[doc]](https://pytorch.org/), поэтому необходимо познакомиться с основными концептами, принципами и функциями этой библиотеки.\n",
    "\n",
    "Лучший друг в этом, конечно же, [документация 🛠️[doc]](https://pytorch.org/docs/stable/index.html), здесь же мы разберем только основные сущности и методы."
   ]
  },
  {
   "cell_type": "markdown",
   "metadata": {},
   "source": [
    "Класс `torch.Tensor` [🛠️[doc]](https://pytorch.org/docs/stable/tensors.html#torch.Tensor) предоставляет функциональность работы с многомерными массивами.\n",
    "\n",
    "Создание \"пустого\" тензора:"
   ]
  },
  {
   "cell_type": "code",
   "execution_count": null,
   "metadata": {},
   "outputs": [],
   "source": [
    "import torch\n",
    "\n",
    "a = torch.Tensor()"
   ]
  },
  {
   "cell_type": "markdown",
   "metadata": {},
   "source": [
    "Функция создания тензора из списка:"
   ]
  },
  {
   "cell_type": "code",
   "execution_count": null,
   "metadata": {},
   "outputs": [],
   "source": [
    "a = torch.tensor([1.1, 2.2, 3.2])\n",
    "a.dtype"
   ]
  },
  {
   "cell_type": "markdown",
   "metadata": {},
   "source": [
    "Явное указание типа данных:"
   ]
  },
  {
   "cell_type": "code",
   "execution_count": null,
   "metadata": {},
   "outputs": [],
   "source": [
    "a = torch.tensor([1.1, 2.2, 3.2], dtype=torch.float64)\n",
    "a.dtype"
   ]
  },
  {
   "cell_type": "markdown",
   "metadata": {},
   "source": [
    "Создание двумерного тензора, заполненного единицами (для нулей `zeros`)"
   ]
  },
  {
   "cell_type": "code",
   "execution_count": null,
   "metadata": {},
   "outputs": [],
   "source": [
    "a = torch.ones(size=(3, 2))\n",
    "a.size()"
   ]
  },
  {
   "cell_type": "markdown",
   "metadata": {},
   "source": [
    "Создание двумерного тензора, заполненного указанным значением\n"
   ]
  },
  {
   "cell_type": "code",
   "execution_count": null,
   "metadata": {},
   "outputs": [],
   "source": [
    "a = torch.full(size=(3, 2), fill_value=3.74)\n",
    "a"
   ]
  },
  {
   "cell_type": "markdown",
   "metadata": {},
   "source": [
    "Транспонирование (изменение порядка осей)"
   ]
  },
  {
   "cell_type": "code",
   "execution_count": null,
   "metadata": {},
   "outputs": [],
   "source": [
    "a = a.T\n",
    "a"
   ]
  },
  {
   "cell_type": "markdown",
   "metadata": {},
   "source": [
    "В библиотеке реализовано большое количество математических функций"
   ]
  },
  {
   "cell_type": "code",
   "execution_count": null,
   "metadata": {},
   "outputs": [],
   "source": [
    "c = torch.exp(a)\n",
    "print(\"Exponents tensor:\\n\", c)\n",
    "\n",
    "c += 1\n",
    "print(\"\\nAdd 1 to tensor:\\n\", c)"
   ]
  },
  {
   "cell_type": "markdown",
   "metadata": {},
   "source": [
    "Почти всё, что есть в NumPy, есть в PyTorch. Например, суммирование значений тензора с помощью `.sum()`:"
   ]
  },
  {
   "cell_type": "code",
   "execution_count": null,
   "metadata": {},
   "outputs": [],
   "source": [
    "c.sum()"
   ]
  },
  {
   "cell_type": "markdown",
   "metadata": {},
   "source": [
    "Перестановка, удаление и добавление пространственных измерений:"
   ]
  },
  {
   "cell_type": "code",
   "execution_count": null,
   "metadata": {},
   "outputs": [],
   "source": [
    "a = torch.zeros((2, 5, 1, 8))\n",
    "print(\"Original tensor size:\\n\", a.size())\n",
    "\n",
    "a = a.permute(dims=(2, 0, 3, 1))  # permute dimensions\n",
    "print(\"After permute tensor size:\\n\", a.size())\n",
    "\n",
    "a = a.squeeze()  # delete dimension\n",
    "print(\"After squzee tensor size:\\n\", a.size())\n",
    "\n",
    "a = a.unsqueeze(dim=0)  # add dimension\n",
    "print(\"After unsquzee tensor size:\\n\", a.size())"
   ]
  },
  {
   "cell_type": "markdown",
   "metadata": {},
   "source": [
    "Преобразование `torch.Tensor` в `np.ndarray`:"
   ]
  },
  {
   "cell_type": "code",
   "execution_count": null,
   "metadata": {},
   "outputs": [],
   "source": [
    "a.numpy()"
   ]
  },
  {
   "cell_type": "markdown",
   "metadata": {},
   "source": [
    "PyTorch позволяет тензору быть представлением (view) существующего тензора. Тензор представления использует те же данные, что и его базовый тензор. Поддержка `view` позволяет избежать явного копирования данных, что позволяет экономить память."
   ]
  },
  {
   "cell_type": "code",
   "execution_count": null,
   "metadata": {},
   "outputs": [],
   "source": [
    "a = torch.rand(2, 8)\n",
    "print(\"Original tensor:\\n\", a)\n",
    "\n",
    "b = a.view(4, 4)\n",
    "print(\"\\nTensor after view:\\n\", b)\n",
    "\n",
    "print(\"\\nTensor b uses the same memory space as tensor a:\")\n",
    "id(a[0, 0]) == id(b[0, 0])"
   ]
  },
  {
   "cell_type": "markdown",
   "metadata": {},
   "source": [
    "Размещение тензора на GPU:"
   ]
  },
  {
   "cell_type": "code",
   "execution_count": null,
   "metadata": {},
   "outputs": [],
   "source": [
    "device = torch.device(\"cuda\" if torch.cuda.is_available() else \"cpu\")\n",
    "print(f\"Cuda available: {torch.cuda.is_available()} \\n\")\n",
    "\n",
    "a = a.to(device)  # moving tensor to gpu\n",
    "b = torch.full_like(a, 2).to(device)\n",
    "c = a * b  # compute on gpu (more fast with parallel computing)\n",
    "c"
   ]
  },
  {
   "cell_type": "markdown",
   "metadata": {},
   "source": [
    "## Обучение нейронной сети"
   ]
  },
  {
   "cell_type": "markdown",
   "metadata": {},
   "source": [
    "Процесс обучения нейронных сетей состоит из двух этапов: прямого и обратного распространения."
   ]
  },
  {
   "cell_type": "markdown",
   "metadata": {},
   "source": [
    "Во время **прямого распространения** (forward pass) мы подаем на вход нейронной сети пример данных, сигналы проходят через наши слои, на каждом слое применяется **функция активации**. В конце производится расчет значений на выходе модели $y_{pred}$, которые передаются в функцию потерь $\\text{Loss}$ для сравнения с целевыми значениями $y_{true}$.\n",
    "\n",
    "$$\\large y_{pred}=\\text{model}(x, 𝐖)$$\n",
    "\n",
    "$$\\large L=\\text{Loss}(y_{true}, y_{pred})$$\n",
    "\n",
    "Значение функции потерь зависит от целевых значений $y_{true}$, входных данных $x$ и параметров модели $𝐖$.\n",
    "\n",
    "$$\\large L=\\text{Loss}(y_{true}, \\text{model}(x, 𝐖)) = f(y_{true}, x, 𝐖)$$"
   ]
  },
  {
   "cell_type": "markdown",
   "metadata": {},
   "source": [
    "<center><img src =\"https://edunet.kea.su/repo/EduNet_NLP-content/L03/out/forward_pass.png\" width=\"450\"></center>"
   ]
  },
  {
   "cell_type": "markdown",
   "metadata": {},
   "source": [
    "На этапе **обратного распространения (backward propagation)** осуществляется подсчет **градиента** функции потерь о обучаемым параметрам $\\nabla_𝐖L$. Это необходимо для **обновления** параметров модели."
   ]
  },
  {
   "cell_type": "markdown",
   "metadata": {},
   "source": [
    "<center><img src =\"https://edunet.kea.su/repo/EduNet_NLP-content/L03/out/backward_pass.png\" width=\"450\"></center>"
   ]
  },
  {
   "cell_type": "markdown",
   "metadata": {},
   "source": [
    "В рамках этой лекции мы подробно рассмотрим этапы прямого распространения (применение функции активации и функции потерь) и обратного распространения (метод обратного распространения ошибки)."
   ]
  },
  {
   "cell_type": "markdown",
   "metadata": {},
   "source": [
    "#  Функции активации"
   ]
  },
  {
   "cell_type": "markdown",
   "metadata": {},
   "source": [
    "Идея применения функций активации в структуре искусственных нейронных сетей обусловлена биологической аналогией. Известно, что в биологических нейронных сетях имеется аналог нелинейной функции активации: существует пороговый потенциал, только после достижения которого происходит возбуждение (активация) нейрона и, как следствие, распространение сигнала далее по нейронной сети.\n",
    "\n",
    "Именно таким простейшим образом ведёт себя пороговая функция активации, которая использовалась при построении первых искусственных нейронных сетей — перцептронов:\n",
    "\n",
    "$$\\large f(x) =\n",
    "\\begin{cases}\n",
    "0, &\\text{$x<b$} \\\\\n",
    "1, &\\text{$x\\geq b$}\n",
    "\\end{cases}\n",
    "$$"
   ]
  },
  {
   "cell_type": "markdown",
   "metadata": {},
   "source": [
    "<center><img src =\"https://edunet.kea.su/repo/EduNet_NLP-content/L03/out/threshold_function_plot.png\" width=\"300\"></center>"
   ]
  },
  {
   "cell_type": "markdown",
   "metadata": {},
   "source": [
    "##  Свойства функций активации"
   ]
  },
  {
   "cell_type": "markdown",
   "metadata": {},
   "source": [
    "Функции активации должны обладать следующими свойствами:\n",
    "\n",
    "* **Нелинейность:** функция активации необходима для введения нелинейности в нейронные сети. Если функция активации не применяется, выходной сигнал становится простой линейной функцией. Нейронная сеть $\\text{NN}$ без нелинейностей будет действовать как линейная модель с ограниченной способностью к обучению:\n",
    "$$\\large \\hat{y}=\\text{NN}(X,W_1,...,W_n)=X\\cdot W_1\\cdot ...\\cdot W_n=X\\cdot W$$\n",
    "Только нелинейные функции активации позволяют нейронным сетям решать задачи аппроксимации нелинейных функций:\n",
    "$$\\large \\hat{y}=\\text{NN}(X,W_1,...,W_n)=\\sigma(...\\sigma(X\\cdot W_1)...\\cdot W_n)\\neq X\\cdot W$$\n",
    "\n",
    "* **Дифференцируемость:** функции активации должны быть способными пропускать градиент, чтобы было возможно оптимизировать параметры сети градиентными методами, в частности использовать алгоритм обратного распространения ошибки."
   ]
  },
  {
   "cell_type": "markdown",
   "metadata": {},
   "source": [
    "Рассмотрим наиболее популярные функции активации и обсудим их преимущества и недостатки."
   ]
  },
  {
   "cell_type": "markdown",
   "metadata": {},
   "source": [
    "<center><img src =\"https://edunet.kea.su/repo/EduNet_NLP-web_dependencies/L03/popular_activation_functions.png\" width=\"700\"></center>\n",
    "\n",
    "<center><em>Источник: <a href=\"https://arxiv.org/pdf/1911.05187.pdf\">AI in Pursuit of Happiness, Finding Only Sadness: Multi-Modal Facial Emotion Recognition Challenge</a></em></center>"
   ]
  },
  {
   "cell_type": "markdown",
   "metadata": {},
   "source": [
    "## Логистическая функция"
   ]
  },
  {
   "cell_type": "markdown",
   "metadata": {},
   "source": [
    "Логистическая (сигмоидальная) функция — используется в задачах бинарной классификации, в основном после выхода последнего нейрона. Позволяет определить вероятность принадлежности к одному из двух классов (0 или 1)."
   ]
  },
  {
   "cell_type": "markdown",
   "metadata": {},
   "source": [
    "$$\\large \\sigma(x)=\\frac{1}{1+e^{-x}}$$"
   ]
  },
  {
   "cell_type": "markdown",
   "metadata": {},
   "source": [
    "<center><img src =\"https://edunet.kea.su/repo/EduNet_NLP-content/L03/out/sigmoid_function.png\" width=\"500\"></center>"
   ]
  },
  {
   "cell_type": "markdown",
   "metadata": {},
   "source": [
    "В отличие от пороговой функции активации, где у нейрона было всего два состояния: \"активирован\" или \"не активирован\", с логистической функцией для нейрона возможны значения \"активирован на $50\\%$\", \"активирован на $20\\%$\" и так далее. Если активированы несколько нейронов, можно найти нейрон с наибольшим значением активации."
   ]
  },
  {
   "cell_type": "markdown",
   "metadata": {},
   "source": [
    "[[doc] 🛠️ Сигмоидальная функция активации в PyTorch](https://pytorch.org/docs/stable/generated/torch.nn.Sigmoid.html):\n",
    "```python\n",
    "torch.nn.Sigmoid()\n",
    "```"
   ]
  },
  {
   "cell_type": "code",
   "execution_count": null,
   "metadata": {},
   "outputs": [],
   "source": [
    "import torch\n",
    "from torch import nn\n",
    "\n",
    "activation = nn.Sigmoid()\n",
    "input_values = torch.randn(5) * 5\n",
    "activation_sig = activation(input_values)\n",
    "print(f\"input_values: {input_values}\\nactivation_sig: {activation_sig}\")"
   ]
  },
  {
   "cell_type": "markdown",
   "metadata": {},
   "source": [
    "Значения логистической функции активации лежат в интервале от 0 до 1, что делает ее полезной для моделирования вероятностных величин. Значения сигмоиды можно интерпретировать как вероятности, что делает ее полезной в задачах бинарной, а также многозначной (multilabel) классификации."
   ]
  },
  {
   "cell_type": "markdown",
   "metadata": {},
   "source": [
    "##  Гиперболический тангенс"
   ]
  },
  {
   "cell_type": "markdown",
   "metadata": {},
   "source": [
    "Гиперболический тангенс схож с логистической функцией. Он определяется следующей формулой:"
   ]
  },
  {
   "cell_type": "markdown",
   "metadata": {},
   "source": [
    "$$\\large \\tanh(x)=\\frac{e^x - e^{-x}}{e^x+e^{-x}}$$"
   ]
  },
  {
   "cell_type": "markdown",
   "metadata": {},
   "source": [
    "*КАРТИНКА tanh_function.png*\n",
    "\n",
    "*Исходник: EduNet-content/dev-2.1/L05/out/activation_function_tanh.png*\n",
    "\n",
    "*Нужно оставить только левый график tanh function, а правый график tanh derivative убрать*\n",
    "\n",
    "*Должно получиться аналогично картинке sigmoid_function.png*"
   ]
  },
  {
   "cell_type": "markdown",
   "metadata": {},
   "source": [
    "<center><img src =\"https://edunet.kea.su/repo/EduNet-content/dev-2.1/L05/out/activation_function_tanh.png\" width=\"1000\"></center>"
   ]
  },
  {
   "cell_type": "markdown",
   "metadata": {},
   "source": [
    "Значения гиперболического тангенса лежат в интервале от $-1$ до $1$, что обеспечивает симметричность относительно нуля. Гиперболический тангенс применяют в основном в скрытых слоях нейронных сетей для моделирования нелинейных зависимостей в данных."
   ]
  },
  {
   "cell_type": "markdown",
   "metadata": {},
   "source": [
    "[[doc] 🛠️ Гиперболический тангенс в PyTorch](https://pytorch.org/docs/stable/generated/torch.nn.Tanh.html):\n",
    "```python\n",
    "torch.nn.Tanh()\n",
    "```"
   ]
  },
  {
   "cell_type": "code",
   "execution_count": null,
   "metadata": {},
   "outputs": [],
   "source": [
    "activation = nn.Tanh()\n",
    "input_values = torch.tensor([11.1529, 4.3029, 0.5081, -3.8456, -1.9058])\n",
    "activation_tanh = activation(input_values)\n",
    "print(f\"input_values: {input_values}\\nactivation_tanh: {activation_tanh}\")"
   ]
  },
  {
   "cell_type": "markdown",
   "metadata": {},
   "source": [
    "##  ReLU"
   ]
  },
  {
   "cell_type": "markdown",
   "metadata": {},
   "source": [
    "Часто на практике применяется функция активации ReLU. Значение данной функции равно нулю для всех отрицательных входных значений и равно входному значению, если оно неотрицательно. Название ReLU (Rectified Linear Unit), \"выпрямитель\", связано с электротехнической аналогией."
   ]
  },
  {
   "cell_type": "markdown",
   "metadata": {},
   "source": [
    "$$\\large \\text{ReLU}(x)=\\max(0,x)$$"
   ]
  },
  {
   "cell_type": "markdown",
   "metadata": {},
   "source": [
    "*КАРТИНКА relu_function.png*\n",
    "\n",
    "*Исходник: EduNet-content/dev-2.1/L05/out/activation_function_relu.png*\n",
    "\n",
    "*Нужно оставить только левый график ReLU function, а правый график ReLU derivative убрать*\n",
    "\n",
    "*Должно получиться аналогично картинке sigmoid_function.png*"
   ]
  },
  {
   "cell_type": "markdown",
   "metadata": {},
   "source": [
    "<center><img src =\"https://edunet.kea.su/repo/EduNet-content/dev-2.1/L05/out/activation_function_relu.png\" width=\"1000\"></center>"
   ]
  },
  {
   "cell_type": "markdown",
   "metadata": {},
   "source": [
    "[[doc] 🛠️ ReLU в PyTorch](https://pytorch.org/docs/stable/generated/torch.nn.ReLU.html):\n",
    "```python\n",
    "torch.nn.ReLU()\n",
    "```"
   ]
  },
  {
   "cell_type": "code",
   "execution_count": null,
   "metadata": {},
   "outputs": [],
   "source": [
    "activation = nn.ReLU()\n",
    "input_values = torch.randn(5)\n",
    "activation_relu = activation(input_values)\n",
    "print(f\"input_values: {input_values}\\nactivation_relu: {activation_relu}\")"
   ]
  },
  {
   "cell_type": "markdown",
   "metadata": {},
   "source": [
    "Значения ReLU лежат в диапазоне $[0, + \\infty)$. Все отрицательные значения обнуляются, а положительные значения остаются без изменений. Нейроны с отрицательными входами имеют нулевой градиент и могут остановить обновление своих весов.\n",
    "\n",
    "Функцию активации ReLU применяют в нейронных сетях в основном в скрытых слоях. Она широко используется во многих архитектурах, доказавших свою эффективность на практике."
   ]
  },
  {
   "cell_type": "markdown",
   "metadata": {},
   "source": [
    "## Leaky ReLU"
   ]
  },
  {
   "cell_type": "markdown",
   "metadata": {},
   "source": [
    "Leaky ReLU (ReLU с «утечкой», название также обусловлено электротехнической аналогией) является простейшей модификацией описанной выше ReLU, призванной исправить проблему \"умирания\" отдельных нейронов. В отличие от ReLU, данная функция не равна константе $0$ при всех отрицательных входных значениях, а реализует в этой области линейную зависимость с небольшим угловым коэффициентом (например, с угловым коэффициентом $10^{-2}$)."
   ]
  },
  {
   "cell_type": "markdown",
   "metadata": {},
   "source": [
    "$$\\large \\text{LeakyReLU}(x, \\alpha)=\\max(\\alpha x,x), \\ \\ \\ \\alpha<1$$"
   ]
  },
  {
   "cell_type": "markdown",
   "metadata": {},
   "source": [
    "*КАРТИНКА leaky_relu_function.png*\n",
    "\n",
    "*Исходник: EduNet-content/dev-2.1/L05/out/activation_function_leaky_relu.png*\n",
    "\n",
    "*Нужно оставить только левый график LeakyReLU function, а правый график LeakyReLU derivative убрать*\n",
    "\n",
    "*Должно получиться аналогично картинке sigmoid_function.png*"
   ]
  },
  {
   "cell_type": "markdown",
   "metadata": {},
   "source": [
    "<center><img src =\"https://edunet.kea.su/repo/EduNet-content/dev-2.1/L05/out/activation_function_leaky_relu.png\" width=\"1000\"></center>"
   ]
  },
  {
   "cell_type": "markdown",
   "metadata": {},
   "source": [
    "[[doc] 🛠️ Leaky ReLU в PyTorch](https://pytorch.org/docs/stable/generated/torch.nn.LeakyReLU.html):\n",
    "```python\n",
    "torch.nn.LeakyReLU()\n",
    "```"
   ]
  },
  {
   "cell_type": "code",
   "execution_count": null,
   "metadata": {},
   "outputs": [],
   "source": [
    "activation = nn.LeakyReLU(0.01)\n",
    "input_values = torch.randn(5)\n",
    "activation_lrelu = activation(input_values)\n",
    "print(f\"input_values: {input_values}\\nactivation_lrelu: {activation_lrelu}\")"
   ]
  },
  {
   "cell_type": "markdown",
   "metadata": {},
   "source": [
    "Значения LeakyReLU лежат в диапазоне $(-\\infty, +\\infty)$. Использование ненулевого наклона для отрицательных значений помогает избежать проблемы \"умерших нейронов\", которая возникает при использовании обычной ReLU. Однако необходимо выбирать значение для наклона отрицательной части, что может потребовать дополнительного подбора и настройки.\n",
    "\n",
    "Функцию активации LeakyReLU применяют в нейронных сетях в основном в скрытых слоях для предотвращения проблемы \"умерших\" нейронов, особенно в глубоких архитектурах."
   ]
  },
  {
   "cell_type": "markdown",
   "metadata": {},
   "source": [
    "##  GELU (Gaussian Error Linear Unit)"
   ]
  },
  {
   "cell_type": "markdown",
   "metadata": {},
   "source": [
    "Функция активации, используемая в трансформерах: Google BERT и OpenAI GPT-2."
   ]
  },
  {
   "cell_type": "markdown",
   "metadata": {},
   "source": [
    "$$\\large \\text{GELU}(x)=xP(X\\leq x)=x\\Phi(x)=x\\cdot \\frac{1}{2}[1+erf(\\frac{x}{\\sqrt{2}})]$$\n",
    "\n",
    "$$\\large erf(x)=\\frac{2}{\\sqrt{\\pi}}\\int_0^xe^{-t^2}dt$$\n"
   ]
  },
  {
   "cell_type": "markdown",
   "metadata": {},
   "source": [
    "На практике GELU может быть приблизительно вычислена так:\n",
    "$$\\large \\text{GELU}(x)\\approx 0.5x(1+\\tanh[\\sqrt{2/\\pi}(x+0.044715x^3)])$$\n",
    "\n",
    "или\n",
    "\n",
    "$$\\large \\text{GELU}(x) \\approx x\\cdot \\sigma(1.702x)$$"
   ]
  },
  {
   "cell_type": "markdown",
   "metadata": {},
   "source": [
    "*КАРТИНКА gelu_function.png*\n",
    "\n",
    "*Исходник: EduNet-content/dev-2.1/L05/out/activation_function_gelu.png*\n",
    "\n",
    "*Нужно оставить только левый график GELU function, а правый график GELU derivative убрать*\n",
    "\n",
    "*Должно получиться аналогично картинке sigmoid_function.png*"
   ]
  },
  {
   "cell_type": "markdown",
   "metadata": {},
   "source": [
    "<center><img src =\"https://edunet.kea.su/repo/EduNet-content/dev-2.1/L05/out/activation_function_gelu.png\" width=\"1000\"></center>"
   ]
  },
  {
   "cell_type": "markdown",
   "metadata": {},
   "source": [
    "[[doc] 🛠️ GELU в PyTorch](https://pytorch.org/docs/stable/generated/torch.nn.GELU.html):\n",
    "```python\n",
    "torch.nn.GELU()\n",
    "```"
   ]
  },
  {
   "cell_type": "code",
   "execution_count": null,
   "metadata": {},
   "outputs": [],
   "source": [
    "activation = nn.GELU()\n",
    "input_values = torch.randn(5) * 5\n",
    "activation_gelu = activation(input_values)\n",
    "print(f\"input_values: {input_values}\\nactivation_gelu: {activation_gelu}\")"
   ]
  },
  {
   "cell_type": "markdown",
   "metadata": {},
   "source": [
    "#  Функции потерь (loss functions)"
   ]
  },
  {
   "cell_type": "markdown",
   "metadata": {},
   "source": [
    "Предположим, у нас есть нейронная сеть с некоторыми весами. Прежде всего мы должны понять, насколько она точна, то есть насколько наши ожидания соответствуют результату работы нейронной сети. Мы подали на вход нейронной сети пример данных, сигналы прошли через наши слои и функции активации вперёд **(forward propagation)**, и на выходе мы имеем предсказание. Как оценить его точность?"
   ]
  },
  {
   "cell_type": "markdown",
   "metadata": {},
   "source": [
    "Для оценки соответствия полученного результата ожидаемому используют функцию потерь (loss function). Значение функции потерь даёт количественную оценку величины такого соответствия.\n",
    "\n",
    "Функция потерь в нейронной сети принимает два аргумента:\n",
    "* вектор значений, который мы считаем априорно верным;\n",
    "* вектор значений конечных выходов модели, который должен соответствовать априорно верному.\n",
    "\n",
    "[[doc] 🛠️ Функции потерь в PyTorch](https://pytorch.org/docs/stable/nn.html#loss-functions)"
   ]
  },
  {
   "cell_type": "markdown",
   "metadata": {},
   "source": [
    "###  Cross-Entropy"
   ]
  },
  {
   "cell_type": "markdown",
   "metadata": {},
   "source": [
    "Кросс-энтропия — классическая функция потерь **при решении задач классификации**. Возникновение такой формы измерения различия между целевой переменной и предсказанием модели в задаче классификации мы уже рассматривали на лекции про линейные классификаторы. Напомним здесь формулу, по которой она рассчитывается."
   ]
  },
  {
   "cell_type": "markdown",
   "metadata": {},
   "source": [
    "Для $i$-го объекта выборки, если выходной вектор состоит из $C$ компонент (**логитов** для $C$ классов), кросс-энтропия между выходом модели $\\hat{y}$ и целевым вектором $y$ будет равна\n",
    "\n",
    "$$\\large \\text{CE}_i(\\hat{y},y)= - \\sum_{k=1}^{C}{y_{ik}\\cdot\\log\\left(\\frac{\\exp(\\hat{y}_{ik})}{\\sum_{j=1}^{C}\\exp(\\hat{y}_{ij})}\\right)}$$\n",
    "\n",
    "При вычислении по всему набору данных (или по мини-батчу) из $N$ объектов ошибка на отдельных объектах усредняется:\n",
    "\n",
    "$$\\large \\text{CE}=\\frac{1}{N}\\sum_{i=1}^{N}\\text{CE}_i$$\n"
   ]
  },
  {
   "cell_type": "markdown",
   "metadata": {},
   "source": [
    "[[doc] 🛠️ Cross-Entropy Loss в PyTorch](https://pytorch.org/docs/stable/generated/torch.nn.CrossEntropyLoss.html#torch.nn.CrossEntropyLoss):\n",
    "```python\n",
    "torch.nn.CrossEntropyLoss()\n",
    "```\n",
    "\n",
    "Обратите внимание, что Cross-Entropy Loss в PyTorch уже включает в себя Softmax и принимает в качестве выхода модели логиты. Поэтому при использовании данной фукции потерь ставить на последнем слое нейронной сети Softmax **не нужно**."
   ]
  },
  {
   "cell_type": "code",
   "execution_count": null,
   "metadata": {},
   "outputs": [],
   "source": [
    "import torch\n",
    "from torch import nn\n",
    "\n",
    "criterion = nn.CrossEntropyLoss()\n",
    "\n",
    "\n",
    "# fmt: off\n",
    "model_output = torch.tensor([[2.4, 1.9, 7.3],\n",
    "                             [9.5, 2.7, 4.0],\n",
    "                             [5.7, 4.1, 0.2]])  # logits\n",
    "# fmt: on\n",
    "\n",
    "print(f\"model_output:\\n {model_output}\")\n",
    "\n",
    "target = torch.tensor([2, 0, 1], dtype=torch.long)  # class labels\n",
    "print(f\"target: {target}\")\n",
    "\n",
    "loss_ce = criterion(model_output, target)\n",
    "print(f\"loss_ce: {loss_ce}\")"
   ]
  },
  {
   "cell_type": "markdown",
   "metadata": {},
   "source": [
    "$$\\text{CE}_1 = - \\log\\left(\\frac{\\exp{(7.3)}}{\\exp{(2.4)}+\\exp{(1.9)}+\\exp{(7.3)}}\\right)$$\n",
    "\n",
    "$$\\text{CE}_2 = - \\log\\left(\\frac{\\exp{(9.5)}}{\\exp{(9.5)}+\\exp{(2.7)}+\\exp{(4.0)}}\\right)$$\n",
    "\n",
    "$$\\text{CE}_3 = - \\log\\left(\\frac{\\exp{(4.1)}}{\\exp{(5.7)}+\\exp{(4.1)}+\\exp{(0.2)}}\\right)$$\n",
    "\n",
    "$$\\text{CE} = \\frac{1}{3}(\\text{CE}_1 + \\text{CE}_2 + \\text{CE}_3)$$"
   ]
  },
  {
   "cell_type": "code",
   "execution_count": null,
   "metadata": {},
   "outputs": [],
   "source": [
    "import numpy as np\n",
    "\n",
    "ce_1 = -np.log(np.exp(7.3) / (np.exp(2.4) + np.exp(1.9) + np.exp(7.3)))\n",
    "ce_2 = -np.log(np.exp(9.5) / (np.exp(9.5) + np.exp(2.7) + np.exp(4.0)))\n",
    "ce_3 = -np.log(np.exp(4.1) / (np.exp(5.7) + np.exp(4.1) + np.exp(0.2)))\n",
    "\n",
    "ce = (1 / 3) * (ce_1 + ce_2 + ce_3)\n",
    "print(f\"hand-calculated loss_ce: {ce}\")"
   ]
  },
  {
   "cell_type": "markdown",
   "metadata": {},
   "source": [
    "* **Преимущества:** Важное свойство кросс-энтропии — возможность работать с весами для классов, а значит и возможность применения этой функции потерь при работе с несбалансированным датасетом."
   ]
  },
  {
   "cell_type": "markdown",
   "metadata": {},
   "source": [
    "#### Веса классов\n",
    "\n",
    "При работе с несбалансированными классами модель будет чаще сталкиваться с доминирующим классом и вместо того, чтобы разбираться в признаках объектов, может начать ориентироваться на статистическое распределение классов.\n",
    "\n",
    "Пример: датасет, в котором $95\\%$ объектов относятся к классу $1$ и $5\\%$ — к классу $0$. Модель может выучиться всегда относить объекты к классу $1$, и в $95\\%$ случаях она будет права.\n",
    "\n",
    "В случае дисбаланса классов в задаче классификации можно изменить функцию потерь так, чтобы больше штрафовать модель за ошибки в минорных классах.\n",
    "\n",
    "В `CrossEntropyLoss` [🛠️[doc]](https://pytorch.org/docs/stable/generated/torch.nn.CrossEntropyLoss.html) в PyTorch  есть параметр `weight`, который имеет по умолчанию значение `None`. В него можно передать тензор весов **размером с количество классов** и получить взвешенную функцию потерь."
   ]
  },
  {
   "cell_type": "markdown",
   "metadata": {},
   "source": [
    "Посмотрим, как это работает. Допустим, мы получили от нейросети неверные предсказания: второй объект должен относиться к классу $1$, а не $0$:"
   ]
  },
  {
   "cell_type": "code",
   "execution_count": null,
   "metadata": {},
   "outputs": [],
   "source": [
    "# fmt: off\n",
    "# Scores for batch of two samples\n",
    "model_output = torch.tensor([[30.0, 2.0],\n",
    "                             [30.0, 2.0]])\n",
    "\n",
    "target = torch.tensor([0, 1])  # Second sample belongs to class 1\n",
    "# but logit for class 0 is greater: 30 > 2. So it was misclassified\n",
    "# fmt: on"
   ]
  },
  {
   "cell_type": "markdown",
   "metadata": {},
   "source": [
    "Подсчитаем Cross-Entropy Loss без весов:"
   ]
  },
  {
   "cell_type": "markdown",
   "metadata": {},
   "source": [
    "$$\\large \\text{CE} = \\frac{1}{2} \\biggr[- \\log\\frac{e^{30}}{e^{30}+e^{2}} - \\log\\frac{e^{2}}{e^{30}+e^{2}}\\biggr]\\approx 14.0 $$"
   ]
  },
  {
   "cell_type": "code",
   "execution_count": null,
   "metadata": {},
   "outputs": [],
   "source": [
    "criterion = torch.nn.CrossEntropyLoss()\n",
    "loss = criterion(model_output, target)\n",
    "print(f\"Loss = {loss.item():.2f}\")"
   ]
  },
  {
   "cell_type": "markdown",
   "metadata": {},
   "source": [
    "Если у нас есть два класса с соотношением $4:1$, можно задать веса `weight = [0.2, 0.8]`. И, так как сеть ошиблась на классе с большим весом, ошибка вырастет:"
   ]
  },
  {
   "cell_type": "markdown",
   "metadata": {},
   "source": [
    "$$\\large \\text{CE}_{\\text{weighted}} =  \\biggr[\\mathbf{-0.2} \\log\\frac{e^{30}}{e^{30}+e^{2}} -\\mathbf{0.8} \\log\\frac{e^{2}}{e^{30}+e^{2}}\\biggr]\\approx 22.4 $$"
   ]
  },
  {
   "cell_type": "code",
   "execution_count": null,
   "metadata": {},
   "outputs": [],
   "source": [
    "weights = torch.tensor([0.2, 0.8])\n",
    "criterion = torch.nn.CrossEntropyLoss(weight=weights)\n",
    "loss = criterion(model_output, target)\n",
    "print(f\"Loss = {loss.item():.2f}\")"
   ]
  },
  {
   "cell_type": "markdown",
   "metadata": {},
   "source": [
    "Сумма весов не обязана быть равной единице, важно только соотношение между весами. Часто соотношение весов делают обратно пропорциональным количеству объектов в классах."
   ]
  },
  {
   "cell_type": "code",
   "execution_count": null,
   "metadata": {},
   "outputs": [],
   "source": [
    "criterion = torch.nn.CrossEntropyLoss(weight=torch.tensor([1.0, 4.0]))\n",
    "loss = criterion(model_output, target)\n",
    "print(f\"Loss = {loss.item():.2f}\")"
   ]
  },
  {
   "cell_type": "markdown",
   "metadata": {},
   "source": [
    "- Иногда качество модели можно улучшить, взяв квадратные корни от полученных таким образом весов (немного снижает штрафы за ошибки на редких классах).\n",
    "\n",
    "- Несмотря на интуитивно понятную логику работы способа, он не всегда дает значительный эффект. Тем не менее, на практике стоит пробовать экспериментировать с этим способом наряду с прочими техниками борьбы с дисбалансом."
   ]
  },
  {
   "cell_type": "markdown",
   "metadata": {},
   "source": [
    "### Negative Log Likelihood\n"
   ]
  },
  {
   "cell_type": "markdown",
   "metadata": {},
   "source": [
    "Еще одной функцией потерь, которая может использоваться при решении задач классификации наряду с Cross-Entropy Loss и может встречаться при работе в PyTorch, является обратный логарифм правдоподобия (Negative Log Likelihood Loss, NLL Loss).\n",
    "\n",
    "Данная функция потерь отличается от Cross-Entropy Loss тем, что в качестве выхода модели она ожидает **не логиты**, а **логарифмы вероятностей для классов**."
   ]
  },
  {
   "cell_type": "markdown",
   "metadata": {},
   "source": [
    "Для $i$-го объекта выборки, если выходной вектор состоит из $C$ компонент (**логарифмов вероятностей** для $C$ классов), обратный логарифм правдоподобия между выходом модели $\\hat{y}$ и целевым вектором $y$ будет равен:\n",
    "\n",
    "$$\\large \\text{NLL}_i(\\hat{y},y)= - \\sum_{k=1}^{C}{y_{ik}\\cdot\\hat{y}_{ik}}$$\n",
    "\n",
    "При вычислении по всему набору данных (или по мини-батчу) из $N$ объектов ошибка на отдельных объектах усредняется:\n",
    "\n",
    "$$\\large \\text{NLL}=\\frac{1}{N}\\sum_{i=1}^{N}\\text{NLL}_i$$\n"
   ]
  },
  {
   "cell_type": "markdown",
   "metadata": {},
   "source": [
    "Для того, чтобы пользоваться NLL Loss при решении задачи классификации, к логитам, которые выдает модель, необходимо дополнительно применять Softmax и брать от результата натуральный логарифм, и уже результат такого вычисления передавать в NLL Loss. В PyTorch вычисление логарифма от результата применения Softmax к логитам реализовано в модуле `LogSoftmax` [🛠️[doc]](https://pytorch.org/docs/stable/generated/torch.nn.LogSoftmax.html). Взаимоотношение между NLL Loss и Cross-Entropy Loss можно выразить следующей иллюстрацией:"
   ]
  },
  {
   "cell_type": "markdown",
   "metadata": {},
   "source": [
    "<center><img src=\"https://edunet.kea.su/repo/EduNet_NLP-content/L03/out/ce_loss_vs_nll_loss.png\" width=\"900\"></center>"
   ]
  },
  {
   "cell_type": "code",
   "execution_count": null,
   "metadata": {},
   "outputs": [],
   "source": [
    "criterion = nn.NLLLoss()\n",
    "logsoftmax = nn.LogSoftmax(dim=1)\n",
    "\n",
    "print(f\"model_output:\\n {model_output}\")\n",
    "\n",
    "logprobs = logsoftmax(model_output)\n",
    "print(f\"logprobs:\\n {logprobs}\")\n",
    "\n",
    "print(f\"target: {target}\")\n",
    "\n",
    "loss_nll = criterion(logprobs, target)\n",
    "print(f\"loss_nll: {loss_nll}\")"
   ]
  },
  {
   "cell_type": "markdown",
   "metadata": {},
   "source": [
    "Двойственность NLL Loss и Cross-Entropy Loss может немного путать. Она возникла из-за того, что NLL Loss была исторически раньше реализована в библиотеке. Было принято на выходе модели ставить LogSoftmax, и использовать NLL Loss. Позднее была реализована функция Cross-Entropy Loss, которая включала в себя одновременно LogSoftmax и NLL Loss и позволяла не добавлять в модель лишний модуль. За счет такого упрощения использование Cross-Entropy Loss быстро стало более популярно. Реализацию NLL Loss, по всей видимости, оставили в библиотеке скорее для обратной совместимости."
   ]
  },
  {
   "cell_type": "markdown",
   "metadata": {},
   "source": [
    "Еще одним важным вытекающим отличием в использовании NLL Loss и Cross-Entropy Loss является следующее. После обучения модели мы хотим пользоваться ей по назначению — для классификации. Иногда нам хочется, чтобы мы могли смотреть на выходы модели как на вероятности отнесения объектов к различным классам.\n",
    "\n",
    "* При использовании связки LogSoftmax + NLL Loss на выходе модели имеем логарифмы от вероятностей, и для получения самих вероятностей мы должны взять экспоненту от выхода модели.\n",
    "\n",
    "* При использовании Cross-Entropy Loss на выходе модели имеем логиты, и для получения вероятностей мы должны применить Softmax-преобразование."
   ]
  },
  {
   "cell_type": "markdown",
   "metadata": {},
   "source": [
    "[[blog] ✏️ Объяснение Negative Log Likelihood Loss](https://ljvmiranda921.github.io/notebook/2017/08/13/softmax-and-the-negative-log-likelihood/)\n",
    "\n",
    "[[blog] ✏️ О соотношении Cross-Entropy Loss и Negative Log Likelihood Loss](https://jamesmccaffrey.wordpress.com/2020/06/11/pytorch-crossentropyloss-vs-nllloss-cross-entropy-loss-vs-negative-log-likelihood-loss/)"
   ]
  },
  {
   "cell_type": "markdown",
   "metadata": {},
   "source": [
    "###  Binary Cross-Entropy"
   ]
  },
  {
   "cell_type": "markdown",
   "metadata": {},
   "source": [
    "В частном случае, когда количество классов равно двум (**задача бинарной классификации**), их можно закодировать одним числом: $0$ — для первого класса, и $1$ — для второго. Тогда сумму $\\displaystyle \\sum_{k=1}^{C}$ в формуле Cross-Entropy Loss можно расписать в явном виде."
   ]
  },
  {
   "cell_type": "markdown",
   "metadata": {},
   "source": [
    "Для $i$-го объекта выборки, когда выход модели является скаляром (**вероятностью** отнесения объекта к классу $1$), бинарная кросс-энтропия между выходом модели $\\hat{y}$  и целевым значением $y$ будет равна\n",
    "\n",
    "$$\\text{BCE}_i(\\hat{y},y)= - [{y_i\\cdot\\log(\\hat{y_i})+(1-y_i)\\cdot\\log(1-\\hat{y_i})}]$$\n",
    "\n",
    "При вычислении по всему набору данных (или по мини-батчу) из $N$ объектов ошибка на отдельных объектах усредняется:\n",
    "\n",
    "$$\\text{BCE}=\\frac{1}{N}\\sum_{i=1}^{N}\\text{BCE}_i$$"
   ]
  },
  {
   "cell_type": "markdown",
   "metadata": {},
   "source": [
    "[[doc] 🛠️ Binary Cross-Entropy Loss в PyTorch](https://pytorch.org/docs/stable/generated/torch.nn.BCELoss.html#torch.nn.BCELoss):\n",
    "\n",
    "```python\n",
    "torch.nn.BCELoss()\n",
    "```\n",
    "\n"
   ]
  },
  {
   "cell_type": "markdown",
   "metadata": {},
   "source": [
    "Важной особенностью BCE Loss является то, что здесь используется не one-hot кодирование целевых значений для двух классов, а **одно число: 0 — первый класс, 1 — второй класс.** При этом значения целевой переменной должны быть представлены как вещественные (float) числа."
   ]
  },
  {
   "cell_type": "code",
   "execution_count": null,
   "metadata": {},
   "outputs": [],
   "source": [
    "criterion = nn.BCELoss()\n",
    "\n",
    "model_output = torch.rand(1)\n",
    "print(f\"model_output: {model_output}\")\n",
    "\n",
    "target = torch.empty(1).random_(2)\n",
    "print(f\"target: {target}\")\n",
    "\n",
    "loss_bce = criterion(model_output, target)\n",
    "print(f\"loss_bce: {loss_bce}\")"
   ]
  },
  {
   "cell_type": "markdown",
   "metadata": {},
   "source": [
    "### Binary Cross-Entropy With Logits"
   ]
  },
  {
   "cell_type": "markdown",
   "metadata": {},
   "source": [
    "Для того, чтобы выход модели при бинарной классификации представлял собой **вероятность отнесения объекта к классу $1$**, на выходе модели мы должны использовать логистическую функцию (sigmoid), результат которой можно будет передать в BCE Loss.\n",
    "\n",
    "По аналогии с NLL Loss и Cross-Entropy Loss, у BCE Loss есть своя \"пара\": BCE With Logits Loss. Эта функция потерь совмещает в себе две операции:\n",
    "\n",
    "* применение логистической функции Sigmoid,\n",
    "* расчет BCE Loss.\n",
    "\n",
    "Как можно понять из названия, BCE With Logits Loss на вход ожидает логиты. Взаимоотношение между BCE Loss и BCE With Logits Loss можно отобразить такой иллюстрацией:"
   ]
  },
  {
   "cell_type": "markdown",
   "metadata": {},
   "source": [
    "<center><img src=\"https://edunet.kea.su/repo/EduNet_NLP-content/L03/out/bce_loss_vs_bce_with_logits_loss.png\" width=\"900\"></center>"
   ]
  },
  {
   "cell_type": "markdown",
   "metadata": {},
   "source": [
    "Функцию потерь BCE Loss (или ее \"аналог\" BCE With Logits Loss) можно применять не только в случае бинарной классификации, но и **в случае Multi-label классификации**.\n",
    "\n",
    "В таком случае в векторе целевых значений вероятностей для каждого объекта может быть больше, чем одна единица. А логиты на последнем слое сети независимо пропускаются через сигмоиду (а не через Softmax, как в случае с многоклассовой классификацией)."
   ]
  },
  {
   "cell_type": "markdown",
   "metadata": {},
   "source": [
    "#  Метод обратного распространения ошибки"
   ]
  },
  {
   "cell_type": "markdown",
   "metadata": {},
   "source": [
    "Для эффективного численного расчета градиента функции потерь по обучаемым параметрам модели применяется **метод обратного распространения ошибки (backpropagation)**. Благодаря данному методу становится практически возможным использование метода градиентного спуска для проведения процедуры обучения."
   ]
  },
  {
   "cell_type": "markdown",
   "metadata": {},
   "source": [
    "Метод обратного распространения ошибки использует структуру многослойной нейронной сети как сложной функции, применяя правило дифференцирования сложной функции для вычисления градиента от функции потерь по весам сети. Градиент от функции потерь вычисляется при движении по нейронной сети от её выходов в направлении входов. Именно такой порядок обхода вычислительного графа и обуславливает название метода."
   ]
  },
  {
   "cell_type": "markdown",
   "metadata": {},
   "source": [
    "## Вычислительный граф"
   ]
  },
  {
   "cell_type": "markdown",
   "metadata": {},
   "source": [
    "По существу, нейронная сеть является сложной функцией, работу которой можно представить как последовательное выполнение математических операций. Такое представление функций называется [вычислительным графом ✏️[blog]](https://qudata.com/ml/ru/ML_Comp_Graph.html)."
   ]
  },
  {
   "cell_type": "markdown",
   "metadata": {},
   "source": [
    "<center><img src =\"https://edunet.kea.su/repo/EduNet-content/dev-2.1/L05/out/nn_fully_connected.png\"  width=\"500\"></center>"
   ]
  },
  {
   "cell_type": "markdown",
   "metadata": {},
   "source": [
    "Алгоритм обратного распространения ошибки позволяет находить градиенты для любого графа вычислений, если описываемая им функция дифференцируема.\n",
    "\n",
    "В его основе лежит правило взятия производной сложной функции (chain rule):"
   ]
  },
  {
   "cell_type": "markdown",
   "metadata": {},
   "source": [
    "Одна переменная:\n",
    "\n",
    "$$\\large y(x) = f(u(g(x))) $$\n",
    "\n",
    "$$\\large \\frac{dy}{dx} = \\frac{df}{du} \\frac{du}{dg} \\frac{dg}{dx}$$"
   ]
  },
  {
   "cell_type": "markdown",
   "metadata": {},
   "source": [
    "Несколько переменных:\n",
    "\n",
    "$$\\large y(x) = f(u_1(x),u_2(x),...u_n(x))$$\n",
    "\n",
    "$$\\large \\frac{dy}{dx} = \\sum_{i=1}^{n} \\frac{\\partial f(u_1, u_2, ... u_n)}{\\partial u_i} \\frac{du_i}{dx}$$\n",
    "\n",
    "$$\\large \\underbrace{\\frac{d}{dx} f(\\vec{\\mathbf{u}}(x))}_{\\text{Derivative of composition function}} = \\overbrace{\\nabla_{\\vec{u}} f \\cdot \\vec{\\mathbf{u}}'(x)}^{\\text{Dot product of vectors}}$$"
   ]
  },
  {
   "cell_type": "markdown",
   "metadata": {},
   "source": [
    "##  Пошаговый разбор метода обратного распространения"
   ]
  },
  {
   "cell_type": "markdown",
   "metadata": {},
   "source": [
    "Пусть в каком-то узле графа производится вычисление\n",
    "\n",
    "$$\\large z = f(x, y),$$\n",
    "\n",
    "и далее результат вычисления $\\large z$ используется для вычисления функции $\\large L(z)=L(f(x, y))$.\n",
    "\n",
    "Тогда правило вычисления производных $\\dfrac{\\partial L}{\\partial x}$ и $\\dfrac{\\partial L}{\\partial y}$ можно представить следующим образом:"
   ]
  },
  {
   "cell_type": "markdown",
   "metadata": {},
   "source": [
    "<center><img src =\"https://edunet.kea.su/repo/EduNet-content/dev-2.1/L05/out/rule_for_taking_gradients.png\"  width=\"500\"></center>"
   ]
  },
  {
   "cell_type": "markdown",
   "metadata": {},
   "source": [
    "Рассмотрим следующую функцию:\n",
    "\n",
    "$$\\Large f(w,x)=\\frac{1}{1+e^{-(w_0x_0+w_1x_1+w_2)}}$$\n",
    "\n",
    "Представим ее в виде вычислительного графа, состоящего из элементарных операций, от которых просто берутся производные:"
   ]
  },
  {
   "cell_type": "markdown",
   "metadata": {},
   "source": [
    "<center><img src =\"https://edunet.kea.su/repo/EduNet-content/dev-2.1/L05/out/graph_of_calculation_gradient.png\"  width=\"700\"></center>"
   ]
  },
  {
   "cell_type": "markdown",
   "metadata": {},
   "source": [
    "На примере данной функции рассмотрим алгоритм обратного распространения ошибки и найдём величину её градиента по параметрам $\\large w$.\n",
    "Нам потребуется вычислить частные производные $\\dfrac{\\partial f}{\\partial w_0}, \\dfrac{\\partial f}{\\partial w_1}, \\dfrac{\\partial f}{dw_2}, \\dfrac{\\partial f}{\\partial x_0}$ и $\\dfrac{\\partial f}{\\partial x_1}$.\n",
    "\n",
    "Пусть \"веса\" $w$ инициализированы значениями $w_0=2,\\;w_1=-3,\\;w_2=-3$, а \"входные признаки\" $x$ принимают значения $x_0=-1,\\;x_1=-2$.\n",
    "\n",
    "Делая прямой проход через граф вычислений для данной функции, получаем её значение для заданных $w$ и $x$ равным $f=0.73$:"
   ]
  },
  {
   "cell_type": "markdown",
   "metadata": {},
   "source": [
    "<center><img src =\"https://edunet.kea.su/repo/EduNet-content/dev-2.1/L05/out/forward_pass_example.png\" width=\"800\"></center>"
   ]
  },
  {
   "cell_type": "markdown",
   "metadata": {},
   "source": [
    "Далее, в соответствии с алгоритмом обратного распространения ошибки, рассчитаем частные производные, пройдясь последовательно по графу вычислений, постепенно накапливая искомое значение для градиента функции.\n",
    "\n",
    "Для начала зададим $\\dfrac{df}{df}=1$.\n",
    "\n",
    "Начинаем обратный проход по графу вычислений — первая вершина содержит функцию $f(x)=\\dfrac{1}{x}$, производная которой равна $\\dfrac{df}{dx}=-\\dfrac{1}{x^2}$"
   ]
  },
  {
   "cell_type": "markdown",
   "metadata": {},
   "source": [
    "<center><img src =\"https://edunet.kea.su/repo/EduNet-content/dev-2.1/L05/out/compute_gradient_1_step.png\" width=\"800\"></center>\n",
    "\n",
    "$$\\large f(x)=\\frac1x \\quad \\longrightarrow \\quad \\frac{df}{dx} = -\\frac{1}{x^2}$$"
   ]
  },
  {
   "cell_type": "markdown",
   "metadata": {},
   "source": [
    "В следующем узле находится функция $f(x)=1+x$. Производная от выражения в данном узле равняется $\\dfrac{df}{dx}=1$:"
   ]
  },
  {
   "cell_type": "markdown",
   "metadata": {},
   "source": [
    "<center><img src =\"https://edunet.kea.su/repo/EduNet-content/dev-2.1/L05/out/compute_gradient_2_step.png\" width=\"800\"></center>\n",
    "\n",
    "$$\\large f(x)=c+x \\quad \\longrightarrow \\quad \\frac{df}{dx} = 1$$"
   ]
  },
  {
   "cell_type": "markdown",
   "metadata": {},
   "source": [
    "Третья вершина содержит экспоненту $f(x)=e^x$. Её производная также является экспонентой $\\dfrac{df}{dx}=e^x$:"
   ]
  },
  {
   "cell_type": "markdown",
   "metadata": {},
   "source": [
    "<center><img src =\"https://edunet.kea.su/repo/EduNet-content/dev-2.1/L05/out/compute_gradient_3_step.png\" width=\"800\"></center>\n",
    "\n",
    "$$\\large f(x)=e^x \\quad \\longrightarrow \\quad \\frac{df}{dx} = e^x$$"
   ]
  },
  {
   "cell_type": "markdown",
   "metadata": {},
   "source": [
    "Следующая вершина, четвертая, содержит умножение на константу $f(x)=ax$. Производная равна $\\dfrac{df}{dx}=a$ (в данном случае $a=-1$):"
   ]
  },
  {
   "cell_type": "markdown",
   "metadata": {},
   "source": [
    "<center><img src =\"https://edunet.kea.su/repo/EduNet-content/dev-2.1/L05/out/compute_gradient_4_step.png\" width=\"800\"></center>\n",
    "\n",
    "$$\\large f(x)=ax \\quad \\longrightarrow \\quad \\frac{df}{dx} = a$$"
   ]
  },
  {
   "cell_type": "markdown",
   "metadata": {},
   "source": [
    "Двигаясь по графу вычислений, мы дошли до узла суммирования, который имеет два входа. Относительно каждого из входов локальный градиент в вершине суммирования будет равен $1$:\n",
    "$$\\large f(x,y)=x+y \\quad \\Rightarrow \\quad \\frac{\\partial f}{\\partial x}=1  \\quad \\quad \\frac{\\partial f}{\\partial y}=1$$\n",
    "Так как умножение на единицу не изменит значения входного градиента, всем входам узла суммирования мы можем приписать точно такое же значение входного градиента ($0.2$), что мы имели и для самого узла суммирования. Будем действовать аналогично и со всеми остальными узлами суммирования, которые встретятся нам в вычислительном графе."
   ]
  },
  {
   "cell_type": "markdown",
   "metadata": {},
   "source": [
    "<center><img src =\"https://edunet.kea.su/repo/EduNet-content/dev-2.1/L05/out/compute_gradient_5_step.png\" width=\"800\"></center>"
   ]
  },
  {
   "cell_type": "markdown",
   "metadata": {},
   "source": [
    "Двигаясь далее к началу графа вычислений, мы подходим к вершинам умножения. Для такой вершины локальный градиент по отношению к какому-либо из входов будет равен значению оставшегося входа. Остается умножить локальный градиент на входящий.\n",
    "\n",
    "$$\\large f(w,x)=wx \\quad \\Rightarrow \\quad \\frac{\\partial f}{\\partial w}=x  \\quad \\quad \\frac{\\partial f}{\\partial x}=w$$\n",
    "\n",
    "Точно так же мы можем поступить и с оставшейся второй вершиной умножения, которая привязана к $w_1$ и $x_1$:"
   ]
  },
  {
   "cell_type": "markdown",
   "metadata": {},
   "source": [
    "<center><img src =\"https://edunet.kea.su/repo/EduNet-content/dev-2.1/L05/out/compute_gradient_6_step.png\" width=\"800\"></center>"
   ]
  },
  {
   "cell_type": "markdown",
   "metadata": {},
   "source": [
    "Так, двигаясь по графу вычислений в обратном направлении от выхода функции к входным аргументам, мы последовательно для каждого узла умножаем локальный градиент на входящий градиент, используя цепное правило дифференцирования сложной функции. В описанном примере мы полностью разбили граф вычислений на отдельные элементарные узлы. Разбиение вычислительного графа на элементарные узлы вовсе не обязательно — мы можем сгруппировать несколько вершин вместе, если они образуют дифференцируемую функцию, от которой \"удобно\" брать производную, и рассматривать их совместно."
   ]
  },
  {
   "cell_type": "markdown",
   "metadata": {},
   "source": [
    "В нашем примере мы можем заметить, что вычислительный граф можно свести к двум операциям: получению выражения $w_0x_0+w_1x_1+w_2$ и последующему вычислению от него сигмоидальной функции.\n",
    "\n",
    "Функция сигмоиды:\n",
    "\n",
    "$$\\large \\displaystyle \\sigma(x) = \\frac{1}{1+e^{-x}}.$$"
   ]
  },
  {
   "cell_type": "markdown",
   "metadata": {},
   "source": [
    "Важно отметить, что сигмоида обладает важным свойством: её производная может быть выражена через саму сигмоидальную функцию:\n",
    "\n",
    "$$\\large \\frac{d}{dx}\\sigma(x) = \\frac{d}{dx}(1+e^{-x})^{-1} = \\frac{e^{-x}}{(1+e^{-x})^{2}} = \\frac{1}{1+e^{-x}} \\cdot \\frac{1+e^{-x}-1}{1+e^{-x}} = \\sigma(x)\\cdot(1-\\sigma(x))$$"
   ]
  },
  {
   "cell_type": "markdown",
   "metadata": {},
   "source": [
    "<center><img src =\"https://edunet.kea.su/repo/EduNet-content/dev-2.1/L05/out/compute_gradient_join_vertices_sigmoid_example.png\" width=\"800\"></center>"
   ]
  },
  {
   "cell_type": "markdown",
   "metadata": {},
   "source": [
    "В коде без использования библиотек подсчёт градиентов можно записать как:"
   ]
  },
  {
   "cell_type": "markdown",
   "metadata": {},
   "source": [
    "<center><img src =\"https://edunet.kea.su/repo/EduNet-content/dev-2.1/L05/out/calculating_gradients_in_code.png\" width=\"800\"></center>"
   ]
  },
  {
   "cell_type": "markdown",
   "metadata": {},
   "source": [
    "Для базовых операций можно выделить следующие шаблоны \"разделения\" градиента:"
   ]
  },
  {
   "cell_type": "markdown",
   "metadata": {},
   "source": [
    "<center><img src =\"https://edunet.kea.su/repo/EduNet-content/dev-2.1/L05/out/add_copy_mul_max_gates.png\" width=\"700\"></center>"
   ]
  },
  {
   "cell_type": "markdown",
   "metadata": {},
   "source": [
    "##  Анимация работы метода обратного распространения ошибки"
   ]
  },
  {
   "cell_type": "markdown",
   "metadata": {},
   "source": [
    "\n",
    "\n",
    "Таким образом, метод обратного распространения ошибки включает в себя следующие шаги:\n",
    "* Forward pass (FP) — прямое распространение сигнала от входа к выходам (без которого не получить вычисленные значения в графе).\n",
    "* Backward pass (BP) — расчёт величины градиента функции потерь по весам от выходного слоя ко входному.\n",
    "* Обновление весов в зависимости от величины градиента. На анимации буквой $\\eta$ обозначен learning rate."
   ]
  },
  {
   "cell_type": "markdown",
   "metadata": {},
   "source": [
    "<center><img src =\"https://edunet.kea.su/repo/EduNet-web_dependencies/dev-2.1/L05/backprop_animation.gif\" width=\"600\"></center>\n",
    "\n",
    "<center><em>Source: <a href=\"https://robocraft.ru/algorithm/560\">Принцип обучения многослойной нейронной сети с помощью алгоритма обратного распространения</a></em></center>"
   ]
  },
  {
   "cell_type": "markdown",
   "metadata": {},
   "source": [
    "Для более детального рассмотрения принципов работы и обучения нейронных сетей рекомендуем:\n",
    "\n",
    "[[video] 📺 Плей-лист от 3Blue1Brown](https://youtube.com/playlist?list=PLZHQObOWTQDNU6R1_67000Dx_ZCJB-3pi&si=O3gq6RoIxoNS6iJf) [[озвучка на русском](https://youtube.com/playlist?list=PLZjXXN70PH5itkSPe6LTS-yPyl5soOovc&si=ElKVi98Ui4m2nJKq)]."
   ]
  },
  {
   "cell_type": "markdown",
   "metadata": {},
   "source": [
    "## Автоматическое вычисление градиента в PyTorch"
   ]
  },
  {
   "cell_type": "markdown",
   "metadata": {},
   "source": [
    "PyTorch умеет запоминать последовательность операций с тензорами и вычислять градиент."
   ]
  },
  {
   "cell_type": "code",
   "execution_count": null,
   "metadata": {},
   "outputs": [],
   "source": [
    "import torch\n",
    "\n",
    "x = torch.tensor([-1.0, -2.0])  # x from above example\n",
    "\n",
    "x = torch.cat([x, torch.tensor([1.0])])  # concatenate x with 1. for bias trick\n",
    "\n",
    "W = torch.tensor([2.0, -3.0, -3.0], requires_grad=True)  # w from above example\n",
    "\n",
    "print(f\"W.grad = {W.grad} (before forward and backward pass grad is 'None')\")\n",
    "\n",
    "# forward pass to compute f\n",
    "s = x.matmul(W)\n",
    "f = torch.sigmoid(s)\n",
    "print(f\"f(x, W) = {f:.2f}\")\n",
    "\n",
    "# backward pass to compute gradient df/dW\n",
    "f.backward()\n",
    "print(f\"W.grad = {W.grad}\")"
   ]
  },
  {
   "cell_type": "markdown",
   "metadata": {},
   "source": [
    "Получили такие же значения частных производных $\\dfrac{\\partial f}{\\partial w_i}$, как и при вычислении вручную (на иллюстрации градиент расчитан с точностью до двух знаков после запятой, в коде выше получены более точные значения)."
   ]
  },
  {
   "cell_type": "markdown",
   "metadata": {},
   "source": [
    "<center><img src =\"https://edunet.kea.su/repo/EduNet-content/dev-2.1/L05/out/autograd_example.png\" width=\"700\"></center>"
   ]
  },
  {
   "cell_type": "markdown",
   "metadata": {},
   "source": [
    "Мы не требовали возможности расчета градиента по аргументу `x` (не указали `requires_grad=True`), поэтому после вызова `f.backward()` градиент по нему не рассчитается:"
   ]
  },
  {
   "cell_type": "code",
   "execution_count": null,
   "metadata": {},
   "outputs": [],
   "source": [
    "print(f\"x.grad = {x.grad}\")"
   ]
  },
  {
   "cell_type": "markdown",
   "metadata": {},
   "source": [
    "Отсоединение тензора от графа вычислений производится с помощью `.detach()` (используется, если нужно производить какие-либо дальнейшие операции с тензором, но чтобы они не становились частью вычислительного графа):"
   ]
  },
  {
   "cell_type": "code",
   "execution_count": null,
   "metadata": {},
   "outputs": [],
   "source": [
    "f_detached = f.detach()\n",
    "\n",
    "print(f\"f_detached = {f_detached:.2f}\")\n",
    "print(f\"f_detached type: {type(f_detached)}\")"
   ]
  },
  {
   "cell_type": "markdown",
   "metadata": {},
   "source": [
    "Также от тензора, содержащего скаляр, можно получить его величину с помощью `.item()`:"
   ]
  },
  {
   "cell_type": "code",
   "execution_count": null,
   "metadata": {},
   "outputs": [],
   "source": [
    "value = f_detached.item()\n",
    "\n",
    "print(f\"value = {value:.2f}\")\n",
    "print(f\"value type: {type(value)}\")"
   ]
  },
  {
   "cell_type": "markdown",
   "metadata": {},
   "source": [
    "## Обратное распространение в PyTorch\n"
   ]
  },
  {
   "cell_type": "markdown",
   "metadata": {},
   "source": [
    "Рассмотрим алгоритм обратного распространения  ошибки на примере вычисления бинарной кросс-энтропии для логистической регрессии (для простоты не будем рассматривать смещение):\n",
    "\n",
    "$$\\large \\hat y = σ(z) = \\frac{1}{1+e^{-z}} $$\n",
    "\n",
    "$$\\large z = x_0 * w_0 + x_1 * w_1 = W^T X$$\n",
    "\n",
    "Для примера возьмем следующие значения:\n",
    "$$\\large x=[[0, 0.8], [-0.1, 1.1], [-0.2, 0.8], [0.2, 0.7]],$$\n",
    "$$\\large y=[0, 1, 1, 0],$$\n",
    "$$\\large w=[[-5.1], [0.4]], b=0.5$$\n",
    "\n",
    "Предсказания модели $\\hat{y}=[0.58, 0.80, 0.90, 0.18]$ не совпадают с истинными значениями $y$. Соответственно, значение функции бинарной кросс-энтропии для такого примера будет:\n",
    "\n",
    "$$\\large \\text{BCE}=-\\frac{1}{4}\\sum^{4}_{i=1}[y_ilog(\\hat y_i)+(1-y_i)log(1-\\hat y_i)]=-\\frac{-0.87-0.22-0.11-0.20}{4}=0.35$$\n",
    "\n",
    "Градиент функции потерь по весу $W$ вычисляется следующим образом, в соответствии с цепным правилом:\n",
    "\n",
    "$$\\large \\frac{\\partial \\text{BCE}}{\\partial W} = \\frac{\\partial \\text{BCE}}{\\partial \\hat y} \\frac{\\partial \\hat y}{\\partial z}\\frac{\\partial z}{\\partial W}$$\n",
    "\n",
    "Рассчитаем градиент с использованием PyTorch и изобразим на графике границу решений:"
   ]
  },
  {
   "cell_type": "code",
   "execution_count": null,
   "metadata": {},
   "outputs": [],
   "source": [
    "import matplotlib.pyplot as plt\n",
    "from matplotlib.colors import ListedColormap\n",
    "\n",
    "X = torch.tensor([[0, 0.8], [-0.1, 1.1], [-0.2, 0.8], [0.2, 0.7]])\n",
    "y = torch.tensor([0, 1, 1, 0])\n",
    "\n",
    "# This is the parameter we want to optimize -> requires_grad=True\n",
    "W = torch.tensor([[-9.1], [0.4]], requires_grad=True)\n",
    "print(f\"W.grad = {W.grad} (before forward pass must be 'None')\\n\")\n",
    "\n",
    "# forward pass to compute Binary Cross-Entropy Loss\n",
    "y_pred = 1/(1 + torch.exp(-(torch.mm(X, W).squeeze())))\n",
    "BCE = -torch.mean(y*(torch.log(y_pred)) + (1-y)*torch.log(1-y_pred))\n",
    "print(f\"BCE = {BCE:.2f}\\n\")\n",
    "\n",
    "# backward pass to compute gradient dBCE/dw\n",
    "BCE.backward()\n",
    "print(f\"W.grad = {W.grad}\")\n",
    "\n",
    "# draw a decision boundary\n",
    "W = W.clone().detach()\n",
    "x1 = torch.tensor([min(X[:,0]), max(X[:,0])])\n",
    "a = -W[0]/W[1]\n",
    "x2 = a*x1\n",
    "\n",
    "fig = plt.figure(figsize=(4,2))\n",
    "colors = ListedColormap(['green', 'blue'])\n",
    "plt.scatter(X[:, 0], X[:, 1], marker=\"o\", c=y, s=40, cmap=colors)\n",
    "plt.xlim([-0.3, 0.3])\n",
    "plt.ylim([0.6, 1.2])\n",
    "plt.xlabel(\"Признак 1\")\n",
    "plt.ylabel(\"Признак 2\")\n",
    "plt.plot(x1, x2, 'y-')\n",
    "plt.show()"
   ]
  },
  {
   "cell_type": "markdown",
   "metadata": {},
   "source": [
    "В данном примере мы произвели следующие расчеты:\n",
    "\n",
    "$\\displaystyle \\large \\frac{\\partial \\text{BCE}}{\\partial \\hat y} = - (\\frac{y}{\\hat y} - \\frac{1-y}{1-\\hat y}) = \\frac{\\hat y - y}{\\hat y (1 - \\hat y)}$\n",
    "$\\displaystyle \\large \\frac{\\partial \\hat y}{\\partial z} = \\frac{\\partial}{\\partial z}\\left[\\frac{1}{1+e^{-z}}\\right] = \\frac{\\partial}{\\partial z} (1+e^{-z})^{-1} = -(1+e^{-z})^{-2}(-e^{-z}) = \\frac{e^{-z}}{(1+e^{-z})^2} = \\frac{1}{1+e^{-z}} \\frac{e^{-z}}{1+e^{-z}} = \\frac{1}{1+e^{-z}} \\frac{(1+e^{-z})-1}{1+e^{-z}}= \\frac{1}{1+e^{-z}} \\left ( \\frac{1+e^{-z}}{1+e^{-z}} - \\frac{1}{1+e^{-z}} \\right ) = \\frac{1}{1+e^{-z}} \\left ( 1 - \\frac{1}{1+e^{-z}} \\right )= \\hat y (1-\\hat y)$\n",
    "$\\displaystyle \\large \\frac{\\partial z}{\\partial W} = X$\n",
    "\n",
    "$\\displaystyle \\large \\frac{\\partial \\text{BCE}}{\\partial W} = \\frac{\\hat y - y}{\\hat y (1 - \\hat y)}\\hat y (1-\\hat y)X = (\\hat y - y)X = [0.0769, 0.2764]$"
   ]
  },
  {
   "cell_type": "code",
   "execution_count": null,
   "metadata": {},
   "outputs": [],
   "source": [
    "torch_grad = torch.tensor([[0.0192], [0.0691]])\n",
    "print(f'torch: W.grad = {torch_grad}')\n",
    "custom_grad = torch.mm((y_pred-y).unsqueeze(0), X)/4\n",
    "print(f'custom: W.grad = {custom_grad}')"
   ]
  },
  {
   "cell_type": "markdown",
   "metadata": {},
   "source": [
    "`ВСE.backward()` автоматически вычисляет градиент $\\dfrac{\\partial \\text{BCE}}{\\partial W}$ при указании `requires_grad=True`.\n",
    "Результаты вычислений будут храниться в `W.grad`.\n",
    "\n",
    "Также после однократного обратного прохода в целях экономии памяти граф, используемый для вычисления градиента, будет удаляться, и следующий запуск `BCE.backward()` будет выдавать ошибку:"
   ]
  },
  {
   "cell_type": "markdown",
   "metadata": {},
   "source": [
    "\n",
    "\n",
    "```\n",
    "BCE.backward() # Error on second backward call\n",
    "```\n",
    "\n"
   ]
  },
  {
   "cell_type": "markdown",
   "metadata": {},
   "source": [
    "Чтобы сохранить вычислительный граф, нужно взывать `backward()` с параметром `retain_graph=True`. В таком случае значения градиентов, полученные на следующих итерациях обратного распространения ошибки, будут складываться с текущими значениями градиентов.\n",
    "\n",
    "Градиенты переменных, для которых был указан `requires_grad=True`, сохраняются автоматически. Чтобы избежать их накопления при многократном итерировании алгоритма обратного распространения, нужно обнулять градиент на каждом шаге с помощью метода `Тensor.grad.zero_()`."
   ]
  },
  {
   "cell_type": "code",
   "execution_count": null,
   "metadata": {},
   "outputs": [],
   "source": [
    "X = torch.tensor([[0, 0.8], [-0.1, 1.1], [-0.2, 0.8], [0.2, 0.7]])\n",
    "y = torch.tensor([0, 1, 1, 0])\n",
    "\n",
    "# This is the parameter we want to optimize -> requires_grad=True\n",
    "W = torch.tensor([[-9.1], [0.4]], requires_grad=True)\n",
    "\n",
    "# forward pass to compute BCE\n",
    "y_pred = 1/(1 + torch.exp(-(torch.mm(X, W).squeeze())))\n",
    "BCE = -torch.mean(y*(torch.log(y_pred)) + (1-y)*torch.log(1-y_pred))\n",
    "\n",
    "print(\"Backward 1:\")\n",
    "BCE.backward(retain_graph=True)\n",
    "print(f\"dBCE/dW = {W.grad} \\n\")\n",
    "\n",
    "print(\"Without forward, backward 2. Gradient is accumulating:\")\n",
    "BCE.backward(retain_graph=True)\n",
    "# Gradients are accumulated\n",
    "print(f\"dBCE/dW = {W.grad}\\n\")\n",
    "\n",
    "print(\"Backward 3, but firstly nullify gradients:\")\n",
    "W.grad.zero_()  # Nullify gradients for W for the next iteration\n",
    "BCE.backward(retain_graph=True)\n",
    "print(f\"dBCE/dW = {W.grad}\")"
   ]
  },
  {
   "cell_type": "markdown",
   "metadata": {},
   "source": [
    "Итак, мы умеем вычислять градиент $\\displaystyle \\frac{\\partial \\text{BCE}}{\\partial W}$ для нашего примера. Теперь давайте с его помощью оптимизируем веса, используя алгоритм обратного распространения ошибки:"
   ]
  },
  {
   "cell_type": "code",
   "execution_count": null,
   "metadata": {},
   "outputs": [],
   "source": [
    "X = torch.tensor([[0, 0.8], [-0.1, 1.1], [-0.2, 0.8], [0.2, 0.7]])\n",
    "y = torch.tensor([0, 1, 1, 0])\n",
    "\n",
    "W = torch.tensor([[-9.1], [0.4]], requires_grad=True)\n",
    "\n",
    "# Define model output\n",
    "def forward(X):\n",
    "    return 1/(1 + torch.exp(-(torch.mm(X, W).squeeze())))\n",
    "\n",
    "# Compute Cross-Entropy loss\n",
    "def criterion(y_pred, y):\n",
    "    return -torch.mean(y*(torch.log(y_pred)) + (1-y)*torch.log(1-y_pred))\n",
    "\n",
    "print(f\"Prediction before training: f(x) = {forward(X)}\")\n",
    "print(f\"True values: y = {y}\\n\")\n",
    "\n",
    "# Training\n",
    "learning_rate = 0.5\n",
    "num_epochs = 1000\n",
    "\n",
    "for epoch in range(num_epochs):\n",
    "    # Propagate forward\n",
    "    y_pred = forward(X)\n",
    "\n",
    "    # Compute Cross-Entropy loss\n",
    "    CE = criterion(y_pred, y)\n",
    "\n",
    "    # Propagate backward, compute gradients\n",
    "    CE.backward()\n",
    "\n",
    "    # Update weights\n",
    "    with torch.no_grad():  #  We don't want this step to be the part of the computational graph\n",
    "        W -= learning_rate * W.grad\n",
    "\n",
    "    # Nullify gradients after updating to avoid their accumulation\n",
    "    W.grad.zero_()\n",
    "\n",
    "print(f\"After training: W = {W}, loss = {CE.item():.8f}\")\n",
    "\n",
    "print(f\"\\nPrediction after training: f(x) = {forward(X)}\")\n",
    "print(f\"True values: y = {y}\")\n",
    "\n",
    "# draw a decision boundary\n",
    "W = W.clone().detach()\n",
    "x1 = torch.tensor([min(X[:,0]), max(X[:,0])])\n",
    "a = -W[0]/W[1]\n",
    "x2 = a*x1\n",
    "\n",
    "fig = plt.figure(figsize=(4,2))\n",
    "plt.scatter(X[:, 0], X[:, 1], marker=\"o\", c=y, s=40, cmap=colors)\n",
    "plt.xlim([-0.3, 0.3])\n",
    "plt.ylim([0.6, 1.2])\n",
    "plt.xlabel(\"Признак 1\")\n",
    "plt.ylabel(\"Признак 2\")\n",
    "plt.title('Граница решений')\n",
    "plt.plot(x1, x2, 'y-')\n",
    "plt.show()"
   ]
  },
  {
   "cell_type": "markdown",
   "metadata": {},
   "source": [
    "Видно, что наш подход позволяет оптимизировать вес $W$ регрессии из примера и таким образом добиться почти идеального предсказания нашей модели, однако в данном подходе дополнительно можно автоматизировать вычисление функции потерь и обновление параметров с учетом градиента, используя готовые функции потерь из `torch.nn` и оптимизаторы из `torch.optim`."
   ]
  },
  {
   "cell_type": "code",
   "execution_count": null,
   "metadata": {},
   "outputs": [],
   "source": [
    "import torch.nn as nn\n",
    "\n",
    "X = torch.tensor([[0, 0.8], [-0.1, 1.1], [-0.2, 0.8], [0.2, 0.7]])\n",
    "y = torch.tensor([0, 1, 1, 0], dtype=torch.float32)\n",
    "\n",
    "W = torch.tensor([[-9.1], [0.4]], requires_grad=True)\n",
    "\n",
    "# Define model output\n",
    "def forward(X):\n",
    "    return 1/(1 + torch.exp(-(torch.mm(X, W).squeeze())))\n",
    "\n",
    "# Compute Cross-Entropy loss\n",
    "def criterion(y_pred, y):\n",
    "    return -torch.mean(y*(torch.log(y_pred)) + (1-y)*torch.log(1-y_pred))\n",
    "\n",
    "print(f\"Prediction before training: f(x) = {forward(X)}\")\n",
    "print(f\"True values: y = {y}\\n\")\n",
    "\n",
    "# Training\n",
    "learning_rate = 0.5\n",
    "num_epochs = 1000\n",
    "\n",
    "criterion = nn.MSELoss()\n",
    "optimizer = torch.optim.SGD([W], lr=learning_rate)\n",
    "\n",
    "for epoch in range(num_epochs):\n",
    "    # Propagate forward\n",
    "    y_pred = forward(X)\n",
    "\n",
    "    # Compute Cross-Entropy loss\n",
    "    CE = criterion(y_pred, y)\n",
    "\n",
    "    # Propagate backward, compute gradients\n",
    "    CE.backward()\n",
    "\n",
    "    # Update weights\n",
    "    optimizer.step()\n",
    "\n",
    "    # Nullify gradients after updating to avoid their accumulation\n",
    "    optimizer.zero_grad()\n",
    "\n",
    "print(f\"After training: W = {W}, loss = {CE.item():.8f}\")\n",
    "\n",
    "print(f\"\\nPrediction after training: f(x) = {forward(X)}\")\n",
    "print(f\"True values: y = {y}\")\n",
    "\n",
    "# draw a decision boundary\n",
    "W = W.clone().detach()\n",
    "x1 = torch.tensor([min(X[:,0]), max(X[:,0])])\n",
    "a = -W[0]/W[1]\n",
    "x2 = a*x1\n",
    "\n",
    "fig = plt.figure(figsize=(4,2))\n",
    "plt.scatter(X[:, 0], X[:, 1], marker=\"o\", c=y, s=40, cmap=colors)\n",
    "plt.xlim([-0.3, 0.3])\n",
    "plt.ylim([0.6, 1.2])\n",
    "plt.xlabel(\"Признак 1\")\n",
    "plt.ylabel(\"Признак 2\")\n",
    "plt.title('Граница решений')\n",
    "plt.plot(x1, x2, 'y-')\n",
    "plt.show()"
   ]
  }
 ],
 "metadata": {},
 "nbformat": 4,
 "nbformat_minor": 0
}
