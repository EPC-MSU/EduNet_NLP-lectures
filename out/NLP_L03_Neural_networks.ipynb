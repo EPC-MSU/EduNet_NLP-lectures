{
 "cells": [
  {
   "cell_type": "markdown",
   "metadata": {},
   "source": [
    "<font size=\"6\">Нейронные сети</font>"
   ]
  },
  {
   "cell_type": "markdown",
   "metadata": {},
   "source": [
    "# Ограничения линейных моделей"
   ]
  },
  {
   "cell_type": "markdown",
   "metadata": {},
   "source": [
    "Вспомним материал лекции №2, на которой мы разбирали линейные модели. Напомним, что выход линейной модели является линейной комбинацией входных признаков, к которой также добавляется смещение:"
   ]
  },
  {
   "cell_type": "markdown",
   "metadata": {},
   "source": [
    "$$ \\large\n",
    "\\begin{eqnarray*}\n",
    "y & = & w_1 x_1+ w_2 x_2 + ... + w_n x_n + b\\\\\n",
    "& = & \\sum_{i=1}^n x_i w_i + b \\\\\n",
    "& = & (\\vec{x}, \\vec{w}) + b\n",
    "\\end{eqnarray*}\n",
    "$$"
   ]
  },
  {
   "cell_type": "markdown",
   "metadata": {},
   "source": [
    "Данную формулу можно графически представить следующим образом:"
   ]
  },
  {
   "cell_type": "markdown",
   "metadata": {},
   "source": [
    "<center><img src =\"https://edunet.kea.su/repo/EduNet_NLP-content/L03/out/one_neuron_linear_model.png\" width=\"450\"></center>"
   ]
  },
  {
   "cell_type": "markdown",
   "metadata": {},
   "source": [
    "Если линейная модель имеет множество выходов, то каждый выход $\\large y_j$ имеет свой собственный вектор весов $\\large \\vec{w_j}$ и свое смещение $\\large b_j$ :"
   ]
  },
  {
   "cell_type": "markdown",
   "metadata": {},
   "source": [
    "$$ \\large y_j = (\\vec{x}, \\vec{w_j}) + b_j \\ \\ \\ \\ \\ \\ \\ j= 1 ... C,$$"
   ]
  },
  {
   "cell_type": "markdown",
   "metadata": {},
   "source": [
    "где $\\large \\vec{w_j}=[w_{1j}, w_{2j}, ... w_{nj}]^\\top$."
   ]
  },
  {
   "cell_type": "markdown",
   "metadata": {},
   "source": [
    "Тогда выход всей модели можно записать в векторно-матричном виде:"
   ]
  },
  {
   "cell_type": "markdown",
   "metadata": {},
   "source": [
    "$$\\large \\underset{[1 \\times C]}{\\vec{y}} = \\underset{[1 \\times n]}{x} \\underset{[n \\times C]}{W} + \\underset{[1 \\times C]}{\\vec{b}}$$"
   ]
  },
  {
   "cell_type": "markdown",
   "metadata": {},
   "source": [
    "Здесь матрица весовых коэффициентов $\\large W$ образуется путем объединения векторов весовых коэффициентов для каждого выхода, а вектор смещений $\\large \\vec{b}$ — соответственно путем объединения смещений всех выходов:\n",
    "\n",
    "$$ \\large\n",
    "\\begin{eqnarray*}\n",
    "W & = & [\\vec{w_1}, \\vec{w_2}, ... \\vec{w_C}]\\\\\n",
    "\\vec{b} & = & [b_1, b_2, ... b_c]\n",
    "\\end{eqnarray*}\n",
    "$$\n",
    "\n",
    "Графически это можно представить следующим образом:"
   ]
  },
  {
   "cell_type": "markdown",
   "metadata": {},
   "source": [
    "<center><img src =\"https://edunet.kea.su/repo/EduNet_NLP-content/L03/out/linear_classifier.png\" width=\"450\"></center>"
   ]
  },
  {
   "cell_type": "markdown",
   "metadata": {},
   "source": [
    "##  ХОR — проблема"
   ]
  },
  {
   "cell_type": "markdown",
   "metadata": {},
   "source": [
    "Рассмотрим такую задачу: на вход модели подаётся упорядоченный набор из двух чисел согласно таблице истинности некоторой логической функции. Задача линейного классификатора — сопоставить этим числам их класс согласно таблице. Два входных числа можно изобразить как координаты точек на плоскости, а знаком $+/-$ обозначить их истинный класс. Тогда задача классификатора — построить линию, отделяющую \"плюсы\" (класс 1) от \"минусов\" (класс 0).\n",
    "\n",
    "- При моделировании логических функций \"И\" и \"ИЛИ\" в пространстве признаков можно легко провести прямую линию, разделяющую точки разных классов.\n",
    "- При моделировании логической функции \"исключающее ИЛИ\" (XOR) одной линией разделить точки разных классов геометрически невозможно — точки, размеченные по таблице истинности XOR, являются **линейно неразделимыми**.\n",
    "\n",
    "То есть линейный классификатор уже не может справиться с этой, казалось бы, простой задачей."
   ]
  },
  {
   "cell_type": "markdown",
   "metadata": {},
   "source": [
    "<center><img src =\"https://edunet.kea.su/repo/EduNet_NLP-content/L03/out/xor_problem.png\" width=\"1000\"></center>"
   ]
  },
  {
   "cell_type": "markdown",
   "metadata": {},
   "source": [
    "## Внутриклассовая вариативность"
   ]
  },
  {
   "cell_type": "markdown",
   "metadata": {},
   "source": [
    "Вспомним рассмотренный в лекции №2 датасет из статьи [[paper] 🎓 Emotion classification in Russian: feature engineering and analysis](https://link.springer.com/chapter/10.1007/978-3-030-72610-2_10).\n",
    "\n",
    "Он размечен по **5 классам эмоций**:\n",
    "- радость (joy),\n",
    "- печаль (sadness),\n",
    "- злость (anger),\n",
    "- неуверенность (uncertainty),\n",
    "- нейтральность (neutrality).\n",
    "\n",
    "Рассмотрим линейный классификатор, обученный на этом датасете:\n",
    "\n",
    "- метод векторизации: TF-IDF\n",
    "- модель: логистическая регрессия\n",
    "- усредненное значение accuracy: $0.84$.\n"
   ]
  },
  {
   "cell_type": "markdown",
   "metadata": {},
   "source": [
    "В линейном классификаторе каждый выход модели отвечает за свой класс. Мы можем надеяться, что в процессе обучения линейного классификатора весовые вектора разных выходов выучат некий обобщенный \"шаблон\" образцов данного класса. Тогда при подаче на вход нового образца один из шаблонов будет \"подходить\" больше других, и соответствующий выход будет получать **наибольшее значение взвешенной суммы**. Номер выхода, который имеет наибольшее значение взвешенной суммы, будет восприниматься как предсказанный класс.\n",
    "\n",
    "Визуализируем шаблоны (векторы весовых коэффициентов), получающиеся в результате обучения линейного классификатора на датасете, размеченном по классам эмоций."
   ]
  },
  {
   "cell_type": "markdown",
   "metadata": {},
   "source": [
    "<center><img src =\"https://edunet.kea.su/repo/EduNet_NLP-content/L03/out/linear_classifier_emotions.png\" width=\"450\"></center>"
   ]
  },
  {
   "cell_type": "markdown",
   "metadata": {},
   "source": [
    "Для каждого класса были посчитаны свои коэффициенты регрессии. Они представляют матрицу $5 \\times 1739$, где $5$ — количество классов, $1739$ — количество признаков (слов).\n",
    "\n",
    "Ожидается, что наиболее характерным слова для каждой эмоции будут присвоены самые большие коэффициенты соответствующего класса.\n",
    "\n",
    "Выведем значения коэффициентов для слов, которые предположительно наиболее характеры для каждого класса эмоции. Также выведем топ-5 слов с самыми большими коэффициентами."
   ]
  },
  {
   "cell_type": "code",
   "execution_count": null,
   "metadata": {},
   "outputs": [],
   "source": [
    "!wget -q https://edunet.kea.su/repo/EduNet_NLP-web_dependencies/L03/coefficient_matrix.txt\n",
    "!wget -q https://edunet.kea.su/repo/EduNet_NLP-web_dependencies/L03/feature_names.txt"
   ]
  },
  {
   "cell_type": "code",
   "execution_count": null,
   "metadata": {},
   "outputs": [],
   "source": [
    "import numpy as np\n",
    "import matplotlib.pyplot as plt\n",
    "\n",
    "W = np.loadtxt(\"coefficient_matrix.txt\")[1:] # load coefficients, shape (5, 1739)\n",
    "X = np.loadtxt(\"feature_names.txt\", dtype=object) # load features dictionary\n",
    "\n",
    "labels = ['Радость', 'Нейтральность',\n",
    "          'Печаль', 'Неуверенность'] # class labels in dataset\n",
    "expected = ['рад', 'нормальный',\n",
    "            'грустный', 'думать'] # expected typical words for each class\n",
    "f, axs = plt.subplots(1, 4)\n",
    "\n",
    "for i in range(W.shape[0]):\n",
    "\n",
    "    order = W[i].argsort() # ascending order for coefficients\n",
    "    top_Wi = W[i][order][::-1][:5] # sort and extract top-5 coefficients\n",
    "    top_Wi = np.insert(top_Wi,0,\n",
    "                       W[i][np.where(X == expected[i])]) # insert coefficient for expected word\n",
    "    top_X = X[order][::-1][:5] # words with the highest coefficients\n",
    "    top_X = np.insert(top_X, 0, expected[i]) # insert expected word\n",
    "    barlist = axs[i].bar(x=[x[0] for x in zip(top_X, top_Wi)],\n",
    "         height=[x[1] for x in zip(top_X, top_Wi)])\n",
    "    axs[i].tick_params(labelrotation=65)\n",
    "    axs[i].title.set_text(labels[i])\n",
    "    barlist[0].set_color('g')\n",
    "\n",
    "f.set_figheight(3)\n",
    "f.set_figwidth(20)\n",
    "plt.show()"
   ]
  },
  {
   "cell_type": "markdown",
   "metadata": {},
   "source": [
    "Можно заметить, что наши предположения не подтвердились: не все слова, характерные для какой-либо эмоции, получают высокий коэффициент. Следовательно, модель не учитывает вариативность данных внутри этого класса.\n",
    "\n",
    "Ограничение линейного классификатора состоит в том, что для каждого класса существует только один шаблон. Шаблон каждого класса будет пытаться вобрать в себя информацию обо всех объектах класса сразу. Сильная внутриклассовая вариативность будет мешать линейному классификатору запоминать разные варианты объектов одного класса, и это ограничивает точность модели."
   ]
  },
  {
   "cell_type": "markdown",
   "metadata": {},
   "source": [
    "# Многослойные нейронные сети"
   ]
  },
  {
   "cell_type": "markdown",
   "metadata": {},
   "source": [
    "Одна из идей для решения проблемы внутриклассовой вариативности — модифицировать модель таким образом, чтобы у нее внутри было не по одному шаблону на каждый класс, а по несколько (скажем, 100 шаблонов вместо 10 при десяти классах). Тогда бы модель имела возможность запоминать разные объекты одного класса и далее использовать эти промежуточные шаблоны для разбиения объектов на классы."
   ]
  },
  {
   "cell_type": "markdown",
   "metadata": {},
   "source": [
    "<center><img src =\"https://edunet.kea.su/repo/EduNet_NLP-content/L03/out/modeified_model_nlp.png\"  width=\"600\"></center>"
   ]
  },
  {
   "cell_type": "markdown",
   "metadata": {},
   "source": [
    "Реализуем эту модель на основе линейного классификатора из лекции №2.\n",
    "\n",
    "Применяем к выходам классификатора еще один классификатор. Будет ли данная модель работать лучше?"
   ]
  },
  {
   "cell_type": "code",
   "execution_count": null,
   "metadata": {},
   "outputs": [],
   "source": [
    "import numpy as np\n",
    "\n",
    "\n",
    "x = np.random.rand(1739)  # random text\n",
    "W1 = np.random.randn(1739, 100) * 0.0001  # without bias\n",
    "W2 = np.random.randn(100, 10) * 0.0001  # without bias\n",
    "\n",
    "scores1 = np.matmul(x, W1)  # matrix multiplication, equivalent x @ W1\n",
    "scores2 = np.matmul(scores1, W2)  # matrix multiplication, of the next classifier\n",
    "\n",
    "print(f\"First classifier shape: {scores1.shape}\")\n",
    "print(f\"Second classifier shape: {scores2.shape}\")"
   ]
  },
  {
   "cell_type": "markdown",
   "metadata": {},
   "source": [
    "Нетрудно заметить, что последовательное применение двух классификаторов к входным данным эквивалентно применению одного классификатора с матрицей весов, равной произведению двух матриц весов классификаторов, примененных последовательно.\n",
    "\n",
    "$$\\large \\text{scores}_1 = x \\cdot W_1 $$\n",
    "\n",
    "$$\\large \\text{scores}_2 = \\text{scores}_1 \\cdot W_2 = x  \\cdot W_1 \\cdot W_2 $$\n",
    "\n",
    "$$\\large W = W_1 \\cdot W_2 $$\n",
    "\n",
    "$$\\large \\text{scores}_2 = x \\cdot W $$\n",
    "\n",
    "Для того, чтобы последовательно примененные классификаторы не вырождались в один, необходимо применить нелинейность к их выходам. Например, пропустить результат применения первой матрицы весов через сигмоиду:\n",
    "\n",
    "$$\\large \\sigma(s)=\\frac{1}{1+e^{-s}}$$"
   ]
  },
  {
   "cell_type": "markdown",
   "metadata": {},
   "source": [
    "<center><img src =\"https://edunet.kea.su/repo/EduNet_NLP-content/L03/out/sigmoid_function.png\" width=\"500\"></center>"
   ]
  },
  {
   "cell_type": "code",
   "execution_count": null,
   "metadata": {},
   "outputs": [],
   "source": [
    "def sigmoid(s):\n",
    "    return 1 / (1 + np.exp(-s))\n",
    "\n",
    "\n",
    "# define vectorized sigmoid to implement with ndarray element-wise\n",
    "sigmoid_np = np.vectorize(sigmoid)\n",
    "\n",
    "scores1 = np.matmul(x, W1)\n",
    "activations = sigmoid_np(scores1)  # values after non-linear function\n",
    "scores2 = np.matmul(activations, W2)\n",
    "\n",
    "print(f\"First classifier shape: {scores1.shape}\")\n",
    "print(f\"Activations shape: {scores1.shape}\")\n",
    "print(f\"Second classifier shape: {scores2.shape}\")"
   ]
  },
  {
   "cell_type": "markdown",
   "metadata": {},
   "source": [
    "Теперь вычисления выглядят так:\n",
    "\n",
    "$$\\large \\text{scores}_1 = x \\cdot W_1 $$\n",
    "\n",
    "$$\\large \\text{activations} = σ(\\text{scores}_1) $$\n",
    "\n",
    "$$\\large \\text{scores}_2 = \\text{activations} \\cdot W_2 =σ(x \\cdot W_1) \\cdot W_2$$"
   ]
  },
  {
   "cell_type": "markdown",
   "metadata": {},
   "source": [
    "Такая нелинейная функция, примененная к результату линейного преобразования, называется **функцией активации**. И мы уже пользовались подобной, когда разбирали Cross-Entropy Loss (Softmax).\n",
    "\n",
    "Приведем код в порядок:"
   ]
  },
  {
   "cell_type": "code",
   "execution_count": null,
   "metadata": {},
   "outputs": [],
   "source": [
    "class NeuralNet:\n",
    "    def __init__(self):\n",
    "        self.W1 = np.random.randn(3072, 100) * 0.0001\n",
    "        self.W2 = np.random.randn(100, 10) * 0.0001\n",
    "\n",
    "    def predict(self, x):\n",
    "        scores1 = np.matmul(x, self.W1)  # Linear\n",
    "        activations = sigmoid_np(scores1)  # activation Sigmoid\n",
    "        scores2 = np.matmul(activations, self.W2)  # Linear\n",
    "\n",
    "        return scores2\n",
    "\n",
    "\n",
    "x = np.random.rand(3072)  # image\n",
    "model = NeuralNet()\n",
    "scores = model.predict(x)\n",
    "print(f\"Model output shape: {scores.shape}\")"
   ]
  },
  {
   "cell_type": "markdown",
   "metadata": {},
   "source": [
    "Ядром вычислений по-прежнему является скалярное произведение входов с весовыми коэффициентами.\n",
    "\n",
    "Таким образом вводится модель искусственного нейрона — базового элемента искусственной нейронной сети. Выходом нейрона является результат применения функции активации к взвешенной сумме входных сигналов (в общем случае с учетом смещения — \"bias\").\n"
   ]
  },
  {
   "cell_type": "markdown",
   "metadata": {},
   "source": [
    "<center><img src =\"https://edunet.kea.su/repo/EduNet_NLP-content/L03/out/neurons_output.png\" width=\"900\"></center>"
   ]
  },
  {
   "cell_type": "markdown",
   "metadata": {},
   "source": [
    "Нейроны в нейронных сетях объединяют в слои и соединяют между слоями по принципу \"каждый с каждым\". Так получаются **многослойные полносвязные нейронные сети** (fully-connected networks).\n",
    "\n",
    "Пример полносвязной сети с двумя скрытыми слоями:"
   ]
  },
  {
   "cell_type": "markdown",
   "metadata": {},
   "source": [
    "<center><img src =\"https://edunet.kea.su/repo/EduNet_NLP-content/L03/out/nn_fully_connected.png\"  width=\"500\"></center>"
   ]
  },
  {
   "cell_type": "markdown",
   "metadata": {},
   "source": [
    "Как добавление в модель скрытых слоев с нелинейностями позволяет решать линейно неразделимые задачи (вроде XOR или более сложные) можно пронаблюдать [в интерактивном тренажере от TensorFlow 🎮[demo]](http://playground.tensorflow.org/#activation=linear&batchSize=10&dataset=xor&regDataset=reg-plane&learningRate=0.1&regularizationRate=0&noise=0&networkShape=&seed=0.62952&showTestData=false&discretize=false&percTrainData=50&x=true&y=true&xTimesY=false&xSquared=false&ySquared=false&cosX=false&sinX=false&cosY=false&sinY=false&collectStats=false&problem=classification&initZero=false&hideText=false)."
   ]
  },
  {
   "cell_type": "markdown",
   "metadata": {},
   "source": [
    "##  Веса и смещения"
   ]
  },
  {
   "cell_type": "markdown",
   "metadata": {},
   "source": [
    "Веса и смещения являются настраиваемыми параметрами в нейронной сети. Они настраиваются в процессе обучения, поэтому их также называют **обучаемыми параметрами**. Рассмотрим, как различные значения обучаемых параметров влияют на работу одного нейрона. Это поможет нам получить интуицию, как добавление в модель скрытых слоев с нелинейностями наделяет её большей выразительной способностью."
   ]
  },
  {
   "cell_type": "markdown",
   "metadata": {},
   "source": [
    "<center><img src =\"https://edunet.kea.su/repo/EduNet_NLP-content/L03/out/why_add_bias_example.png\" width=\"500\"></center>"
   ]
  },
  {
   "cell_type": "markdown",
   "metadata": {},
   "source": [
    "Рассмотрим простой пример. На вход нейрона подаётся входное значение $x$, умноженное на вес $w$. После применения сигмоидальной функции активации, в зависимости от веса, при всевозможных значениях входа мы можем получить следующие графики при $w$, равном $0.5$, $1$ и $2$:"
   ]
  },
  {
   "cell_type": "markdown",
   "metadata": {},
   "source": [
    "<center><img src =\"https://edunet.kea.su/repo/EduNet_NLP-content/L03/out/sigmoid_with_different_weights.png\" width=\"700\"></center>"
   ]
  },
  {
   "cell_type": "markdown",
   "metadata": {},
   "source": [
    "Можно заметить, что значение веса меняет **крутизну** итоговой сигмоидальной функции.\n",
    "\n",
    "Но что, если требуется, чтобы при $x=5$ нейрон выдавал $0$? Изменением крутизны сигмоиды этого не добиться. Требуется дополнительный параметр — смещение.\n"
   ]
  },
  {
   "cell_type": "markdown",
   "metadata": {},
   "source": [
    "**Смещение** (англ. bias) — это дополнительный коэффициент, прибавляющийся к взвешенной сумме входов. Наличие смещения позволяет сдвинуть функцию активации влево или вправо.\n",
    "\n"
   ]
  },
  {
   "cell_type": "markdown",
   "metadata": {},
   "source": [
    "<center><img src =\"https://edunet.kea.su/repo/EduNet_NLP-content/L03/out/add_bias_example.png\" width=\"500\"></center>"
   ]
  },
  {
   "cell_type": "markdown",
   "metadata": {},
   "source": [
    "Тогда при смещениях, равных $5$, $0$ и $-5$, мы можем получить сдвинутые функции активации, что способствует лучшему обучению нейронной сети:"
   ]
  },
  {
   "cell_type": "markdown",
   "metadata": {},
   "source": [
    "<center><img src =\"https://edunet.kea.su/repo/EduNet_NLP-content/L03/out/sigmoid_with_different_biases.png\" width=\"700\"></center>"
   ]
  },
  {
   "cell_type": "markdown",
   "metadata": {},
   "source": [
    "## Нейронная сеть как универсальный аппроксиматор"
   ]
  },
  {
   "cell_type": "markdown",
   "metadata": {},
   "source": [
    "Известным теоретическим результатом в области нейронных сетей является **теорема об универсальной аппроксимации**, или [теорема Цыбенко 📚[wiki]](https://ru.wikipedia.org/wiki/%D0%A2%D0%B5%D0%BE%D1%80%D0%B5%D0%BC%D0%B0_%D0%A6%D1%8B%D0%B1%D0%B5%D0%BD%D0%BA%D0%BE). Она гласит следующее:\n",
    "\n",
    "\n",
    "> Искусственная нейронная сеть прямого распространения с одним скрытым слоем и сигмоидальными функциями активации может поточечно аппроксимировать любую непрерывную функцию многих переменных с любой наперед заданной точностью.\n",
    "\n",
    "Условиями универсальной аппроксимации являются достаточное количество нейронов скрытого слоя и правильный подбор параметров (весовых коэффициентов и смещений) нейросети.\n",
    "\n",
    "Данный результат неконструктивен, поскольку он не говорит, *сколько необходимо скрытых нейронов* для аппроксимации той или иной функции, а также *как следует подбирать веса и смещения*. Однако он дает основания полагать, что для аппроксимации любой функции с помощью нейросети **достаточно** одного скрытого слоя с нелинейностями в виде сигмоиды."
   ]
  },
  {
   "cell_type": "markdown",
   "metadata": {},
   "source": [
    "Для того, чтобы увидеть, как из суммы сигмоидальных функций можно построить произвольную функцию, рассмотрим следующую иллюстрацию:"
   ]
  },
  {
   "cell_type": "code",
   "execution_count": null,
   "metadata": {},
   "outputs": [],
   "source": [
    "from IPython.display import HTML\n",
    "from base64 import b64encode\n",
    "\n",
    "!wget -qN https://edunet.kea.su/repo/EduNet_NLP-content/L03/out/universal_approximation.mp4\n",
    "\n",
    "mp4 = open(\"universal_approximation.mp4\", \"rb\").read()\n",
    "data_url = f\"data:video/mp4;base64,{b64encode(mp4).decode()}\"\n",
    "HTML(f\"<video width=1000  controls><source src={data_url} type='video/mp4'></video>\")"
   ]
  },
  {
   "cell_type": "markdown",
   "metadata": {},
   "source": [
    "## Библиотека PyTorch"
   ]
  },
  {
   "cell_type": "markdown",
   "metadata": {},
   "source": [
    "Практически вся наша работа c нейронными сетями будет осуществляться с помощью [PyTorch 🛠️[doc]](https://pytorch.org/), поэтому необходимо познакомиться с основными концептами, принципами и функциями этой библиотеки.\n",
    "\n",
    "Лучший друг в этом, конечно же, [документация 🛠️[doc]](https://pytorch.org/docs/stable/index.html), здесь же мы разберем только основные сущности и методы."
   ]
  },
  {
   "cell_type": "markdown",
   "metadata": {},
   "source": [
    "Класс `torch.Tensor` [🛠️[doc]](https://pytorch.org/docs/stable/tensors.html#torch.Tensor) предоставляет функциональность работы с многомерными массивами.\n",
    "\n",
    "Создание \"пустого\" тензора:"
   ]
  },
  {
   "cell_type": "code",
   "execution_count": null,
   "metadata": {},
   "outputs": [],
   "source": [
    "import torch\n",
    "\n",
    "a = torch.Tensor()"
   ]
  },
  {
   "cell_type": "markdown",
   "metadata": {},
   "source": [
    "Функция создания тензора из списка:"
   ]
  },
  {
   "cell_type": "code",
   "execution_count": null,
   "metadata": {},
   "outputs": [],
   "source": [
    "a = torch.tensor([1.1, 2.2, 3.2])\n",
    "a.dtype"
   ]
  },
  {
   "cell_type": "markdown",
   "metadata": {},
   "source": [
    "Явное указание типа данных:"
   ]
  },
  {
   "cell_type": "code",
   "execution_count": null,
   "metadata": {},
   "outputs": [],
   "source": [
    "a = torch.tensor([1.1, 2.2, 3.2], dtype=torch.float64)\n",
    "a.dtype"
   ]
  },
  {
   "cell_type": "markdown",
   "metadata": {},
   "source": [
    "Создание двумерного тензора, заполненного единицами (для нулей `zeros`)"
   ]
  },
  {
   "cell_type": "code",
   "execution_count": null,
   "metadata": {},
   "outputs": [],
   "source": [
    "a = torch.ones(size=(3, 2))\n",
    "a.size()"
   ]
  },
  {
   "cell_type": "markdown",
   "metadata": {},
   "source": [
    "Создание двумерного тензора, заполненного указанным значением\n"
   ]
  },
  {
   "cell_type": "code",
   "execution_count": null,
   "metadata": {},
   "outputs": [],
   "source": [
    "a = torch.full(size=(3, 2), fill_value=3.74)\n",
    "a"
   ]
  },
  {
   "cell_type": "markdown",
   "metadata": {},
   "source": [
    "Транспонирование (изменение порядка осей)"
   ]
  },
  {
   "cell_type": "code",
   "execution_count": null,
   "metadata": {},
   "outputs": [],
   "source": [
    "a = a.T\n",
    "a"
   ]
  },
  {
   "cell_type": "markdown",
   "metadata": {},
   "source": [
    "В библиотеке реализовано большое количество математических функций"
   ]
  },
  {
   "cell_type": "code",
   "execution_count": null,
   "metadata": {},
   "outputs": [],
   "source": [
    "c = torch.exp(a)\n",
    "print(\"Exponents tensor:\\n\", c)\n",
    "\n",
    "c += 1\n",
    "print(\"\\nAdd 1 to tensor:\\n\", c)"
   ]
  },
  {
   "cell_type": "markdown",
   "metadata": {},
   "source": [
    "Почти всё, что есть в NumPy, есть в PyTorch. Например, суммирование значений тензора с помощью `.sum()`:"
   ]
  },
  {
   "cell_type": "code",
   "execution_count": null,
   "metadata": {},
   "outputs": [],
   "source": [
    "c.sum()"
   ]
  },
  {
   "cell_type": "markdown",
   "metadata": {},
   "source": [
    "Перестановка, удаление и добавление пространственных измерений:"
   ]
  },
  {
   "cell_type": "code",
   "execution_count": null,
   "metadata": {},
   "outputs": [],
   "source": [
    "a = torch.zeros((2, 5, 1, 8))\n",
    "print(\"Original tensor size:\\n\", a.size())\n",
    "\n",
    "a = a.permute(dims=(2, 0, 3, 1))  # permute dimensions\n",
    "print(\"After permute tensor size:\\n\", a.size())\n",
    "\n",
    "a = a.squeeze()  # delete dimension\n",
    "print(\"After squzee tensor size:\\n\", a.size())\n",
    "\n",
    "a = a.unsqueeze(dim=0)  # add dimension\n",
    "print(\"After unsquzee tensor size:\\n\", a.size())"
   ]
  },
  {
   "cell_type": "markdown",
   "metadata": {},
   "source": [
    "Преобразование `torch.Tensor` в `np.ndarray`:"
   ]
  },
  {
   "cell_type": "code",
   "execution_count": null,
   "metadata": {},
   "outputs": [],
   "source": [
    "a.numpy()"
   ]
  },
  {
   "cell_type": "markdown",
   "metadata": {},
   "source": [
    "PyTorch позволяет тензору быть представлением (view) существующего тензора. Тензор представления использует те же данные, что и его базовый тензор. Поддержка `view` позволяет избежать явного копирования данных, что позволяет экономить память."
   ]
  },
  {
   "cell_type": "code",
   "execution_count": null,
   "metadata": {},
   "outputs": [],
   "source": [
    "a = torch.rand(2, 8)\n",
    "print(\"Original tensor:\\n\", a)\n",
    "\n",
    "b = a.view(4, 4)\n",
    "print(\"\\nTensor after view:\\n\", b)\n",
    "\n",
    "print(\"\\nTensor b uses the same memory space as tensor a:\")\n",
    "id(a[0, 0]) == id(b[0, 0])"
   ]
  },
  {
   "cell_type": "markdown",
   "metadata": {},
   "source": [
    "Размещение тензора на GPU:"
   ]
  },
  {
   "cell_type": "code",
   "execution_count": null,
   "metadata": {},
   "outputs": [],
   "source": [
    "device = torch.device(\"cuda\" if torch.cuda.is_available() else \"cpu\")\n",
    "print(f\"Cuda available: {torch.cuda.is_available()} \\n\")\n",
    "\n",
    "a = a.to(device)  # moving tensor to gpu\n",
    "b = torch.full_like(a, 2).to(device)\n",
    "c = a * b  # compute on gpu (more fast with parallel computing)\n",
    "c"
   ]
  },
  {
   "cell_type": "markdown",
   "metadata": {},
   "source": [
    "## Обучение нейронной сети"
   ]
  },
  {
   "cell_type": "markdown",
   "metadata": {},
   "source": [
    "Процесс обучения нейронных сетей состоит из двух этапов: прямого и обратного распространения."
   ]
  },
  {
   "cell_type": "markdown",
   "metadata": {},
   "source": [
    "Во время **прямого распространения** (forward pass) мы подаем на вход нейронной сети пример данных, сигналы проходят через наши слои, на каждом слое применяется **функция активации**. В конце производится расчет значений на выходе модели $y_{pred}$, которые передаются в функцию потерь $\\text{Loss}$ для сравнения с целевыми значениями $y_{true}$.\n",
    "\n",
    "$$\\large y_{pred}=\\text{model}(x, 𝐖)$$\n",
    "\n",
    "$$\\large L=\\text{Loss}(y_{true}, y_{pred})$$\n",
    "\n",
    "Значение функции потерь зависит от целевых значений $y_{true}$, входных данных $x$ и параметров модели $𝐖$.\n",
    "\n",
    "$$\\large L=\\text{Loss}(y_{true}, \\text{model}(x, 𝐖)) = f(y_{true}, x, 𝐖)$$"
   ]
  },
  {
   "cell_type": "markdown",
   "metadata": {},
   "source": [
    "<center><img src =\"https://edunet.kea.su/repo/EduNet_NLP-content/L03/out/forward_pass.png\" width=\"450\"></center>"
   ]
  },
  {
   "cell_type": "markdown",
   "metadata": {},
   "source": [
    "На этапе **обратного распространения (backward propagation)** осуществляется подсчет **градиента** функции потерь о обучаемым параметрам $\\nabla_𝐖L$. Это необходимо для **обновления** параметров модели."
   ]
  },
  {
   "cell_type": "markdown",
   "metadata": {},
   "source": [
    "<center><img src =\"https://edunet.kea.su/repo/EduNet_NLP-content/L03/out/backward_pass.png\" width=\"450\"></center>"
   ]
  },
  {
   "cell_type": "markdown",
   "metadata": {},
   "source": [
    "В рамках этой лекции мы подробно рассмотрим этапы прямого распространения (применение функции активации и функции потерь) и обратного распространения (метод обратного распространения ошибки)."
   ]
  },
  {
   "cell_type": "markdown",
   "metadata": {},
   "source": [
    "#  Функции активации"
   ]
  },
  {
   "cell_type": "markdown",
   "metadata": {},
   "source": [
    "Функции активации вводят нелинейность в нейронные сети, что позволяет аппроксимировать сложные функции. Название связано с биологической аналогией, где нейроны активируются при достижении порогового потенциала.\n",
    "\n",
    "\n",
    "Перцептроны, первые нейронные сети, использовали простую пороговую функцию активации:\n",
    "\n",
    "$$\\large f(x) =\n",
    "\\begin{cases}\n",
    "0, &\\text{$x<b$} \\\\\n",
    "1, &\\text{$x\\geq b$}\n",
    "\\end{cases}\n",
    "$$"
   ]
  },
  {
   "cell_type": "markdown",
   "metadata": {},
   "source": [
    "<center><img src =\"https://edunet.kea.su/repo/EduNet_NLP-content/L03/out/threshold_function_plot.png\" width=\"300\"></center>"
   ]
  },
  {
   "cell_type": "markdown",
   "metadata": {},
   "source": [
    "## Требования к функциям активации"
   ]
  },
  {
   "cell_type": "markdown",
   "metadata": {},
   "source": [
    "1. **Нелинейность:** Функции активации добавляют нелинейность, необходимую для аппроксимации сложных функций, чего нельзя достичь простой линейной моделью. Без нелинейностей нейронные сети действуют как линейные модели.\n",
    "\n",
    "2. **Дифференцируемость:** Функции активации должны быть дифференцируемыми, чтобы применять градиентные методы оптимизации."
   ]
  },
  {
   "cell_type": "markdown",
   "metadata": {},
   "source": [
    "Рассмотрим наиболее популярные функции активации и обсудим их преимущества и недостатки."
   ]
  },
  {
   "cell_type": "markdown",
   "metadata": {},
   "source": [
    "<center><img src =\"https://edunet.kea.su/repo/EduNet_NLP-web_dependencies/L03/popular_activation_functions.png\" width=\"700\"></center>\n",
    "\n",
    "<center><em>Источник: <a href=\"https://arxiv.org/pdf/1911.05187.pdf\">AI in Pursuit of Happiness, Finding Only Sadness: Multi-Modal Facial Emotion Recognition Challenge</a></em></center>"
   ]
  },
  {
   "cell_type": "markdown",
   "metadata": {},
   "source": [
    "## Логистическая функция"
   ]
  },
  {
   "cell_type": "markdown",
   "metadata": {},
   "source": [
    "Логистическая (сигмоидальная) функция — используется в задачах бинарной классификации, в основном после выхода последнего нейрона. Позволяет определить вероятность принадлежности к одному из двух классов (0 или 1)."
   ]
  },
  {
   "cell_type": "markdown",
   "metadata": {},
   "source": [
    "$$\\large \\sigma(x)=\\frac{1}{1+e^{-x}}$$"
   ]
  },
  {
   "cell_type": "markdown",
   "metadata": {},
   "source": [
    "<center><img src =\"https://edunet.kea.su/repo/EduNet_NLP-content/L03/out/sigmoid_function.png\" width=\"500\"></center>"
   ]
  },
  {
   "cell_type": "markdown",
   "metadata": {},
   "source": [
    "В отличие от пороговой функции активации, где у нейрона было всего два состояния: \"активирован\" или \"не активирован\", с логистической функцией для нейрона возможны значения \"активирован на $50\\%$\", \"активирован на $20\\%$\" и так далее. Если активированы несколько нейронов, можно найти нейрон с наибольшим значением активации."
   ]
  },
  {
   "cell_type": "markdown",
   "metadata": {},
   "source": [
    "[[doc] 🛠️ Сигмоидальная функция активации в PyTorch](https://pytorch.org/docs/stable/generated/torch.nn.Sigmoid.html):\n",
    "```python\n",
    "torch.nn.Sigmoid()\n",
    "```"
   ]
  },
  {
   "cell_type": "code",
   "execution_count": null,
   "metadata": {},
   "outputs": [],
   "source": [
    "import torch\n",
    "from torch import nn\n",
    "\n",
    "activation = nn.Sigmoid()\n",
    "input_values = torch.randn(5) * 5\n",
    "activation_sig = activation(input_values)\n",
    "print(f\"input_values: {input_values}\\nactivation_sig: {activation_sig}\")"
   ]
  },
  {
   "cell_type": "markdown",
   "metadata": {},
   "source": [
    "Значения логистической функции активации лежат в интервале от 0 до 1, что делает ее полезной для моделирования вероятностных величин. Значения сигмоиды можно интерпретировать как вероятности, что делает ее полезной в задачах бинарной, а также многозначной (multilabel) классификации."
   ]
  },
  {
   "cell_type": "markdown",
   "metadata": {},
   "source": [
    "##  Гиперболический тангенс"
   ]
  },
  {
   "cell_type": "markdown",
   "metadata": {},
   "source": [
    "Гиперболический тангенс схож с логистической функцией. Он определяется следующей формулой:"
   ]
  },
  {
   "cell_type": "markdown",
   "metadata": {},
   "source": [
    "$$\\large \\tanh(x)=\\frac{e^x - e^{-x}}{e^x+e^{-x}}$$"
   ]
  },
  {
   "cell_type": "markdown",
   "metadata": {},
   "source": [
    "<center><img src =\"https://edunet.kea.su/repo/EduNet_NLP-content/L03/out/tanh_function.png\" width=\"500\"></center>"
   ]
  },
  {
   "cell_type": "markdown",
   "metadata": {},
   "source": [
    "Значения гиперболического тангенса лежат в интервале от $-1$ до $1$, что обеспечивает симметричность относительно нуля. Гиперболический тангенс применяют в основном в скрытых слоях нейронных сетей для моделирования нелинейных зависимостей в данных."
   ]
  },
  {
   "cell_type": "markdown",
   "metadata": {},
   "source": [
    "[[doc] 🛠️ Гиперболический тангенс в PyTorch](https://pytorch.org/docs/stable/generated/torch.nn.Tanh.html):\n",
    "```python\n",
    "torch.nn.Tanh()\n",
    "```"
   ]
  },
  {
   "cell_type": "code",
   "execution_count": null,
   "metadata": {},
   "outputs": [],
   "source": [
    "activation = nn.Tanh()\n",
    "input_values = torch.tensor([11.1529, 4.3029, 0.5081, -3.8456, -1.9058])\n",
    "activation_tanh = activation(input_values)\n",
    "print(f\"input_values: {input_values}\\nactivation_tanh: {activation_tanh}\")"
   ]
  },
  {
   "cell_type": "markdown",
   "metadata": {},
   "source": [
    "##  ReLU"
   ]
  },
  {
   "cell_type": "markdown",
   "metadata": {},
   "source": [
    "Часто на практике применяется функция активации ReLU. Значение данной функции равно нулю для всех отрицательных входных значений и равно входному значению, если оно неотрицательно. Название ReLU (Rectified Linear Unit), \"выпрямитель\", связано с электротехнической аналогией."
   ]
  },
  {
   "cell_type": "markdown",
   "metadata": {},
   "source": [
    "$$\\large \\text{ReLU}(x)=\\max(0,x)$$"
   ]
  },
  {
   "cell_type": "markdown",
   "metadata": {},
   "source": [
    "<center><img src =\"https://edunet.kea.su/repo/EduNet_NLP-content/L03/out/relu_function.png\" width=\"500\"></center>"
   ]
  },
  {
   "cell_type": "markdown",
   "metadata": {},
   "source": [
    "[[doc] 🛠️ ReLU в PyTorch](https://pytorch.org/docs/stable/generated/torch.nn.ReLU.html):\n",
    "```python\n",
    "torch.nn.ReLU()\n",
    "```"
   ]
  },
  {
   "cell_type": "code",
   "execution_count": null,
   "metadata": {},
   "outputs": [],
   "source": [
    "activation = nn.ReLU()\n",
    "input_values = torch.randn(5)\n",
    "activation_relu = activation(input_values)\n",
    "print(f\"input_values: {input_values}\\nactivation_relu: {activation_relu}\")"
   ]
  },
  {
   "cell_type": "markdown",
   "metadata": {},
   "source": [
    "Значения ReLU лежат в диапазоне $[0, + \\infty)$. Все отрицательные значения обнуляются, а положительные значения остаются без изменений. **Проблема \"умерших\" нейронов**. Нейроны с отрицательными входами имеют нулевой градиент и могут остановить обновление своих весов.\n",
    "\n",
    "Функцию активации ReLU применяют в нейронных сетях в основном в скрытых слоях. Она широко используется во многих архитектурах, доказавших свою эффективность на практике."
   ]
  },
  {
   "cell_type": "markdown",
   "metadata": {},
   "source": [
    "## Leaky ReLU"
   ]
  },
  {
   "cell_type": "markdown",
   "metadata": {},
   "source": [
    "Leaky ReLU (ReLU с «утечкой») является простейшей модификацией описанной выше ReLU, призванной исправить проблему \"умирания\" отдельных нейронов. В отличие от ReLU, данная функция не равна константе $0$ при всех отрицательных входных значениях, а реализует в этой области линейную зависимость с небольшим угловым коэффициентом (например, с угловым коэффициентом $10^{-2}$)."
   ]
  },
  {
   "cell_type": "markdown",
   "metadata": {},
   "source": [
    "$$\\large \\text{LeakyReLU}(x, \\alpha)=\\max(\\alpha x,x), \\ \\ \\ \\alpha<1$$"
   ]
  },
  {
   "cell_type": "markdown",
   "metadata": {},
   "source": [
    "<center><img src =\"https://edunet.kea.su/repo/EduNet_NLP-content/L03/out/leaky_relu_function.png\" width=\"500\"></center>"
   ]
  },
  {
   "cell_type": "markdown",
   "metadata": {},
   "source": [
    "[[doc] 🛠️ Leaky ReLU в PyTorch](https://pytorch.org/docs/stable/generated/torch.nn.LeakyReLU.html):\n",
    "```python\n",
    "torch.nn.LeakyReLU()\n",
    "```"
   ]
  },
  {
   "cell_type": "code",
   "execution_count": null,
   "metadata": {},
   "outputs": [],
   "source": [
    "activation = nn.LeakyReLU(0.01)\n",
    "input_values = torch.randn(5)\n",
    "activation_lrelu = activation(input_values)\n",
    "print(f\"input_values: {input_values}\\nactivation_lrelu: {activation_lrelu}\")"
   ]
  },
  {
   "cell_type": "markdown",
   "metadata": {},
   "source": [
    "Значения LeakyReLU лежат в диапазоне $(-\\infty, +\\infty)$. Использование ненулевого наклона для отрицательных значений помогает избежать проблемы \"умерших нейронов\", которая возникает при использовании обычной ReLU. Однако необходимо выбирать значение для наклона отрицательной части, что может потребовать дополнительного подбора и настройки.\n",
    "\n",
    "Функцию активации LeakyReLU применяют в нейронных сетях в основном в скрытых слоях для предотвращения проблемы \"умерших\" нейронов, особенно в глубоких архитектурах."
   ]
  },
  {
   "cell_type": "markdown",
   "metadata": {},
   "source": [
    "##  GELU (Gaussian Error Linear Unit)"
   ]
  },
  {
   "cell_type": "markdown",
   "metadata": {},
   "source": [
    "GELU — функция активации, которая сочетает в себе свойства ReLU и сигмоиды. Она применяет к входным данным кумулятивную функцию гауссова распределения.\n",
    "\n",
    "На практике GELU может быть приблизительно вычислена так:\n",
    "\n",
    "$$\\large \\text{GELU}(x)\\approx 0.5x(1+\\tanh[\\sqrt{2/\\pi}(x+0.044715x^3)])$$\n",
    "\n",
    "или\n",
    "\n",
    "$$\\large \\text{GELU}(x) \\approx x\\cdot \\sigma(1.702x)$$"
   ]
  },
  {
   "cell_type": "markdown",
   "metadata": {},
   "source": [
    "<center><img src =\"https://edunet.kea.su/repo/EduNet_NLP-content/L03/out/gelu_function.png\" width=\"500\"></center>"
   ]
  },
  {
   "cell_type": "markdown",
   "metadata": {},
   "source": [
    "Значения GELU лежат в диапазоне от $0$ до $+\\infty$. Она не требует дополнительной настройки гиперпараметров.\n",
    "\n",
    "GELU применяется в современных нейронных сетях, таких как трансформеры (о которых поговорим в следующих лекциях), и широко используется в архитектурах, требующих адаптивности и высокой производительности."
   ]
  },
  {
   "cell_type": "markdown",
   "metadata": {},
   "source": [
    "[[doc] 🛠️ GELU в PyTorch](https://pytorch.org/docs/stable/generated/torch.nn.GELU.html):\n",
    "```python\n",
    "torch.nn.GELU()\n",
    "```"
   ]
  },
  {
   "cell_type": "code",
   "execution_count": null,
   "metadata": {},
   "outputs": [],
   "source": [
    "activation = nn.GELU()\n",
    "input_values = torch.randn(5) * 5\n",
    "activation_gelu = activation(input_values)\n",
    "print(f\"input_values: {input_values}\\nactivation_gelu: {activation_gelu}\")"
   ]
  },
  {
   "cell_type": "markdown",
   "metadata": {},
   "source": [
    "#  Функции потерь (loss functions)"
   ]
  },
  {
   "cell_type": "markdown",
   "metadata": {},
   "source": [
    "Предположим, у нас есть нейронная сеть с некоторыми весами. Прежде всего мы должны понять, насколько она точна, то есть насколько наши ожидания соответствуют результату работы нейронной сети. Мы подали на вход нейронной сети пример данных, сигналы прошли через наши слои и функции активации вперёд **(forward propagation)**, и на выходе мы имеем предсказание. Как оценить его точность?"
   ]
  },
  {
   "cell_type": "markdown",
   "metadata": {},
   "source": [
    "Для оценки соответствия полученного результата ожидаемому используют функцию потерь (loss function). Значение функции потерь даёт количественную оценку величины такого соответствия.\n",
    "\n",
    "Функция потерь в нейронной сети принимает два аргумента:\n",
    "* вектор значений, который мы считаем априорно верным;\n",
    "* вектор значений конечных выходов модели, который должен соответствовать априорно верному.\n",
    "\n",
    "[[doc] 🛠️ Функции потерь в PyTorch](https://pytorch.org/docs/stable/nn.html#loss-functions)"
   ]
  },
  {
   "cell_type": "markdown",
   "metadata": {},
   "source": [
    "###  Cross-Entropy"
   ]
  },
  {
   "cell_type": "markdown",
   "metadata": {},
   "source": [
    "Кросс-энтропия — классическая функция потерь **при решении задач классификации**. Возникновение такой формы измерения различия между целевой переменной и предсказанием модели в задаче классификации мы уже рассматривали на лекции про линейные классификаторы. Напомним здесь формулу, по которой она рассчитывается."
   ]
  },
  {
   "cell_type": "markdown",
   "metadata": {},
   "source": [
    "Для $i$-го объекта выборки, если выходной вектор состоит из $C$ компонент (**логитов** для $C$ классов), кросс-энтропия между выходом модели $\\hat{y}$ и целевым вектором $y$ будет равна\n",
    "\n",
    "$$\\large \\text{CE}_i(\\hat{y},y)= - \\sum_{k=1}^{C}{y_{ik}\\cdot\\log\\left(\\frac{\\exp(\\hat{y}_{ik})}{\\sum_{j=1}^{C}\\exp(\\hat{y}_{ij})}\\right)}$$\n"
   ]
  },
  {
   "cell_type": "markdown",
   "metadata": {},
   "source": [
    "**Примечание, относящееся ко всем функциям потерь в PyTorch, которые будут рассмотрены ниже.**\n",
    "\n",
    "При вычислении по всему набору данных (или по мини-батчу) из $N$ объектов ошибка на отдельных объектах может усредняться или суммироваться. За это отвечает параметр `reduction`, который принимает значения `'mean'` или `'sum'`, а также может принимать значение `'none'`, при котором агрегация производиться не будет, и тогда функция будет возвращать тензор значений размером $N$.\n",
    "\n",
    "**По умолчанию в большинстве функций потерь в PyTorch `reduction='mean'`.**\n"
   ]
  },
  {
   "cell_type": "markdown",
   "metadata": {},
   "source": [
    "[[doc] 🛠️ Cross-Entropy Loss в PyTorch](https://pytorch.org/docs/stable/generated/torch.nn.CrossEntropyLoss.html#torch.nn.CrossEntropyLoss):\n",
    "```python\n",
    "torch.nn.CrossEntropyLoss()\n",
    "```\n",
    "\n",
    "Обратите внимание, что Cross-Entropy Loss в PyTorch уже включает в себя Softmax и принимает в качестве выхода модели логиты. Поэтому при использовании данной фукции потерь ставить на последнем слое нейронной сети Softmax **не нужно**."
   ]
  },
  {
   "cell_type": "code",
   "execution_count": null,
   "metadata": {},
   "outputs": [],
   "source": [
    "import torch\n",
    "from torch import nn\n",
    "\n",
    "criterion = nn.CrossEntropyLoss()\n",
    "\n",
    "\n",
    "# fmt: off\n",
    "model_output = torch.tensor([[2.4, 1.9, 7.3],\n",
    "                             [9.5, 2.7, 4.0],\n",
    "                             [5.7, 4.1, 0.2]])  # logits\n",
    "# fmt: on\n",
    "\n",
    "print(f\"model_output:\\n {model_output}\")\n",
    "\n",
    "target = torch.tensor([2, 0, 1], dtype=torch.long)  # class labels\n",
    "print(f\"target: {target}\")\n",
    "\n",
    "loss_ce = criterion(model_output, target)\n",
    "print(f\"loss_ce: {loss_ce}\")"
   ]
  },
  {
   "cell_type": "markdown",
   "metadata": {},
   "source": [
    "$$\\text{CE}_1 = - \\log\\left(\\frac{\\exp{(7.3)}}{\\exp{(2.4)}+\\exp{(1.9)}+\\exp{(7.3)}}\\right)$$\n",
    "\n",
    "$$\\text{CE}_2 = - \\log\\left(\\frac{\\exp{(9.5)}}{\\exp{(9.5)}+\\exp{(2.7)}+\\exp{(4.0)}}\\right)$$\n",
    "\n",
    "$$\\text{CE}_3 = - \\log\\left(\\frac{\\exp{(4.1)}}{\\exp{(5.7)}+\\exp{(4.1)}+\\exp{(0.2)}}\\right)$$\n",
    "\n",
    "$$\\text{CE} = \\frac{1}{3}(\\text{CE}_1 + \\text{CE}_2 + \\text{CE}_3)$$"
   ]
  },
  {
   "cell_type": "code",
   "execution_count": null,
   "metadata": {},
   "outputs": [],
   "source": [
    "import numpy as np\n",
    "\n",
    "ce_1 = -np.log(np.exp(7.3) / (np.exp(2.4) + np.exp(1.9) + np.exp(7.3)))\n",
    "ce_2 = -np.log(np.exp(9.5) / (np.exp(9.5) + np.exp(2.7) + np.exp(4.0)))\n",
    "ce_3 = -np.log(np.exp(4.1) / (np.exp(5.7) + np.exp(4.1) + np.exp(0.2)))\n",
    "\n",
    "ce = (1 / 3) * (ce_1 + ce_2 + ce_3)\n",
    "print(f\"hand-calculated loss_ce: {ce}\")"
   ]
  },
  {
   "cell_type": "markdown",
   "metadata": {},
   "source": [
    "* **Преимущества:** Важное свойство кросс-энтропии — возможность работать с весами для классов, а значит и возможность применения этой функции потерь при работе с несбалансированным датасетом."
   ]
  },
  {
   "cell_type": "markdown",
   "metadata": {},
   "source": [
    "#### Веса классов"
   ]
  },
  {
   "cell_type": "markdown",
   "metadata": {},
   "source": [
    "При работе с несбалансированными данными модель может сосредоточиться на доминирующем классе, игнорируя признаки объектов. Например, в датасете с 95% объектов класса 1 и 5% — класса 0, модель может просто присваивать всем объектам класс 1, достигая 95% точности.\n",
    "\n",
    "Чтобы учесть дисбаланс, можно модифицировать функцию потерь, увеличивая штраф за ошибки в минорных классах. В PyTorch параметр `weight` в `CrossEntropyLoss` [🛠️[doc]](https://pytorch.org/docs/stable/generated/torch.nn.CrossEntropyLoss.html) позволяет задать веса для каждого класса, корректируя функцию потерь с учетом дисбаланса."
   ]
  },
  {
   "cell_type": "markdown",
   "metadata": {},
   "source": [
    "Посмотрим, как это работает. Допустим, мы получили от нейросети неверные предсказания: второй объект должен относиться к классу $1$, а не $0$:"
   ]
  },
  {
   "cell_type": "code",
   "execution_count": null,
   "metadata": {},
   "outputs": [],
   "source": [
    "# fmt: off\n",
    "# Scores for batch of two samples\n",
    "model_output = torch.tensor([[30.0, 2.0],\n",
    "                             [30.0, 2.0]])\n",
    "\n",
    "target = torch.tensor([0, 1])  # Second sample belongs to class 1\n",
    "# but logit for class 0 is greater: 30 > 2. So it was misclassified\n",
    "# fmt: on"
   ]
  },
  {
   "cell_type": "markdown",
   "metadata": {},
   "source": [
    "Подсчитаем Cross-Entropy Loss без весов:"
   ]
  },
  {
   "cell_type": "markdown",
   "metadata": {},
   "source": [
    "$$\\large \\text{CE} = \\frac{1}{2} \\biggr[- \\log\\frac{e^{30}}{e^{30}+e^{2}} - \\log\\frac{e^{2}}{e^{30}+e^{2}}\\biggr]\\approx 14.0 $$"
   ]
  },
  {
   "cell_type": "code",
   "execution_count": null,
   "metadata": {},
   "outputs": [],
   "source": [
    "criterion = torch.nn.CrossEntropyLoss()\n",
    "loss = criterion(model_output, target)\n",
    "print(f\"Loss = {loss.item():.2f}\")"
   ]
  },
  {
   "cell_type": "markdown",
   "metadata": {},
   "source": [
    "Если у нас есть два класса с соотношением $4:1$, можно задать веса `weight = [0.2, 0.8]`. И, так как сеть ошиблась на классе с большим весом, ошибка вырастет:"
   ]
  },
  {
   "cell_type": "markdown",
   "metadata": {},
   "source": [
    "$$\\large \\text{CE}_{\\text{weighted}} =  \\biggr[\\mathbf{-0.2} \\log\\frac{e^{30}}{e^{30}+e^{2}} -\\mathbf{0.8} \\log\\frac{e^{2}}{e^{30}+e^{2}}\\biggr]\\approx 22.4 $$"
   ]
  },
  {
   "cell_type": "code",
   "execution_count": null,
   "metadata": {},
   "outputs": [],
   "source": [
    "weights = torch.tensor([0.2, 0.8])\n",
    "criterion = torch.nn.CrossEntropyLoss(weight=weights)\n",
    "loss = criterion(model_output, target)\n",
    "print(f\"Loss = {loss.item():.2f}\")"
   ]
  },
  {
   "cell_type": "markdown",
   "metadata": {},
   "source": [
    "Сумма весов не обязана быть равной единице, важно только соотношение между весами. Часто соотношение весов делают обратно пропорциональным количеству объектов в классах."
   ]
  },
  {
   "cell_type": "code",
   "execution_count": null,
   "metadata": {},
   "outputs": [],
   "source": [
    "criterion = torch.nn.CrossEntropyLoss(weight=torch.tensor([1.0, 4.0]))\n",
    "loss = criterion(model_output, target)\n",
    "print(f\"Loss = {loss.item():.2f}\")"
   ]
  },
  {
   "cell_type": "markdown",
   "metadata": {},
   "source": [
    "- Иногда качество модели можно улучшить, взяв квадратные корни от полученных таким образом весов (немного снижает штрафы за ошибки на редких классах).\n",
    "\n",
    "- Несмотря на интуитивно понятную логику работы способа, он не всегда дает значительный эффект. Тем не менее, на практике стоит пробовать экспериментировать с этим способом наряду с прочими техниками борьбы с дисбалансом."
   ]
  },
  {
   "cell_type": "markdown",
   "metadata": {},
   "source": [
    "### Negative Log Likelihood\n"
   ]
  },
  {
   "cell_type": "markdown",
   "metadata": {},
   "source": [
    "NLL Loss, используемая для классификации, отличается от Cross-Entropy Loss тем, что ожидает логарифмы вероятностей классов на выходе модели, а не логиты."
   ]
  },
  {
   "cell_type": "markdown",
   "metadata": {},
   "source": [
    "Для $i$-го объекта выборки, если выходной вектор состоит из $C$ компонент (**логарифмов вероятностей** для $C$ классов), обратный логарифм правдоподобия между выходом модели $\\hat{y}$ и целевым вектором $y$ будет равен:\n",
    "\n",
    "$$\\large \\text{NLL}_i(\\hat{y},y)= - \\sum_{k=1}^{C}{y_{ik}\\cdot\\hat{y}_{ik}}$$\n"
   ]
  },
  {
   "cell_type": "markdown",
   "metadata": {},
   "source": [
    "Для применения NLL Loss в классификации логиты модели нужно сначала преобразовать через Softmax и взять их натуральный логарифм. В PyTorch это выполняется с помощью модуля `LogSoftmax` [🛠️[doc]](https://pytorch.org/docs/stable/generated/torch.nn.LogSoftmax.html). Связь между NLL Loss и Cross-Entropy Loss можно выразить так:"
   ]
  },
  {
   "cell_type": "markdown",
   "metadata": {},
   "source": [
    "<center><img src=\"https://edunet.kea.su/repo/EduNet-content/dev-2.1/L05/out/ce_loss_vs_nll_loss.png\" width=\"900\"></center>"
   ]
  },
  {
   "cell_type": "markdown",
   "metadata": {},
   "source": [
    "Двойственность NLL Loss и Cross-Entropy Loss может немного путать. Она возникла из-за того, что NLL Loss была исторически раньше реализована в библиотеке. Было принято на выходе модели ставить LogSoftmax, и использовать NLL Loss. Позднее была реализована функция Cross-Entropy Loss, которая включала в себя одновременно LogSoftmax и NLL Loss и позволяла не добавлять в модель лишний модуль. За счет такого упрощения использование Cross-Entropy Loss быстро стало более популярно. Реализацию NLL Loss, по всей видимости, оставили в библиотеке скорее для обратной совместимости."
   ]
  },
  {
   "cell_type": "markdown",
   "metadata": {},
   "source": [
    "Исторически NLL Loss использовалась с LogSoftmax, тогда как Cross-Entropy Loss объединяет LogSoftmax и NLL Loss, упрощая модель. Cross-Entropy Loss стала популярнее за счёт упрощения.\n",
    "\n",
    "После обучения модели:\n",
    "\n",
    "- **LogSoftmax + NLL Loss:** На выходе логарифмы вероятностей. Для получения вероятностей нужно взять экспоненту.\n",
    "  \n",
    "- **Cross-Entropy Loss:** На выходе логиты. Для получения вероятностей примените Softmax.\n",
    "\n",
    "[[blog] ✏️ Объяснение Negative Log Likelihood Loss](https://ljvmiranda921.github.io/notebook/2017/08/13/softmax-and-the-negative-log-likelihood/)\n",
    "\n",
    "[[blog] ✏️ О соотношении Cross-Entropy Loss и Negative Log Likelihood Loss](https://jamesmccaffrey.wordpress.com/2020/06/11/pytorch-crossentropyloss-vs-nllloss-cross-entropy-loss-vs-negative-log-likelihood-loss/)"
   ]
  },
  {
   "cell_type": "markdown",
   "metadata": {},
   "source": [
    "[[blog] ✏️ Объяснение Negative Log Likelihood Loss](https://ljvmiranda921.github.io/notebook/2017/08/13/softmax-and-the-negative-log-likelihood/)\n",
    "\n",
    "[[blog] ✏️ О соотношении Cross-Entropy Loss и Negative Log Likelihood Loss](https://jamesmccaffrey.wordpress.com/2020/06/11/pytorch-crossentropyloss-vs-nllloss-cross-entropy-loss-vs-negative-log-likelihood-loss/)"
   ]
  },
  {
   "cell_type": "markdown",
   "metadata": {},
   "source": [
    "###  Binary Cross-Entropy"
   ]
  },
  {
   "cell_type": "markdown",
   "metadata": {},
   "source": [
    "В частном случае, когда количество классов равно двум (**задача бинарной классификации**), их можно закодировать одним числом: $0$ — для первого класса, и $1$ — для второго. Тогда сумму $\\displaystyle \\sum_{k=1}^{C}$ в формуле Cross-Entropy Loss можно расписать в явном виде."
   ]
  },
  {
   "cell_type": "markdown",
   "metadata": {},
   "source": [
    "Для $i$-го объекта выборки, когда выход модели является скаляром (**вероятностью** отнесения объекта к классу $1$), бинарная кросс-энтропия между выходом модели $\\hat{y}$  и целевым значением $y$ будет равна\n",
    "\n",
    "$$\\text{BCE}_i(\\hat{y},y)= - [{y_i\\cdot\\log(\\hat{y_i})+(1-y_i)\\cdot\\log(1-\\hat{y_i})}]$$"
   ]
  },
  {
   "cell_type": "markdown",
   "metadata": {},
   "source": [
    "[[doc] 🛠️ Binary Cross-Entropy Loss в PyTorch](https://pytorch.org/docs/stable/generated/torch.nn.BCELoss.html#torch.nn.BCELoss):\n",
    "\n",
    "```python\n",
    "torch.nn.BCELoss()\n",
    "```\n",
    "\n"
   ]
  },
  {
   "cell_type": "markdown",
   "metadata": {},
   "source": [
    "Важной особенностью BCE Loss является то, что здесь используется не one-hot кодирование целевых значений для двух классов, а **одно число: 0 — первый класс, 1 — второй класс.** При этом значения целевой переменной должны быть представлены как вещественные (float) числа."
   ]
  },
  {
   "cell_type": "code",
   "execution_count": null,
   "metadata": {},
   "outputs": [],
   "source": [
    "criterion = nn.BCELoss()\n",
    "\n",
    "model_output = torch.rand(1)\n",
    "print(f\"model_output: {model_output}\")\n",
    "\n",
    "target = torch.empty(1).random_(2)\n",
    "print(f\"target: {target}\")\n",
    "\n",
    "loss_bce = criterion(model_output, target)\n",
    "print(f\"loss_bce: {loss_bce}\")"
   ]
  },
  {
   "cell_type": "markdown",
   "metadata": {},
   "source": [
    "### Binary Cross-Entropy With Logits"
   ]
  },
  {
   "cell_type": "markdown",
   "metadata": {},
   "source": [
    "Для того чтобы выход модели при бинарной классификации представлял собой **вероятность отнесения объекта к классу $1$**, на выходе модели мы должны использовать логистическую функцию (sigmoid), результат которой можно будет передать в BCE Loss.\n",
    "\n",
    "По аналогии с NLL Loss и Cross-Entropy Loss, у BCE Loss есть своя \"пара\": BCE With Logits Loss. Эта функция потерь совмещает в себе две операции:\n",
    "\n",
    "* применение логистической функции Sigmoid,\n",
    "* расчет BCE Loss.\n",
    "\n",
    "Как можно понять из названия, BCE With Logits Loss на вход ожидает логиты. Взаимоотношение между BCE Loss и BCE With Logits Loss можно отобразить такой иллюстрацией:"
   ]
  },
  {
   "cell_type": "markdown",
   "metadata": {},
   "source": [
    "<center><img src=\"https://edunet.kea.su/repo/EduNet_NLP-content/L03/out/bce_loss_vs_bce_with_logits_loss.png\" width=\"900\"></center>"
   ]
  },
  {
   "cell_type": "markdown",
   "metadata": {},
   "source": [
    "Функцию потерь BCE Loss (или ее \"аналог\" BCE With Logits Loss) можно применять не только в случае бинарной классификации, но и **в случае Multi-label классификации**.\n",
    "\n",
    "В таком случае в векторе целевых значений вероятностей для каждого объекта может быть больше, чем одна единица. А логиты на последнем слое сети независимо пропускаются через сигмоиду (а не через Softmax, как в случае с многоклассовой классификацией)."
   ]
  },
  {
   "cell_type": "markdown",
   "metadata": {},
   "source": [
    "#  Метод обратного распространения ошибки"
   ]
  },
  {
   "cell_type": "markdown",
   "metadata": {},
   "source": [
    "Для эффективного численного расчета градиента функции потерь по обучаемым параметрам модели применяется **метод обратного распространения ошибки (backpropagation)**. Благодаря данному методу становится практически возможным использование метода градиентного спуска для проведения процедуры обучения."
   ]
  },
  {
   "cell_type": "markdown",
   "metadata": {},
   "source": [
    "<center><img src =\"https://edunet.kea.su/repo/EduNet_NLP-content/L03/out/backward_pass.png\" width=\"450\"></center>"
   ]
  },
  {
   "cell_type": "markdown",
   "metadata": {},
   "source": [
    "Метод обратного распространения ошибки использует структуру многослойной нейронной сети как сложной функции, применяя правило дифференцирования сложной функции для вычисления градиента от функции потерь по весам сети. Градиент от функции потерь вычисляется при движении по нейронной сети от её выходов в направлении входов. Именно такой порядок обхода вычислительного графа и обуславливает название метода."
   ]
  },
  {
   "cell_type": "markdown",
   "metadata": {},
   "source": [
    "## Вычислительный граф"
   ]
  },
  {
   "cell_type": "markdown",
   "metadata": {},
   "source": [
    "По существу, нейронная сеть является сложной функцией, работу которой можно представить как последовательное выполнение математических операций. Такое представление функций называется [вычислительным графом ✏️[blog]](https://qudata.com/ml/ru/ML_Comp_Graph.html)."
   ]
  },
  {
   "cell_type": "markdown",
   "metadata": {},
   "source": [
    "<center><img src =\"https://edunet.kea.su/repo/EduNet_NLP-content/L03/out/nn_fully_connected.png\"  width=\"500\"></center>"
   ]
  },
  {
   "cell_type": "markdown",
   "metadata": {},
   "source": [
    "Алгоритм обратного распространения ошибки позволяет находить градиенты для любого графа вычислений, если описываемая им функция дифференцируема.\n",
    "\n",
    "В его основе лежит правило взятия производной сложной функции (chain rule):"
   ]
  },
  {
   "cell_type": "markdown",
   "metadata": {},
   "source": [
    "Одна переменная:\n",
    "\n",
    "$$\\large y(x) = f(u(g(x))) $$\n",
    "\n",
    "$$\\large \\frac{dy}{dx} = \\frac{df}{du} \\frac{du}{dg} \\frac{dg}{dx}$$"
   ]
  },
  {
   "cell_type": "markdown",
   "metadata": {},
   "source": [
    "Несколько переменных:\n",
    "\n",
    "$$\\large y(x) = f(u_1(x),u_2(x),...u_n(x))$$\n",
    "\n",
    "$$\\large \\frac{dy}{dx} = \\sum_{i=1}^{n} \\frac{\\partial f(u_1, u_2, ... u_n)}{\\partial u_i} \\frac{du_i}{dx}$$\n",
    "\n",
    "$$\\large \\underbrace{\\frac{d}{dx} f(\\vec{\\mathbf{u}}(x))}_{\\text{Derivative of composition function}} = \\overbrace{\\nabla_{\\vec{u}} f \\cdot \\vec{\\mathbf{u}}'(x)}^{\\text{Dot product of vectors}}$$"
   ]
  },
  {
   "cell_type": "markdown",
   "metadata": {},
   "source": [
    "##  Пошаговый разбор метода обратного распространения"
   ]
  },
  {
   "cell_type": "markdown",
   "metadata": {},
   "source": [
    "Пусть в каком-то узле графа производится вычисление\n",
    "\n",
    "$$\\large z = f(x, y),$$\n",
    "\n",
    "и далее результат вычисления $\\large z$ используется для вычисления функции $\\large L(z)=L(f(x, y))$.\n",
    "\n",
    "Тогда правило вычисления производных $\\dfrac{\\partial L}{\\partial x}$ и $\\dfrac{\\partial L}{\\partial y}$ можно представить следующим образом:"
   ]
  },
  {
   "cell_type": "markdown",
   "metadata": {},
   "source": [
    "<center><img src =\"https://edunet.kea.su/repo/EduNet_NLP-content/L03/out/rule_for_taking_gradients.png\"  width=\"500\"></center>"
   ]
  },
  {
   "cell_type": "markdown",
   "metadata": {},
   "source": [
    "Рассмотрим следующую функцию:\n",
    "\n",
    "$$\\Large f(w,x)=\\frac{1}{1+e^{-(w_0x_0+w_1x_1+w_2)}}$$\n",
    "\n",
    "Представим ее в виде вычислительного графа, состоящего из элементарных операций, от которых просто берутся производные:"
   ]
  },
  {
   "cell_type": "markdown",
   "metadata": {},
   "source": [
    "<center><img src =\"https://edunet.kea.su/repo/EduNet_NLP-content/L03/out/graph_of_calculation_gradient.png\"  width=\"700\"></center>"
   ]
  },
  {
   "cell_type": "markdown",
   "metadata": {},
   "source": [
    "На примере данной функции рассмотрим алгоритм обратного распространения ошибки и найдём величину её градиента по параметрам $\\large w$.\n",
    "Нам потребуется вычислить частные производные $\\dfrac{\\partial f}{\\partial w_0}, \\dfrac{\\partial f}{\\partial w_1}, \\dfrac{\\partial f}{dw_2}, \\dfrac{\\partial f}{\\partial x_0}$ и $\\dfrac{\\partial f}{\\partial x_1}$.\n",
    "\n",
    "Пусть \"веса\" $w$ инициализированы значениями $w_0=2,\\;w_1=-3,\\;w_2=-3$, а \"входные признаки\" $x$ принимают значения $x_0=-1,\\;x_1=-2$.\n",
    "\n",
    "Делая прямой проход через граф вычислений для данной функции, получаем её значение для заданных $w$ и $x$ равным $f=0.73$:"
   ]
  },
  {
   "cell_type": "markdown",
   "metadata": {},
   "source": [
    "<center><img src =\"https://edunet.kea.su/repo/EduNet_NLP-content/L03/out/forward_pass_example.png\" width=\"800\"></center>"
   ]
  },
  {
   "cell_type": "markdown",
   "metadata": {},
   "source": [
    "Далее, в соответствии с алгоритмом обратного распространения ошибки, рассчитаем частные производные, пройдясь последовательно по графу вычислений, постепенно накапливая искомое значение для градиента функции.\n",
    "\n",
    "Для начала зададим $\\dfrac{df}{df}=1$.\n",
    "\n",
    "Начинаем обратный проход по графу вычислений — первая вершина содержит функцию $f(x)=\\dfrac{1}{x}$, производная которой равна $\\dfrac{df}{dx}=-\\dfrac{1}{x^2}$"
   ]
  },
  {
   "cell_type": "markdown",
   "metadata": {},
   "source": [
    "<center><img src =\"https://edunet.kea.su/repo/EduNet_NLP-content/L03/out/compute_gradient_1_step.png\" width=\"800\"></center>\n",
    "\n",
    "$$\\large f(x)=\\frac1x \\quad \\longrightarrow \\quad \\frac{df}{dx} = -\\frac{1}{x^2}$$"
   ]
  },
  {
   "cell_type": "markdown",
   "metadata": {},
   "source": [
    "В следующем узле находится функция $f(x)=1+x$. Производная от выражения в данном узле равняется $\\dfrac{df}{dx}=1$:"
   ]
  },
  {
   "cell_type": "markdown",
   "metadata": {},
   "source": [
    "<center><img src =\"https://edunet.kea.su/repo/EduNet_NLP-content/L03/out/compute_gradient_2_step.png\" width=\"800\"></center>\n",
    "\n",
    "$$\\large f(x)=c+x \\quad \\longrightarrow \\quad \\frac{df}{dx} = 1$$"
   ]
  },
  {
   "cell_type": "markdown",
   "metadata": {},
   "source": [
    "Третья вершина содержит экспоненту $f(x)=e^x$. Её производная также является экспонентой $\\dfrac{df}{dx}=e^x$:"
   ]
  },
  {
   "cell_type": "markdown",
   "metadata": {},
   "source": [
    "<center><img src =\"https://edunet.kea.su/repo/EduNet_NLP-content/L03/out/compute_gradient_3_step.png\" width=\"800\"></center>\n",
    "\n",
    "$$\\large f(x)=e^x \\quad \\longrightarrow \\quad \\frac{df}{dx} = e^x$$"
   ]
  },
  {
   "cell_type": "markdown",
   "metadata": {},
   "source": [
    "Следующая вершина, четвертая, содержит умножение на константу $f(x)=ax$. Производная равна $\\dfrac{df}{dx}=a$ (в данном случае $a=-1$):"
   ]
  },
  {
   "cell_type": "markdown",
   "metadata": {},
   "source": [
    "<center><img src =\"https://edunet.kea.su/repo/EduNet_NLP-content/L03/out/compute_gradient_4_step.png\" width=\"800\"></center>\n",
    "\n",
    "$$\\large f(x)=ax \\quad \\longrightarrow \\quad \\frac{df}{dx} = a$$"
   ]
  },
  {
   "cell_type": "markdown",
   "metadata": {},
   "source": [
    "Двигаясь по графу вычислений, мы дошли до узла суммирования, который имеет два входа. Относительно каждого из входов локальный градиент в вершине суммирования будет равен $1$:\n",
    "$$\\large f(x,y)=x+y \\quad \\Rightarrow \\quad \\frac{\\partial f}{\\partial x}=1  \\quad \\quad \\frac{\\partial f}{\\partial y}=1$$\n",
    "Так как умножение на единицу не изменит значения входного градиента, всем входам узла суммирования мы можем приписать точно такое же значение входного градиента ($0.2$), что мы имели и для самого узла суммирования. Будем действовать аналогично и со всеми остальными узлами суммирования, которые встретятся нам в вычислительном графе."
   ]
  },
  {
   "cell_type": "markdown",
   "metadata": {},
   "source": [
    "<center><img src =\"https://edunet.kea.su/repo/EduNet_NLP-content/L03/out/compute_gradient_5_step.png\" width=\"800\"></center>"
   ]
  },
  {
   "cell_type": "markdown",
   "metadata": {},
   "source": [
    "Двигаясь далее к началу графа вычислений, мы подходим к вершинам умножения. Для такой вершины локальный градиент по отношению к какому-либо из входов будет равен значению оставшегося входа. Остается умножить локальный градиент на входящий.\n",
    "\n",
    "$$\\large f(w,x)=wx \\quad \\Rightarrow \\quad \\frac{\\partial f}{\\partial w}=x  \\quad \\quad \\frac{\\partial f}{\\partial x}=w$$\n",
    "\n",
    "Точно так же мы можем поступить и с оставшейся второй вершиной умножения, которая привязана к $w_1$ и $x_1$:"
   ]
  },
  {
   "cell_type": "markdown",
   "metadata": {},
   "source": [
    "<center><img src =\"https://edunet.kea.su/repo/EduNet_NLP-content/L03/out/compute_gradient_6_step.png\" width=\"800\"></center>"
   ]
  },
  {
   "cell_type": "markdown",
   "metadata": {},
   "source": [
    "Так, двигаясь по графу вычислений в обратном направлении от выхода функции к входным аргументам, мы последовательно для каждого узла умножаем локальный градиент на входящий градиент, используя цепное правило дифференцирования сложной функции. В описанном примере мы полностью разбили граф вычислений на отдельные элементарные узлы. Разбиение вычислительного графа на элементарные узлы вовсе не обязательно — мы можем сгруппировать несколько вершин вместе, если они образуют дифференцируемую функцию, от которой \"удобно\" брать производную, и рассматривать их совместно."
   ]
  },
  {
   "cell_type": "markdown",
   "metadata": {},
   "source": [
    "В нашем примере мы можем заметить, что вычислительный граф можно свести к двум операциям: получению выражения $w_0x_0+w_1x_1+w_2$ и последующему вычислению от него сигмоидальной функции.\n",
    "\n",
    "Функция сигмоиды:\n",
    "\n",
    "$$\\large \\displaystyle \\sigma(x) = \\frac{1}{1+e^{-x}}.$$"
   ]
  },
  {
   "cell_type": "markdown",
   "metadata": {},
   "source": [
    "Важно отметить, что сигмоида обладает важным свойством: её производная может быть выражена через саму сигмоидальную функцию:\n",
    "\n",
    "$$\\large \\frac{d}{dx}\\sigma(x) = \\frac{d}{dx}(1+e^{-x})^{-1} = \\frac{e^{-x}}{(1+e^{-x})^{2}} = \\frac{1}{1+e^{-x}} \\cdot \\frac{1+e^{-x}-1}{1+e^{-x}} = \\sigma(x)\\cdot(1-\\sigma(x))$$"
   ]
  },
  {
   "cell_type": "markdown",
   "metadata": {},
   "source": [
    "<center><img src =\"https://edunet.kea.su/repo/EduNet_NLP-content/L03/out/compute_gradient_join_vertices_sigmoid_example.png\" width=\"800\"></center>"
   ]
  },
  {
   "cell_type": "markdown",
   "metadata": {},
   "source": [
    "В коде без использования библиотек подсчёт градиентов можно записать как:"
   ]
  },
  {
   "cell_type": "markdown",
   "metadata": {},
   "source": [
    "<center><img src =\"https://edunet.kea.su/repo/EduNet_NLP-content/L03/out/calculating_gradients_in_code.png\" width=\"800\"></center>"
   ]
  },
  {
   "cell_type": "markdown",
   "metadata": {},
   "source": [
    "Для базовых операций можно выделить следующие шаблоны \"разделения\" градиента:"
   ]
  },
  {
   "cell_type": "markdown",
   "metadata": {},
   "source": [
    "<center><img src =\"https://edunet.kea.su/repo/EduNet_NLP-content/L03/out/add_copy_mul_max_gates.png\" width=\"700\"></center>"
   ]
  },
  {
   "cell_type": "markdown",
   "metadata": {},
   "source": [
    "##  Анимация работы метода обратного распространения ошибки"
   ]
  },
  {
   "cell_type": "markdown",
   "metadata": {},
   "source": [
    "\n",
    "\n",
    "Таким образом, метод обратного распространения ошибки включает в себя следующие шаги:\n",
    "* Forward pass (FP) — прямое распространение сигнала от входа к выходам (без которого не получить вычисленные значения в графе).\n",
    "* Backward pass (BP) — расчёт величины градиента функции потерь по весам от выходного слоя ко входному.\n",
    "* Обновление весов в зависимости от величины градиента. На анимации буквой $\\eta$ обозначен learning rate."
   ]
  },
  {
   "cell_type": "markdown",
   "metadata": {},
   "source": [
    "<center><img src =\"https://edunet.kea.su/repo/EduNet_NLP-web_dependencies/L03/backprop_animation.gif\" width=\"600\"></center>\n",
    "\n",
    "<center><em>Источник: <a href=\"https://robocraft.ru/algorithm/560\">Принцип обучения многослойной нейронной сети с помощью алгоритма обратного распространения</a></em></center>"
   ]
  },
  {
   "cell_type": "markdown",
   "metadata": {},
   "source": [
    "Для более детального рассмотрения принципов работы и обучения нейронных сетей рекомендуем:\n",
    "\n",
    "[[video] 📺 Плей-лист от 3Blue1Brown](https://youtube.com/playlist?list=PLZHQObOWTQDNU6R1_67000Dx_ZCJB-3pi&si=O3gq6RoIxoNS6iJf) [[озвучка на русском](https://youtube.com/playlist?list=PLZjXXN70PH5itkSPe6LTS-yPyl5soOovc&si=ElKVi98Ui4m2nJKq)]."
   ]
  },
  {
   "cell_type": "markdown",
   "metadata": {},
   "source": [
    "## Автоматическое вычисление градиента в PyTorch"
   ]
  },
  {
   "cell_type": "markdown",
   "metadata": {},
   "source": [
    "PyTorch умеет запоминать последовательность операций с тензорами и вычислять градиент."
   ]
  },
  {
   "cell_type": "code",
   "execution_count": null,
   "metadata": {},
   "outputs": [],
   "source": [
    "import torch\n",
    "\n",
    "x = torch.tensor([-1.0, -2.0])  # x from above example\n",
    "\n",
    "x = torch.cat([x, torch.tensor([1.0])])  # concatenate x with 1. for bias trick\n",
    "\n",
    "W = torch.tensor([2.0, -3.0, -3.0], requires_grad=True)  # w from above example\n",
    "\n",
    "print(f\"W.grad = {W.grad} (before forward and backward pass grad is 'None')\")\n",
    "\n",
    "# forward pass to compute f\n",
    "s = x.matmul(W)\n",
    "f = torch.sigmoid(s)\n",
    "print(f\"f(x, W) = {f:.2f}\")\n",
    "\n",
    "# backward pass to compute gradient df/dW\n",
    "f.backward()\n",
    "print(f\"W.grad = {W.grad}\")"
   ]
  },
  {
   "cell_type": "markdown",
   "metadata": {},
   "source": [
    "Получили такие же значения частных производных $\\dfrac{\\partial f}{\\partial w_i}$, как и при вычислении вручную (на иллюстрации градиент расчитан с точностью до двух знаков после запятой, в коде выше получены более точные значения)."
   ]
  },
  {
   "cell_type": "markdown",
   "metadata": {},
   "source": [
    "<center><img src =\"https://edunet.kea.su/repo/EduNet_NLP-content/L03/out/autograd_example.png\" width=\"700\"></center>"
   ]
  },
  {
   "cell_type": "markdown",
   "metadata": {},
   "source": [
    "Мы не требовали возможности расчета градиента по аргументу `x` (не указали `requires_grad=True`), поэтому после вызова `f.backward()` градиент по нему не рассчитается:"
   ]
  },
  {
   "cell_type": "code",
   "execution_count": null,
   "metadata": {},
   "outputs": [],
   "source": [
    "print(f\"x.grad = {x.grad}\")"
   ]
  },
  {
   "cell_type": "markdown",
   "metadata": {},
   "source": [
    "Отсоединение тензора от графа вычислений производится с помощью `.detach()` (используется, если нужно производить какие-либо дальнейшие операции с тензором, но чтобы они не становились частью вычислительного графа):"
   ]
  },
  {
   "cell_type": "code",
   "execution_count": null,
   "metadata": {},
   "outputs": [],
   "source": [
    "f_detached = f.detach()\n",
    "\n",
    "print(f\"f_detached = {f_detached:.2f}\")\n",
    "print(f\"f_detached type: {type(f_detached)}\")"
   ]
  },
  {
   "cell_type": "markdown",
   "metadata": {},
   "source": [
    "Также от тензора, содержащего скаляр, можно получить его величину с помощью `.item()`:"
   ]
  },
  {
   "cell_type": "code",
   "execution_count": null,
   "metadata": {},
   "outputs": [],
   "source": [
    "value = f_detached.item()\n",
    "\n",
    "print(f\"value = {value:.2f}\")\n",
    "print(f\"value type: {type(value)}\")"
   ]
  },
  {
   "cell_type": "markdown",
   "metadata": {},
   "source": [
    "# Представление текстовых данных"
   ]
  },
  {
   "cell_type": "markdown",
   "metadata": {},
   "source": [
    "Рассмотренные нами этапы построения и обучения нейронной сети применимы к решению любой задачи. Однако данные не всегда поступают в том формате, который требуется для работы модели.\n",
    "\n",
    "Какую бы мы задачу ни решали, в нейронную сеть нужно подавать числа. Поскольку мы работаем с текстами, необходимо предварительно векторизовать их. Давайте посмотрим, как мы можем представить текстовую информацию."
   ]
  },
  {
   "cell_type": "markdown",
   "metadata": {},
   "source": [
    "## Слой эмбеддингов"
   ]
  },
  {
   "cell_type": "markdown",
   "metadata": {},
   "source": [
    "Ранее мы применяли \"мешок слов\" и алгоритм TF-IDF для представления наших слов. Проблемы возникают, когда пространство объектов начинает расти и у нас возникают огромные разреженные матрицы.\n",
    "\n",
    "Кроме того, некоторые объекты у нас сразу могут быть ближе: семантически \"король\" и \"королева\" отличаются только полом, различие между словами \"король\" и \"стул\" заметно выше."
   ]
  },
  {
   "cell_type": "markdown",
   "metadata": {},
   "source": [
    "Поэтому мы можем переводить наши слова в вектора меньшей размерности, которые при этом будут сравнимы между собой с помощью модуля `nn.Embedding` [🛠️[doc]](https://pytorch.org/docs/stable/generated/torch.nn.Embedding.html).\n",
    "\n",
    "[[blog] ✏️ Lena Voita NLP Course](https://lena-voita.github.io/nlp_course/word_embeddings.html)"
   ]
  },
  {
   "cell_type": "markdown",
   "metadata": {},
   "source": [
    "<center><img src =\"https://edunet.kea.su/repo/EduNet_NLP-web_dependencies/L03/word_representation_intro_min.png\" width=\"600\"></center>"
   ]
  },
  {
   "cell_type": "markdown",
   "metadata": {},
   "source": [
    "____\n",
    "\n",
    "<center><img src =\"https://edunet.kea.su/repo/EduNet_NLP-web_dependencies/L03/lookup_table.gif\" width=\"600\"></center>\n",
    "\n",
    "<center><em>Источник: <a href=\"https://lena-voita.github.io/nlp_course/word_embeddings.html\">Lena Voita NLP Course</a></em></center>"
   ]
  },
  {
   "cell_type": "code",
   "execution_count": null,
   "metadata": {},
   "outputs": [],
   "source": [
    "# Let's say you have 2 sentences (lowercased, punctuations removed):\n",
    "sentences = \"i am new to pytorch i am having fun\"\n",
    "\n",
    "words = sentences.split(\" \")\n",
    "\n",
    "print(f\"All words: {words} \\n\")\n",
    "\n",
    "vocab = set(words)  # create a vocabulary\n",
    "vocab_size = len(vocab)\n",
    "\n",
    "print(f\"Vocabulary (unique words): {vocab} \\n\")\n",
    "print(f\"Vocabulary size: {vocab_size} \\n\")\n",
    "\n",
    "# map words to unique indices\n",
    "word2idx = {word: ind for ind, word in enumerate(vocab)}\n",
    "\n",
    "print(f\"Word-to-id dictionary: {word2idx} \\n\")\n",
    "\n",
    "encoded_sentences = [word2idx[word] for word in words]\n",
    "\n",
    "print(f\"Encoded sentences: {encoded_sentences}\")"
   ]
  },
  {
   "cell_type": "markdown",
   "metadata": {},
   "source": [
    "Теперь нейросетевой слой эмбеддингов может быть определён так:"
   ]
  },
  {
   "cell_type": "code",
   "execution_count": null,
   "metadata": {},
   "outputs": [],
   "source": [
    "import torch.nn as nn\n",
    "\n",
    "# let's say you want embedding dimension to be 3\n",
    "emb_dim = 3\n",
    "\n",
    "emb_layer = nn.Embedding(vocab_size, emb_dim)\n",
    "word_vectors = emb_layer(torch.LongTensor(encoded_sentences))\n",
    "\n",
    "print(f\"Shape of encoded sentences: {word_vectors.shape} \\n\")\n",
    "print(f\"Shape of weigths: {emb_layer.weight.shape}\")"
   ]
  },
  {
   "cell_type": "markdown",
   "metadata": {},
   "source": [
    "Этот код инициализирует эмбеддинги согласно нормальному распределению (со средним значением 0 и дисперсией 1). Таким образом, пока что никакого различия или сходства между векторами нет.\n",
    "\n",
    "`word_vectors` — тензор размером (9, 3). 9 слов в датасете, размер 3 задан нами.\n",
    "\n",
    "`emb_layer` имеет 1 обучаемый параметр `weight`, который по умолчанию True. Можем проверить так:"
   ]
  },
  {
   "cell_type": "code",
   "execution_count": null,
   "metadata": {},
   "outputs": [],
   "source": [
    "emb_layer.weight.requires_grad"
   ]
  },
  {
   "cell_type": "markdown",
   "metadata": {},
   "source": [
    "Существуют алгоритмы для получения предобученных векторных представлений, которые потом могут использоваться в других задачах. Мы рассмотрим их в следующем разделе."
   ]
  },
  {
   "cell_type": "markdown",
   "metadata": {},
   "source": [
    "## Алгоритм Word2Vec"
   ]
  },
  {
   "cell_type": "markdown",
   "metadata": {},
   "source": [
    "**Word2vec** — группа алгоритмов для получения векторных представлений слов в многомерном пространстве.\n",
    "\n",
    "**Векторные представления слов назваются эмбеддингами.**"
   ]
  },
  {
   "cell_type": "markdown",
   "metadata": {},
   "source": [
    "<center><img src =\"https://edunet.kea.su/repo/EduNet_NLP-content/L03/out/w2v_example.png\" width=\"350\"></center>\n",
    "\n",
    "<center><em>Источник: <a href=\"https://habr.com/ru/articles/585838/\">Семантика и технология Word2Vec</a></em></center>\n",
    "\n"
   ]
  },
  {
   "cell_type": "markdown",
   "metadata": {},
   "source": [
    "Word2Vec реализуется при помощи полносвязной нейронной сети из двух слоев, которая обрабатывает текст, преобразуя его в числовые \"векторизованные\" слова. Основной особенностью w2v стало добавление контекста: нейросеть использует информацию о том, какие слова находятся рядом в заданном окне.\n",
    "\n",
    "Входные данные w2v — это громадный текстовый корпус, из которого на выходе мы получаем пространство векторов, размерность которого обычно достигает сотен, где каждое уникальное слово в корпусе представлено вектором из сгенерированного пространства."
   ]
  },
  {
   "cell_type": "markdown",
   "metadata": {},
   "source": [
    "**Данные**\n",
    "\n",
    "Исходные, \"сырые\" данные представляют собой предложение\n",
    "\n",
    "**The quick brown fox jumps over the lazy dog**.\n",
    "\n",
    "Оставляя за скобками приведение к каноничным формам, создаем датасет так:\n",
    "1. Проходим по тексту окном заданного размера (в данном случае размер окна 2 означает 2 слова слева и два слова справа от текущего).\n",
    "2. Относительно текущей позиции формируем пары \"текущее слово-соседнее слово\" (биграммы).\n",
    "3. Смещаем окно вправо."
   ]
  },
  {
   "cell_type": "markdown",
   "metadata": {},
   "source": [
    "<center><img src =\"https://edunet.kea.su/repo/EduNet_NLP-web_dependencies/L03/vectorization_example.jpeg\" width=\"700\"></center>\n",
    "\n",
    "<center><em>Источник: <a href=\"https://habr.com/ru/articles/778048/\">Краткий обзор техник векторизации в NLP</a></em></center>"
   ]
  },
  {
   "cell_type": "markdown",
   "metadata": {},
   "source": [
    "Есть два основных способа реализации Word2Vec: **Skip-Gram** и **CBOW**.\n",
    "\n",
    "* **Слева** расположен метод **Skip-Gram**, в котором мы передаем какое-то слово нашей нейронной сети и просим ее предположить возможный контекст. $w[i]$ — слово, которое передается на вход и которое находится на позиции $i$ в предложении. На выходе имеем два предшествующих слова и два последующих слова с учетом позиции $i$.\n",
    "\n",
    "* **Справа — CBOW** (Continuous Bag of Words). Здесь, вместо того, чтобы предугадывать контекстные слова, добавляем их в модель и просим модель предсказать текущее слово.\n",
    "\n",
    "Фокус состоит в том, что на самом деле никакой обученной нейросети у нас нет. Здесь другая цель — изучить веса скрытого слоя по мере того, как корректируются спрогнозированные веса окружающих слов. Эти веса и есть эмбеддинги."
   ]
  },
  {
   "cell_type": "markdown",
   "metadata": {},
   "source": [
    "<div align=\"center\">\n",
    "<table>\n",
    "<tr>\n",
    "<td>\n",
    "\n",
    "<center><img src =\"https://edunet.kea.su/repo/EduNet_NLP-web_dependencies/L03/skip_gram.jpeg\" width=\"400\"></center>\n",
    "    \n",
    "</td>\n",
    "<td>\n",
    "\n",
    "<center><img src =\"https://edunet.kea.su/repo/EduNet_NLP-web_dependencies/L03/cbow.jpeg\" width=\"400\"></center>\n",
    "\n",
    "</td>  \n",
    "\n",
    "<tr>\n",
    "<td>\n",
    "\n",
    "\n",
    "\n",
    "<center><em>Источник: <a href=\"https://habr.com/ru/articles/778048/\">Skip-Gram</a></em></center>\n",
    "    \n",
    "</td>\n",
    "<td>\n",
    "\n",
    "<center><em>Источник: <a href=\"https://habr.com/ru/articles/778048/\">CBOW</a></em></center>\n",
    "\n",
    "\n",
    "</td>  \n",
    "\n",
    "</table>\n",
    "</div>"
   ]
  },
  {
   "cell_type": "markdown",
   "metadata": {},
   "source": [
    "Рассмотрим, как учится сеть для варианта Skip-Gram. На вход сети приходит One-Hot вектор первого слова из биграммы, преобразовывается в пространство эмбеддингов в скрытом слое и поступает на слой SoftMax (размером с весь словарь, т.е. размер входа равен размеру выхода).\n",
    "\n",
    "По факту нейросеть должна выучить вероятность существования слова *quick* при приходе на вход слова *fox*. При этом можно отметить, что слову *fox* также соответствуют слова *brown, jumps, over*. Обучаясь по кросс-энтропии, последний слой должен выдавать примерно одинаковые вероятности всех этих слов.\n"
   ]
  },
  {
   "cell_type": "markdown",
   "metadata": {},
   "source": [
    "<center><img src =\"https://edunet.kea.su/repo/EduNet_NLP-web_dependencies/L03/skip_gram_example.jpeg\" width=\"700\"></center>\n",
    "\n",
    "<center><em>Источник: <a href=\"https://habr.com/ru/articles/778048/\">Краткий обзор техник векторизации в NLP</a></em></center>"
   ]
  },
  {
   "cell_type": "markdown",
   "metadata": {},
   "source": [
    "В результате обучения на разнообразных данных сеть выучивает такие распределения, что вектора, соответствующие похожим словам, располагаются близко в новом пространстве, и над ними работают векторные операции."
   ]
  },
  {
   "cell_type": "markdown",
   "metadata": {},
   "source": [
    "<center><img src =\"https://edunet.kea.su/repo/EduNet_NLP-web_dependencies/L03/w2v_example_2.png\" width=\"500\"></center>\n",
    "\n",
    "<center><em>Источник: <a href=\"https://habr.com/ru/articles/446530/\">Word2vec в картинках</a></em></center>\n"
   ]
  },
  {
   "cell_type": "markdown",
   "metadata": {},
   "source": [
    "Разумеется, эти операции не приводят к точному соответствию, однако получаемые вектора оказываются самыми похожими."
   ]
  },
  {
   "cell_type": "markdown",
   "metadata": {},
   "source": [
    "Обучение CBOW несколько отличается. На вход сети подаётся $C$ контекстных слов в виде One-Hot, после перемножения с линейным слоем результат усредняется. На выходе слой SoftMax такого же размера."
   ]
  },
  {
   "cell_type": "markdown",
   "metadata": {},
   "source": [
    "[[colab] 🥨 Подробное руководство по использованию Word2Vec](https://colab.research.google.com/drive/1OJF0k-E60sp9Vyoj1yWuoedGTrwRiTyj?usp=sharing)"
   ]
  },
  {
   "cell_type": "markdown",
   "metadata": {},
   "source": [
    "### Тестирование векторных представлений"
   ]
  },
  {
   "cell_type": "markdown",
   "metadata": {},
   "source": [
    "Использовать предобученную модель эмбеддингов или обучить свою можно с помощью библиотеки [Gensim 🛠️[doc]](https://radimrehurek.com/gensim/auto_examples/index.html#documentation)."
   ]
  },
  {
   "cell_type": "code",
   "execution_count": null,
   "metadata": {},
   "outputs": [],
   "source": [
    "!pip install gensim -q"
   ]
  },
  {
   "cell_type": "code",
   "execution_count": null,
   "metadata": {},
   "outputs": [],
   "source": [
    "import gensim"
   ]
  },
  {
   "cell_type": "markdown",
   "metadata": {},
   "source": [
    "Загрузим предобученную модель от Google. Модель включает в себя векторы для 3 миллионов слов и обучалась на 100 миллиардах слов из набора данных Google News. Длина вектора равна 300.\n",
    "\n",
    "Для загрузки предобученных векторных представлений используется модуль `KeyedVectors`."
   ]
  },
  {
   "cell_type": "code",
   "execution_count": null,
   "metadata": {},
   "outputs": [],
   "source": [
    "!wget -q https://edunet.kea.su/repo/EduNet_NLP-web_dependencies/datasets/GoogleNews-vectors-negative300.bin.gz"
   ]
  },
  {
   "cell_type": "code",
   "execution_count": null,
   "metadata": {},
   "outputs": [],
   "source": [
    "from gensim.models import KeyedVectors\n",
    "google_news_model = KeyedVectors.load_word2vec_format('GoogleNews-vectors-negative300.bin.gz', binary=True)"
   ]
  },
  {
   "cell_type": "code",
   "execution_count": null,
   "metadata": {},
   "outputs": [],
   "source": [
    "print(f\"Size of vector 'coffee': {google_news_model['coffee'].shape}\")\n",
    "print(f\"Size of vector 'tea': {google_news_model['tea'].shape}\")\n",
    "print(f\"Size of vector 'ball': {google_news_model['ball'].shape}\")\n",
    "print(f\"Size of vector 'crocodile': {google_news_model['crocodile'].shape}\")"
   ]
  },
  {
   "cell_type": "markdown",
   "metadata": {},
   "source": [
    "Протестируем загруженные векторные представления."
   ]
  },
  {
   "cell_type": "markdown",
   "metadata": {},
   "source": [
    "#### Косинусная мера"
   ]
  },
  {
   "cell_type": "markdown",
   "metadata": {},
   "source": [
    "<center><img src =\"https://edunet.kea.su/repo/EduNet_NLP-web_dependencies/L03/cosine_similarity.png\" width=\"550\"></center>\n",
    "\n",
    "<center><em>Источник: <a href=\"https://predictivehacks.com/a-high-level-introduction-to-word-embeddings/\">A High-Level Introduction to Word Embeddings</a></em></center>\n"
   ]
  },
  {
   "cell_type": "code",
   "execution_count": null,
   "metadata": {},
   "outputs": [],
   "source": [
    "print(f\"Cosine similarity between 'coffee' and 'tea': \\\n",
    "{round(google_news_model.similarity('coffee','tea').item(), 2)}\")"
   ]
  },
  {
   "cell_type": "code",
   "execution_count": null,
   "metadata": {},
   "outputs": [],
   "source": [
    "print(f\"Cosine similarity between 'ball' and 'crocodile': \\\n",
    "{round(google_news_model.similarity('ball','crocodile').item(), 2)}\")"
   ]
  },
  {
   "cell_type": "markdown",
   "metadata": {},
   "source": [
    "#### Близкие слова"
   ]
  },
  {
   "cell_type": "code",
   "execution_count": null,
   "metadata": {},
   "outputs": [],
   "source": [
    "print(f\"Top-5 most similar words to 'cat':\")\n",
    "for x in google_news_model.most_similar('cat', topn=5):\n",
    "    print(f\"{x[0]} {round(x[1], 2)}\")"
   ]
  },
  {
   "cell_type": "code",
   "execution_count": null,
   "metadata": {},
   "outputs": [],
   "source": [
    "print(f\"Top-5 most similar words to 'bad':\")\n",
    "for x in google_news_model.most_similar('bad', topn=5):\n",
    "    print(f\"{x[0]} {round(x[1], 2)}\")"
   ]
  },
  {
   "cell_type": "code",
   "execution_count": null,
   "metadata": {},
   "outputs": [],
   "source": [
    "print(f\"Top-5 most similar words to 'good':\")\n",
    "for x in google_news_model.most_similar('good', topn=5):\n",
    "    print(f\"{x[0]} {round(x[1], 2)}\")"
   ]
  },
  {
   "cell_type": "markdown",
   "metadata": {},
   "source": [
    "#### Семантические аналогии"
   ]
  },
  {
   "cell_type": "markdown",
   "metadata": {},
   "source": [
    "<center><img src =\"https://edunet.kea.su/repo/EduNet_NLP-web_dependencies/L03/semantic_proportions.png\" width=\"1000\"></center>\n",
    "\n",
    "<center><em>Источник: <a href=\"https://www.analyticsvidhya.com/blog/2017/06/word-embeddings-count-word2veec/\">Understanding Word Embeddings: From Word2Vec to Count Vectors</a></em></center>\n"
   ]
  },
  {
   "cell_type": "markdown",
   "metadata": {},
   "source": [
    "king - man + woman = ?"
   ]
  },
  {
   "cell_type": "code",
   "execution_count": null,
   "metadata": {},
   "outputs": [],
   "source": [
    "print(f\"king - man + woman = \\\n",
    "{google_news_model.most_similar(positive=['king','woman'], negative=['man'], topn=1)[0][0]}\")"
   ]
  },
  {
   "cell_type": "markdown",
   "metadata": {},
   "source": [
    "Для глагольных форм: swimming - walking + walked = ?"
   ]
  },
  {
   "cell_type": "code",
   "execution_count": null,
   "metadata": {},
   "outputs": [],
   "source": [
    "print(f\"swimming - walking + walked = \\\n",
    "{google_news_model.most_similar(positive=['swimming','walked'], negative=['walking'], topn=1)[0][0]}\")"
   ]
  },
  {
   "cell_type": "markdown",
   "metadata": {},
   "source": [
    "Для стран и городов: Turkey - Russia + Moscow = ?"
   ]
  },
  {
   "cell_type": "code",
   "execution_count": null,
   "metadata": {},
   "outputs": [],
   "source": [
    "print(f\"Turkey - Russia + Moscow = \\\n",
    "{google_news_model.most_similar(positive=['Turkey','Moscow'], negative=['Russia'], topn=1)[0][0]}\")"
   ]
  },
  {
   "cell_type": "markdown",
   "metadata": {},
   "source": [
    "#### Поиск лишнего слова"
   ]
  },
  {
   "cell_type": "markdown",
   "metadata": {},
   "source": [
    "- вычисляется среднее значение всех слов-векторов (центр);\n",
    "- вычисляется косинусное расстояние от центра до каждого слова;\n",
    "- возвращается единственное слово с наибольшим косинусным расстоянием от центра."
   ]
  },
  {
   "cell_type": "code",
   "execution_count": null,
   "metadata": {},
   "outputs": [],
   "source": [
    "words = ['spoon', 'fork', 'knife', 'plate']\n",
    "print(f\"The word '{google_news_model.doesnt_match(words)}' \\\n",
    "from the given list {words} doesn’t go with the others.\")"
   ]
  },
  {
   "cell_type": "code",
   "execution_count": null,
   "metadata": {},
   "outputs": [],
   "source": [
    "words = ['sorrow', 'delight', 'happiness', 'joy']\n",
    "print(f\"The word '{google_news_model.doesnt_match(words)}' \\\n",
    "from the given list {words} doesn’t go with the others.\")"
   ]
  },
  {
   "cell_type": "markdown",
   "metadata": {},
   "source": [
    "### Использование предобученных эмбеддингов"
   ]
  },
  {
   "cell_type": "markdown",
   "metadata": {},
   "source": [
    "Если мы хотим использовать заранее обученные векторные представления, мы можем заморозить веса слоя эмбеддингов."
   ]
  },
  {
   "cell_type": "code",
   "execution_count": null,
   "metadata": {},
   "outputs": [],
   "source": [
    "emb_layer.weight.requires_grad = False"
   ]
  },
  {
   "cell_type": "markdown",
   "metadata": {},
   "source": [
    "У модуля `nn.Embedding` есть метод `from_pretrained`, в который можно передать предобученную матрицу эмбеддингов. При этом по умолчанию они не будут обучаться — за это отвечает флаг `freeze`."
   ]
  },
  {
   "cell_type": "code",
   "execution_count": null,
   "metadata": {},
   "outputs": [],
   "source": [
    "print(f\"Vectors shape in Google news model is {google_news_model.vectors.shape}\")\n",
    "\n",
    "weights = torch.FloatTensor(google_news_model.vectors)\n",
    "google_news_emb = nn.Embedding.from_pretrained(weights, freeze=True)"
   ]
  },
  {
   "cell_type": "code",
   "execution_count": null,
   "metadata": {},
   "outputs": [],
   "source": [
    "input = torch.LongTensor(encoded_sentences)\n",
    "print(f\"Shape of data after embedding layer: {google_news_emb(input).shape}\")"
   ]
  },
  {
   "cell_type": "markdown",
   "metadata": {},
   "source": [
    "# Углубление в PyTorch. Пример нейронной сети"
   ]
  },
  {
   "cell_type": "markdown",
   "metadata": {},
   "source": [
    "## Работа с данными"
   ]
  },
  {
   "cell_type": "markdown",
   "metadata": {},
   "source": [
    "Предварительная обработка данных часто сильно зависит от домена, предметной области, самих данных. В идеале мы бы хотели, чтобы код, относящийся к набору данных, был отделен от кода для обучения модели для его лучшей читаемости, понимаемости и модульности.\n",
    "\n",
    "PyTorch предоставляет два базовых класса для работы с данными: `torch.utils.data.DataLoader` и `torch.utils.data.Dataset`, которые позволяют работать как со встроенными наборами данных, так и с вашими собственными данными.\n",
    "\n",
    "`Dataset` хранит в себе объекты (samples, сэмплы) — например, тексты и соответствующие им метки (labels, targets).\n",
    "\n",
    "`DataLoader` представляет из себя итерируемый объект — обертку над `Dataset`-ом, и позволяет получить простой доступ к объектам и меткам из набора данных в виде мини-батчей."
   ]
  },
  {
   "cell_type": "markdown",
   "metadata": {},
   "source": [
    "<center><img src=\"https://edunet.kea.su/repo/EduNet_NLP-content/L03/out/dataset_dataloader_nlp.png\" width=\"1000\"></center>"
   ]
  },
  {
   "cell_type": "markdown",
   "metadata": {},
   "source": [
    "### Загрузка и предобработка данных"
   ]
  },
  {
   "cell_type": "markdown",
   "metadata": {},
   "source": [
    "В качестве данных будем использовать русскоязычный корпус коротких текстов из статьи:\n",
    "\n",
    "[[paper] 🎓 Автоматическое построение и анализ корпуса коротких\n",
    "текстов (постов микроблогов) для задачи разработки и\n",
    "тренировки тонового классификатора (Ю. Рубцова, 2012)](https://study.mokoron.com/wp-content/uploads/2014/02/rubtsova-kesw_paper-21.pdf)\n",
    "\n",
    "\n",
    "Сообщения разбиты на два класса: с положительной окраской и с отрицательной окраской.\n",
    "\n",
    "Загрузим данные уже после предобработки."
   ]
  },
  {
   "cell_type": "code",
   "execution_count": null,
   "metadata": {},
   "outputs": [],
   "source": [
    "!wget -q https://edunet.kea.su/repo/EduNet_NLP-web_dependencies/datasets/RuTweetCorp.csv"
   ]
  },
  {
   "cell_type": "code",
   "execution_count": null,
   "metadata": {},
   "outputs": [],
   "source": [
    "import pandas as pd\n",
    "df = pd.read_csv('RuTweetCorp.csv')\n",
    "print(f\"Dataframe shape: {df.shape}\\n\")\n",
    "print(f\"Number of texts in class: {df['tone'].value_counts()}\\n\")\n",
    "df.head()"
   ]
  },
  {
   "cell_type": "markdown",
   "metadata": {},
   "source": [
    "Для удобства преобразуем тексты из строк в списки токенов."
   ]
  },
  {
   "cell_type": "code",
   "execution_count": null,
   "metadata": {},
   "outputs": [],
   "source": [
    "df['preprocessed'] = df['preprocessed'].str.split()\n",
    "df.head()"
   ]
  },
  {
   "cell_type": "markdown",
   "metadata": {},
   "source": [
    "Соберем все уникальные слова в словарь `vocabulary` и посчитаем количество вхождений каждого слова.\n",
    "\n",
    "Создадим словарь с индексами `word2id`.\n",
    "- Добавим в качестве ключа спецсимвол паддинга и зададим ему дефолтный индекс 0.\n",
    "- Выделим слова, встретившиеся больше 10 раз.\n",
    "- Далее каждому слову (ключу) присвоим его порядковый номер (значение).\n",
    "\n",
    "Это позволит перевести предложение в численный вид (вектор).\n",
    "\n",
    "Также cоздадим обратный словарь `id2word`. В нем наоборот ключами являются индексы, а значениями — слова. Этот словарь позволяет раскодировать предложение, чтобы оценить предсказание модели."
   ]
  },
  {
   "cell_type": "code",
   "execution_count": null,
   "metadata": {},
   "outputs": [],
   "source": [
    "from collections import Counter\n",
    "\n",
    "vocabulary = Counter()\n",
    "for text in df['preprocessed']:\n",
    "    vocabulary.update(text)\n",
    "print(f'Total unique tokens: {len(vocabulary)}\\n')\n",
    "\n",
    "word2id = {'PAD':0}\n",
    "for word in vocabulary:\n",
    "    if vocabulary[word] > 10:\n",
    "        word2id[word] = len(word2id)\n",
    "print(f'Mapping word2id dictionary: {word2id}\\n')\n",
    "\n",
    "id2word = {i:word for word,i in word2id.items()}\n",
    "print(f'Mapping id2word dictionary: {id2word}\\n')\n",
    "\n",
    "print(f'Unique tokens that appeared more than 10 times: {len(word2id)}')"
   ]
  },
  {
   "cell_type": "markdown",
   "metadata": {},
   "source": [
    "### Паддинг"
   ]
  },
  {
   "cell_type": "markdown",
   "metadata": {},
   "source": [
    "Предложения в обучающей выборке имеют разную длину. Каждое предложение представляется в виде вектора. Они объединяются в матрицу и образуют батч. Но в матрице все строки должны иметь одинаковую длину. Поэтому необходимо уравнять длину предложения. Для этого используются паддинги. Мы добиваем паддингами (паддим) предложения до некоторой длины, то есть добавляем нужное количество паддингов в конец предложения.\n",
    "\n",
    "В дальнейшем мы будем использовать метод `torch.nn.utils.rnn.pad_sequence`. Он позволяет добивать паддингами все последовательности в батче до максимальной длины в батче."
   ]
  },
  {
   "cell_type": "code",
   "execution_count": null,
   "metadata": {},
   "outputs": [],
   "source": [
    "import torch\n",
    "from torch.nn.utils.rnn import pad_sequence\n",
    "\n",
    "X = []\n",
    "for tokens in df.preprocessed[:3]:\n",
    "    ids = torch.LongTensor([word2id[token] for token in tokens if token in word2id])\n",
    "    X.append(ids)\n",
    "X = pad_sequence(X, batch_first=True)\n",
    "\n",
    "print(\"Sentence 1 in batch\")\n",
    "print(f\"Padded sequence of indexes: {X[0]}\")\n",
    "print(f\"Padded sequense of tokens: {[id2word[int(_)] for _ in X[0]]}\\n\")\n",
    "print(\"Sentence 2 in batch\")\n",
    "print(f\"Padded sequence of indexes: {X[1]}\")\n",
    "print(f\"Padded sequense of tokens: {[id2word[int(_)] for _ in X[1]]}\\n\")\n",
    "print(\"Sentence 3 in batch\")\n",
    "print(f\"Padded sequence of indexes: {X[2]}\")\n",
    "print(f\"Padded sequense of tokens: {[id2word[int(_)] for _ in X[2]]}\")"
   ]
  },
  {
   "cell_type": "markdown",
   "metadata": {},
   "source": [
    "### Подготовка данных. Dataset"
   ]
  },
  {
   "cell_type": "markdown",
   "metadata": {},
   "source": [
    "Создадим класс `ToneDataset`, который наследуется от класса `torch.utils.data.Dataset`. Этот класс нужен для обработки данных.\n",
    "\n",
    "Его методы:\n",
    "- `__len__` — считает длину датасета;\n",
    "- `__getitem__`:\n",
    "  - возвращает по индексу текст из датасета (`tokens`);\n",
    "  - преобразует текст в тензор индексов (`ids`) в соответствии со словарем;\n",
    "  - возвращает по индексу тональность текста из датасета (`y`).\n",
    "- `collate` — итерация по батчам:\n",
    "  - разделяет список кортежей (`zip(*batch)`) на тексты (`ids`) и метки (`y`);\n",
    "  - паддит последовательность до максимальной длины в батче (`pad_sequence`);\n",
    "  - преобразует метки в тензор типа `float` ."
   ]
  },
  {
   "cell_type": "code",
   "execution_count": null,
   "metadata": {},
   "outputs": [],
   "source": [
    "from torch.utils.data import Dataset\n",
    "\n",
    "class ToneDataset(Dataset):\n",
    "\n",
    "    def __init__(self, dataset, word2id):\n",
    "        self.dataset = dataset['preprocessed'].values\n",
    "        self.word2id = word2id\n",
    "        self.length = dataset.shape[0]\n",
    "        self.target = dataset['tone'].values\n",
    "\n",
    "    def __len__(self):\n",
    "        return self.length\n",
    "\n",
    "    def __getitem__(self, index):\n",
    "        tokens = self.dataset[index]\n",
    "        ids = torch.LongTensor([self.word2id[token] for token in tokens if token in self.word2id])\n",
    "        y = [self.target[index]]\n",
    "        return ids, y\n",
    "\n",
    "    def collate_fn(self, batch):\n",
    "        ids, y = list(zip(*batch))\n",
    "        padded_ids = pad_sequence(ids, batch_first=True)\n",
    "        y = torch.Tensor(y)\n",
    "        return padded_ids, y"
   ]
  },
  {
   "cell_type": "code",
   "execution_count": null,
   "metadata": {},
   "outputs": [],
   "source": [
    "dataset = ToneDataset(df, word2id)"
   ]
  },
  {
   "cell_type": "markdown",
   "metadata": {},
   "source": [
    "Чтобы дальнейший код воспроизводился, зафиксируем случайные состояния:"
   ]
  },
  {
   "cell_type": "code",
   "execution_count": null,
   "metadata": {},
   "outputs": [],
   "source": [
    "import torch\n",
    "import random\n",
    "import numpy as np\n",
    "\n",
    "\n",
    "def set_random_seed(seed):\n",
    "    torch.manual_seed(seed)\n",
    "    torch.cuda.manual_seed(seed)\n",
    "    torch.backends.cudnn.deterministic = True\n",
    "    torch.backends.cudnn.benchmark = False\n",
    "    np.random.seed(seed)\n",
    "    random.seed(seed)\n",
    "\n",
    "\n",
    "set_random_seed(42)"
   ]
  },
  {
   "cell_type": "markdown",
   "metadata": {},
   "source": [
    "Разделим данные на обучающую и валидационную выборку."
   ]
  },
  {
   "cell_type": "code",
   "execution_count": null,
   "metadata": {},
   "outputs": [],
   "source": [
    "from torch.utils.data import random_split\n",
    "\n",
    "lengths = [int(len(df)*0.8), int(len(df)*0.1), int(len(df)*0.1)]\n",
    "train_dataset, val_dataset, test_dataset = random_split(dataset, lengths=lengths)\n",
    "print(f'Train dataset length:      {len(train_dataset)}')\n",
    "print(f'Validation dataset length: {len(val_dataset)}')\n",
    "print(f'Test dataset length:       {len(test_dataset)}')"
   ]
  },
  {
   "cell_type": "markdown",
   "metadata": {},
   "source": [
    "### Формирование батчей. DataLoader"
   ]
  },
  {
   "cell_type": "markdown",
   "metadata": {},
   "source": [
    "`Dataset` возвращает по одной паре \"объект — метка\" за раз. При обучении моделей мы обычно хотим получать обекты в виде мини-батчей, перемешивая данные на каждой эпохе для уменьшения переобучения.\n",
    "\n",
    "`DataLoader` — это объект, который позволяет нам получать такие мини-батчи. При инициализации он принимает в себя объект `Dataset` (или `Subset`), параметры `batch_size` (размер мини-батча) и `shuffle` (перемешивать ли данные в батчах каждую эпоху), функцию для разбиения на батчи `collate_fn`.\n",
    "\n",
    "Другие параметры, а также значения по умолчанию можно посмотреть в документации PyTorch для класса `DataLoader` [🛠️[doc]](https://pytorch.org/docs/stable/data.html#torch.utils.data.DataLoader).\n"
   ]
  },
  {
   "cell_type": "code",
   "execution_count": null,
   "metadata": {},
   "outputs": [],
   "source": [
    "from torch.utils.data import DataLoader\n",
    "\n",
    "train_dataloader = DataLoader(train_dataset,\n",
    "                              collate_fn = dataset.collate_fn,\n",
    "                              batch_size=3,\n",
    "                              shuffle=True)\n",
    "val_dataloader = DataLoader(val_dataset,\n",
    "                            collate_fn = dataset.collate_fn,\n",
    "                            batch_size=3,\n",
    "                            shuffle=False)\n",
    "test_dataloader = DataLoader(test_dataset,\n",
    "                             collate_fn = dataset.collate_fn,\n",
    "                             batch_size=3,\n",
    "                             shuffle=False)"
   ]
  },
  {
   "cell_type": "markdown",
   "metadata": {},
   "source": [
    "Так как мы разделили данные на обучающие, валидационные и тестовые (`train_dataset`, `val_dataset` и `test_dataset`), то мы создаем также три независимых `DataLoader`-а. Один из них позволит нам получать батчи из обучающей выборки, второй — из валидационной, третий — из тестовой.\n",
    "\n",
    "Обратите внимание на параметр `shuffle`! По умолчанию он имеет значение `False`. **Для обучения нейронной сети критически важно, чтобы во время обучения батчи обучающих данных перемешивались**. Именно таким образом мы вносим **стохастичность** в процесс градиентного спуска. Поэтому для `DataLoader`-a, который будет выдавать батчи для обучения, необходимо использовать `shuffle=True`.\n",
    "\n",
    "В противоположность этому — `DataLoader`-ы для валидационных и тестовых данных. Эти данные данные служат для оценки качества работы модели, на них не происходит обучение и градиентный спуск. Поэтому установка здесь `shuffle=True` не имеет большого смысла."
   ]
  },
  {
   "cell_type": "markdown",
   "metadata": {},
   "source": [
    "#### Итерирование по `DataLoader`"
   ]
  },
  {
   "cell_type": "markdown",
   "metadata": {},
   "source": [
    "Мы загрузили набор данных в `DataLoader`, и теперь можем проходиться по нему по мере необходимости. Каждая итерация в коде ниже будет возвращать мини-батч в виде кортежа тензоров `(samples, labels)`, содержащих `batch_size=8` объектов и меток соответственно.\n",
    "Так как мы установили для `train_dataloader` параметр `shuffle=True`, когда мы пройдемся по всем батчам, данные перемешаются."
   ]
  },
  {
   "cell_type": "code",
   "execution_count": null,
   "metadata": {},
   "outputs": [],
   "source": [
    "# get one next batch\n",
    "\n",
    "batch, y = next(iter(train_dataloader))\n",
    "\n",
    "print(f\"Batch size: {batch.size()[0]}\\n\")\n",
    "print(f\"Texts in batch:\\n{batch}\")\n",
    "print(f\"Size of text matrix: {batch.size()} : [batch_size, num_tokens]\\n\")\n",
    "print(f\"Targets in batch:\\n{y}\")\n",
    "print(f\"Size of target vector: {y.size()} : [batch_size, num_targets]\\n\")"
   ]
  },
  {
   "cell_type": "markdown",
   "metadata": {},
   "source": [
    "#### Взвешенное формирование батчей для работы с дисбалансом"
   ]
  },
  {
   "cell_type": "markdown",
   "metadata": {},
   "source": [
    "**По умолчанию** все объекты могут попадать в батчи **равновероятно**. При работе с несбалансированными классами можно формировать батчи так, чтобы в каждом батче примерно был баланс классов.\n",
    "\n",
    "Это может улучшать сходимость даже в случае небольшого дисбаланса или его отсутствия, т. к. мы будем избегать шаги обучения нейросети, в которых она просто не увидела какого-то класса в силу случайных причин.\n"
   ]
  },
  {
   "cell_type": "markdown",
   "metadata": {},
   "source": [
    "<center><img src=\"https://edunet.kea.su/repo/EduNet_NLP-content/L03/out/batch_balancing.png\" width=\"1000\"></center>"
   ]
  },
  {
   "cell_type": "markdown",
   "metadata": {},
   "source": [
    "При таком подходе требуется, чтобы объекты попадали в батчи **не равновероятно, а с определенными весами**. В PyTorch эту функциональность можно получить, используя класс `WeightedRandomSampler` [🛠️[doc]](https://pytorch.org/docs/stable/data.html#torch.utils.data.WeightedRandomSampler). Для его инициализации требуется рассчитать вес каждого класса.\n",
    "\n",
    "Сумма весов не обязана быть равна единице, важно только соотношение между весами. Часто соотношение весов делают обратно пропорциональным количеству объектов в классах.\n",
    "\n"
   ]
  },
  {
   "cell_type": "markdown",
   "metadata": {},
   "source": [
    "```\n",
    "_, classes_counts = torch.unique(y, return_counts=True)  # y — tensor of labels in train set\n",
    "weights_for_classes = classes_counts.max() / classes_counts\n",
    "```"
   ]
  },
  {
   "cell_type": "markdown",
   "metadata": {},
   "source": [
    "В конструктор `WeightedRandomSampler` требуется подать два аргумента:\n",
    "\n",
    "- список весов для **каждого** элемента в датасете;\n",
    "- количество элементов (можно использовать не весь датасет).\n",
    "\n",
    "Затем созданный `sampler` передается в конструктор `DataLoader`."
   ]
  },
  {
   "cell_type": "markdown",
   "metadata": {},
   "source": [
    "```\n",
    "from torch.utils.data import WeightedRandomSampler\n",
    "\n",
    "weight_for_every_sample = []  # Every sample must have a weight\n",
    "for label in y:\n",
    "    weight_for_every_sample.append(weights_for_classes[label].item())\n",
    "\n",
    "sampler = WeightedRandomSampler(torch.tensor(weight_for_every_sample), len(dataset))\n",
    "dataloader = DataLoader(dataset, batch_size=batch_size, sampler=sampler)\n",
    "```"
   ]
  },
  {
   "cell_type": "markdown",
   "metadata": {},
   "source": [
    "Когда у `DataLoader` указывается `sampler`, последний принимает на себя функцию перемешивания, поэтому параметр `shuffle` **должен** быть не указан.\n",
    "\n",
    "Также отметим, что подобную процедуру взвешенного формирования батчей следует производить только с обучающими данными, но не с валидационными и тестовыми. Мы хотим, чтобы модель при обучении поровну видела объекты всех классов, но оценивать качество нужно на данных с реальным распределением."
   ]
  },
  {
   "cell_type": "markdown",
   "metadata": {},
   "source": [
    "Стоит отметить, что нужно быть осторожным со взвешиванием объектов в батчах и **контролировать состав батчей**. Дело в том, что при существенном дисбалансе веса при объектах минорного класса могут оказываться на несколько порядков больше, чем при объектах мажорного класса. Данные веса преобразуются в вероятности для сэмплирования, и может случиться так, что вероятности при объектах мажорного класса станут численно неотличимы от нуля. Тем самым можно получить обратный эффект: батчи будут состоять исключительно из объектов минорного класса. В таком случае нужно намеренно ограничивать веса."
   ]
  },
  {
   "cell_type": "markdown",
   "metadata": {},
   "source": [
    "## Создание нейронной сети"
   ]
  },
  {
   "cell_type": "markdown",
   "metadata": {},
   "source": [
    "Нейронные сети состоят из слоев, которые производят преобразования над данными. В PyTorch принято называть слои ***модулями*** (modules), и далее мы тоже будем использовать это название.\n",
    "\n",
    "Пространство имен `torch.nn` [🛠️[doc]](https://pytorch.org/docs/stable/nn.html) предоставляет \"строительные блоки\", которые нужны для создания своей собственной нейронной сети. Каждый *модуль* в PyTorch является дочерним классом от `nn.Module` [🛠️[doc]](https://pytorch.org/docs/stable/generated/torch.nn.Module.html). Таким образом, нейронная сеть сама по себе будет являться *модулем*, состоящим из других *модулей* (слоев). Такая вложенная структура позволяет легко создавать сложные архитектуры и управлять ими.\n",
    "\n",
    "Ниже мы рассмотрим пример создания нейронной сети для классификации изображений из набора данных MNIST."
   ]
  },
  {
   "cell_type": "markdown",
   "metadata": {},
   "source": [
    "### Выбор устройства (device) для обучения"
   ]
  },
  {
   "cell_type": "markdown",
   "metadata": {},
   "source": [
    "Мы бы хотели иметь возможность обучать модель на аппаратном ускорителе, таком как GPU, если он доступен. Проверим, доступен ли нам ускоритель `torch.cuda` [🛠️[doc]](https://pytorch.org/docs/stable/notes/cuda.html), иначе продолжим вычисления на CPU."
   ]
  },
  {
   "cell_type": "code",
   "execution_count": null,
   "metadata": {},
   "outputs": [],
   "source": [
    "device = \"cuda\" if torch.cuda.is_available() else \"cpu\"\n",
    "print(f\"Using {device} device\")"
   ]
  },
  {
   "cell_type": "markdown",
   "metadata": {},
   "source": [
    "### Описание класса модели"
   ]
  },
  {
   "cell_type": "markdown",
   "metadata": {},
   "source": [
    "Мы определяем нейронную сеть, наследуясь от класса `nn.Module`, и инициализируем ее слои в методе `__init__`. Каждый класс-наследник `nn.Module` производит операции над входными данными в методе `forward`.\n",
    "\n",
    "Напишем собственную нейронную сеть как класс `NeuralNetwork`. Ниже подробно рассмотрим все составляющие ее части."
   ]
  },
  {
   "cell_type": "code",
   "execution_count": null,
   "metadata": {},
   "outputs": [],
   "source": [
    "from torch import nn\n",
    "\n",
    "class NeuralNetwork(nn.Module):\n",
    "\n",
    "    def __init__(self, vocab_size, embedding_dim):\n",
    "\n",
    "        super().__init__()\n",
    "        self.embedding = nn.Embedding(vocab_size, embedding_dim)\n",
    "        self.embedding2hidden = nn.Linear(embedding_dim, 10)\n",
    "        self.act1 = nn.ReLU()\n",
    "        self.dropout = nn.Dropout(p=0.5)\n",
    "        self.hidden2out = nn.Linear(10, 1)\n",
    "        self.act2 = nn.Sigmoid()\n",
    "\n",
    "    def forward(self, text): # seq_len\n",
    "        embedded = self.embedding(text) # seq_len x embedding_dim\n",
    "        mean_emb = torch.mean(embedded, dim=1) # embedding_dim\n",
    "        hidden = self.embedding2hidden(mean_emb) # 10\n",
    "        hidden = self.act1(hidden) # 10\n",
    "        hidden = self.dropout(hidden) # 10\n",
    "        out = self.hidden2out(hidden) # 1\n",
    "        proba = self.act2(out) # 1\n",
    "        return proba"
   ]
  },
  {
   "cell_type": "markdown",
   "metadata": {},
   "source": [
    "Создадим экземпляр класса `NeuralNetwork` и выведем информацию о структуре модели."
   ]
  },
  {
   "cell_type": "code",
   "execution_count": null,
   "metadata": {},
   "outputs": [],
   "source": [
    "vocab_size = len(word2id)\n",
    "embedding_dim = 5\n",
    "model = NeuralNetwork(vocab_size, embedding_dim).to(device)\n",
    "print(model)"
   ]
  },
  {
   "cell_type": "markdown",
   "metadata": {},
   "source": [
    "Чтобы использовать модель, мы передаем ей входные данные. Это приводит в действие метод `forward`, а также определенные фоновые операции. Не следует вызывать `model.forward` напрямую!\n",
    "\n",
    "Вызов модели с входными данными возвращает тензор с двумя размерностями: нулевая размерность `dim=0` соответствует  количеству переданных примеров, а первая `dim=1` — выходным предсказаниям в диапазоне $(0,1)$, т.е. вероятности отнесения примера к положительному классу."
   ]
  },
  {
   "cell_type": "code",
   "execution_count": null,
   "metadata": {},
   "outputs": [],
   "source": [
    "batch, y = next(iter(train_dataloader))\n",
    "batch, y = batch.to(device), y.to(device)\n",
    "\n",
    "output = model(batch)\n",
    "\n",
    "print(f\"Size of text matrix:   {batch.size()} : [batch_size, num_tokens]\")\n",
    "print(f\"Size of target vector: {y.size()} : [batch_size, num_targets]\")\n",
    "print(f\"Size of output vector: {output.size()} : [batch_size, num_predictions]\")\n",
    "print(f\"Output:\\n{output}\")"
   ]
  },
  {
   "cell_type": "markdown",
   "metadata": {},
   "source": [
    "Давайте заглянем \"под капот\" нашей модели `NeuralNetwork`. Для иллюстрации возьмем мини-батч и посмотрим, что с ним происходит, когда мы пропускаем его через сеть."
   ]
  },
  {
   "cell_type": "markdown",
   "metadata": {},
   "source": [
    "#### Слой `nn.Embedding`"
   ]
  },
  {
   "cell_type": "markdown",
   "metadata": {},
   "source": [
    "Слой `nn.Embedding` [🛠️[doc]](https://pytorch.org/docs/stable/generated/torch.nn.Embedding.html) преобразует входную информацию в пространство меньшей размерности, позволяя сети больше узнавать о взаимосвязи между входными данными и обрабатывать данные более эффективно.\n",
    "\n",
    "Мы представили предложения в виде векторов из индексов. Слой эмбеддингов сопоставляет каждое слово с вектором меньшей размерности.\n",
    "\n",
    "Создадим слой эмбеддингов с помощью метода `nn.Embedding()`. Метод принимает на вход два параметра: размер всего словаря и размер получаемого эмбеддинга.\n",
    "\n",
    "Веса слоя эмбеддингов инициализируются случайно и будут оптимизироваться в процессе обучения (`requires_grad=True`)."
   ]
  },
  {
   "cell_type": "code",
   "execution_count": null,
   "metadata": {},
   "outputs": [],
   "source": [
    "embedding = nn.Embedding(vocab_size, embedding_dim)\n",
    "print(f\"Embedding layer size: {embedding.weight.shape}: [vocab_size, embedding_dim]\\n\")\n",
    "print(f\"Embedding layer weights:\\n{embedding.weight.data}\")"
   ]
  },
  {
   "cell_type": "markdown",
   "metadata": {},
   "source": [
    "Сейчас наши предложения представлены как векторы индексов, каждая позиция вектора соответствует одному слову."
   ]
  },
  {
   "cell_type": "code",
   "execution_count": null,
   "metadata": {},
   "outputs": [],
   "source": [
    "print(f\"Text matrix in batch:\\n{batch}\")\n",
    "print(f\"Size of text matrix : {batch.size()} : [batch_size, num_tokens]\")"
   ]
  },
  {
   "cell_type": "markdown",
   "metadata": {},
   "source": [
    " Мы передаем эти векторы на слой эмбеддингов. Теперь каждому слову соответствует не просто индекс, а его эмбеддинг. Каждому предложению в батче соответствует матрица."
   ]
  },
  {
   "cell_type": "code",
   "execution_count": null,
   "metadata": {},
   "outputs": [],
   "source": [
    "embedded = embedding(batch)\n",
    "print(f\"Size of text matrix after embedding layer:        {embedded.shape} : [batch_size, num_tokens, embedding_dim]\")\n",
    "print(f\"Size of embedded input for 1st sentence in batch: {embedded[0,:,:].shape}    : [num_tokens, embedding_dim]\")\n",
    "print(f\"Embedded input for 1st sentence in batch:\\n{embedded[0,:,:]}\")"
   ]
  },
  {
   "cell_type": "markdown",
   "metadata": {},
   "source": [
    "Каждое предложение должно быть представлено в виде вектора, а не матрицы. Чтобы получить эмбеддинг предложения, можно усреднить эмбеддинг каждого слова."
   ]
  },
  {
   "cell_type": "code",
   "execution_count": null,
   "metadata": {},
   "outputs": [],
   "source": [
    "mean_emb = torch.mean(embedded, dim=1)\n",
    "print(f\"Size of text matrix after averaging: {mean_emb.shape} : [batch_size, num_tokens]\")\n",
    "print(f\"Mean embedded input:\\n{mean_emb}\")"
   ]
  },
  {
   "cell_type": "markdown",
   "metadata": {},
   "source": [
    "#### Слой `nn.Linear`"
   ]
  },
  {
   "cell_type": "markdown",
   "metadata": {},
   "source": [
    "Линейный слой `nn.Linear` [🛠️[doc]](https://pytorch.org/docs/stable/generated/torch.nn.Linear.html) — это модуль, который производит линейное преобразование входных данных с помощью хранящихся в нем весов и смещений.\n",
    "\n",
    "Обязательными параметрами при объявлении этого слоя являются `in_features` — количество входных признаков, и `out_features` — количество выходных признаков.\n",
    "\n",
    "Фактически этот модуль добавляет в модель один полносвязный слой нейронов *без активаций*. Слой состоит из `out_features` нейронов, каждый из которых имеет `in_features` входов.\n",
    "\n",
    "В примере ниже мы объявляем слой из $10$ нейронов, каждый из которых получает эмбеддинг размера $5$."
   ]
  },
  {
   "cell_type": "code",
   "execution_count": null,
   "metadata": {},
   "outputs": [],
   "source": [
    "embedding2hidden = nn.Linear(embedding_dim, 10)\n",
    "hidden = embedding2hidden(mean_emb)\n",
    "print(f\"Input size:         {mean_emb.size()} : [batch_size, num_tokens]\")\n",
    "print(f\"Size after Linear:  {hidden.size()}: [batch_size, out_features]\")"
   ]
  },
  {
   "cell_type": "markdown",
   "metadata": {},
   "source": [
    "Линейный слой также имеет обучаемые параметры — веса и смещения. Они хранятся как объекты специального класса `torch.nn.parameter.Parameter` и содержат в себе тензоры собственно с величинами параметров. Получить доступ к ним можно, обратившись к атрибутам слоя `.weight` и `.bias` соответственно."
   ]
  },
  {
   "cell_type": "code",
   "execution_count": null,
   "metadata": {},
   "outputs": [],
   "source": [
    "print(f\"Size of linear layer weights: {embedding2hidden.weight.size()}\")\n",
    "print(f\"Type of linear layer weights: {type(embedding2hidden.weight)}\")\n",
    "\n",
    "print(f\"\\nSize of linear layer biases: {embedding2hidden.bias.size()}\")\n",
    "print(f\"Type of linear layer biases: {type(embedding2hidden.bias)}\")"
   ]
  },
  {
   "cell_type": "markdown",
   "metadata": {},
   "source": [
    "#### Слой `nn.ReLU`"
   ]
  },
  {
   "cell_type": "markdown",
   "metadata": {},
   "source": [
    "Нелинейные активации — это то, что позволяет модели учить сложные взаимосвязи между входом и выходом. Они применяются после линейных преобразований, чтобы ввести *нелинейность*, помогая нейронным сетям изучать самые разные закономерности.\n",
    "\n",
    "В данной модели мы используем `nn.Relu` [🛠️[doc]](https://pytorch.org/docs/stable/generated/torch.nn.ReLU.html) между линейными слоями, но существуют и реализации [других функций активации 🛠️[doc]](https://pytorch.org/docs/stable/nn.html#non-linear-activations-weighted-sum-nonlinearity)."
   ]
  },
  {
   "cell_type": "code",
   "execution_count": null,
   "metadata": {},
   "outputs": [],
   "source": [
    "act1 = nn.ReLU()(hidden)\n",
    "\n",
    "print(f\"Vector for 1st sentence before ReLU:\\n{hidden[0,:]}\\n\")\n",
    "print(f\"Vector for 1st sentence after ReLU:\\n{act1[0,:]}\\n\")\n",
    "print(f\"Size before ReLU:  {hidden.size()} : [batch_size, num_features]\")\n",
    "print(f\"Size after ReLU:   {act1.size()} : [batch_size, num_features]\")"
   ]
  },
  {
   "cell_type": "markdown",
   "metadata": {},
   "source": [
    "#### Слой `nn.Dropout`"
   ]
  },
  {
   "cell_type": "markdown",
   "metadata": {},
   "source": [
    "`nn.Dropout` [🛠️[doc]](https://pytorch.org/docs/stable/generated/torch.nn.Dropout.html) — операция, которая позволяет избежать переобучения сети. При обучении некоторые признаки могут стать слишком \"сильными\", они слишком подстраиваются под обучающую выборку. При каждом прохождении через сеть некоторые случайно выбранные признаки \"выпадают\" (drop out), т.е. приравниваются к нулю, сигнал с них не будет проходить дальше.\n",
    "\n",
    "В качестве параметра слой дропаут принимает вероятность, с которой признаки зануляются. Вероятность является гиперпараметром и устанавливается самостоятельно."
   ]
  },
  {
   "cell_type": "code",
   "execution_count": null,
   "metadata": {},
   "outputs": [],
   "source": [
    "dropout = nn.Dropout(p=0.5)(act1)\n",
    "print(f\"Vector for 1st sentence before Dropout:\\n{act1[0,:]}\\n\")\n",
    "print(f\"Vector for 1st sentence after Dropout:\\n{dropout[0,:]}\\n\")\n",
    "print(f\"Size before Dropout:  {act1.size()} : [batch_size, num_features]\")\n",
    "print(f\"Size after Dropout:   {dropout.size()} : [batch_size, num_features]\")"
   ]
  },
  {
   "cell_type": "markdown",
   "metadata": {},
   "source": [
    "Зануление части признаков не является обязательным. Но если вы видите, что происходит переобучение, можно добавить дропаут и поэкспериментировать со значениями (обычно от 0.1 до 0.5).\n",
    "\n",
    "Обратите внимание, что `dropout` должен применяться только при обучении модели. При тестировании веса не зануляются.\n",
    "\n",
    "Чтобы контролировать это, необходимо при обучении переводить модель в состояние обучения:\n",
    "\n",
    "`model.eval()`,\n",
    "\n",
    "а при применении — в состояние тестирования:\n",
    "\n",
    "`model.eval()`."
   ]
  },
  {
   "cell_type": "markdown",
   "metadata": {},
   "source": [
    "#### Слой `nn.Linear`"
   ]
  },
  {
   "cell_type": "markdown",
   "metadata": {},
   "source": [
    "Второй линейный слой получает выход первого слоя длины $10$ и отдает $1$ значение."
   ]
  },
  {
   "cell_type": "code",
   "execution_count": null,
   "metadata": {},
   "outputs": [],
   "source": [
    "hidden2out = nn.Linear(10, 1)\n",
    "logits = hidden2out(dropout)\n",
    "print(f\"Input size:         {dropout.size()} : [batch_size, in_features]\")\n",
    "print(f\"Size after Linear:  {logits.size()}:   [batch_size, out_features]\")"
   ]
  },
  {
   "cell_type": "markdown",
   "metadata": {},
   "source": [
    "#### Слой `nn.Sigmoid()`"
   ]
  },
  {
   "cell_type": "markdown",
   "metadata": {},
   "source": [
    "Последний линейный слой нейронной сети возвращает *логиты* — \"сырые\" значения из диапазона $[-∞; +∞]$, которые пропускаются через модуль `nn.Sigmoid()` [🛠️[doc]](https://pytorch.org/docs/stable/generated/torch.nn.Sigmoid.html). Пропущенные через $\\text{Sigmoid}$ величины могут восприниматься как вероятности, с которыми модель относит данный объект к тому или иному классу."
   ]
  },
  {
   "cell_type": "code",
   "execution_count": null,
   "metadata": {},
   "outputs": [],
   "source": [
    "act2 = nn.Sigmoid()\n",
    "\n",
    "pred_probab = act2(logits)\n",
    "\n",
    "print(f\"Logits:\\n{logits}\\n\")\n",
    "print(f\"Predicted probabilities:\\n{pred_probab}\\n\")\n",
    "print(f\"Size before Sigmoid: {logits.size()} : [batch_size, num_predictions]\")\n",
    "print(f\"Size after Sigmoid:  {pred_probab.size()} : [batch_size, num_predictions]\")"
   ]
  },
  {
   "cell_type": "markdown",
   "metadata": {},
   "source": [
    "### Параметры модели"
   ]
  },
  {
   "cell_type": "markdown",
   "metadata": {},
   "source": [
    "Множество слоев в нейронных сетях имеют *обучаемые параметры*, т. е. имеют ассоциированные с ними веса и смещения, которые оптимизируются во время обучения.\n",
    "\n",
    "Наследование от `nn.Module` автоматически отслеживает все слои, определенные внутри вашего класса модели, и делает все их параметры доступными с помощью методов `model.parameters()` или `model.named_parameters()`.\n",
    "\n",
    "В примере ниже мы проходимся по всем параметрам модели и для каждого тензора параметров выводим его размер."
   ]
  },
  {
   "cell_type": "code",
   "execution_count": null,
   "metadata": {},
   "outputs": [],
   "source": [
    "print(f\"Model structure: {model}\\n\")\n",
    "\n",
    "for name, param in model.named_parameters():\n",
    "    print(\n",
    "        f\"Layer: {name:23}  Requires grad: {param.requires_grad}  Size: {param.size()}\"\n",
    "    )"
   ]
  },
  {
   "cell_type": "markdown",
   "metadata": {},
   "source": [
    "## Обучение нейронной сети"
   ]
  },
  {
   "cell_type": "markdown",
   "metadata": {},
   "source": [
    "Теперь, когда мы подготовили данные и создали модель, мы можем приступить к обучению.\n",
    "\n",
    "Обучение модели — итеративный процесс оптимизации параметров модели на обучающих данных. На каждой итерции модель получает входные данные, дает предсказание на выходе, вычисляет значение функции потерь (loss), вычисляет производные функции потерь по параметрам и подстраивает параметры, используя градиентный спуск."
   ]
  },
  {
   "cell_type": "markdown",
   "metadata": {},
   "source": [
    "### Гиперпараметры"
   ]
  },
  {
   "cell_type": "markdown",
   "metadata": {},
   "source": [
    "Гиперпараметры — это задаваемые разработчиком параметры, которые позволяют управлять процессом обучения. Различные значения гиперпараметров могут влиять на обучение модели и скорость сходимости ([подробнее про подбор гиперпараметров 🛠️[doc]](https://pytorch.org/tutorials/beginner/hyperparameter_tuning_tutorial.html)).\n",
    "\n",
    "Мы определим следующие гиперпараметры процедуры обучения:\n",
    "* **количество эпох** (`num_epochs`) — количество итераций обучения по всему набору данных;\n",
    "* **размер батча** (`batch_size`) — количество образцов, передаваемых в сеть для обновления параметров;\n",
    "* **скорость обучения** (`learning_rate`) — коэффициент, определяющий, насколько сильно нужно обновлять параметры модели на каждом батче. Малые значения приводят к долгому обучению, в то время как большие значения могут приводить к непредсказуемому поведению во время обучения.\n"
   ]
  },
  {
   "cell_type": "code",
   "execution_count": null,
   "metadata": {},
   "outputs": [],
   "source": [
    "num_epochs = 15\n",
    "batch_size = 256\n",
    "learning_rate = 0.001"
   ]
  },
  {
   "cell_type": "markdown",
   "metadata": {},
   "source": [
    "Выше для демонстрации мы указывали размер батча в `DataLoader`-ах равным восьми. Для установки нового значения придется переопределить `DataLoader`-ы."
   ]
  },
  {
   "cell_type": "code",
   "execution_count": null,
   "metadata": {},
   "outputs": [],
   "source": [
    "train_dataloader = DataLoader(train_dataset,\n",
    "                              collate_fn=dataset.collate_fn,\n",
    "                              batch_size=batch_size,\n",
    "                              shuffle=True)\n",
    "val_dataloader = DataLoader(val_dataset,\n",
    "                            collate_fn=dataset.collate_fn,\n",
    "                            batch_size=batch_size,\n",
    "                            shuffle=False)\n",
    "test_dataloader = DataLoader(test_dataset,\n",
    "                             collate_fn=dataset.collate_fn,\n",
    "                             batch_size=batch_size,\n",
    "                             shuffle=False)"
   ]
  },
  {
   "cell_type": "markdown",
   "metadata": {},
   "source": [
    "### Оптимизация параметров (обучение сети)"
   ]
  },
  {
   "cell_type": "markdown",
   "metadata": {},
   "source": [
    "Задав гиперпараметры, мы можем приступить к обучению модели. Каждая итерация цикла оптимизации называется **эпохой**.\n",
    "\n",
    "Каждая эпоха состоит из двух частей:\n",
    "* **цикл обучения (Train Loop)** — проход по обучающему набору данных и оптимизация параметров;\n",
    "* **цикл валидации (Validation Loop)** — проход по валидационному набору данных и контроль того, что качество работы сети улучшается.\n",
    "\n",
    "Кратко ознакомимся с некоторыми понятиями, используемыми в цикле оптимизации."
   ]
  },
  {
   "cell_type": "markdown",
   "metadata": {},
   "source": [
    "#### Функция потерь (Loss function)"
   ]
  },
  {
   "cell_type": "markdown",
   "metadata": {},
   "source": [
    "Так как мы решаем задачу бинарной классификации, выберем `nn.BCELoss` [🛠️[doc]](https://pytorch.org/docs/stable/generated/torch.nn.BCELoss.html) в качестве функции потерь."
   ]
  },
  {
   "cell_type": "code",
   "execution_count": null,
   "metadata": {},
   "outputs": [],
   "source": [
    "# Initialize the loss function\n",
    "criterion = nn.BCELoss()"
   ]
  },
  {
   "cell_type": "markdown",
   "metadata": {},
   "source": [
    "#### Оптимизатор (Optimizer)"
   ]
  },
  {
   "cell_type": "markdown",
   "metadata": {},
   "source": [
    "Оптимизация — это процесс подстройки параметров модели для уменьшения ошибки на каждом шаге обучения. От **алгоритма оптимизации** зависит то, как этот процесс будет выполняться. Здесь мы будем использовать Adam. Однако в PyTorch реализовано еще [множество других алгоритмов оптимизации 🛠️[doc]](https://pytorch.org/docs/stable/optim.html#algorithms), таких как SGD и RMSProp, и они могут работать лучше или хуже для разных видов моделей и данных.\n",
    "\n",
    "Вся логика оптимизации заключена в объекте `optimizer`. Мы инициализируем оптимизатор, передавая ему параметры модели, которые требуется обучать (`model.parameters()`), а также гиперпараметр скорости обучения (`learning_rate`)."
   ]
  },
  {
   "cell_type": "code",
   "execution_count": null,
   "metadata": {},
   "outputs": [],
   "source": [
    "model = NeuralNetwork(vocab_size, embedding_dim).to(device)\n",
    "optimizer = torch.optim.Adam(model.parameters(), lr=learning_rate)"
   ]
  },
  {
   "cell_type": "markdown",
   "metadata": {},
   "source": [
    "Внутри цикла обучения оптимизация производится за три шага:\n",
    "1. Вызов `optimizer.zero_grad()`, чтобы сбросить градиенты параметров модели. По умолчанию градиенты суммируются, и во избежание повторного вычисления их необходимо явно обнулять на каждой итерации;\n",
    "2. Обратное распространение ошибки предсказания с помощью вызова `loss.backward()`. PyTorch вычислит градиенты функции потерь относительно каждого обучаемого параметра;\n",
    "3. Когда у нас есть градиенты, мы вызываем `optimizer.step()`, чтобы подстроить обучаемые параметры с учетом градиентов, посчитанных при обратном распространении, согласно алгоритму оптимизации."
   ]
  },
  {
   "cell_type": "markdown",
   "metadata": {},
   "source": [
    "### Реализация обучения"
   ]
  },
  {
   "cell_type": "markdown",
   "metadata": {},
   "source": [
    "Мы определим две функции:\n",
    "* `train_loop`, которая производит цикл обучения,\n",
    "* `val_loop`, которая оценивает качество модели на валидационных данных."
   ]
  },
  {
   "cell_type": "code",
   "execution_count": null,
   "metadata": {},
   "outputs": [],
   "source": [
    "def train_loop(dataloader, model, criterion, optimizer):\n",
    "\n",
    "    num_batches = len(dataloader)\n",
    "    train_loss = 0\n",
    "    model.train()\n",
    "\n",
    "    for texts, labels in dataloader:\n",
    "        # Compute prediction and loss\n",
    "        pred = model(texts.to(device))\n",
    "        loss = criterion(pred, labels.to(device))\n",
    "\n",
    "        # Optimization\n",
    "        optimizer.zero_grad()\n",
    "        loss.backward()\n",
    "        optimizer.step()\n",
    "\n",
    "        train_loss += loss.detach().item()\n",
    "\n",
    "    train_loss /= num_batches\n",
    "    print(f\"Train loss: {train_loss:>8f}\")\n",
    "\n",
    "    return train_loss\n",
    "\n",
    "\n",
    "def val_loop(dataloader, model, criterion):\n",
    "\n",
    "    size = len(dataloader.dataset)\n",
    "    num_batches = len(dataloader)\n",
    "    val_loss, correct = 0, 0\n",
    "    model.eval()\n",
    "\n",
    "    with torch.no_grad():\n",
    "        for texts, labels in dataloader:\n",
    "            # Compute prediction and loss\n",
    "            pred = model(texts.to(device))\n",
    "            loss = criterion(pred, labels.to(device))\n",
    "\n",
    "            val_loss += loss.item()\n",
    "            correct += ((pred>0.5).int() == labels.to(device)).sum().item()\n",
    "\n",
    "    val_loss /= num_batches\n",
    "    accuracy = correct / size\n",
    "    print(f\"Val loss: {val_loss:>8f}, val accuracy: {(100*accuracy):>0.1f}% \\n\")\n",
    "\n",
    "    return val_loss"
   ]
  },
  {
   "cell_type": "markdown",
   "metadata": {},
   "source": [
    "Выше мы объявили гиперпараметры и инициализировали функцию потерь `criterion` и оптимизатор `optimizer`. Теперь мы запускаем цикл оптимизации на $10$ эпох, и в каждой итерации мы вызываем функцию для выполнения цикла обучения `train_loop`, а затем функцию для промежуточной оценки качества `val_loop`. Также на каждой эпохе будем сохранять текущее значение функции потерь на обучающих и валидационных данных для построения графика обучения."
   ]
  },
  {
   "cell_type": "code",
   "execution_count": null,
   "metadata": {},
   "outputs": [],
   "source": [
    "# for plotting\n",
    "loss_history = {\"train\": [], \"val\": []}\n",
    "\n",
    "for i in range(num_epochs):\n",
    "    print(f\"Epoch {i+1}\")\n",
    "    train_loss = train_loop(train_dataloader, model, criterion, optimizer)\n",
    "    val_loss = val_loop(val_dataloader, model, criterion)\n",
    "\n",
    "    loss_history[\"train\"].append(train_loss)\n",
    "    loss_history[\"val\"].append(val_loss)\n",
    "print(\"Done!\")"
   ]
  },
  {
   "cell_type": "markdown",
   "metadata": {},
   "source": [
    "Построим график функции потерь на обучающих и на валидационных данных по эпохам:"
   ]
  },
  {
   "cell_type": "code",
   "execution_count": null,
   "metadata": {},
   "outputs": [],
   "source": [
    "import matplotlib.pyplot as plt\n",
    "\n",
    "plt.figure(figsize=(10, 5))\n",
    "plt.plot(range(1, num_epochs + 1), loss_history[\"train\"], label=\"train\")\n",
    "plt.plot(range(1, num_epochs + 1), loss_history[\"val\"], label=\"val\")\n",
    "plt.xlabel(\"Epochs\", fontsize=15)\n",
    "plt.ylabel(\"Loss\", fontsize=15)\n",
    "plt.legend()\n",
    "plt.grid()\n",
    "plt.show()"
   ]
  },
  {
   "cell_type": "markdown",
   "metadata": {},
   "source": [
    "### Сохранение и загрузка весов модели"
   ]
  },
  {
   "cell_type": "markdown",
   "metadata": {},
   "source": [
    "Обычно обучение модели является достаточно затратным процессом с точки зрения вычислительных ресурсов. Поэтому однажды обученную сеть разумно будет сохранить для последующего использования. Рассмотрим варианты, как это можно сделать в PyTorch."
   ]
  },
  {
   "cell_type": "markdown",
   "metadata": {},
   "source": [
    "Модели PyTorch хранят обучаемые параметры во внутреннем словаре состояния, который называется `state_dict`. Их можно сохранить с помощью метода `torch.save`.\n"
   ]
  },
  {
   "cell_type": "code",
   "execution_count": null,
   "metadata": {},
   "outputs": [],
   "source": [
    "torch.save(model.state_dict(), \"model_weights.pth\")"
   ]
  },
  {
   "cell_type": "markdown",
   "metadata": {},
   "source": [
    "Для того, чтобы загрузить веса модели, сперва необходимо создать экземпляр такой модели, а затем загрузить параметры с помощью метода `load_state_dict()`."
   ]
  },
  {
   "cell_type": "code",
   "execution_count": null,
   "metadata": {},
   "outputs": [],
   "source": [
    "model = NeuralNetwork(vocab_size, embedding_dim)\n",
    "model.load_state_dict(torch.load(\"model_weights.pth\"))\n",
    "model.to(device)\n",
    "print(model)"
   ]
  },
  {
   "cell_type": "markdown",
   "metadata": {},
   "source": [
    "Данный способ сохранения модели подходит только для случая, когда в дальнейшем не предполагается продолжать обучать модель. Для продолжения обучения также необходимо как минимум сохранять состояние оптимизатора.\n",
    "\n",
    "[[doc] 🛠️ О более общем сохранении состояний модели, оптимизатора и других объектов](https://pytorch.org/tutorials/beginner/saving_loading_models.html#saving-loading-a-general-checkpoint-for-inference-and-or-resuming-training)"
   ]
  },
  {
   "cell_type": "markdown",
   "metadata": {},
   "source": [
    "Сохранение в общем случае может выглядеть так:\n",
    "\n",
    "```\n",
    "torch.save({\n",
    "            'model_state_dict': model.state_dict(),\n",
    "            'optimizer_state_dict': optimizer.state_dict(),\n",
    "            'loss_history': loss_history,\n",
    "            ...\n",
    "            }, PATH)\n",
    "```\n",
    "\n"
   ]
  },
  {
   "cell_type": "markdown",
   "metadata": {},
   "source": [
    "###  Предсказания обученной модели"
   ]
  },
  {
   "cell_type": "markdown",
   "metadata": {},
   "source": [
    "Пропустим тестовые тексты через модель и визуализируем результат."
   ]
  },
  {
   "cell_type": "code",
   "execution_count": null,
   "metadata": {},
   "outputs": [],
   "source": [
    "size = len(test_dataloader.dataset)\n",
    "val_loss, correct = 0, 0\n",
    "model.eval()\n",
    "\n",
    "with torch.no_grad():\n",
    "    for texts, labels in test_dataloader:\n",
    "        # Compute prediction\n",
    "        pred = model(texts.to(device))\n",
    "        correct += ((pred>0.5).int() == labels.to(device)).sum().item()\n",
    "\n",
    "    accuracy = correct / size\n",
    "    print(f\"Test accuracy: {(100*accuracy):>0.1f}%\")"
   ]
  },
  {
   "cell_type": "code",
   "execution_count": null,
   "metadata": {},
   "outputs": [],
   "source": [
    "indexes = {8: 31068, 10 : 174001, 24: 63690, 40: 180925}\n",
    "for key, value in indexes.items():\n",
    "  print(f\"Sentence: {df['text'][value]}\\n\\\n",
    "  tone: {labels[key].item()},\\n\\\n",
    "  prediction: {(pred[key]>0.5).int().item()}\\n\")"
   ]
  },
  {
   "cell_type": "markdown",
   "metadata": {},
   "source": [
    "<font size=6>Литература</font>\n",
    "\n",
    "<font size=5>Многослойные нейронные сети:</font>\n",
    "\n",
    "* [[demo] 🎮 Интерактивный тренажер от TensorFlow ](http://playground.tensorflow.org/#activation=linear&batchSize=10&dataset=xor&regDataset=reg-plane&learningRate=0.1&regularizationRate=0&noise=0&networkShape=&seed=0.62952&showTestData=false&discretize=false&percTrainData=50&x=true&y=true&xTimesY=false&xSquared=false&ySquared=false&cosX=false&sinX=false&cosY=false&sinY=false&collectStats=false&problem=classification&initZero=false&hideText=false)\n",
    "* [[wiki] 📚 Теорема Цыбенко](https://ru.wikipedia.org/wiki/Теорема_Цыбенко)\n",
    "\n",
    "<font size=5>Обучение нейронной сети:</font>\n",
    "\n",
    "* [[blog] ✏️ ML: Вычислительный граф](https://qudata.com/ml/ru/ML_Comp_Graph.html)\n",
    "* [[blog] ✏️ Обзор функций потерь в PyTorch с примером написания своей собственной функции (custom loss function)](https://neptune.ai/blog/pytorch-loss-functions)\n",
    "* [[blog] ✏️ Объяснение Negative Log Likelihood Loss](https://ljvmiranda921.github.io/notebook/2017/08/13/softmax-and-the-negative-log-likelihood/)\n",
    "* [[blog] ✏️ О соотношении Cross-Entropy Loss и Negative Log Likelihood Loss](https://jamesmccaffrey.wordpress.com/2020/06/11/pytorch-crossentropyloss-vs-nllloss-cross-entropy-loss-vs-negative-log-likelihood-loss/)\n",
    "* [[blog] ✏️ How Activation Functions Work in Deep Learning](https://www.kdnuggets.com/2022/06/activation-functions-work-deep-learning.html)\n",
    "\n",
    "<font size=5>Углубление в PyTorch. Пример нейронной сети:</font>\n",
    "* [[video] 📺 Плей-лист с объяснением базовых принципов нейронных сетей от 3Blue1Brown](https://youtube.com/playlist?list=PLZHQObOWTQDNU6R1_67000Dx_ZCJB-3pi&si=O3gq6RoIxoNS6iJf) [[озвучка на русском](https://youtube.com/playlist?list=PLZjXXN70PH5itkSPe6LTS-yPyl5soOovc&si=ElKVi98Ui4m2nJKq)]\n",
    "* [[doc] 🛠️ PyTorch: Сохранение состояний модели, оптимизатора и других объектов](https://pytorch.org/tutorials/beginner/saving_loading_models.html#saving-loading-a-general-checkpoint-for-inference-and-or-resuming-training)\n",
    "\n",
    "<font size=5>Дополнительно:</font>\n",
    "* [[book] 📚 Deep Learning](https://www.deeplearningbook.org/)\n",
    " * [[book] 📚 Part 2, Chapter 6: Deep Feedforward Networks](https://www.deeplearningbook.org/contents/mlp.html)\n",
    "* [[demo] 🎮 Интерактивное и визуальное объяснение работы многослойных нейронных сетей](https://mlu-explain.github.io/neural-networks/)\n",
    "* [[demo] 🎮 Интерактивная визуализация ландшафтов функций потерь в нейронных сетях](https://losslandscape.com/explorer)\n",
    "* [[blog] ✏️ The 7 Most Common Machine Learning Loss Functions](https://builtin.com/machine-learning/common-loss-functions)\n",
    "* [[blog] ✏️ Understanding Categorical Cross-Entropy Loss, Binary Cross-Entropy Loss, Softmax Loss, Logistic Loss, Focal Loss and all those confusing names](https://gombru.github.io/2018/05/23/cross_entropy_loss/)\n",
    "* Курс А. Г. Дьяконова \"Глубокое обучение\". Лекции по PyTorch:\n",
    " * [[video] 📺 часть 1](https://www.youtube.com/watch?v=tDJnwc8Hioc)\n",
    " * [[video] 📺 часть 2](https://www.youtube.com/watch?v=c3y--ydWku0)"
   ]
  }
 ],
 "metadata": {},
 "nbformat": 4,
 "nbformat_minor": 0
}
