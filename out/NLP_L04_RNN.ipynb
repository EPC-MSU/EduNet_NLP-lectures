{
 "cells": [
  {
   "cell_type": "markdown",
   "metadata": {},
   "source": [
    "<font size=\"6\">Рекуррентные нейронные сети</font>"
   ]
  },
  {
   "cell_type": "markdown",
   "metadata": {},
   "source": [
    "# Обработка последовательных данных"
   ]
  },
  {
   "cell_type": "markdown",
   "metadata": {},
   "source": [
    "В предыдущей лекции мы научились строить векторные представления для каждого слова в предложении. При этом векторное представление всего текста представляло собой усреднение векторов для каждого слова.\n",
    "\n",
    "У этого подхода есть важный минус: он не учитывает, что для анализа текстовых данных важна их последовательность. Тем самым, тексты **«Я не люблю ML»** и **«Я люблю не ML»** получают **одинаковые** векторизации, то есть по ходу **теряется** существенная информация.\n",
    "\n",
    "Текст пишется и читается **последовательно**. Нам может показаться, что это стоит использовать: при обработке очередного токена обращаться к предыдущим, как к его **контексту**.\n",
    "\n",
    "Для обработки последовательных данных могут использоваться **рекуррентные нейронные сети (recurrent neural networks, RNN)**. Они применяются в широком перечне задач: от **распознавания речи** до **генерации подписей** к изображениям.\n",
    "\n",
    "Эти задачи объединяет необходимость работы с **контекстом** и извлечения информации, сформированной при обработке одной части данных, для обработки других частей."
   ]
  },
  {
   "cell_type": "markdown",
   "metadata": {},
   "source": [
    "<center><img src =\"https://edunet.kea.su/repo/EduNet_NLP-content/L04/out/sequence_data.png\" width=\"1000\"></center>"
   ]
  },
  {
   "cell_type": "markdown",
   "metadata": {},
   "source": [
    "С моделями рекуррентных нейронных сетей конкурируют модели, основанные на архитектуре **Трансформер** (подробнее в следующей лекции).\n",
    "\n",
    "Хотя сейчас трансформеры держат первенство во многих областях, для их обучения в силу их размера требуется:\n",
    "- несоизмеримо большее количество данных, нежели для RNN;\n",
    "- больше вычислительных ресурсов как для обучения, так и для инференса."
   ]
  },
  {
   "cell_type": "markdown",
   "metadata": {},
   "source": [
    "# Архитектура рекуррентных нейронных сетей"
   ]
  },
  {
   "cell_type": "markdown",
   "metadata": {},
   "source": [
    "### Рекуррентный слой в нейронных сетях"
   ]
  },
  {
   "cell_type": "markdown",
   "metadata": {},
   "source": [
    "Рассмотрим работу рекуррентной нейронной сети при обработке текстовых данных:\n",
    "1. На вход поступает последовательность слов $\\large x = \\{x_1,...x_t,...,x_T\\}$, где $\\large x_t$ — вектор слова с индексом $t$.\n",
    "\n",
    "2. Для каждого поступившего $\\large x_t$ формируем скрытое состояние $\\large h_t$, которое фактически является линейным преобразованием от предыдущего состояния $\\large h_{t-1}$ и текущего элемента последовательности $\\large x_t$, к которому применяется нелинейная функция активации:\n",
    "$$\\large h_t = f_{\\text{act}}(W_{hh}h_{t-1} + W_{xh}x_t),$$\n",
    "где $\\large W_{hh}$ и $\\large W_{xh}$  — это матрицы обучаемых параметров (веса). Также может добавляться вектор смещений (bias).\n",
    "\n",
    "Когда первый токен $\\large x_0$ подается в ячейку, скрытое состояние $\\large h_0$ инициализируется нулями.\n",
    "\n",
    "3. На основании рассчитанного скрытого состояния, учитывающего предыдущие значения  $\\large x_t$, формируется выходная последовательность $\\large y = \\{y_1,...y_t,...,y_T\\}$. Для формирования предсказания $\\large y_t$ в текущий момент времени в модель добавляется обычный линейный слой, принимающий на вход текущее скрытое состояние $\\large h_t$."
   ]
  },
  {
   "cell_type": "markdown",
   "metadata": {},
   "source": [
    "<center><img src =\"https://edunet.kea.su/repo/EduNet_NLP-content/L04/out/rnn_basic_block.png\" width=\"1000\"></center>\n"
   ]
  },
  {
   "cell_type": "markdown",
   "metadata": {},
   "source": [
    "Таким образом, для каждого последующего токена скрытое состояние учитывает контекст из предыдущих токенов.\n",
    "\n",
    "Вектор $\\large y_t$ является не только контекстуализированным представлением для последнего токена $\\large x_t$, но и вектором всего предложения, т.к. содержит информацию обо всех токенах. В зависимости от типа задачи, можно использовать контекстуализированные вектора для каждого слова или только вектор всего предложения (последнего слова)."
   ]
  },
  {
   "cell_type": "markdown",
   "metadata": {},
   "source": [
    "## RNN слой в PyTorch"
   ]
  },
  {
   "cell_type": "markdown",
   "metadata": {},
   "source": [
    "В PyTorch есть слой — `torch.nn.RNN` [🛠️[doc]](https://pytorch.org/docs/stable/generated/torch.nn.RNN.html), который реализует логику, описанную выше.\n",
    "\n",
    "Также есть сущность `torch.nn.RNNCell` [🛠️[doc]](https://pytorch.org/docs/stable/generated/torch.nn.RNNCell.html), которая реализует вычисления на одном такте времени.\n",
    "\n",
    "Слой `nn.RNN` фактически является оберткой, которая вызывает `nn.RNNCell` в цикле по длине входной последовательности.\n",
    "\n",
    "Параметры слоя `nn.RNN`:\n",
    "\n",
    "* **`input_size`** — размерность $\\large x_t$, целое число.\n",
    "\n",
    "* **`hidden_size`** — размерность $\\large h_t$, целое число. Фактически это количество нейронов в рекуррентном слое.\n"
   ]
  },
  {
   "cell_type": "markdown",
   "metadata": {},
   "source": [
    "Техническая особенность рекуррентных слоев в PyTorch: по умолчанию ожидаемые размерности входа такие:\n",
    "\n",
    "**`[длина последовательности, размер батча, размерность входа]`**\n",
    "\n",
    "Однако если при создании слоя указать `batch_first=True`, то можно подавать входные значения в более привычном формате, когда размер батча стоит на первом месте:\n",
    "\n",
    "**`[размер батча, длина последовательности, размерность входа]`**\n",
    "\n"
   ]
  },
  {
   "cell_type": "code",
   "execution_count": null,
   "metadata": {},
   "outputs": [],
   "source": [
    "import torch\n",
    "\n",
    "torch.manual_seed(42)\n",
    "\n",
    "rnn = torch.nn.RNN(input_size=3, hidden_size=2, batch_first=True)\n",
    "\n",
    "dummy_batched_seq = torch.randn((16, 57, 3))  # batch_size, seq_len, input_size\n",
    "out, h = rnn(dummy_batched_seq)\n",
    "\n",
    "print(\"Input shape:\".ljust(20), f\"{dummy_batched_seq.shape}\")\n",
    "print(\"Out shape:\".ljust(20), f\"{out.shape}\")\n",
    "print(\"Last hidden state shape:\".ljust(20), f\"{h.shape}\")"
   ]
  },
  {
   "cell_type": "markdown",
   "metadata": {},
   "source": [
    "При вызове слой возвращает два объекта:\n",
    "* `out` — последовательность скрытых состояний,\n",
    "* `h` — скрытое состояние на последнем такте.\n",
    "\n",
    "Мы указали `batch_first=True`, при этом `out` сохранил последовательность размерностей, как у входа, а вот у `h` размерность батча встала на второе место."
   ]
  },
  {
   "cell_type": "code",
   "execution_count": null,
   "metadata": {},
   "outputs": [],
   "source": [
    "h_batch_first = h.permute(1, 0, 2)\n",
    "\n",
    "print(f\"h is last out: {(h_batch_first == out[:, -1:, :]).all().item()}\")"
   ]
  },
  {
   "cell_type": "markdown",
   "metadata": {},
   "source": [
    "### Многослойные RNN"
   ]
  },
  {
   "cell_type": "markdown",
   "metadata": {},
   "source": [
    "RNN-блоки можно объединять в слои, накладывая их друг на друга. Для этой операции в `torch.nn.RNN` есть аргумент `num_layers`, с помощью которого можно указать количество слоёв."
   ]
  },
  {
   "cell_type": "markdown",
   "metadata": {},
   "source": [
    "<center><img src =\"https://edunet.kea.su/repo/EduNet_NLP-content/L04/out/rnn_multiple_layers.png\" width=\"500\"></center>"
   ]
  },
  {
   "cell_type": "code",
   "execution_count": null,
   "metadata": {},
   "outputs": [],
   "source": [
    "dummy_input = torch.randn((16, 6, 3))  # batch_size, seq_len, input_size\n",
    "rnn = torch.nn.RNN(input_size=3, hidden_size=2, num_layers=2, batch_first=True)\n",
    "\n",
    "out, h = rnn(dummy_input)\n",
    "\n",
    "print()\n",
    "print(\"Out:\\n\", out.shape)  # Hidden states for all elements from top layer\n",
    "print(\"h:\\n\", h.shape)  # Hidden states for last element for all layers"
   ]
  },
  {
   "cell_type": "markdown",
   "metadata": {},
   "source": [
    "### Bidirectional RNN"
   ]
  },
  {
   "cell_type": "markdown",
   "metadata": {},
   "source": [
    "В текстах начало или окончание предложения могут полностью изменить его смысл. Так, в задачах оценки эмоциональной окраски, можно легко ошибиться, если обрабатывать предложение только в одном направлении, постепенно забывая начало.\n",
    "\n",
    "Двунаправленная зависимость является важнейшей особенностью, которую мы будем учитывать."
   ]
  },
  {
   "cell_type": "markdown",
   "metadata": {},
   "source": [
    "<center><img src =\"https://edunet.kea.su/repo/EduNet_NLP-content/L04/out/movie_sentiment.png\" width=\"650\"></center>"
   ]
  },
  {
   "cell_type": "markdown",
   "metadata": {},
   "source": [
    "Последовательность можно пропустить через рекуррентную сеть два раза: при просмотре слов в прямом и в обратном направлении. Для этого создаётся еще один рекуррентный слой, который обрабатывает последовательность в обратном направлении, а скрытые состояния двух слоёв конкатенируется.\n",
    "\n",
    "[[blog] ✏️ Recurrent Neural Networks with PyTorch](https://www.kaggle.com/code/kanncaa1/recurrent-neural-network-with-pytorch)"
   ]
  },
  {
   "cell_type": "markdown",
   "metadata": {},
   "source": [
    "<center><img src =\"https://edunet.kea.su/repo/EduNet_NLP-content/L04/out/bidirectional.png\" width=\"650\"></center>"
   ]
  },
  {
   "cell_type": "markdown",
   "metadata": {},
   "source": [
    "За реализацию такой двунаправленности в рекуррентных слоях отвечает флаг `bidirectional=True`."
   ]
  },
  {
   "cell_type": "code",
   "execution_count": null,
   "metadata": {},
   "outputs": [],
   "source": [
    "dummy_input = torch.randn((16, 57, 3))  # batch_size, seq_len, input_size\n",
    "rnn = torch.nn.RNN(3, 2, bidirectional=True, batch_first=True)\n",
    "\n",
    "out, h = rnn(dummy_input)\n",
    "\n",
    "# Concatenated Hidden states from both layers\n",
    "print(\"Out:\\n\", out.shape)\n",
    "# Hidden states last element from  both : 2*num_layers*hidden_state\n",
    "print(\"h:\\n\", h.shape)"
   ]
  },
  {
   "cell_type": "markdown",
   "metadata": {},
   "source": [
    "## Проблемы RNN"
   ]
  },
  {
   "cell_type": "markdown",
   "metadata": {},
   "source": [
    "Теоретически, можно было бы сразу пропустить все данные через сеть и затем вычислить градиент, однако возникнут следующие проблемы:\n",
    "\n",
    " - большие последовательности не поместятся в памяти,\n",
    " - так как цепочка будет очень длинной, возникнет затухание/взрыв градиента,\n",
    " - по мере прохождения сигнала по цепи контекст затирается.\n"
   ]
  },
  {
   "cell_type": "markdown",
   "metadata": {},
   "source": [
    "Допустим, у нас есть длинная последовательность. Если мы сразу предсказываем, то в каждый момент времени нужно распространить Loss. И все ячейки нужно обновить во время backpropogation. Все градиенты нужно посчитать. Возникают проблемы, связанные с нехваткой памяти.\n",
    "\n",
    "Есть специальные тесты для проверки, контекст какой длины использует RNN при предсказании. Если мы делаем предсказание только в последней ячейке, может оказаться, что используется, скажем, информация только о последних 10 словах предложения.\n",
    "\n",
    "Функция активации Tanh постепенно затирает контекст."
   ]
  },
  {
   "cell_type": "markdown",
   "metadata": {},
   "source": [
    "<center><img src =\"https://edunet.kea.su/repo/EduNet_NLP-web_dependencies/L04/backprop_through_time.png\" width=\"700\"><center>\n",
    "\n",
    "<center><em>Источник: <a href=\"http://cs231n.stanford.edu/slides/2021/lecture_10.pdf\">CS231n: Recurrent Neural Network</a></em></center>"
   ]
  },
  {
   "cell_type": "markdown",
   "metadata": {},
   "source": [
    "Затухающий/взрывающийся градиент (Vanishing/exploding gradient) — явления затухающего и взрывающегося градиента часто встречаются в контексте RNN. И при большой длине последовательности это становится критичным. Причина в том, что зависимость величины градиента от числа слоёв экспоненциальная, поскольку веса умножаются многократно.\n",
    "\n",
    "$dL ∝ (W)^N:$\n",
    "\n",
    "$W > 1 \\rightarrow$ взрыв, $W < 1 \\rightarrow$ затухание."
   ]
  },
  {
   "cell_type": "markdown",
   "metadata": {},
   "source": [
    "<img src =\"https://edunet.kea.su/repo/EduNet_NLP-content/L04/out/simple_rnn_backprop.png\" width=\"1000\">"
   ]
  },
  {
   "cell_type": "markdown",
   "metadata": {},
   "source": [
    "## LSTM (Long Short-Term Memory)"
   ]
  },
  {
   "cell_type": "markdown",
   "metadata": {},
   "source": [
    "Обычная RNN имела множество проблем, в том числе в ней очень быстро затухала информация о предыдущих элементах последовательности. Помимо этого были проблемы с затуханием/взрывом градиента.\n",
    "\n",
    "Эти проблемы были частично решены в LSTM, предложенной в статье:\n",
    "\n",
    "[[article]🎓Hochreiter S., Schmidhuber J. (1997). Long Short-Term Memory](http://www.bioinf.jku.at/publications/older/2604.pdf).\n",
    "\n",
    "В обычной RNN-ячейке был только один путь передачи информации. На каждом шаге мы конкатенировали предыдущее скрытое состояние с текущим входом и пропускали их через линейный слой и активацией:"
   ]
  },
  {
   "cell_type": "markdown",
   "metadata": {},
   "source": [
    "<div align=\"center\">\n",
    "<html>\n",
    "<head>\n",
    "<style>\n",
    "table, th, td {\n",
    "  border: 1px solid black;\n",
    "  border-collapse: collapse;\n",
    "}\n",
    "<font size=\"2\" face=\"Times New Romans\" >\n",
    "\n",
    "\n",
    "</style>\n",
    "</head>\n",
    "<body>\n",
    "\n",
    "<table >\n",
    "\n",
    "<tr>\n",
    "<td>\n",
    "\n",
    "<center><img src = \"https://edunet.kea.su/repo/EduNet_NLP-content/L04/out/simple_rnn_h_state.png\" width=\"500\"></center>\n",
    "\n",
    "</td>\n",
    "<td>\n",
    "\n",
    "<table >\n",
    "<tr>\n",
    "<td>\n",
    "\n",
    "$\\large h_t = \\tanh(W \\cdot [h_{t-1}, x_t])$\n",
    "\n",
    "</td>\n",
    "\n",
    "</tr>\n",
    "\n",
    "\n",
    "</table>\n",
    "\n",
    "</td>\n",
    "</tr>\n",
    "\n",
    "</table>\n",
    "\n",
    "\n",
    "\n",
    "\n",
    "\n",
    "\n"
   ]
  },
  {
   "cell_type": "markdown",
   "metadata": {},
   "source": [
    "При этом информация о предыдущих элементах последовательности очень быстро затухает и теряется общая информация о предложении.\n",
    "\n",
    "Структура ячейки LSTM намного сложнее. Здесь есть целых 4 линейных слоя, каждый из которых выполняет разные задачи."
   ]
  },
  {
   "cell_type": "markdown",
   "metadata": {},
   "source": [
    "<div align=\"center\">\n",
    "<html>\n",
    "<head>\n",
    "<style>\n",
    "table, th, td {\n",
    "  border: 1px solid black;\n",
    "  border-collapse: collapse;\n",
    "}\n",
    "<font size=\"2\" face=\"Times New Romans\" >\n",
    "\n",
    "\n",
    "</style>\n",
    "</head>\n",
    "<body>\n",
    "\n",
    "<table >\n",
    "<tr>\n",
    "<td>\n",
    "\n",
    "<center><img src=\"https://edunet.kea.su/repo/EduNet_NLP-content/L04/out/lstm_chain.png\" width=\"500\"></center>\n",
    "<center><img src=\"https://edunet.kea.su/repo/EduNet_NLP-content/L04/out/lstm_chain_notation.png\" width=\"700\"></center>\n",
    "\n",
    "</td>\n",
    "<td>\n",
    "\n",
    "<table >\n",
    "<tr>\n",
    "<td>\n",
    "\n",
    "$\\large f_t = σ(W_f \\cdot [h_{t-1}, x_t])\\ \\ \\ \\ $\n",
    "\n",
    "</td>\n",
    "<td>\n",
    "\n",
    "$$\\large \\text{forget  gate}$$\n",
    "\n",
    "</td>\n",
    "</tr>\n",
    "\n",
    "<tr>\n",
    "<td>\n",
    "\n",
    "$\\large i_t = σ(W_i \\cdot [h_{t-1}, x_t])$\n",
    "\n",
    "</td>\n",
    "<td>\n",
    "\n",
    "$$\\large \\text{input gate}$$\n",
    "\n",
    "</td>\n",
    "</tr>\n",
    "\n",
    "<tr>\n",
    "<td>\n",
    "\n",
    "$\\large o_t = σ(W_o \\cdot [h_{t-1}, x_t])$\n",
    "\n",
    "</td>\n",
    "<td>\n",
    "\n",
    "$$\\large \\text{output gate}$$\n",
    "\n",
    "</td>\n",
    "</tr>\n",
    "\n",
    "<tr>\n",
    "<td>\n",
    "\n",
    "$\\large c^\\prime_t = \\tanh(W_c \\cdot [h_{t-1}, x_t])$\n",
    "\n",
    "</td>\n",
    "<td>\n",
    "\n",
    "$$\\large \\text{candidate cell state}$$\n",
    "\n",
    "</td>\n",
    "</tr>\n",
    "\n",
    "<tr>\n",
    "<td>\n",
    "\n",
    "$\\large c_t = f_t\\otimes c_{t-1} + i_t \\otimes c^\\prime_t$\n",
    "\n",
    "</td>\n",
    "<td>\n",
    "\n",
    "$$\\large \\text{cell state}$$\n",
    "\n",
    "</td>\n",
    "</tr>\n",
    "\n",
    "<tr>\n",
    "<td>\n",
    "\n",
    "$\\large h_t = o_t\\otimes \\tanh(c_t)$\n",
    "\n",
    "</td>\n",
    "<td>\n",
    "\n",
    "$$\\large  \\text{hidden state}$$\n",
    "\n",
    "</td>\n",
    "</tr>\n",
    "</table>\n",
    "\n",
    "</td>\n",
    "</tr>\n",
    "\n",
    "</table>\n",
    "\n",
    "\n",
    "\n",
    "\n",
    "\n",
    "\n"
   ]
  },
  {
   "cell_type": "markdown",
   "metadata": {},
   "source": [
    "Главное нововведение: в LSTM добавлен путь $c$, который по задумке должен этот общий контекст сохранять."
   ]
  },
  {
   "cell_type": "markdown",
   "metadata": {},
   "source": [
    "<center><img src=\"https://edunet.kea.su/repo/EduNet_NLP-content/L04/out/lstm_c_state_highway.png\" width=\"500\"></center>"
   ]
  },
  {
   "cell_type": "markdown",
   "metadata": {},
   "source": [
    "Другими словами, путь $c$ (cell state, иногда называется highway, магистраль)  помогает нейросети сохранять важную информацию, встретившуюся в какой-то момент в последовательности в прошлом, все время, пока эта информация требуется.\n",
    "\n",
    "По формулам также видно, как возросла сложность."
   ]
  },
  {
   "cell_type": "markdown",
   "metadata": {},
   "source": [
    "Отличие от RNN состоит в том, что кроме $h$ возвращается еще и $c$."
   ]
  },
  {
   "cell_type": "code",
   "execution_count": null,
   "metadata": {},
   "outputs": [],
   "source": [
    "import torch.nn as nn\n",
    "\n",
    "\n",
    "lstm = nn.LSTM(input_size=3, hidden_size=2, batch_first=True)\n",
    "input = torch.randn(16, 57, 3)  # batch_size, seq_len, input_size\n",
    "out, (h, c) = lstm(input)  # h and c returned in tuple\n",
    "\n",
    "print(\"Input shape:\".ljust(15), input.shape)\n",
    "print(\"Shape of h\".ljust(15), h.shape)  # 1, batch_size, hidden_size\n",
    "print(\"Shape of c\".ljust(15), c.shape)  # 1, batch_size, hidden_size\n",
    "print(\"Output shape:\".ljust(15), out.shape)  # batch_size, seq_len, hidden_size"
   ]
  },
  {
   "cell_type": "markdown",
   "metadata": {},
   "source": [
    "## GRU (Gated Recurrent Unit)"
   ]
  },
  {
   "cell_type": "markdown",
   "metadata": {},
   "source": [
    "Самая известная модификация LSTM — GRU. Она более компактна за счет сильных упрощений в сравнении со стандартной LSTM.\n",
    "\n",
    "Главные изменения: объединены forget и input gates, слиты $h_t$ и $c_t$, которые в обычной LSTM только участвовали в формировании друг друга."
   ]
  },
  {
   "cell_type": "markdown",
   "metadata": {},
   "source": [
    "<div align=\"center\">\n",
    "<html>\n",
    "<head>\n",
    "<style>\n",
    "table, th, td {\n",
    "  border: 1px solid black;\n",
    "  border-collapse: collapse;\n",
    "}\n",
    "<font size=\"2\" face=\"Times New Romans\" >\n",
    "\n",
    "\n",
    "</style>\n",
    "</head>\n",
    "<body>\n",
    "\n",
    "<table >\n",
    "<tr>\n",
    "<td>\n",
    "\n",
    "<center><img src =\"https://edunet.kea.su/repo/EduNet_NLP-content/L04/out/gru_basic_block.png\" width=\"500\"></center>\n",
    "\n",
    "</td>\n",
    "<td>\n",
    "\n",
    "<table >\n",
    "<tr>\n",
    "<td>\n",
    "\n",
    "$\\large z_t = \\sigma(W_z \\cdot [h_{t-1}, x_t])$\n",
    "\n",
    "</td>\n",
    "\n",
    "</tr>\n",
    "\n",
    "<tr>\n",
    "<td>\n",
    "\n",
    "$\\large r_t = \\sigma(W_r \\cdot [h_{t-1}, x_t])$\n",
    "\n",
    "</td>\n",
    "\n",
    "</tr>\n",
    "\n",
    "<tr>\n",
    "<td>\n",
    "\n",
    "$\\large \\tilde h_t = \\tanh(W \\cdot [r_t \\otimes h_{t-1}, x_t])$\n",
    "\n",
    "</td>\n",
    "\n",
    "</tr>\n",
    "\n",
    "<tr>\n",
    "<td>\n",
    "\n",
    "$\\large h_t = (1-z_t) \\otimes h_{t-1} + z_t \\otimes \\tilde h_t$\n",
    "\n",
    "</td>\n",
    "\n",
    "\n",
    "</table>\n",
    "\n",
    "\n",
    "\n",
    "\n",
    "\n",
    "\n",
    "\n",
    "\n",
    "</td>\n",
    "</tr>\n",
    "\n",
    "</table>\n",
    "\n",
    "\n",
    "\n",
    "\n",
    "\n",
    "\n"
   ]
  },
  {
   "cell_type": "code",
   "execution_count": null,
   "metadata": {},
   "outputs": [],
   "source": [
    "gru = nn.GRU(input_size=3, hidden_size=2, batch_first=True)\n",
    "input = torch.randn(16, 57, 3)  # batch_size, seq_len, input_size\n",
    "out, h = gru(input)\n",
    "\n",
    "print(\"Input shape:\".ljust(15), input.shape)\n",
    "print(\"Shape of h:\".ljust(15), h.shape)  # 1, batch_size, hidden_size\n",
    "print(\"Output shape:\".ljust(15), out.shape)  # batch_size, seq_len, hidden_size"
   ]
  },
  {
   "cell_type": "markdown",
   "metadata": {},
   "source": [
    "Практический опыт исследователей: иногда лучше работает GRU, иногда — LSTM. Точный рецепт успеха сказать нельзя."
   ]
  },
  {
   "cell_type": "markdown",
   "metadata": {},
   "source": [
    "## Типы задач"
   ]
  },
  {
   "cell_type": "markdown",
   "metadata": {},
   "source": [
    "В зависимости от количества объектов на входе и количества ответов на выходе постановка задачи может быть разной.\n",
    "\n",
    "Простейший вариант — **«оne to one»** (один объект на входе, один ответ на выходе). Например, **классификация изображений**: на вход подается один элемент, на выходе получаем вероятность класса. Для этой задачи подойдет **обычная нейронная сеть**, не обязательно применять RNN в таком случае.\n",
    "\n",
    "Рассмотрим случаи, где оправдано использование **рекуррентной сети** оправдано:\n",
    "\n",
    "1. Более сложная реализация — **«one to many»** (один объект на входе, необходимо сформировать несколько выходов). Такой тип нейронной сети актуален, когда мы говорим о **генерации**: например, текстов или музыки.\n",
    "- задаем начальное слово или начальный звук;\n",
    "- модель начинает самостоятельно генерировать выходы;\n",
    "- вход к очередной ячейке — это выход с прошлой ячейки нейронной сети.\n",
    "2. Задача **many-to-one** (несколько объектов на входе, один ответ на выходе). Рекуррентная сеть выдает ответ на каждом шаге, однако в этом случае используется только ответ, выданный на последнем шаге. Это релевантно для **классификации последовательных данных**: мы должны проанализировать все входы нейронной сети и только в конце определиться с классом."
   ]
  },
  {
   "cell_type": "markdown",
   "metadata": {},
   "source": [
    "<center><img src=\"https://edunet.kea.su/repo/EduNet_NLP-content/L04/out/one_or_many_to_one_or_many_ways_1.png\" width=\"700\"></center>"
   ]
  },
  {
   "cell_type": "markdown",
   "metadata": {},
   "source": [
    "Возможна постановка задачи **«many to many»** (несколько объектов на входе, несколько ответов на выходе) возможна в двух вариантах:\n",
    "\n",
    "1. Количество **выходов** нейронной сети **может быть не равно** количеству **входов**. Это актуально в **машинном переводе**, когда одна и та же фраза может иметь **разное количество слов** в разных языках.\n",
    "\n",
    "2. Количество **выходов** нейронной сети **равно** количеству **входов**. Обычно это задачи **разметки** исходной последовательности. Например, указать столицы городов, названия важных объектов, веществ и т.д., что относится к задачам вида NER (Named entity recogition)."
   ]
  },
  {
   "cell_type": "markdown",
   "metadata": {},
   "source": [
    "<center><img src=\"https://edunet.kea.su/repo/EduNet_NLP-content/L04/out/one_or_many_to_one_or_many_ways_2.png\" width=\"700\"></center>"
   ]
  },
  {
   "cell_type": "markdown",
   "metadata": {},
   "source": [
    "# RNN для языкового моделирования"
   ]
  },
  {
   "cell_type": "markdown",
   "metadata": {},
   "source": [
    "Языковые модели — важнейшая часть современного NLP. Практически во всех задачах, связанных с обработкой текста, напрямую или косвенно используются языковые модели. А наиболее известные недавние прорывы в области — это по большей части новые подходы к языковому моделированию. ELMO, BERT, GPT — это языковые модели."
   ]
  },
  {
   "cell_type": "markdown",
   "metadata": {},
   "source": [
    "## Задача языкового моделирования"
   ]
  },
  {
   "cell_type": "markdown",
   "metadata": {},
   "source": [
    "Языковая модель оценивает вероятность встретить предложение $S$  — последовательность слов $(w_1,\\cdots ,w_n)$. Вероятность предложения можно определить как произведение вероятности каждого слова с учетом предыдущих слов:\n",
    "$$P(w_1,w_2, \\dots, w_n) = p(w_1)p(w_2|w_1)p(w_3|w_1,w_2)\\dots p(w_n|w_1,w_2,\\dots,w_{n-1})= \\prod\\limits_{i = 1}^n p(w_i|w_1, \\dots, w_{i-1})$$\n",
    "Для каждого слова последовательности предсказывается вероятность встретить его в тексте при условии, что известно предыдущее слово: $w_2$ при условии $w_1$, $w_3$ при условии $w_1$ и $w_2$, и т.д."
   ]
  },
  {
   "cell_type": "markdown",
   "metadata": {},
   "source": [
    "<center><img src =\"https://edunet.kea.su/repo/EduNet_NLP-web_dependencies/L04/sentence.png\" width=\"700\"><center>\n",
    "\n",
    "<center><em>Источник: <a href=\"https://thegradient.pub/understanding-evaluation-metrics-for-language-models/\">Evaluation Metrics for Language Modeling</a></em></center>"
   ]
  },
  {
   "cell_type": "markdown",
   "metadata": {},
   "source": [
    "Истинные вероятности предложений неизвестны → можно обучить языковую модель оценивать эти вероятности. Вероятность рассчитывается на основе частоты встречаемости слов в корпусе текстов:\n",
    "$$p (w_i|w_{i-(n-1)}, \\dots, w_{i-1}) = \\frac{count(w_{i-(n-1)}, \\dots, w_{i-1}, w_{i})}{count(w_{i-(n-1)} \\dots, w_{i-1})}$$\n",
    "Такие языковые модели называются *n-граммными*. Термины *биграммные* и *триграммные* языковые модели обозначают n-граммные модели с $n = 2$ и $n = 3$ соответственно.\n",
    "\n",
    "Результат: языковая модель способна оценивать вероятность следующего слова последовательности.\n",
    "\n",
    "Вы наверняка сталкивались  использованием языковых моделей в повседневной жизни, когда при вводе сообщения или поискового запроса вам предлагались варианты его наиболее вероятного продолжения."
   ]
  },
  {
   "cell_type": "markdown",
   "metadata": {},
   "source": [
    "<div align=\"center\">\n",
    "    <table >\n",
    "     <tr>\n",
    "       <td>\n",
    "       \n",
    "<center><img src =\"https://edunet.kea.su/repo/EduNet_NLP-web_dependencies/L04/keyboard.png\" width=\"400\"><center>\n",
    "\n",
    "<center><em>Источник: <a href=\"https://habr.com/ru/companies/ods/articles/716918/\">Эволюция языковых моделей с T9 до чуда</a></em></center>\n",
    "\n",
    "</td>\n",
    "\n",
    "<td>\n",
    "\n",
    "<center><img src =\"https://edunet.kea.su/repo/EduNet_NLP-web_dependencies/L04/search.png\" width=\"700\"><center>\n",
    "<em>Источник: поисковый запрос в Google</em>\n",
    "\n",
    "\n",
    "</td>\n",
    "     </tr>\n",
    "    </table>\n",
    "    </div>"
   ]
  },
  {
   "cell_type": "markdown",
   "metadata": {},
   "source": [
    "Если модель способна предсказать вероятность следующего слова, то она уже достаточно много знает о языке.\n",
    "\n",
    "*Я люблю вкусную ...*\n",
    "\n",
    "На месте пропуска должно стоять неодушевленное существительное женского рода в винительном падеже, которое обозначает нечно съедбное (*еду, колбасу, рыбу* и т.д.).\n",
    "\n",
    "Языковая модель может применяться для генерации текста: если подать на вход некоторое слово $w_1$, то модель предскажет наиболее вероятное продолжение $w_2$. Затем слова $w_1$ и $w_2$ используются для предсказания следующего слова $w_3$.\n",
    "\n",
    "Основной недостаток счетных (*n*-граммных) языковых моделей в том, что они не способны учитывать длинный контекст предложения и генерировать связный текст.\n",
    "\n",
    "С этими проблемами справляются языковые модели на основе рекуррентных нейронных сетей."
   ]
  },
  {
   "cell_type": "markdown",
   "metadata": {},
   "source": [
    "## Применение рекуррентных сетей"
   ]
  },
  {
   "cell_type": "markdown",
   "metadata": {},
   "source": []
  },
  {
   "cell_type": "markdown",
   "metadata": {},
   "source": [
    "Рекуррентные нейронные сети должны хорошо подходить для языкового моделирования, поскольку они проходят по последовательности и запоминают порядок элементов. Рассмотрим архитектуру RNN для задачи языкового моделирования.\n",
    "\n",
    "Шаг 1. Embedding\n",
    "\n",
    "Есть входная последовательность из $n$ элементов. Мы пропускаем ее через слой эмбеддингов, который каждому элементу последовательности сопоставляет векторное представление."
   ]
  },
  {
   "cell_type": "markdown",
   "metadata": {},
   "source": [
    "<center><img src =\"https://edunet.kea.su/repo/EduNet_NLP-web_dependencies/L04/LSTM_lm_1.png\" width=\"700\"><center>\n",
    "<center><em>Источник: <a href=\"https://www.researchgate.net/figure/The-recurrent-LSTM-language-model-structure-used-in-our-experiments_fig1_336086782\">Investigation on N-gram Approximated RNNLMs for Recognition of Morphologically Rich Speech</a></em></center>"
   ]
  },
  {
   "cell_type": "markdown",
   "metadata": {},
   "source": [
    "Шаг 2. LSTM1, LSTM2\n",
    "\n",
    "На вход ячейки LSTM поступает вектор заданной длины. Скрытое состояние (краткосрочная память, hidden state) элемента $w_i$ передается на следующую ячейку того же слоя вместе с элементом $w_{i+1}$. На рисунке представлено 2 слоя LSTM. Следовательно, скрытое состояние элемента $w_i$ на слое LSTM1 передается также на следующий слой LSTM2."
   ]
  },
  {
   "cell_type": "markdown",
   "metadata": {},
   "source": [
    "<center><img src =\"https://edunet.kea.su/repo/EduNet_NLP-web_dependencies/L04/LSTM_lm_2.png\" width=\"700\"><center>\n",
    "<center><em>Источник: <a href=\"https://www.researchgate.net/figure/The-recurrent-LSTM-language-model-structure-used-in-our-experiments_fig1_336086782\">Investigation on N-gram Approximated RNNLMs for Recognition of Morphologically Rich Speech</a></em></center>"
   ]
  },
  {
   "cell_type": "markdown",
   "metadata": {},
   "source": [
    "Шаг 3. Softmax\n",
    "\n",
    "Выход каждого слоя — контекстуализированный эмбеддинг элемента последовательности. Однако в задаче языкового моделирования мы должны получать распределение  вероятностей для следующего элемента при условии текущей последовательности. Это должен быть вектор вероятностей, длина которого равна количеству элементов в словаре. Необходимо пропустить векторы элементов через линейный слой и применить функцию активации softmax.\n",
    "\n",
    "Для элемента $w_i$ предсказывается вероятность элемента $w_{i+1}$ с учетом предшествующей последовательности $w_1, \\cdots, w_i$ (по прошлому предсказываем будущее)."
   ]
  },
  {
   "cell_type": "markdown",
   "metadata": {},
   "source": [
    "<center><img src =\"https://edunet.kea.su/repo/EduNet_NLP-web_dependencies/L04/LSTM_lm_3.png\" width=\"700\"><center>\n",
    "<center><em>Источник: <a href=\"https://www.researchgate.net/figure/The-recurrent-LSTM-language-model-structure-used-in-our-experiments_fig1_336086782\">Investigation on N-gram Approximated RNNLMs for Recognition of Morphologically Rich Speech</a></em></center>"
   ]
  },
  {
   "cell_type": "markdown",
   "metadata": {},
   "source": [
    "После предсказания вероятностей необходимо оценить качество и посчитать размер ошибки. В качестве правильных ответов мы используем те же обучающие данные, но сдвинутые на 1 шаг. Это достигается за счет добавления тегов начала START и конца END последовательности.\n",
    "\n",
    "Для элемента START правильным ответом будет элемент h, для h — e, для e — l, и т.д."
   ]
  },
  {
   "cell_type": "markdown",
   "metadata": {},
   "source": [
    "<center><img src =\"https://edunet.kea.su/repo/EduNet_NLP-web_dependencies/L04/rnn_generation.png\" width=\"600\"></center>\n",
    "\n",
    "<center><em>Источник: <a href=\"https://www.researchgate.net/figure/The-recurrent-LSTM-language-model-structure-used-in-our-experiments_fig1_336086782\">Building Char-RNN</a></em></center>"
   ]
  },
  {
   "cell_type": "markdown",
   "metadata": {},
   "source": [
    "Особенность обучающих данных для языкового моделирования состоит в том, что она не требует наличия размеченных данных: нужны только сырые тексты, на них модель обучается предсказывать продолжение последовательности.\n",
    "\n",
    "Как только у нас будет языковая модель, мы сможем использовать ее для генерации текста. Мы делаем это по одному токену за раз: предсказываем распределение вероятности следующего токена с учетом предыдущего контекста и делаем выборку (sampling) из этого распределения."
   ]
  },
  {
   "cell_type": "markdown",
   "metadata": {},
   "source": [
    "<div align=\"center\">\n",
    "    <table >\n",
    "     <tr>\n",
    "       <td>\n",
    "       \n",
    "<center><img src =\"https://edunet.kea.su/repo/EduNet_NLP-web_dependencies/L04/generation_1.png\" width=\"400\"></center>\n",
    "<em>1</em>\n",
    "</td>\n",
    "\n",
    "<td>\n",
    "<center><img src =\"https://edunet.kea.su/repo/EduNet_NLP-web_dependencies/L04/generation_2.png\" width=\"400\"></center>\n",
    "<em>2</em>\n",
    "</td>\n",
    "\n",
    "<td>\n",
    "<center><img src =\"https://edunet.kea.su/repo/EduNet_NLP-web_dependencies/L04/generation_3.png\" width=\"400\"></center>\n",
    "<em>3</em>\n",
    "</td>\n",
    "     </tr>\n",
    "     \n",
    "<div align=\"center\">\n",
    "    <table >\n",
    "  <tr>\n",
    "     <td>\n",
    "<center><img src =\"https://edunet.kea.su/repo/EduNet_NLP-web_dependencies/L04/generation_4.png\" width=\"400\"></center>\n",
    "<em>4</em>\n",
    "</td>\n",
    "\n",
    "<td>\n",
    "<center><img src =\"https://edunet.kea.su/repo/EduNet_NLP-web_dependencies/L04/generation_5.png\" width=\"400\"></center>\n",
    "<em>5</em>\n",
    "</td>\n",
    "\n",
    "<td>\n",
    "<center><img src =\"https://edunet.kea.su/repo/EduNet_NLP-web_dependencies/L04/generation_6.png\" width=\"400\"></center>\n",
    "<em>6</em>\n",
    "</td>\n",
    "     </tr>\n",
    "    </table >\n",
    "\n",
    "<center><em>Источник: <a href=\"https://lena-voita.github.io/nlp_course/language_modeling.html#n_gram_generation\">NLP Course For You</a></em></center>"
   ]
  },
  {
   "cell_type": "markdown",
   "metadata": {},
   "source": [
    "В качестве альтернативы можно применить жадный поиск (greedy decoding): на каждом шаге выбирается токен с наибольшей вероятностью. Однако обычно это работает не очень хорошо."
   ]
  },
  {
   "cell_type": "markdown",
   "metadata": {},
   "source": [
    "## Посимвольная генерация с помощью LSTM"
   ]
  },
  {
   "cell_type": "markdown",
   "metadata": {},
   "source": [
    "Мы обучим языковую модель на уровне символов.\n",
    "\n",
    "В качестве обучающих данных будем использовать [[doc] 🛠️ корпус названий динозавров](https://www.kaggle.com/datasets/swimmingwhale/dinosaur-island).\n",
    "\n",
    "После обучения эта модель будет способна порождать новые имена динозавров, похожие на существующие."
   ]
  },
  {
   "cell_type": "markdown",
   "metadata": {},
   "source": [
    "### Загрузка и подготовка данных"
   ]
  },
  {
   "cell_type": "markdown",
   "metadata": {},
   "source": [
    "Загрузим данных и посмотрим на содержание файла."
   ]
  },
  {
   "cell_type": "code",
   "execution_count": null,
   "metadata": {},
   "outputs": [],
   "source": [
    "!wget -q https://edunet.kea.su/repo/EduNet_NLP-web_dependencies/datasets/dinos.txt"
   ]
  },
  {
   "cell_type": "code",
   "execution_count": null,
   "metadata": {},
   "outputs": [],
   "source": [
    "print(\"First 10 dinos names:\\n\")\n",
    "!head dinos.txt"
   ]
  },
  {
   "cell_type": "code",
   "execution_count": null,
   "metadata": {},
   "outputs": [],
   "source": [
    "print(\"Last 10 dinos names:\\n\")\n",
    "!tail dinos.txt"
   ]
  },
  {
   "cell_type": "markdown",
   "metadata": {},
   "source": [
    "Определим доступную среду выполнения."
   ]
  },
  {
   "cell_type": "code",
   "execution_count": null,
   "metadata": {},
   "outputs": [],
   "source": [
    "import torch\n",
    "device = torch.device(\"cuda\" if torch.cuda.is_available() else \"cpu\")\n",
    "print(device)"
   ]
  },
  {
   "cell_type": "markdown",
   "metadata": {},
   "source": [
    "Создадим класс `DinoDataset`, наследник класса `Dataset`."
   ]
  },
  {
   "cell_type": "code",
   "execution_count": null,
   "metadata": {},
   "outputs": [],
   "source": [
    "from torch.utils.data import Dataset, DataLoader\n",
    "\n",
    "class DinosDataset(Dataset):\n",
    "  def __init__(self):\n",
    "    super().__init__()\n",
    "    with open('dinos.txt') as f:\n",
    "      content = f.read().lower()\n",
    "      self.vocab = sorted(set(content)) + ['<','>'] # добавляем в словарь все буквы, а также спецсимволы начала и конца\n",
    "      self.vocab_size = len(self.vocab) # определяем размер словаря\n",
    "      self.lines = content.splitlines() # разбиваем по строкам\n",
    "    self.char2id = {char:id for id,char in enumerate(self.vocab)} # создаем словарь, каждому символу присваиваем индекс\n",
    "    self.id2char = {id:char for id,char in enumerate(self.vocab)}\n",
    "\n",
    "  def __getitem__(self, index):\n",
    "    line = self.lines[index]\n",
    "    \"\"\"\n",
    "    Input data x_str: special symbol for beginning of the sequence + sequence\n",
    "    Output data y_str: sequence + special symbol for end of the sequence\n",
    "    \"\"\"\n",
    "    x_str = '<' + line\n",
    "    y_str = line + '>'\n",
    "    x = torch.empty(len(x_str), dtype=torch.long, device=device) # создаем пустой тензор для входных данных\n",
    "    y = torch.empty(len(y_str), dtype=torch.long, device=device) # создаем пустой тензор для выходных данных\n",
    "    for i, (x_ch, y_ch) in enumerate(zip(x_str, y_str)): # переводим символы в индексы по словарю char2id\n",
    "      x[i] = self.char2id[x_ch]\n",
    "      y[i] = self.char2id[y_ch]\n",
    "    return x,y\n",
    "\n",
    "  def __len__(self):\n",
    "    return len(self.lines) # определяем размер датасета"
   ]
  },
  {
   "cell_type": "code",
   "execution_count": null,
   "metadata": {},
   "outputs": [],
   "source": [
    "dinos_dataset = DinosDataset()\n",
    "dinos_dataloader = DataLoader(dinos_dataset, shuffle=True)"
   ]
  },
  {
   "cell_type": "markdown",
   "metadata": {},
   "source": [
    "Убедимся, что входные и выходные данные различаются сдвигом на один шаг."
   ]
  },
  {
   "cell_type": "code",
   "execution_count": null,
   "metadata": {},
   "outputs": [],
   "source": [
    "x,y = next(iter(dinos_dataloader))\n",
    "print(f\"Shape of input sequence: {x.shape}\")\n",
    "print(f\"Input sequence (indexes):\\n{x}\")\n",
    "print(f\"Input sequence (symbols):\\n{[dinos_dataset.id2char[int(i)] for i in x[0]]}\\n\")\n",
    "print(f\"Shape of output sequence: {y.shape}\")\n",
    "print(f\"Output sequence (indexes):\\n{y}\")\n",
    "print(f\"Output sequence (symbols):\\n{[dinos_dataset.id2char[int(i)] for i in y[0]]}\")"
   ]
  },
  {
   "cell_type": "markdown",
   "metadata": {},
   "source": [
    "Посмотрим на размер обучающих данных и количество уникальных символов."
   ]
  },
  {
   "cell_type": "code",
   "execution_count": null,
   "metadata": {},
   "outputs": [],
   "source": [
    "print(f\"Number of unique symbols: {len(dinos_dataset.lines)}\")\n",
    "print(f\"Length of dataset: {dinos_dataset.vocab_size}\")"
   ]
  },
  {
   "cell_type": "markdown",
   "metadata": {},
   "source": [
    "### Создание модели"
   ]
  },
  {
   "cell_type": "markdown",
   "metadata": {},
   "source": [
    "Перейдем к построению модели. Она включает эмбеддинг слой, два слоя LSTM и линейный слой."
   ]
  },
  {
   "cell_type": "code",
   "execution_count": null,
   "metadata": {},
   "outputs": [],
   "source": [
    "from torch import nn\n",
    "\n",
    "class LM(nn.Module):\n",
    "  def __init__(self, vocab_size):\n",
    "    super(LM, self).__init__()\n",
    "    self.lstm_size = 15 # размер скрытых состояний h и c (краткосрочная и долгая память)\n",
    "    self.embedding_dim = 10 # размер входных данных (длина эмбеддингов)\n",
    "    self.num_layers = 2 # количество слоев LSTM\n",
    "\n",
    "    # слой эмбеддингов\n",
    "    self.embedding = nn.Embedding(\n",
    "        num_embeddings=vocab_size,\n",
    "        embedding_dim=self.embedding_dim\n",
    "        )\n",
    "    # слой LSTM\n",
    "    self.lstm = nn.LSTM(\n",
    "        input_size=self.embedding_dim,\n",
    "        hidden_size=self.lstm_size,\n",
    "        num_layers=self.num_layers\n",
    "    )\n",
    "    # линейный слой\n",
    "    self.hid2out = nn.Linear(\n",
    "        in_features=self.lstm_size,\n",
    "        out_features=vocab_size\n",
    "        )\n",
    "\n",
    "  def forward(self, x, prev_state=None):\n",
    "    embedding = self.embedding(x)\n",
    "    if prev_state:\n",
    "      output, state = self.lstm(embedding)\n",
    "    else:\n",
    "      output, state = self.lstm(embedding, prev_state)\n",
    "    logits = self.hid2out(output)\n",
    "\n",
    "    return logits, state"
   ]
  },
  {
   "cell_type": "code",
   "execution_count": null,
   "metadata": {},
   "outputs": [],
   "source": [
    "model = LM(len(dinos_dataset.char2id)).to(device)"
   ]
  },
  {
   "cell_type": "markdown",
   "metadata": {},
   "source": [
    "Применим модель к одному батчу и посмотрим размер получившихся данных."
   ]
  },
  {
   "cell_type": "code",
   "execution_count": null,
   "metadata": {},
   "outputs": [],
   "source": [
    "y_pred, (state_h, state_c) = model(x)\n",
    "print(f\"Shape of prediction: {y_pred.shape}\")\n",
    "print(f\"Shape of hidden state: {state_h.shape}\")\n",
    "print(f\"Shape of cell state: {state_c.shape}\")"
   ]
  },
  {
   "cell_type": "markdown",
   "metadata": {},
   "source": [
    "### Случайная выборка из элементов массива"
   ]
  },
  {
   "cell_type": "markdown",
   "metadata": {},
   "source": [
    "Метод `np.random.choice` выбирает из списка элемент случайным образом. Если мы не задаем распределение вероятностей, то каждый элемент будет выбран примерно одинаковое количество раз."
   ]
  },
  {
   "cell_type": "code",
   "execution_count": null,
   "metadata": {},
   "outputs": [],
   "source": [
    "import numpy as np\n",
    "\n",
    "print(\"Sampling in range from 1 to 3:\")\n",
    "for i in range(10):\n",
    "  print(np.random.choice([1,2,3]))"
   ]
  },
  {
   "cell_type": "markdown",
   "metadata": {},
   "source": [
    "Распределение вероятностей может быть задано эксплицитно. Если это ohe-hot вектор, то всегда будет выбираться номер позиции, на которой стоит 1."
   ]
  },
  {
   "cell_type": "code",
   "execution_count": null,
   "metadata": {},
   "outputs": [],
   "source": [
    "p1 = torch.nn.functional.one_hot(torch.tensor(2), len(dinos_dataset.char2id))\n",
    "print(f\"One-hot vector p1:\\n{p1}\")"
   ]
  },
  {
   "cell_type": "code",
   "execution_count": null,
   "metadata": {},
   "outputs": [],
   "source": [
    "print(f\"Sampling with one-hot vector p1:\")\n",
    "\n",
    "for i in range(10):\n",
    "  pred_id = np.random.choice(np.arange(len(dinos_dataset.char2id)), p=p1)\n",
    "  print(pred_id)"
   ]
  },
  {
   "cell_type": "markdown",
   "metadata": {},
   "source": [
    "Можно использовать распределение вероятностей, которое было получено при обучении сети. Для этого необходимо к выходным данным применить функцию активации softmax."
   ]
  },
  {
   "cell_type": "code",
   "execution_count": null,
   "metadata": {},
   "outputs": [],
   "source": [
    "logits = y_pred[:, -1, :].unsqueeze(1)\n",
    "print(f\"Shape of logits: {logits.shape}\")\n",
    "print(f\"Logits:\\n{logits}\\n\")\n",
    "y_softmax_scores = torch.softmax(logits, dim=2)\n",
    "print(f\"Shape of predictions after softmax: {y_softmax_scores.shape}\")\n",
    "print(f\"Predictions after softmax:\\n{y_softmax_scores}\")\n",
    "print(f\"Sum of presictions: {torch.sum(y_softmax_scores)}\")"
   ]
  },
  {
   "cell_type": "code",
   "execution_count": null,
   "metadata": {},
   "outputs": [],
   "source": [
    "p2 = y_softmax_scores.detach().cpu().numpy().ravel()\n",
    "print(f\"Numpy array of predictions after softmax p2:\\n{p2}\")"
   ]
  },
  {
   "cell_type": "code",
   "execution_count": null,
   "metadata": {},
   "outputs": [],
   "source": [
    "print(f\"Sampling with predictions after softmax p2:\")\n",
    "for i in range(20):\n",
    "  pred_id = np.random.choice(np.arange(len(dinos_dataset.char2id)), p=p2)\n",
    "  print(pred_id)"
   ]
  },
  {
   "cell_type": "markdown",
   "metadata": {},
   "source": [
    "### Генерация"
   ]
  },
  {
   "cell_type": "markdown",
   "metadata": {},
   "source": [
    "Напишем функцию для генерации названий динозавров."
   ]
  },
  {
   "cell_type": "code",
   "execution_count": null,
   "metadata": {},
   "outputs": [],
   "source": [
    "def inference(dataset, model):\n",
    "  model.eval() # переводим модель в состояние тестирования\n",
    "  newline_id = dataset.char2id['>'] # записываем индекс символа конца последовательности\n",
    "  word_size = 0 # будем контролировать длину порождаемой последовательности\n",
    "  with torch.no_grad():\n",
    "    state_h, state_c = (None, None) # скрытые состояния будут передаваться вручную, поэтому их надо хранить\n",
    "    start_id = dataset.char2id['<'] # генерация начинается с символа начала последовательности\n",
    "    indices = [start_id] # создаем список, где будем хранить предсказания\n",
    "    word_size += 1 # увеличиваем длину последовательности\n",
    "    pred_id = start_id # записываем символ начала последовательности как первое предсказание\n",
    "    x = torch.tensor([[pred_id]]).to(device) # преобразуем в тензор\n",
    "\n",
    "    \"\"\"\n",
    "    Будем использовать два условия для продолжения генерации в цикле while:\n",
    "    1) сгенерированный символ не является символом конца последовательности '>'\n",
    "    и\n",
    "    2) длина сгенерированной последовательности меньше 20\n",
    "    \"\"\"\n",
    "    while pred_id != newline_id and word_size < 20:\n",
    "      logits, (state_h, state_c) = model(x, (state_h, state_c)) # передаем в модель тензор с текущим символом x, предыдущие состояния h и c\n",
    "      y_softmax_scores = torch.softmax(logits, dim=2) # применяем softmax к предсказаниям модели\n",
    "      pred_id = np.random.choice( # осуществляем случайную выборку значений из заданного массива\n",
    "          np.arange(len(dinos_dataset.char2id)), # с некоторой вероятностью получим один из 29 индексов\n",
    "          p=y_softmax_scores.detach().cpu().numpy().ravel() # вероятность определяется в зависимости от обучающих данных\n",
    "          )\n",
    "      indices.append(pred_id) # добавляем предсказанный индекс в список предсказаний\n",
    "      x = torch.tensor([[pred_id]]).to(device) # преобразуем в тензор\n",
    "      word_size += 1 # увеличиваем длину последовательности\n",
    "\n",
    "      if word_size == 20 and indices[-1] != newline_id:\n",
    "        indices.append(newline_id)\n",
    "\n",
    "    model.train()\n",
    "\n",
    "    return ''.join([dinos_dataset.id2char[i] for i in indices]) # возвращаем индексы, переведенные в символы"
   ]
  },
  {
   "cell_type": "markdown",
   "metadata": {},
   "source": [
    "### Обучение модели"
   ]
  },
  {
   "cell_type": "markdown",
   "metadata": {},
   "source": [
    "Напишем функцию для обучения модели."
   ]
  },
  {
   "cell_type": "code",
   "execution_count": null,
   "metadata": {},
   "outputs": [],
   "source": [
    "def train(dataset, dataloader, model, criterion, optimizer, max_epochs):\n",
    "  model.train() # переводим модель в состояние обучения\n",
    "  losses = []\n",
    "  for epoch in range(max_epochs):\n",
    "    print(f'\\nEpoch {epoch+1}')\n",
    "    epoch_loss = 0\n",
    "    for batch, (x,y) in enumerate(dataloader):\n",
    "      optimizer.zero_grad()\n",
    "      y_pred, (state_h, state_c) = model(x) # передаем данные в модель, записываем предсказание\n",
    "      loss = criterion(y_pred.transpose(1,2), y) # считаем ошибку\n",
    "      epoch_loss += loss.item()\n",
    "      loss.backward()\n",
    "      optimizer.step()\n",
    "      if (batch+1) % 100 == 0:\n",
    "        print(inference(dataset, model))\n",
    "\n",
    "    print(f'Loss {epoch_loss/(batch+1)}')\n",
    "    losses.append(epoch_loss/(batch+1))\n",
    "  return losses"
   ]
  },
  {
   "cell_type": "markdown",
   "metadata": {},
   "source": [
    "Создадим модель, определим функцию потерь, метод оптимизации и количество эпох."
   ]
  },
  {
   "cell_type": "code",
   "execution_count": null,
   "metadata": {},
   "outputs": [],
   "source": [
    "from torch import optim\n",
    "model = LM(len(dinos_dataset.char2id)).to(device)\n",
    "criterion = nn.CrossEntropyLoss()\n",
    "optimizer = optim.SGD(model.parameters(), lr=0.2)\n",
    "max_epochs = 15"
   ]
  },
  {
   "cell_type": "markdown",
   "metadata": {},
   "source": [
    "Запустим обучение. Будем записывать значения ошибки и выводить сгенерированные последовательности."
   ]
  },
  {
   "cell_type": "code",
   "execution_count": null,
   "metadata": {},
   "outputs": [],
   "source": [
    "losses = train(dinos_dataset,dinos_dataloader, model, criterion, optimizer, max_epochs)"
   ]
  },
  {
   "cell_type": "markdown",
   "metadata": {},
   "source": [
    "Выведем значения функции потерь на графике."
   ]
  },
  {
   "cell_type": "code",
   "execution_count": null,
   "metadata": {},
   "outputs": [],
   "source": [
    "import matplotlib.pyplot as plt\n",
    "plt.plot(losses)\n",
    "plt.title('Cross Entropy Loss value')\n",
    "plt.ylabel('Cross Entropy Loss')\n",
    "plt.xlabel('epoch')\n",
    "plt.show()"
   ]
  },
  {
   "cell_type": "markdown",
   "metadata": {},
   "source": [
    "Для оценки языковых моделей используется перплексия. Она показывает, насколько хорошо модель аппроксимирует истинное распределение вероятностей, лежащее в основе данных. Чем меньше перплексия, тем лучше модель.\n",
    "\n",
    "[[blog] ✏️ Что такое перплексия?](https://training.continuumlabs.ai/data/datasets/what-is-perplexity)"
   ]
  },
  {
   "cell_type": "markdown",
   "metadata": {},
   "source": [
    "# RNN для машинного перевода"
   ]
  },
  {
   "cell_type": "markdown",
   "metadata": {},
   "source": [
    "Другая важная задача обработки естественного языка — машинный перевод: последовательности на одном языке сопоставляется последовательность на другом языке, передающая тот же смысл.\n",
    "\n",
    "Рассмотрим задачу перевода с английского на французский язык:\n",
    "- Исходное предложение: I am a student.\n",
    "- Целевое предложение: Je suis étudiant."
   ]
  },
  {
   "cell_type": "markdown",
   "metadata": {},
   "source": [
    "<center><img src =\"https://edunet.kea.su/repo/EduNet_NLP-content/L04/out/machine_translation.png\" width=\"600\"></center>"
   ]
  },
  {
   "cell_type": "markdown",
   "metadata": {},
   "source": [
    "Что нужно для перевода текста?\n",
    "1. Понимать отдельные слова\n",
    "2. Понимать взаимодействие между словами (синтаксис)\n",
    "3. Переводить слова (с учетом контекста)\n",
    "4. Составлять осмысленный и связный текст\n",
    "\n",
    "Для перевода текста можно разбить исходное предложение на несколько фрагментов, затем переводить его по фразам.\n",
    "\n",
    "Однако у такого подхода есть проблемы:\n",
    "- одному слову в исходном предложении (*forced*) может соответствовать несколько слов в целевом предложении (*a forcé*)\n",
    "- порядок слов может меняться (*exceptional measures* vs. *des mesures exceptionnelles*)\n",
    "\n",
    "Следовательно, возникают сложности с построением выравнивания слов (word alignment)."
   ]
  },
  {
   "cell_type": "markdown",
   "metadata": {},
   "source": [
    "<center><img src =\"https://edunet.kea.su/repo/EduNet_NLP-content/L04/out/word_alignment.png\" width=\"800\"></center>"
   ]
  },
  {
   "cell_type": "markdown",
   "metadata": {},
   "source": [
    "Другая возможность — прочитать все исходное предложение целиком, проанализировать его значение, а затем произвести перевод.\n",
    "\n",
    "В этом случае модель состоит из двух блоков:\n",
    "- кодировщик: строит векторное представление для исходного предложения (кодирует);\n",
    "- декодировщик: генерирует целевое предложение на основе этого векторного представления (раскодирует)."
   ]
  },
  {
   "cell_type": "markdown",
   "metadata": {},
   "source": [
    "<center><img src =\"https://edunet.kea.su/repo/EduNet_NLP-web_dependencies/L04/encoder_decoder.png\" width=\"700\"></center>\n",
    "\n",
    "<center><em>Источник: <a href=\"https://blog.paperspace.com/introduction-to-neural-machine-translation-with-bahdanaus-attention/\">Introduction to Neural Machine Translation</a></em></center>"
   ]
  },
  {
   "cell_type": "markdown",
   "metadata": {},
   "source": [
    "Машинный перевод относится к задаче преобразования одной последовательности в другую, длина которых может быть любой и не обязательно должна совпадать: \"многие ко многим\" или sequence-to-sequence (сокращенно seq2seq)."
   ]
  },
  {
   "cell_type": "markdown",
   "metadata": {},
   "source": [
    "## Архитектура кодировщик-декодировщик"
   ]
  },
  {
   "cell_type": "markdown",
   "metadata": {},
   "source": [
    "Модель для машинного перевода состоит из блока <font color=\"#5b9b2c\">кодировщика</font> и <font color=\"#9b2c6a\">декодировщика</font>."
   ]
  },
  {
   "cell_type": "markdown",
   "metadata": {},
   "source": [
    "<center><img src =\"https://edunet.kea.su/repo/EduNet_NLP-web_dependencies/L04/enc_dec-min.png\" width=\"500\"></center>\n",
    "\n",
    "<center><em>Источник: <a href=\"https://lena-voita.github.io/nlp_course/seq2seq_and_attention.html\">NLP Course For You</a></em></center>"
   ]
  },
  {
   "cell_type": "markdown",
   "metadata": {},
   "source": [
    "### Кодировщик"
   ]
  },
  {
   "cell_type": "markdown",
   "metadata": {},
   "source": [
    "Архитектура <font color=\"#5b9b2c\"> кодировщика </font>:\n",
    "\n",
    "- на вход первой ячейки RNN поступает нулевое скрытое состояние;\n",
    "- его вектор обрабатывается внутри первой ячейки кодировщика;"
   ]
  },
  {
   "cell_type": "markdown",
   "metadata": {},
   "source": [
    "<center><img src=\"https://edunet.kea.su/repo/EduNet_NLP-web_dependencies/L04/seq2seq_1.png\" width=\"700\"></center>\n",
    "\n",
    "<center><em>Источник: <a href=\"https://lena-voita.github.io/nlp_course/seq2seq_and_attention.html\">NLP Course For You</a></em></center>"
   ]
  },
  {
   "cell_type": "markdown",
   "metadata": {},
   "source": [
    "- на вход второй ячейки RNN поступает вектор слова \"Я\" и нулевое скрытое состояние;\n",
    "- вектор слова \"Я\" обрабатывается внутри второй ячейки кодировщика;"
   ]
  },
  {
   "cell_type": "markdown",
   "metadata": {},
   "source": [
    "<center><img src=\"https://edunet.kea.su/repo/EduNet_NLP-web_dependencies/L04/seq2seq_2.png\" width=\"700\"></center>\n",
    "\n",
    "<center><em>Источник: <a href=\"https://lena-voita.github.io/nlp_course/seq2seq_and_attention.html\">NLP Course For You</a></em></center>"
   ]
  },
  {
   "cell_type": "markdown",
   "metadata": {},
   "source": [
    "- на вход третьей ячейки поступает вектор слова \"видел\" и измененный вектор слова \"Я\" как скрытое состояние;\n",
    "- вектор слова \"видел\" обрабатывается внутри третьей ячейки кодировщика;"
   ]
  },
  {
   "cell_type": "markdown",
   "metadata": {},
   "source": [
    "<center><img src=\"https://edunet.kea.su/repo/EduNet_NLP-web_dependencies/L04/seq2seq_3.png\" width=\"700\"></center>\n",
    "\n",
    "<center><em>Источник: <a href=\"https://lena-voita.github.io/nlp_course/seq2seq_and_attention.html\">NLP Course For You</a></em></center>"
   ]
  },
  {
   "cell_type": "markdown",
   "metadata": {},
   "source": [
    "- то же самое происходит со всеми словами исходного предложения;"
   ]
  },
  {
   "cell_type": "markdown",
   "metadata": {},
   "source": [
    "<center><img src=\"https://edunet.kea.su/repo/EduNet_NLP-web_dependencies/L04/seq2seq_4.png\" width=\"700\"></center>\n",
    "\n",
    "<center><em>Источник: <a href=\"https://lena-voita.github.io/nlp_course/seq2seq_and_attention.html\">NLP Course For You</a></em></center>"
   ]
  },
  {
   "cell_type": "markdown",
   "metadata": {},
   "source": [
    "- вектор спецтокена \\<eos\\>, обозначающего конец предложения, обрабатывается внутри последней ячейки кодировщика;\n",
    "- измененный вектор спецтокена \\<eos\\> (= вектор предложения) поступает на вход декодировщика как скрытое состояние."
   ]
  },
  {
   "cell_type": "markdown",
   "metadata": {},
   "source": [
    "<center><img src=\"https://edunet.kea.su/repo/EduNet_NLP-web_dependencies/L04/seq2seq_5.png\" width=\"700\"></center>\n",
    "\n",
    "<center><em>Источник: <a href=\"https://lena-voita.github.io/nlp_course/seq2seq_and_attention.html\">NLP Course For You</a></em></center>"
   ]
  },
  {
   "cell_type": "markdown",
   "metadata": {},
   "source": [
    "### Декодировщик"
   ]
  },
  {
   "cell_type": "markdown",
   "metadata": {},
   "source": [
    "Архитектура <font color=\"#9b2c6a\"> декодировщика</font>:\n",
    "- на вход первой ячейки декодировщика поступает нулевое скрытое состояние и вектор исходного предложения из кодировщика как скрытое состояние;\n",
    "- они обрабатываются внутри первой ячейки декодировщика;"
   ]
  },
  {
   "cell_type": "markdown",
   "metadata": {},
   "source": [
    "<center><img src=\"https://edunet.kea.su/repo/EduNet_NLP-web_dependencies/L04/seq2seq_6.png\" width=\"700\"></center>\n",
    "\n",
    "<center><em>Источник: <a href=\"https://lena-voita.github.io/nlp_course/seq2seq_and_attention.html\">NLP Course For You</a></em></center>"
   ]
  },
  {
   "cell_type": "markdown",
   "metadata": {},
   "source": [
    "- измененный вектор нулевого скрытого состояния передается на линейный слой, применяется softmax;\n",
    "- на выходе получаем вектор, длина которого равна длине словаря, — это распределение вероятностей для следующего элемента при условии текущей последовательности;"
   ]
  },
  {
   "cell_type": "markdown",
   "metadata": {},
   "source": [
    "<center><img src=\"https://edunet.kea.su/repo/EduNet_NLP-web_dependencies/L04/seq2seq_7.png\" width=\"700\"></center>\n",
    "\n",
    "<center><em>Источник: <a href=\"https://lena-voita.github.io/nlp_course/seq2seq_and_attention.html\">NLP Course For You</a></em></center>"
   ]
  },
  {
   "cell_type": "markdown",
   "metadata": {},
   "source": [
    "- сравниваем полученное распределение вероятностей с правильным ответом;"
   ]
  },
  {
   "cell_type": "markdown",
   "metadata": {},
   "source": [
    "<center><img src=\"https://edunet.kea.su/repo/EduNet_NLP-web_dependencies/L04/seq2seq_8.png\" width=\"700\"></center>\n",
    "\n",
    "<center><em>Источник: <a href=\"https://lena-voita.github.io/nlp_course/seq2seq_and_attention.html\">NLP Course For You</a></em></center>"
   ]
  },
  {
   "cell_type": "markdown",
   "metadata": {},
   "source": [
    "- подсчитываем значение функции потерь и обновляем веса так, чтобы вероятность правильного слова была выше, а вероятности остальных слов — ниже;"
   ]
  },
  {
   "cell_type": "markdown",
   "metadata": {},
   "source": [
    "<center><img src=\"https://edunet.kea.su/repo/EduNet_NLP-web_dependencies/L04/seq2seq_9.png\" width=\"700\"></center>\n",
    "\n",
    "<center><em>Источник: <a href=\"https://lena-voita.github.io/nlp_course/seq2seq_and_attention.html\">NLP Course For You</a></em></center>"
   ]
  },
  {
   "cell_type": "markdown",
   "metadata": {},
   "source": [
    "- записываем предсказание и переходим к следующему токену;\n",
    "- на вход второй ячейки поступает вектор слова \"I\" и измененный вектор нулевого скрытого состояния;\n",
    "- вектор слова \"I\" обрабатывается внутри второй ячейки декодировщика;"
   ]
  },
  {
   "cell_type": "markdown",
   "metadata": {},
   "source": [
    "<center><img src=\"https://edunet.kea.su/repo/EduNet_NLP-web_dependencies/L04/seq2seq_10.png\" width=\"700\"></center>\n",
    "\n",
    "<center><em>Источник: <a href=\"https://lena-voita.github.io/nlp_course/seq2seq_and_attention.html\">NLP Course For You</a></em></center>"
   ]
  },
  {
   "cell_type": "markdown",
   "metadata": {},
   "source": [
    "- измененный вектор слова \"I\" передается на линейный слой, применяется softmax, на выходе получаем распределение вероятностей;"
   ]
  },
  {
   "cell_type": "markdown",
   "metadata": {},
   "source": [
    "<center><img src=\"https://edunet.kea.su/repo/EduNet_NLP-web_dependencies/L04/seq2seq_11.png\" width=\"700\"></center>\n",
    "\n",
    "<center><em>Источник: <a href=\"https://lena-voita.github.io/nlp_course/seq2seq_and_attention.html\">NLP Course For You</a></em></center>"
   ]
  },
  {
   "cell_type": "markdown",
   "metadata": {},
   "source": [
    "- сравниваем полученное распределение с правильным ответом, подсчитываем значение функции потерь и обновляем веса;"
   ]
  },
  {
   "cell_type": "markdown",
   "metadata": {},
   "source": [
    "<center><img src=\"https://edunet.kea.su/repo/EduNet_NLP-web_dependencies/L04/seq2seq_12.png\" width=\"700\"></center>\n",
    "\n",
    "<center><em>Источник: <a href=\"https://lena-voita.github.io/nlp_course/seq2seq_and_attention.html\">NLP Course For You</a></em></center>"
   ]
  },
  {
   "cell_type": "markdown",
   "metadata": {},
   "source": [
    "- то же самое происходит со всеми словами;\n",
    "- на выходе получаем 8 векторов, соответствующих распределению вероятностей для каждого слова."
   ]
  },
  {
   "cell_type": "markdown",
   "metadata": {},
   "source": [
    "<center><img src=\"https://edunet.kea.su/repo/EduNet_NLP-web_dependencies/L04/seq2seq_13.png\" width=\"700\"></center>\n",
    "\n",
    "<center><em>Источник: <a href=\"https://lena-voita.github.io/nlp_course/seq2seq_and_attention.html\">NLP Course For You</a></em></center>"
   ]
  },
  {
   "cell_type": "markdown",
   "metadata": {},
   "source": [
    "## Недостатки стандартной модели"
   ]
  },
  {
   "cell_type": "markdown",
   "metadata": {},
   "source": [
    "Итак,\n",
    "- <font color=\"#5b9b2c\">кодировщик</font> используется для получения конекстуализированного вектора исходного предложения;\n",
    "-  <font color=\"#9b2c6a\">декодировщик</font> используется для генерации целевого предложения;\n",
    "- вектор исходного предложения используется в качестве скрытого состояния на первом шаге генерации."
   ]
  },
  {
   "cell_type": "markdown",
   "metadata": {},
   "source": [
    "<center><img src=\"https://edunet.kea.su/repo/EduNet_NLP-web_dependencies/L04/seq2seq_14.png\" width=\"700\"></center>\n",
    "\n",
    "<center><em>Источник: <a href=\"https://lena-voita.github.io/nlp_course/seq2seq_and_attention.html\">NLP Course For You</a></em></center>"
   ]
  },
  {
   "cell_type": "markdown",
   "metadata": {},
   "source": [
    "**Проблема Sequence-to-Sequence**: использование только конечного скрытого состояния <font color=\"#5b9b2c\">кодировщика</font> для представления всей входной последовательности приводит к потере информации, особенно с начала последовательности;\n",
    "- по мере того, как <font color=\"#5b9b2c\">кодировщик</font> обрабатывает входную последовательность, ожидается, что в конечном скрытом состоянии будет собрана вся необходимая информация;\n",
    "- когда последовательность становится длиннее, этому единственному состоянию труднее сохранять всю необходимую информацию из предыдущих частей последовательности."
   ]
  },
  {
   "cell_type": "markdown",
   "metadata": {},
   "source": [
    "<center><img src=\"https://edunet.kea.su/repo/EduNet_NLP-web_dependencies/L04/bottleneck.png\" width=\"500\"></center>\n",
    "\n",
    "<center><em>Источник: <a href=\"https://lena-voita.github.io/nlp_course/seq2seq_and_attention.html\">NLP Course For You</a></em></center>"
   ]
  },
  {
   "cell_type": "markdown",
   "metadata": {},
   "source": [
    "## Механизм внимания"
   ]
  },
  {
   "cell_type": "markdown",
   "metadata": {},
   "source": [
    "На разных этапах декодировщику может потребоваться сосредоточиться на разных исходных лексемах, которые более актуальны на данном этапе. Давайте посмотрим на весовые коэффициенты внимания: они показывают, какие исходные слова оказываются \"важнее\" для декодировщика при генерации целевой последовательности."
   ]
  },
  {
   "cell_type": "markdown",
   "metadata": {},
   "source": [
    "<center><img src=\"https://edunet.kea.su/repo/EduNet_NLP-web_dependencies/L04/attention_matrices.jpg\" width=\"800\"></center>\n",
    "\n",
    "<center><em>Источник: <a href=\"https://arxiv.org/abs/1409.0473\">Neural Machine Translation by Jointly Learning to Align and Translate</a></em></center>"
   ]
  },
  {
   "cell_type": "markdown",
   "metadata": {},
   "source": [
    "Чтобы модель могла фокусироваться на различных частях входной последовательности и сохранять больше информации на протяжении всего процесса кодирования и декодирования, был предложен механизм внимания (attention mechanism).\n",
    "\n",
    "[[paper] 🎓 Bahdanau D., Cho K., Bengio Y. (2014). Neural Machine Translation by Jointly Learning to Align and Translate](https://arxiv.org/abs/1409.0473)\n",
    "\n",
    "На каждом этапе <font color=\"#9b2c6a\">декодирования</font> механизм внимания решает, какие части исходного предложения являются более важными. В этом случае <font color=\"#5b9b2c\">кодировщику</font> не нужно сжимать все исходное предложение в один вектор — он выдает векторные представления для всех токенов, все состояния RNN."
   ]
  },
  {
   "cell_type": "markdown",
   "metadata": {},
   "source": [
    "<center><img src=\"https://edunet.kea.su/repo/EduNet_NLP-web_dependencies/L04/attention_1.png\" width=\"700\"></center>\n",
    "\n",
    "<center><em>Источник: <a href=\"https://lena-voita.github.io/nlp_course/seq2seq_and_attention.html\">NLP Course For You</a></em></center>"
   ]
  },
  {
   "cell_type": "markdown",
   "metadata": {},
   "source": [
    "Архитектура <font color=\"#5b9b2c\">кодировщика</font> не меняется, все изменения касаются архитектуры <font color=\"#9b2c6a\">декодировщика</font>.\n",
    "\n",
    "Рассмотрим изменения пошагово на примере обработки слова \"а\":\n",
    "\n",
    "- на вход ячейки декодировщика поступает вектор слова \"a\" и измененный вектор слова \"saw\" как скрытое состояние;\n",
    "- вектор слова \"a\" обрабатывается внутри ячейки декодировщика;\n",
    "- выход ячейки декодеровщика, соответствующей слову \"a\", сравнивается с выходом первой ячейки кодировщика, соответствующей слову \"Я\", с помощью некоторой функции сходства;"
   ]
  },
  {
   "cell_type": "markdown",
   "metadata": {},
   "source": [
    "<center><img src=\"https://edunet.kea.su/repo/EduNet_NLP-web_dependencies/L04/attention_2.png\" width=\"450\"></center>\n",
    "\n",
    "<center><em>Источник: <a href=\"https://lena-voita.github.io/nlp_course/seq2seq_and_attention.html\">NLP Course For You</a></em></center>"
   ]
  },
  {
   "cell_type": "markdown",
   "metadata": {},
   "source": [
    "- аналогичная мера сходства считается для вектора слова \"a\" и векторов каждого слова исходной последовательности;"
   ]
  },
  {
   "cell_type": "markdown",
   "metadata": {},
   "source": [
    "<center><img src=\"https://edunet.kea.su/repo/EduNet_NLP-web_dependencies/L04/attention_3.png\" width=\"450\"></center>\n",
    "\n",
    "<center><em>Источник: <a href=\"https://lena-voita.github.io/nlp_course/seq2seq_and_attention.html\">NLP Course For You</a></em></center>"
   ]
  },
  {
   "cell_type": "markdown",
   "metadata": {},
   "source": [
    "- чтобы интерпретировать полученные значения как веса, применяется функция softmax — теперь их сумма равна 1;\n",
    "- полученные значения называются весами внимания (attention weights): если векторы некоторого слова целевого и исходного предложения схожи, то вес внимания будет большим, и при переводе (генерации) данного слова декодировщик больше \"обращает внимания\" на него;"
   ]
  },
  {
   "cell_type": "markdown",
   "metadata": {},
   "source": [
    "<center><img src=\"https://edunet.kea.su/repo/EduNet_NLP-web_dependencies/L04/attention_4.png\" width=\"600\"></center>\n",
    "\n",
    "<center><em>Источник: <a href=\"https://lena-voita.github.io/nlp_course/seq2seq_and_attention.html\">NLP Course For You</a></em></center>"
   ]
  },
  {
   "cell_type": "markdown",
   "metadata": {},
   "source": [
    "- вектор каждого слова исходного предложения умножается на свой вес внимания, затем все векторы складываются, получаем контекстный вектор (attention output);"
   ]
  },
  {
   "cell_type": "markdown",
   "metadata": {},
   "source": [
    "<center><img src=\"https://edunet.kea.su/repo/EduNet_NLP-web_dependencies/L04/attention_5.png\" width=\"600\"></center>\n",
    "\n",
    "<center><em>Источник: <a href=\"https://lena-voita.github.io/nlp_course/seq2seq_and_attention.html\">NLP Course For You</a></em></center>"
   ]
  },
  {
   "cell_type": "markdown",
   "metadata": {},
   "source": [
    "- вектор слова \"a\" и контекстный вектор конкатенируются;\n",
    "- конкатенированный вектор передается на линейный слой, применяется softmax;\n",
    "- получаем вектор, длина которого равна длине словаря, — это распределение вероятностей для следующего элемента при условии спецсимвола начала предложения;"
   ]
  },
  {
   "cell_type": "markdown",
   "metadata": {},
   "source": [
    "<center><img src=\"https://edunet.kea.su/repo/EduNet_NLP-web_dependencies/L04/attention_6.png\" width=\"650\"></center>\n",
    "\n",
    "<center><em>Источник: <a href=\"https://lena-voita.github.io/nlp_course/seq2seq_and_attention.html\">NLP Course For You</a></em></center>"
   ]
  },
  {
   "cell_type": "markdown",
   "metadata": {},
   "source": [
    "- то же самое происходит со всеми словами;\n",
    "- на выходе получаем 8 векторов, соответствующих распределению вероятностей для каждого слова."
   ]
  },
  {
   "cell_type": "markdown",
   "metadata": {},
   "source": [
    "<center><img src=\"https://edunet.kea.su/repo/EduNet_NLP-web_dependencies/L04/attention_7.png\" width=\"750\"></center>\n",
    "\n",
    "<center><em>Источник: <a href=\"https://lena-voita.github.io/nlp_course/seq2seq_and_attention.html\">NLP Course For You</a></em></center>"
   ]
  },
  {
   "cell_type": "markdown",
   "metadata": {},
   "source": [
    "## Пример реализации машинного перевода"
   ]
  },
  {
   "cell_type": "markdown",
   "metadata": {},
   "source": [
    "Материал основан на [официальной документации PyTorch 🛠️[doc]](https://pytorch.org/tutorials/intermediate/seq2seq_translation_tutorial.html)."
   ]
  },
  {
   "cell_type": "markdown",
   "metadata": {},
   "source": [
    "### Подготовка данных"
   ]
  },
  {
   "cell_type": "markdown",
   "metadata": {},
   "source": [
    "Нам понадобится уникальный индекс для каждого слова, чтобы позже использовать его в качестве входных данных и таргетов. Сделаем вспомогательный класс `Lang` из словарей **слово → индекс** (`word2index`) **и индекс → слово** (`index2word`), а также счетчик каждого слова `word2count`, который будет использоваться для замены редких слов позже."
   ]
  },
  {
   "cell_type": "code",
   "execution_count": null,
   "metadata": {},
   "outputs": [],
   "source": [
    "from IPython.display import clear_output\n",
    "\n",
    "!pip install -q -U transformers accelerate git+https://github.com/huggingface/peft.git\n",
    "!pip install -q sentencepiece sentence_transformers\n",
    "!pip install -q -U datasets huggingface-hub\n",
    "clear_output()"
   ]
  },
  {
   "cell_type": "code",
   "execution_count": null,
   "metadata": {},
   "outputs": [],
   "source": [
    "SOS_token = 0\n",
    "EOS_token = 1\n",
    "\n",
    "\n",
    "class Lang:\n",
    "    def __init__(self, name):\n",
    "        self.name = name\n",
    "        self.word2index = {}\n",
    "        self.word2count = {}\n",
    "        self.index2word = {0: \"SOS\", 1: \"EOS\"}\n",
    "        self.n_words = 2  # Count SOS and EOS\n",
    "\n",
    "    def addSentence(self, sentence):\n",
    "        for word in sentence.split(\" \"):\n",
    "            self.addWord(word)\n",
    "\n",
    "    def addWord(self, word):\n",
    "        if word not in self.word2index:\n",
    "            self.word2index[word] = self.n_words\n",
    "            self.word2count[word] = 1\n",
    "            self.index2word[self.n_words] = word\n",
    "            self.n_words += 1\n",
    "        else:\n",
    "            self.word2count[word] += 1"
   ]
  },
  {
   "cell_type": "markdown",
   "metadata": {},
   "source": [
    "Все файлы представлены в формате Unicode, поэтому для упрощения мы преобразуем символы Unicode в ASCII, сделаем строчными и уберём большую часть знаков препинания."
   ]
  },
  {
   "cell_type": "code",
   "execution_count": null,
   "metadata": {},
   "outputs": [],
   "source": [
    "import re\n",
    "import unicodedata\n",
    "\n",
    "\n",
    "def unicodeToAscii(s):\n",
    "    return \"\".join(\n",
    "        c for c in unicodedata.normalize(\"NFD\", s) if unicodedata.category(c) != \"Mn\"\n",
    "    )\n",
    "\n",
    "\n",
    "def normalizeString(s):\n",
    "    s = unicodeToAscii(s.lower().strip())\n",
    "    s = re.sub(r\"([.!?])\", r\" \\1\", s)\n",
    "    s = re.sub(r\"[^a-zA-Z!?]+\", r\" \", s)\n",
    "    return s.strip()\n",
    "\n",
    "\n",
    "def normalizeStringRu(s):\n",
    "    s = unicodeToAscii(s.lower().strip())\n",
    "    s = re.sub(r\"([.!?])\", r\" \\1\", s)\n",
    "    s = re.sub(r\"[^a-яА-Я!?]+\", r\" \", s)\n",
    "    return s.strip()"
   ]
  },
  {
   "cell_type": "markdown",
   "metadata": {},
   "source": [
    "Зафиксируем seeds для воспроизводимости результата:"
   ]
  },
  {
   "cell_type": "code",
   "execution_count": null,
   "metadata": {},
   "outputs": [],
   "source": [
    "import torch\n",
    "import random\n",
    "import numpy as np\n",
    "\n",
    "\n",
    "def set_random_seed(seed):\n",
    "    torch.manual_seed(seed)\n",
    "    torch.cuda.manual_seed(seed)\n",
    "    np.random.seed(seed)\n",
    "    random.seed(seed)\n",
    "\n",
    "\n",
    "set_random_seed(42)"
   ]
  },
  {
   "cell_type": "markdown",
   "metadata": {},
   "source": [
    "Делим файл на строки, а строки — на пары."
   ]
  },
  {
   "cell_type": "code",
   "execution_count": null,
   "metadata": {},
   "outputs": [],
   "source": [
    "# Source: https://www.manythings.org/anki/\n",
    "!wget -q https://edunet.kea.su/repo/EduNet_NLP-web_dependencies/datasets/eng_rus_vocab.txt"
   ]
  },
  {
   "cell_type": "code",
   "execution_count": null,
   "metadata": {},
   "outputs": [],
   "source": [
    "from io import open\n",
    "\n",
    "\n",
    "def readLangs(lang1, lang2, reverse=False):\n",
    "    print(\"Reading lines...\")\n",
    "\n",
    "    # Read the file and split into lines\n",
    "    lines = (\n",
    "        open(\"%s_%s_vocab.txt\" % (lang1, lang2), encoding=\"utf-8\")\n",
    "        .read()\n",
    "        .strip()\n",
    "        .split(\"\\n\")\n",
    "    )\n",
    "\n",
    "    # Split every line into pairs and normalize\n",
    "    pairs = [l.split(\"\\t\")[:2] for l in lines]\n",
    "    eng = [normalizeString(s[0]) for s in pairs]\n",
    "    rus = [normalizeStringRu(s[1]) for s in pairs]\n",
    "    pairs = list(zip(rus, eng))\n",
    "\n",
    "    # Reverse pairs, make Lang instances\n",
    "    if reverse:\n",
    "        pairs = [list(reversed(p)) for p in pairs]\n",
    "        input_lang = Lang(lang2)\n",
    "        output_lang = Lang(lang1)\n",
    "    else:\n",
    "        input_lang = Lang(lang1)\n",
    "        output_lang = Lang(lang2)\n",
    "\n",
    "    return input_lang, output_lang, pairs"
   ]
  },
  {
   "cell_type": "markdown",
   "metadata": {},
   "source": [
    "Для скорости сократим датасет до предложений не длинее 10 слов и отфильтруем апострофы."
   ]
  },
  {
   "cell_type": "code",
   "execution_count": null,
   "metadata": {},
   "outputs": [],
   "source": [
    "max_length = 10\n",
    "\n",
    "eng_prefixes = (\n",
    "    \"i am \",\n",
    "    \"i m \",\n",
    "    \"he is\",\n",
    "    \"he s \",\n",
    "    \"she is\",\n",
    "    \"she s \",\n",
    "    \"you are\",\n",
    "    \"you re \",\n",
    "    \"we are\",\n",
    "    \"we re \",\n",
    "    \"they are\",\n",
    "    \"they re \",\n",
    ")\n",
    "\n",
    "\n",
    "def filterPair(p):\n",
    "    return (\n",
    "        len(p[0].split(\" \")) < max_length\n",
    "        and len(p[1].split(\" \")) < max_length\n",
    "        and p[1].startswith(eng_prefixes)\n",
    "    )\n",
    "\n",
    "\n",
    "def filterPairs(pairs):\n",
    "    return [pair for pair in pairs if filterPair(pair)]"
   ]
  },
  {
   "cell_type": "code",
   "execution_count": null,
   "metadata": {},
   "outputs": [],
   "source": [
    "import random\n",
    "\n",
    "\n",
    "def prepareData(lang1, lang2, reverse=False):\n",
    "    input_lang, output_lang, pairs = readLangs(lang1, lang2, reverse)\n",
    "    print(\"Read %s sentence pairs\" % len(pairs))\n",
    "    pairs = filterPairs(pairs)\n",
    "    print(\"Trimmed to %s sentence pairs\" % len(pairs))\n",
    "    print(\"Counting words...\")\n",
    "    for pair in pairs:\n",
    "        input_lang.addSentence(pair[0])\n",
    "        output_lang.addSentence(pair[1])\n",
    "    print(\"Counted words:\")\n",
    "    print(input_lang.name, input_lang.n_words)\n",
    "    print(output_lang.name, output_lang.n_words)\n",
    "    return input_lang, output_lang, pairs\n",
    "\n",
    "\n",
    "input_lang, output_lang, pairs = prepareData(\"eng\", \"rus\", False)\n",
    "print(random.choice(pairs))"
   ]
  },
  {
   "cell_type": "markdown",
   "metadata": {},
   "source": [
    "Теперь в нашем распоряжении есть два словаря и набор пар строк.\n",
    "\n",
    "Для обучения для каждой пары нам понадобятся входной тензор (индексы слов во входном предложении) и целевой тензор (индексы слов в целевом предложении). При создании этих векторов мы добавим токен EOS к обеим последовательностям."
   ]
  },
  {
   "cell_type": "code",
   "execution_count": null,
   "metadata": {},
   "outputs": [],
   "source": [
    "import numpy as np\n",
    "from torch.utils.data import TensorDataset, DataLoader\n",
    "\n",
    "\n",
    "def indexesFromSentence(lang, sentence):\n",
    "    return [lang.word2index[word] for word in sentence.split(\" \")]\n",
    "\n",
    "\n",
    "def tensorFromSentence(lang, sentence):\n",
    "    indexes = indexesFromSentence(lang, sentence)\n",
    "    indexes.append(EOS_token)\n",
    "    return torch.tensor(indexes, dtype=torch.long).view(1, -1)\n",
    "\n",
    "\n",
    "def tensorsFromPair(pair):\n",
    "    input_tensor = tensorFromSentence(input_lang, pair[0])\n",
    "    target_tensor = tensorFromSentence(output_lang, pair[1])\n",
    "    return (input_tensor, target_tensor)\n",
    "\n",
    "\n",
    "def get_dataloaders(batch_size):\n",
    "    input_lang, output_lang, pairs = prepareData(\"eng\", \"rus\", False)\n",
    "\n",
    "    n = len(pairs)\n",
    "    input_ids = np.zeros((n, max_length), dtype=np.int32)\n",
    "    target_ids = np.zeros((n, max_length), dtype=np.int32)\n",
    "\n",
    "    for idx, (inp, tgt) in enumerate(pairs):\n",
    "        inp_ids = indexesFromSentence(input_lang, inp)\n",
    "        tgt_ids = indexesFromSentence(output_lang, tgt)\n",
    "        inp_ids.append(EOS_token)\n",
    "        tgt_ids.append(EOS_token)\n",
    "        input_ids[idx, : len(inp_ids)] = inp_ids\n",
    "        target_ids[idx, : len(tgt_ids)] = tgt_ids\n",
    "\n",
    "    # Prepare train/val/test split of sentance pairs\n",
    "    all_pairs_idx = np.random.permutation(len(input_ids))\n",
    "    train_len = int(0.8 * len(input_ids))\n",
    "    val_len = int(0.15 * len(input_ids))\n",
    "    train_pairs, val_pairs, test_pairs = np.split(\n",
    "        ary=all_pairs_idx, indices_or_sections=[train_len, train_len + val_len]\n",
    "    )\n",
    "\n",
    "    # Prepare datasets\n",
    "    datasets = {}\n",
    "    for split, pair_ids in zip(\n",
    "        [\"train\", \"val\", \"test\"], [train_pairs, val_pairs, test_pairs]\n",
    "    ):\n",
    "        datasets[split] = TensorDataset(\n",
    "            torch.LongTensor(input_ids[pair_ids, ...]),\n",
    "            torch.LongTensor(target_ids[pair_ids, ...]),\n",
    "        )\n",
    "    # Prepare dataloaders\n",
    "    train_dataloader = DataLoader(\n",
    "        datasets[\"train\"], batch_size=batch_size, shuffle=True\n",
    "    )\n",
    "\n",
    "    val_dataloader = DataLoader(datasets[\"val\"], batch_size=batch_size, shuffle=False)\n",
    "\n",
    "    test_dataloader = DataLoader(datasets[\"test\"], batch_size=batch_size, shuffle=False)\n",
    "    return (\n",
    "        input_lang,\n",
    "        output_lang,\n",
    "        train_dataloader,\n",
    "        val_dataloader,\n",
    "        test_dataloader,\n",
    "        test_pairs,\n",
    "    )"
   ]
  },
  {
   "cell_type": "markdown",
   "metadata": {},
   "source": [
    "### Кодировщик-декодировщик"
   ]
  },
  {
   "cell_type": "code",
   "execution_count": null,
   "metadata": {},
   "outputs": [],
   "source": [
    "import torch.nn as nn\n",
    "\n",
    "\n",
    "class EncoderRNN(nn.Module):\n",
    "    def __init__(self, input_size, hidden_size, dropout_p=0.1):\n",
    "        super(EncoderRNN, self).__init__()\n",
    "        self.hidden_size = hidden_size\n",
    "\n",
    "        self.embedding = nn.Embedding(input_size, hidden_size)\n",
    "        self.gru = nn.GRU(hidden_size, hidden_size, batch_first=True)\n",
    "        self.dropout = nn.Dropout(dropout_p)\n",
    "\n",
    "    def forward(self, input):\n",
    "        embedded = self.dropout(self.embedding(input))\n",
    "        output, hidden = self.gru(embedded)\n",
    "        return output, hidden"
   ]
  },
  {
   "cell_type": "markdown",
   "metadata": {},
   "source": [
    "На каждом этапе декодирования декодеру предоставляются входной токен и скрытое состояние. Начальный входной токен — токен начала строки <SOS>, первое скрытое состояние — вектор контекста (последнее скрытое состояние кодировщика)."
   ]
  },
  {
   "cell_type": "code",
   "execution_count": null,
   "metadata": {},
   "outputs": [],
   "source": [
    "import torch\n",
    "import torch.nn.functional as F\n",
    "\n",
    "device = torch.device(\"cuda\" if torch.cuda.is_available() else \"cpu\")\n",
    "\n",
    "\n",
    "class DecoderRNN(nn.Module):\n",
    "    def __init__(self, hidden_size, output_size):\n",
    "        super(DecoderRNN, self).__init__()\n",
    "        self.embedding = nn.Embedding(output_size, hidden_size)\n",
    "        self.gru = nn.GRU(hidden_size, hidden_size, batch_first=True)\n",
    "        self.out = nn.Linear(hidden_size, output_size)\n",
    "\n",
    "    def forward(self, encoder_outputs, encoder_hidden, target_tensor=None):\n",
    "        batch_size = encoder_outputs.size(0)\n",
    "        decoder_input = torch.empty(\n",
    "            batch_size, 1, dtype=torch.long, device=device\n",
    "        ).fill_(SOS_token)\n",
    "        decoder_hidden = encoder_hidden\n",
    "        decoder_outputs = []\n",
    "\n",
    "        for i in range(max_length):\n",
    "            decoder_output, decoder_hidden = self.forward_step(\n",
    "                decoder_input, decoder_hidden\n",
    "            )\n",
    "            decoder_outputs.append(decoder_output)\n",
    "\n",
    "            if target_tensor is not None:\n",
    "                # Teacher forcing: Feed the target as the next input\n",
    "                decoder_input = target_tensor[:, i].unsqueeze(1)  # Teacher forcing\n",
    "            else:\n",
    "                # Without teacher forcing: use its own predictions as the next input\n",
    "                _, topi = decoder_output.topk(1)\n",
    "                decoder_input = topi.squeeze(\n",
    "                    -1\n",
    "                ).detach()  # detach from history as input\n",
    "\n",
    "        decoder_outputs = torch.cat(decoder_outputs, dim=1)\n",
    "        decoder_outputs = F.log_softmax(decoder_outputs, dim=-1)\n",
    "        return (\n",
    "            decoder_outputs,\n",
    "            decoder_hidden,\n",
    "            None,\n",
    "        )  # We return `None` for consistency in the training loop\n",
    "\n",
    "    def forward_step(self, input, hidden):\n",
    "        output = self.embedding(input)\n",
    "        output = F.relu(output)\n",
    "        output, hidden = self.gru(output, hidden)\n",
    "        output = self.out(output)\n",
    "        return output, hidden"
   ]
  },
  {
   "cell_type": "markdown",
   "metadata": {},
   "source": [
    "### Слой Attention"
   ]
  },
  {
   "cell_type": "markdown",
   "metadata": {},
   "source": [
    "Сначала мы вычисляем **набор весов Attention**. Они будут умножены на выходные векторы энкодера для создания взвешенной комбинации. Результат должен содержать информацию об этой конкретной части входной последовательности и помогать декодеру выбирать правильные выходные слова.\n",
    "\n",
    "Вычисление весов Attention выполняется с помощью линейного слоя. В данных присутствуют предложения всех размеров, и для фактического создания и обучения этого слоя нужно выбрать максимальную длину предложения. В предложениях максимальной длины будут использоваться все веса внимания, в то время как в более коротких предложениях будут использоваться только первые несколько.\n",
    "\n",
    "$\\large a(h, h') = \\color{red}{w}^T\\tanh(\\color{red}{U}h + \\color{red}{V}h')$ — аддитивное внимание с $\\color{red}{w, U, V}$."
   ]
  },
  {
   "cell_type": "code",
   "execution_count": null,
   "metadata": {},
   "outputs": [],
   "source": [
    "class BahdanauAttention(nn.Module):\n",
    "    def __init__(self, hidden_size):\n",
    "        super(BahdanauAttention, self).__init__()\n",
    "        self.Wa = nn.Linear(hidden_size, hidden_size)\n",
    "        self.Ua = nn.Linear(hidden_size, hidden_size)\n",
    "        self.Va = nn.Linear(hidden_size, 1)\n",
    "\n",
    "    def forward(self, query, keys):\n",
    "        scores = self.Va(torch.tanh(self.Wa(query) + self.Ua(keys)))\n",
    "        scores = scores.squeeze(2).unsqueeze(1)\n",
    "\n",
    "        weights = F.softmax(scores, dim=-1)\n",
    "        context = torch.bmm(weights, keys)\n",
    "\n",
    "        return context, weights\n",
    "\n",
    "\n",
    "class AttnDecoderRNN(nn.Module):\n",
    "    def __init__(self, hidden_size, output_size, dropout_p=0.1):\n",
    "        super(AttnDecoderRNN, self).__init__()\n",
    "        self.embedding = nn.Embedding(output_size, hidden_size)\n",
    "        self.attention = BahdanauAttention(hidden_size)\n",
    "        self.gru = nn.GRU(2 * hidden_size, hidden_size, batch_first=True)\n",
    "        self.out = nn.Linear(hidden_size, output_size)\n",
    "        self.dropout = nn.Dropout(dropout_p)\n",
    "\n",
    "    def forward(self, encoder_outputs, encoder_hidden, target_tensor=None):\n",
    "        batch_size = encoder_outputs.size(0)\n",
    "        decoder_input = torch.empty(\n",
    "            batch_size, 1, dtype=torch.long, device=device\n",
    "        ).fill_(SOS_token)\n",
    "        decoder_hidden = encoder_hidden\n",
    "        decoder_outputs = []\n",
    "        attentions = []\n",
    "\n",
    "        for i in range(max_length):\n",
    "            decoder_output, decoder_hidden, attn_weights = self.forward_step(\n",
    "                decoder_input, decoder_hidden, encoder_outputs\n",
    "            )\n",
    "            decoder_outputs.append(decoder_output)\n",
    "            attentions.append(attn_weights)\n",
    "\n",
    "            if target_tensor is not None:\n",
    "                # Teacher forcing: Feed the target as the next input\n",
    "                decoder_input = target_tensor[:, i].unsqueeze(1)  # Teacher forcing\n",
    "            else:\n",
    "                # Without teacher forcing: use its own predictions as the next input\n",
    "                _, topi = decoder_output.topk(1)\n",
    "                decoder_input = topi.squeeze(\n",
    "                    -1\n",
    "                ).detach()  # detach from history as input\n",
    "\n",
    "        decoder_outputs = torch.cat(decoder_outputs, dim=1)\n",
    "        decoder_outputs = F.log_softmax(decoder_outputs, dim=-1)\n",
    "        attentions = torch.cat(attentions, dim=1)\n",
    "\n",
    "        return decoder_outputs, decoder_hidden, attentions\n",
    "\n",
    "    def forward_step(self, input, hidden, encoder_outputs):\n",
    "        embedded = self.dropout(self.embedding(input))\n",
    "\n",
    "        query = hidden.permute(1, 0, 2)\n",
    "        context, attn_weights = self.attention(query, encoder_outputs)\n",
    "        input_gru = torch.cat((embedded, context), dim=2)\n",
    "\n",
    "        output, hidden = self.gru(input_gru, hidden)\n",
    "        output = self.out(output)\n",
    "\n",
    "        return output, hidden, attn_weights"
   ]
  },
  {
   "cell_type": "markdown",
   "metadata": {},
   "source": [
    "### Обучение модели"
   ]
  },
  {
   "cell_type": "markdown",
   "metadata": {},
   "source": [
    "Для обучения мы пропускаем предложение через кодировщик и отслеживаем каждый выход и последнее скрытое состояние. Затем декодер получает токен <SOS> в качестве первого входа и последнее скрытое состояние кодировщика в качестве первого скрытого состояния."
   ]
  },
  {
   "cell_type": "code",
   "execution_count": null,
   "metadata": {},
   "outputs": [],
   "source": [
    "! pip install -q lightning tbparse"
   ]
  },
  {
   "cell_type": "code",
   "execution_count": null,
   "metadata": {},
   "outputs": [],
   "source": [
    "import lightning as L\n",
    "from itertools import chain\n",
    "\n",
    "\n",
    "class Seq2SeqPipeline(L.LightningModule):\n",
    "    def __init__(\n",
    "        self,\n",
    "        encoder,\n",
    "        decoder,\n",
    "        exp_name=\"baseline\",\n",
    "        criterion=nn.NLLLoss(),\n",
    "    ):\n",
    "        super().__init__()\n",
    "        self.encoder = encoder\n",
    "        self.decoder = decoder\n",
    "        self.criterion = criterion\n",
    "\n",
    "    def configure_optimizers(self):\n",
    "        optimizer = torch.optim.Adam(\n",
    "            chain(self.encoder.parameters(), self.decoder.parameters()), lr=0.001\n",
    "        )\n",
    "        return optimizer\n",
    "\n",
    "    def training_step(self, batch, batch_idx):\n",
    "        input_tensor, target_tensor = batch\n",
    "\n",
    "        encoder_outputs, encoder_hidden = self.encoder(input_tensor)\n",
    "        decoder_outputs, _, _ = self.decoder(\n",
    "            encoder_outputs, encoder_hidden, target_tensor\n",
    "        )\n",
    "\n",
    "        loss = self.criterion(\n",
    "            decoder_outputs.view(-1, decoder_outputs.size(-1)), target_tensor.view(-1)\n",
    "        )\n",
    "\n",
    "        self.log(\"Loss/train\", loss, prog_bar=True)\n",
    "        return loss\n",
    "\n",
    "    def validation_step(self, batch, batch_idx):\n",
    "        input_tensor, target_tensor = batch\n",
    "\n",
    "        encoder_outputs, encoder_hidden = self.encoder(input_tensor)\n",
    "        decoder_outputs, _, _ = self.decoder(\n",
    "            encoder_outputs, encoder_hidden, target_tensor\n",
    "        )\n",
    "\n",
    "        loss = self.criterion(\n",
    "            decoder_outputs.view(-1, decoder_outputs.size(-1)), target_tensor.view(-1)\n",
    "        )\n",
    "\n",
    "        self.log(\"Loss/val\", loss, prog_bar=True)"
   ]
  },
  {
   "cell_type": "markdown",
   "metadata": {},
   "source": [
    "**Процесс обучения**:"
   ]
  },
  {
   "cell_type": "code",
   "execution_count": null,
   "metadata": {},
   "outputs": [],
   "source": [
    "hidden_size = 512\n",
    "batch_size = 256\n",
    "\n",
    "(\n",
    "    input_lang,\n",
    "    output_lang,\n",
    "    train_dataloader,\n",
    "    val_dataloader,\n",
    "    test_dataloader,\n",
    "    test_pair_ids,\n",
    ") = get_dataloaders(batch_size)\n",
    "\n",
    "encoder = EncoderRNN(input_lang.n_words, hidden_size).to(device)\n",
    "decoder = AttnDecoderRNN(hidden_size, output_lang.n_words).to(device)"
   ]
  },
  {
   "cell_type": "markdown",
   "metadata": {},
   "source": [
    "Процесс обучения занимает примерно 8 минут на GPU. В целях экономии времени и вычислительных ресурсов закомментируем эту часть кода и загрузим предварительно сохраненные логи обучения.\n",
    "\n",
    "Для запуска обучения необходимо раскомментировать соответствующую строчку в коде и закомментировать загрузку предварительно сохраненных логов."
   ]
  },
  {
   "cell_type": "code",
   "execution_count": null,
   "metadata": {},
   "outputs": [],
   "source": [
    "from lightning.pytorch import Trainer\n",
    "from lightning.pytorch.callbacks import ModelCheckpoint\n",
    "from lightning.pytorch.loggers import TensorBoardLogger\n",
    "\n",
    "\n",
    "L.seed_everything(42)\n",
    "\n",
    "checkpoint_callback = ModelCheckpoint(monitor=\"Loss/val\", mode=\"min\", filename=\"best\")\n",
    "\n",
    "exp_name = f\"baseline\"\n",
    "trainer = Trainer(\n",
    "    max_epochs=80,\n",
    "    logger=TensorBoardLogger(save_dir=f\"logs/seq2seq\", name=exp_name),\n",
    "    num_sanity_val_steps=1,\n",
    "    callbacks=[checkpoint_callback],\n",
    "    log_every_n_steps=5,\n",
    ")\n",
    "\n",
    "\n",
    "pipeline = Seq2SeqPipeline(encoder=encoder, decoder=decoder)\n",
    "\n",
    "\"\"\"\n",
    "trainer.fit(\n",
    "    model=pipeline,\n",
    "    train_dataloaders=train_dataloader,\n",
    "    val_dataloaders=val_dataloader,\n",
    "    )\n",
    "\"\"\""
   ]
  },
  {
   "cell_type": "markdown",
   "metadata": {},
   "source": [
    "Загрузка предварительно сохраненных логов обучения:"
   ]
  },
  {
   "cell_type": "code",
   "execution_count": null,
   "metadata": {},
   "outputs": [],
   "source": [
    "!wget -q https://edunet.kea.su/repo/EduNet_NLP-content/L04/weights/logs.zip\n",
    "!unzip -q logs.zip"
   ]
  },
  {
   "cell_type": "markdown",
   "metadata": {},
   "source": [
    "Визуализация процесса обучения:"
   ]
  },
  {
   "cell_type": "code",
   "execution_count": null,
   "metadata": {},
   "outputs": [],
   "source": [
    "import matplotlib.pyplot as plt\n",
    "from tbparse import SummaryReader\n",
    "\n",
    "\n",
    "def tbparse_visual(log_path):\n",
    "    reader = SummaryReader(log_path)\n",
    "    df = reader.scalars\n",
    "\n",
    "    plt.figure(figsize=(12, 4))\n",
    "    for tag in df.tag.unique():\n",
    "        if \"Loss\" in tag:\n",
    "            tag_data = df.query(\"tag == @tag\").sort_values(by=\"step\")\n",
    "            plt.plot(tag_data.step, tag_data.value, label=tag)\n",
    "    plt.xlabel(\"step\")\n",
    "    plt.ylabel(\"loss\")\n",
    "    plt.legend()\n",
    "    plt.grid()\n",
    "    plt.show()"
   ]
  },
  {
   "cell_type": "code",
   "execution_count": null,
   "metadata": {},
   "outputs": [],
   "source": [
    "import os\n",
    "\n",
    "base_path = f\"/content/logs/seq2seq/{exp_name}\"\n",
    "last_version = sorted(os.listdir(base_path))[-1]\n",
    "log_path = f\"{base_path}/{last_version}\"\n",
    "\n",
    "tbparse_visual(log_path)"
   ]
  },
  {
   "cell_type": "markdown",
   "metadata": {},
   "source": [
    "Восстановим модели из лучшей контрольной точки:"
   ]
  },
  {
   "cell_type": "code",
   "execution_count": null,
   "metadata": {},
   "outputs": [],
   "source": [
    "ckpt_path = f\"{log_path}/checkpoints/best.ckpt\"\n",
    "checkpoint = torch.load(ckpt_path, map_location=device)\n",
    "\n",
    "print(f\"Checkpoint has been loaded from {ckpt_path}\")\n",
    "print(f\"Best model has been saved on the {checkpoint['epoch']} epoch\")\n",
    "\n",
    "state_dict_encoder = {}\n",
    "state_dict_decoder = {}\n",
    "for key in checkpoint[\"state_dict\"].keys():\n",
    "    if key.startswith(\"encoder.\"):\n",
    "        state_dict_encoder[key[len(\"encoder.\") :]] = checkpoint[\"state_dict\"][key]\n",
    "    elif key.startswith(\"decoder.\"):\n",
    "        state_dict_decoder[key[len(\"decoder.\") :]] = checkpoint[\"state_dict\"][key]\n",
    "\n",
    "encoder = EncoderRNN(input_lang.n_words, hidden_size).to(device)\n",
    "decoder = AttnDecoderRNN(hidden_size, output_lang.n_words).to(device)\n",
    "\n",
    "encoder.load_state_dict(state_dict_encoder)\n",
    "decoder.load_state_dict(state_dict_decoder)"
   ]
  },
  {
   "cell_type": "markdown",
   "metadata": {},
   "source": [
    "### Тестирование модели"
   ]
  },
  {
   "cell_type": "markdown",
   "metadata": {},
   "source": [
    "Напишем функцию, которая создаёт перевод и attention, обращаясь вначале к кодировщику, а затем к декодировщику:"
   ]
  },
  {
   "cell_type": "code",
   "execution_count": null,
   "metadata": {},
   "outputs": [],
   "source": [
    "def evaluate(encoder, decoder, sentence, input_lang, output_lang):\n",
    "    with torch.no_grad():\n",
    "        input_tensor = tensorFromSentence(input_lang, sentence)\n",
    "\n",
    "        encoder_outputs, encoder_hidden = encoder(input_tensor.to(device))\n",
    "        decoder_outputs, decoder_hidden, decoder_attn = decoder(\n",
    "            encoder_outputs.to(device), encoder_hidden.to(device)\n",
    "        )\n",
    "\n",
    "        _, topi = decoder_outputs.topk(1)\n",
    "        decoded_ids = topi.squeeze()\n",
    "\n",
    "        decoded_words = []\n",
    "        for idx in decoded_ids:\n",
    "            if idx.item() == EOS_token:\n",
    "                decoded_words.append(\"<EOS>\")\n",
    "                break\n",
    "            decoded_words.append(output_lang.index2word[idx.item()])\n",
    "    return decoded_words, decoder_attn"
   ]
  },
  {
   "cell_type": "markdown",
   "metadata": {},
   "source": [
    "Мы можем оценить случайные предложения из обучающего набора:"
   ]
  },
  {
   "cell_type": "code",
   "execution_count": null,
   "metadata": {},
   "outputs": [],
   "source": [
    "def evaluateRandomly(encoder, decoder, n=10):\n",
    "    eng = []\n",
    "    dnn = []\n",
    "    for i in range(n):\n",
    "        pair_id = random.choice(test_pair_ids)\n",
    "        pair = pairs[pair_id]\n",
    "        print(\"RUS\", pair[0])\n",
    "        print(\"ENG\", pair[1])\n",
    "        output_words, _ = evaluate(encoder, decoder, pair[0], input_lang, output_lang)\n",
    "        eng.append(pair[1])\n",
    "        dnn.append(output_words[:-1])  # remove <eos> token\n",
    "        output_sentence = \" \".join(output_words)\n",
    "        output_sentence = \" \".join(output_words)\n",
    "        print(\"DNN\", output_sentence)\n",
    "        print(\"\")\n",
    "    return eng, dnn"
   ]
  },
  {
   "cell_type": "markdown",
   "metadata": {},
   "source": [
    "Посмотрим на результат работы модели:"
   ]
  },
  {
   "cell_type": "code",
   "execution_count": null,
   "metadata": {},
   "outputs": [],
   "source": [
    "encoder.eval()\n",
    "decoder.eval()\n",
    "eng, dnn = evaluateRandomly(encoder, decoder)"
   ]
  },
  {
   "cell_type": "markdown",
   "metadata": {},
   "source": [
    "### Визуализация Attention"
   ]
  },
  {
   "cell_type": "code",
   "execution_count": null,
   "metadata": {},
   "outputs": [],
   "source": [
    "import matplotlib.pyplot as plt\n",
    "\n",
    "\n",
    "def showAttention(input_sentence, output_words, attentions):\n",
    "    fig = plt.figure()\n",
    "    ax = fig.add_subplot(111)\n",
    "    cax = ax.matshow(attentions.cpu().numpy(), cmap=\"bone\")\n",
    "    fig.colorbar(cax)\n",
    "\n",
    "    # Set up axes\n",
    "    ax.set_yticks(ax.get_yticks().tolist()[1:-1])\n",
    "    ax.set_xticks(ax.get_xticks().tolist()[1:-1])\n",
    "\n",
    "    ax.set_xticklabels(input_sentence.split(\" \") + [\"<EOS>\"], rotation=90)\n",
    "    ax.set_yticklabels(output_words)\n",
    "    plt.show()\n",
    "\n",
    "\n",
    "def evaluateAndShowAttention(input_sentence):\n",
    "    output_words, attentions = evaluate(\n",
    "        encoder, decoder, input_sentence, input_lang, output_lang\n",
    "    )\n",
    "    print(\"input =\", input_sentence)\n",
    "    print(\"output =\", \" \".join(output_words))\n",
    "    showAttention(input_sentence, output_words, attentions[0, : len(output_words), :])\n",
    "\n",
    "\n",
    "evaluateAndShowAttention(\"я рад что у тебя все получилось\")"
   ]
  },
  {
   "cell_type": "markdown",
   "metadata": {},
   "source": [
    "## Метрики качества машинного перевода"
   ]
  },
  {
   "cell_type": "markdown",
   "metadata": {},
   "source": [
    "Цикл постов об эволюции метрик качества машинного перевода:\n",
    "- [[blog] ✏️ Часть 1](https://habr.com/ru/articles/745642/)\n",
    "- [[blog] ✏️ Часть 2](https://habr.com/ru/articles/748496/)\n",
    "- [[blog] ✏️ Часть 3](https://habr.com/ru/articles/758522/)"
   ]
  },
  {
   "cell_type": "markdown",
   "metadata": {},
   "source": [
    "Глобально метрики качества машинного перевода можно разделить на **традиционные** и **нейросетевые**.\n",
    "\n",
    "1. Традиционные метрики сравнительно просты в расчете и прозрачны, наиболее известные из них разработаны до бума нейросетей. Чаще всего такие метрики основаны на подсчете числа совпадений символов / слов / cловосочетаний — их называют «lexic overlap metrics».\n",
    "\n",
    "2. Большинство метрик, предложенных после 2016 года, — нейросетевые. Первым шагом в применении нейросетей в расчете метрик стало использование векторных представлений слов (embeddings).\n",
    "\n",
    "- Сначала **близость embeddings** машинного и эталонного переводов оценивалась  **эвристическими методами** (например, для метрик WMD, BERTScore, YiSi).\n",
    "\n",
    "- Далее появились **нейросети, последние слои** которых принимают на вход embeddings машинного и эталонного переводов, а **на выходе дают оценку** качества перевода (такие как BLEURT, Prism).\n",
    "\n",
    "- Затем возникли модели, **на вход** которых, помимо машинного и эталонного перевода, **также может подаваться первоисточник** – оригинал переводимого текста (COMET, UniTE).\n",
    "\n",
    "- В параллель в рамках решения задачи **Quality Estimation** развивались модели, сравнивающие напрямую машинный перевод и первоисточник, без эталонного перевода. Так появилось то, что можно назвать безреференсными метриками (**reference-free metrics**)."
   ]
  },
  {
   "cell_type": "markdown",
   "metadata": {},
   "source": [
    "<center><img src =\"https://edunet.kea.su/repo/EduNet-web_dependencies/dev-2.1/L09/nlp_metrics.png\" width=\"1000\"></center>\n",
    "\n",
    "<center><em>Источник: <a href=\"https://habr.com/ru/articles/745642/\">Эволюция метрик качества машинного перевода</a></em></center>"
   ]
  },
  {
   "cell_type": "markdown",
   "metadata": {},
   "source": [
    "Наиболее часто для оценки качества машинного перевода используется метрика BLEU (BiLingual Evaluation Understudy). Она основана на подсчете слов (unigrams) и словосочетаний (n-grams) из машинного перевода, также встречающихся в эталоне. Далее это число делится на общее число слов и словосочетаний в машинном переводе — получается precision. К итоговому precision применяется корректировка — штраф за краткость (brevity penalty), чтобы избежать слишком высоких оценок BLEU для кратких и неполных переводов."
   ]
  },
  {
   "cell_type": "markdown",
   "metadata": {},
   "source": [
    "$$BLEU=\\text{brevity penalty}⋅(\\prod_{i=1}^n\\text{precision}_i)^{1/n}⋅100,$$\n",
    "$$\\text{brevity penalty}=min(1, \\frac{\\text{output length}}{\\text{reference length}})$$"
   ]
  },
  {
   "cell_type": "markdown",
   "metadata": {},
   "source": [
    "Пример рассчета метрики BLEU:"
   ]
  },
  {
   "cell_type": "markdown",
   "metadata": {},
   "source": [
    "<center><img src=\"https://edunet.kea.su/repo/EduNet_NLP-web_dependencies/L04/bleu_example.png\" width=\"600\"></center>\n",
    "\n",
    "<center><em>Источник: <a href=\"https://stepik.org/lesson/262257/step/6\">Нейронные сети и обработка текста</a></em></center>"
   ]
  },
  {
   "cell_type": "markdown",
   "metadata": {},
   "source": [
    "Посчитаем значение BLEU для обученной модели."
   ]
  },
  {
   "cell_type": "code",
   "execution_count": null,
   "metadata": {},
   "outputs": [],
   "source": [
    "dnn"
   ]
  },
  {
   "cell_type": "code",
   "execution_count": null,
   "metadata": {},
   "outputs": [],
   "source": [
    "eng"
   ]
  },
  {
   "cell_type": "markdown",
   "metadata": {},
   "source": [
    "Обратите внимание на формат подачи данных в метрику. Первым подается результат переводчика, вторым — эталон. Они должны иметь формат списка строк, поэтому преобразуем `dnn`:"
   ]
  },
  {
   "cell_type": "code",
   "execution_count": null,
   "metadata": {},
   "outputs": [],
   "source": [
    "dnn_for_bleu = [[\" \".join(x)] for x in dnn]  # Make a string from separated words\n",
    "dnn_for_bleu = [\n",
    "    item for sublist in dnn_for_bleu for item in sublist\n",
    "]  # Make a list from list of lists\n",
    "\n",
    "dnn_for_bleu"
   ]
  },
  {
   "cell_type": "code",
   "execution_count": null,
   "metadata": {},
   "outputs": [],
   "source": [
    "!pip install -q torcheval"
   ]
  },
  {
   "cell_type": "code",
   "execution_count": null,
   "metadata": {},
   "outputs": [],
   "source": [
    "import torcheval\n",
    "from torcheval.metrics.functional import bleu_score\n",
    "\n",
    "bleu = bleu_score(dnn_for_bleu, eng)\n",
    "print(f\"BLEU = {bleu.item():.2f}\")"
   ]
  },
  {
   "cell_type": "markdown",
   "metadata": {},
   "source": [
    "По умолчанию значение $n=4$. Можно сравнить качество при разных значениях $n$."
   ]
  },
  {
   "cell_type": "code",
   "execution_count": null,
   "metadata": {},
   "outputs": [],
   "source": [
    "for n in range(2, 5):\n",
    "  bleu = bleu_score(dnn_for_bleu, eng, n_gram=n)\n",
    "  print(f\"BLEU ({n}-gram)= {bleu.item():.2f}\")"
   ]
  },
  {
   "cell_type": "markdown",
   "metadata": {},
   "source": [
    "<font size = 6> Заключение </font>"
   ]
  },
  {
   "cell_type": "markdown",
   "metadata": {},
   "source": [
    "- Была рассмотрена архитектура, позволяющая учитывать последовательную структуру текстовых данных, — рекуррентные нейронные сети.\n",
    "- Выявлены недостатки классических нейронных сетей и представлены их модификации: LSTM, GRU.\n",
    "- Перечислены задачи, для которых могут применяться RNN.\n",
    "- Подробно рассмотрено две из них:\n",
    "  - генерация текста (one-to-many) — на примере посимвольной генерации слов;\n",
    "  - перевод одной последовательности в другую (many-to-many) — на примере машинного перевода."
   ]
  },
  {
   "cell_type": "markdown",
   "metadata": {},
   "source": [
    "<font size=6>Литература</font>\n",
    "\n",
    "<font size=5>Рекуррентные сети:</font>\n",
    "* [[article] 📚 Long Short-Term Memory (Hochreiter & Schmidhuber, 1997)](http://www.bioinf.jku.at/publications/older/2604.pdf)\n",
    "* [[blog] ✏️ Recurrent Neural Networks with PyTorch](https://www.kaggle.com/code/kanncaa1/recurrent-neural-network-with-pytorch)\n",
    "\n",
    "<font size=5>Пример посимвольной генерации текста:</font>\n",
    "* [[git] 🐾 RNN-walkthrough](https://github.com/gabrielloye/RNN-walkthrough/blob/master/main.ipynb)\n",
    "* [[blog] ✏️ The Unreasonable Effectiveness of Recurrent Neural Networks](https://karpathy.github.io/2015/05/21/rnn-effectiveness/)\n",
    "\n",
    "<font size=5>Механизм внимания:</font>\n",
    "* [[paper] 🎓 Neural Machine Translation by Jointly Learning to Align and Translate](https://arxiv.org/abs/1409.0473)\n",
    "\n",
    "<font size=5>Метрики качества машинного перевода:</font>\n",
    "- [[blog] ✏️ Часть 1](https://habr.com/ru/articles/745642/)\n",
    "- [[blog] ✏️ Часть 2](https://habr.com/ru/articles/748496/)\n",
    "- [[blog] ✏️ Часть 3](https://habr.com/ru/articles/758522/)"
   ]
  }
 ],
 "metadata": {},
 "nbformat": 4,
 "nbformat_minor": 0
}
